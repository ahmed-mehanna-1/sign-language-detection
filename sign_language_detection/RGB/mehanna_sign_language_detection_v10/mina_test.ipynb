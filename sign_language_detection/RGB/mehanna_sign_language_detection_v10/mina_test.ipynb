{
 "cells": [
  {
   "cell_type": "markdown",
   "metadata": {
    "id": "_pKYWKC7WtCg"
   },
   "source": [
    "# **Data Preprocessing**"
   ]
  },
  {
   "cell_type": "code",
   "execution_count": 1,
   "metadata": {
    "id": "g7cJFEXmWtCe"
   },
   "outputs": [],
   "source": [
    "WEIGHTS_V = 23"
   ]
  },
  {
   "cell_type": "markdown",
   "metadata": {
    "id": "jDAPIxYFWtCh"
   },
   "source": [
    "## *Select Classes*"
   ]
  },
  {
   "cell_type": "code",
   "execution_count": 14,
   "metadata": {
    "id": "1JuwyyimWtCi"
   },
   "outputs": [],
   "source": [
    "import pandas as pd\n",
    "import os\n",
    "import cv2\n",
    "import numpy as np"
   ]
  },
  {
   "cell_type": "code",
   "execution_count": 3,
   "metadata": {
    "id": "w3vm2jzdWtCj"
   },
   "outputs": [],
   "source": [
    "data_path = \"../../data/Datasets\"\n",
    "\n",
    "train_labels = pd.read_csv(os.path.join(data_path,\"train_labels.csv\"),names=['sample','id'])\n",
    "validation_labels = pd.read_csv(os.path.join(data_path,\"validation_labels.csv\"),names=['sample','id'])\n",
    "test_labels = pd.read_csv(os.path.join(data_path,\"test_labels.csv\"),names=['sample','id'])\n",
    "class_id = pd.read_csv(os.path.join(data_path,\"class_id.csv\"))\n",
    "\n",
    "\n",
    "train_path = os.path.join(data_path,\"train\")\n",
    "val_path = os.path.join(data_path,\"val\")\n",
    "test_path = os.path.join(data_path,\"test\")"
   ]
  },
  {
   "cell_type": "code",
   "execution_count": 4,
   "metadata": {
    "id": "cL8DKq8RWtCk"
   },
   "outputs": [],
   "source": [
    "def check_file(file_path):\n",
    "    try:\n",
    "        f = open(file_path)\n",
    "        f.close()\n",
    "        return True\n",
    "    except IOError:\n",
    "        return False\n",
    "    \n",
    "def construct_path(file,path=\"train\"):\n",
    "    return os.path.join(os.path.join(data_path,path),file+\"_color.mp4\")"
   ]
  },
  {
   "cell_type": "code",
   "execution_count": 5,
   "metadata": {
    "id": "JoteYw6HWtCl"
   },
   "outputs": [],
   "source": [
    "n_classes = 3\n",
    "actions = list(class_id['EN'][:n_classes])\n",
    "dic={}\n",
    "for i,action in enumerate(actions):\n",
    "    dic[action]=i"
   ]
  },
  {
   "cell_type": "code",
   "execution_count": 6,
   "metadata": {
    "id": "XtQE9JDWWtCm"
   },
   "outputs": [],
   "source": [
    "def get_data(id,file_path):\n",
    "    if file_path==\"train\":\n",
    "        label_dic = train_labels\n",
    "    elif file_path==\"val\":\n",
    "        label_dic = validation_labels\n",
    "    elif file_path==\"test\":\n",
    "        label_dic = test_labels\n",
    "        \n",
    "    \n",
    "    data =  label_dic[label_dic['id']==id]\n",
    "    lis =  [construct_path(i,file_path) for i in  (data['sample'])]\n",
    "    data =  [i for i in lis if check_file(i)]\n",
    "    return data,[id for i in data]"
   ]
  },
  {
   "cell_type": "code",
   "execution_count": 7,
   "metadata": {
    "id": "DfjxGGjMWtCm"
   },
   "outputs": [],
   "source": [
    "train_X = [] \n",
    "train_Y = []\n",
    "val_X = [] \n",
    "val_Y = []\n",
    "test_X = [] \n",
    "test_Y = []\n",
    "\n",
    "for i in range(n_classes):\n",
    "    data,labels = get_data(i,'train')\n",
    "    train_X.extend(data)\n",
    "    train_Y.extend(labels)\n",
    "\n",
    "    \n",
    "for i in range(n_classes):\n",
    "    data,labels = get_data(i,'val')\n",
    "    val_X.extend(data)\n",
    "    val_Y.extend(labels)\n",
    "\n",
    "    \n",
    "for i in range(n_classes):\n",
    "    data,labels = get_data(i,'test')\n",
    "    test_X.extend(data)\n",
    "    test_Y.extend(labels)"
   ]
  },
  {
   "cell_type": "code",
   "execution_count": 78,
   "metadata": {
    "colab": {
     "base_uri": "https://localhost:8080/",
     "height": 36
    },
    "id": "ljRBbcbbWtCo",
    "outputId": "46d8eb7d-eb96-438e-cd47-225d9b49cb90"
   },
   "outputs": [
    {
     "data": {
      "text/plain": [
       "'n/signer0_sample431_color'"
      ]
     },
     "execution_count": 78,
     "metadata": {},
     "output_type": "execute_result"
    }
   ],
   "source": [
    "video_path = train_X[0]\n",
    "def_input_path = \"..\\\\Datasets\\\\AUTSL\\\\train\\\\\"\n",
    "video_path[len(def_input_path):-4]"
   ]
  },
  {
   "cell_type": "markdown",
   "metadata": {},
   "source": [
    "## my Test Videos"
   ]
  },
  {
   "cell_type": "code",
   "execution_count": 8,
   "metadata": {},
   "outputs": [],
   "source": [
    "import os\n",
    "my_data_path = \"../../data/my_data\"\n",
    "\n",
    "my_test_X  = []\n",
    "my_test_Y = []\n",
    "\n",
    "for key,value in dic.items():\n",
    "    data =  os.listdir(os.path.join(my_data_path,key))\n",
    "    data = [os.path.join(my_data_path,key,i) for i in data]\n",
    "    labels = [value for i in range(len(data))]\n",
    "    my_test_X.extend(data)\n",
    "    my_test_Y.extend(labels)"
   ]
  },
  {
   "cell_type": "markdown",
   "metadata": {
    "id": "5buog64qWtCo"
   },
   "source": [
    "## *Prepare Videos*"
   ]
  },
  {
   "cell_type": "code",
   "execution_count": 35,
   "metadata": {
    "id": "s-AuhcsWWtCp"
   },
   "outputs": [],
   "source": [
    "import os\n",
    "import cv2\n",
    "import numpy as np"
   ]
  },
  {
   "cell_type": "code",
   "execution_count": 9,
   "metadata": {
    "id": "3NyCvddNWtCq"
   },
   "outputs": [],
   "source": [
    "def get_frames(video_path, n_frames=1):\n",
    "    frames = []\n",
    "    v_cap = cv2.VideoCapture(video_path)\n",
    "    v_len = int(v_cap.get(cv2.CAP_PROP_FRAME_COUNT)) + 1\n",
    "    frame_list = np.linspace(0, v_len-1, n_frames+1, dtype=np.int16)\n",
    "\n",
    "    for fn in range(60):\n",
    "        success, frame = v_cap.read()\n",
    "        if success == False:\n",
    "            continue\n",
    "        if fn in frame_list:\n",
    "            frame = cv2.cvtColor(frame, cv2.COLOR_BGR2RGB)\n",
    "            frames.append(frame)\n",
    "    v_cap.release()\n",
    "    return frames, v_len\n",
    "\n",
    "def store_frames(frames, path_to_store):\n",
    "    for i, frame in enumerate(frames):\n",
    "        frame = cv2.cvtColor(frame, cv2.COLOR_RGB2BGR)\n",
    "        path = os.path.join(path_to_store, \"frame\"+str(i)+\".jpg\")\n",
    "        cv2.imwrite(path, frame)\n"
   ]
  },
  {
   "cell_type": "code",
   "execution_count": 10,
   "metadata": {},
   "outputs": [
    {
     "data": {
      "text/plain": [
       "'../../data/my_data'"
      ]
     },
     "execution_count": 10,
     "metadata": {},
     "output_type": "execute_result"
    }
   ],
   "source": [
    "my_data_path"
   ]
  },
  {
   "cell_type": "code",
   "execution_count": 45,
   "metadata": {},
   "outputs": [
    {
     "data": {
      "text/plain": [
       "('../../data/Datasets/train/', 'FinalData/train')"
      ]
     },
     "execution_count": 45,
     "metadata": {},
     "output_type": "execute_result"
    }
   ],
   "source": [
    "get_paths(\"train\")"
   ]
  },
  {
   "cell_type": "code",
   "execution_count": 62,
   "metadata": {
    "id": "eYq2GTRlWtCq"
   },
   "outputs": [],
   "source": [
    "def get_paths(folder,output_path_only=False):\n",
    "    # output_path: path to store video's frames \"train, val, test\"\n",
    "    # input_path: path that contains dataset folders \"train, val, test\"\n",
    "    output_path = os.path.join(\"FinalData\",folder)\n",
    "    if output_path_only:\n",
    "        return output_path\n",
    "    def_input_path = f\"../../data/Datasets/{folder}/\"\n",
    "    return def_input_path, output_path\n",
    "\n",
    "\n",
    "\n",
    "def get_file_name(file):\n",
    "    return file.split(\"/\")[-1].split(\".\")[0]\n",
    "\n",
    "def create_dir(name):\n",
    "    try:\n",
    "        os.mkdir(name)\n",
    "    except:\n",
    "        pass\n",
    "    return name\n",
    "\n",
    "    \n",
    "\n",
    "    \n",
    "\n",
    "    \n",
    "    \n",
    "output_path = os.path.join(\"FinalData\",\"my_test\")\n",
    "my_data_path = \"../../data/my_data\"\n",
    "\n",
    "# # the 3 actions\n",
    "# for key,value in dic.items():\n",
    "#     data =  os.listdir(os.path.join(my_data_path,key))\n",
    "#     out_dir_path = create_dir(os.path.join(output_path,str(value)))\n",
    "    \n",
    "#     for i,video in enumerate(data):\n",
    "#         video_name = get_file_name(video)\n",
    "        \n",
    "        \n",
    "#         frames = os.path.join(my_data_path,key,video)\n",
    "#         frames,v_len = get_frames(frames,16)\n",
    "        \n",
    "        \n",
    "#         frame_dir = create_dir(os.path.join(out_dir_path,video_name))\n",
    "        \n",
    "#         store_frames(frames,frame_dir)\n",
    "        \n",
    "\n",
    "my_updated_train_X = []\n",
    "\n",
    "for i,video in enumerate(my_test_X):\n",
    "    label = my_test_Y[i]\n",
    "    \n",
    "    video_name = get_file_name(video)\n",
    "    my_updated_train_X.append(video_name)\n",
    "    out_dir_path = create_dir(os.path.join(output_path,str(label),video_name))\n",
    "    \n",
    "    frames,v_len = get_frames(video,16)\n",
    "    store_frames(frames,out_dir_path)\n",
    "        \n",
    "        \n",
    "    \n",
    "    \n",
    "    \n",
    "\n",
    "    \n",
    "    \n",
    "\n",
    "\n",
    "\n",
    "folders = [\"train\", \"val\", \"test\"]\n",
    "for folder in folders:\n",
    "    def_input_path, output_path = get_paths(folder)\n",
    "    working_list_X = None\n",
    "    working_list_Y = None\n",
    "    if folder == \"train\":\n",
    "        working_list_X = train_X\n",
    "        working_list_Y = train_Y\n",
    "    elif folder == \"val\":\n",
    "        working_list_X = val_X\n",
    "        working_list_Y = val_Y\n",
    "    else:\n",
    "        working_list_X = test_X\n",
    "        working_list_Y = test_Y\n",
    "    \n",
    "    size = len(working_list_X)    \n",
    "    for i in range(size):\n",
    "        video_path = working_list_X[i]\n",
    "        label = working_list_Y[i]\n",
    "        working_list_X[i] = working_list_X[i][len(def_input_path):-4]\n",
    "#         video_name = video_path[len(def_input_path):-4]\n",
    "#         path_to_store = os.path.join(output_path, str(label))\n",
    "#         if not os.path.exists(path_to_store):\n",
    "#             os.mkdir(path_to_store)\n",
    "#         path_to_store = os.path.join(path_to_store, video_name)\n",
    "#         if not os.path.exists(path_to_store):\n",
    "#             os.mkdir(path_to_store)\n",
    "#             frames, v_len = get_frames(video_path, n_frames=16)\n",
    "#             store_frames(frames=frames, path_to_store=path_to_store)\n"
   ]
  },
  {
   "cell_type": "markdown",
   "metadata": {
    "id": "7XYZezufWtCs"
   },
   "source": [
    "# **Dataset**"
   ]
  },
  {
   "cell_type": "markdown",
   "metadata": {
    "id": "TekMGN-7WtCs"
   },
   "source": [
    "## *Build Dataset Class*"
   ]
  },
  {
   "cell_type": "code",
   "execution_count": 17,
   "metadata": {
    "id": "HV7ROfKxWtCt"
   },
   "outputs": [],
   "source": [
    "import torch\n",
    "from torch.utils.data import Dataset, DataLoader\n",
    "from PIL import Image\n",
    "import numpy as np\n",
    "import random"
   ]
  },
  {
   "cell_type": "code",
   "execution_count": 18,
   "metadata": {
    "id": "y5_1SmsHWtCt"
   },
   "outputs": [],
   "source": [
    "import re\n",
    "def sorted_alphanumeric(data):\n",
    "    convert = lambda text: int(text) if text.isdigit() else text.lower()\n",
    "    alphanum_key = lambda key: [ convert(c) for c in re.split('([0-9]+)', key) ] \n",
    "    return sorted(data, key=alphanum_key)"
   ]
  },
  {
   "cell_type": "code",
   "execution_count": 19,
   "metadata": {
    "id": "GUf7LOigWtCt"
   },
   "outputs": [],
   "source": [
    "import matplotlib.pyplot as plt\n",
    "from torchvision.transforms.functional import to_pil_image\n",
    "\n",
    "def denormalize(x_, mean, std):\n",
    "    x = x_.clone()\n",
    "    for i in range(3):\n",
    "        x[i] = x[i]*std[i]+mean[i]\n",
    "    x = to_pil_image(x)        \n",
    "    return x"
   ]
  },
  {
   "cell_type": "code",
   "execution_count": 50,
   "metadata": {},
   "outputs": [
    {
     "data": {
      "text/plain": [
       "['frame0.jpg',\n",
       " 'frame1.jpg',\n",
       " 'frame2.jpg',\n",
       " 'frame3.jpg',\n",
       " 'frame4.jpg',\n",
       " 'frame5.jpg',\n",
       " 'frame6.jpg',\n",
       " 'frame7.jpg',\n",
       " 'frame8.jpg',\n",
       " 'frame9.jpg',\n",
       " 'frame10.jpg',\n",
       " 'frame11.jpg',\n",
       " 'frame12.jpg',\n",
       " 'frame13.jpg',\n",
       " 'frame14.jpg',\n",
       " 'frame15.jpg']"
      ]
     },
     "execution_count": 50,
     "metadata": {},
     "output_type": "execute_result"
    }
   ],
   "source": [
    "sorted_alphanumeric(os.listdir(os.path.join(get_paths(\"train\",True),\"0\",\"signer0_sample431_color\")))"
   ]
  },
  {
   "cell_type": "code",
   "execution_count": 64,
   "metadata": {
    "id": "WO1TFZlHWtCt"
   },
   "outputs": [],
   "source": [
    "np.random.seed(2020)\n",
    "random.seed(2020)\n",
    "torch.manual_seed(2020)\n",
    "\n",
    "class VideoDataset(Dataset):\n",
    "    def __init__(self, imgs_name, labels, folder=\"train\", transform = None):\n",
    "        super(VideoDataset, self).__init__()\n",
    "        self.labels = labels\n",
    "        self.transform = transform\n",
    "\n",
    "        input_path = get_paths(folder=folder, output_path_only=True)\n",
    "        self.imgs_path = []\n",
    "        for img_name, label in zip(imgs_name, labels):\n",
    "            img_path = os.path.join(input_path, str(label))\n",
    "            img_path = os.path.join(img_path, img_name)\n",
    "            self.imgs_path.append(img_path)\n",
    "        \n",
    "    \n",
    "    def __len__(self):\n",
    "        return len(self.imgs_path)\n",
    "\n",
    "    def __getitem__(self, idx):\n",
    "        imgs = os.listdir(self.imgs_path[idx])\n",
    "        imgs = sorted_alphanumeric(imgs)\n",
    "        frames = []\n",
    "        for img in imgs:\n",
    "            img_path = os.path.join(self.imgs_path[idx], img)\n",
    "            frame = Image.open(img_path)\n",
    "            frames.append(frame)\n",
    "        \n",
    "        seed = np.random.randint(1e9)\n",
    "        if self.transform:\n",
    "            for i in range(len(frames)):\n",
    "                random.seed(seed)\n",
    "                np.random.seed(seed)\n",
    "                frames[i] = self.transform(frames[i])\n",
    "        if len(frames) > 0:\n",
    "            frames = torch.stack(frames)\n",
    "\n",
    "        return frames, self.labels[idx]\n"
   ]
  },
  {
   "cell_type": "markdown",
   "metadata": {
    "id": "VdiHfRJ2WtCv"
   },
   "source": [
    "# **Models**"
   ]
  },
  {
   "cell_type": "markdown",
   "metadata": {
    "id": "Al-JaJoqWtCv"
   },
   "source": [
    "## *Utils*"
   ]
  },
  {
   "cell_type": "code",
   "execution_count": 21,
   "metadata": {
    "id": "ddL8VeLYWtCv"
   },
   "outputs": [],
   "source": [
    "import copy"
   ]
  },
  {
   "cell_type": "code",
   "execution_count": 22,
   "metadata": {
    "id": "MatBsmpoWtCw"
   },
   "outputs": [],
   "source": [
    "def get_lr(opt):\n",
    "    for param_group in opt.param_groups:\n",
    "        return param_group['lr']"
   ]
  },
  {
   "cell_type": "code",
   "execution_count": 23,
   "metadata": {
    "id": "XpVBP2YyWtCw"
   },
   "outputs": [],
   "source": [
    "def metrics_batch(output, target):\n",
    "    pred = output.argmax(dim=1, keepdim=True)\n",
    "    corrects = pred.eq(target.view_as(pred)).sum().item()\n",
    "    return corrects"
   ]
  },
  {
   "cell_type": "code",
   "execution_count": 24,
   "metadata": {
    "id": "vyLeHzrPWtCw"
   },
   "outputs": [],
   "source": [
    "def loss_batch(loss_func, output, target, opt=None):\n",
    "    loss = loss_func(output, target)\n",
    "    with torch.no_grad():\n",
    "        metric_b = metrics_batch(output, target)\n",
    "    if opt is not None:\n",
    "        opt.zero_grad()\n",
    "        loss.backward()\n",
    "        opt.step()\n",
    "    return loss.item(), metric_b"
   ]
  },
  {
   "cell_type": "code",
   "execution_count": 74,
   "metadata": {
    "id": "TKUw21jyWtCx"
   },
   "outputs": [],
   "source": [
    "def loss_epoch(model, loss_func, dataset_dl, opt=None):\n",
    "    running_loss=0.0\n",
    "    running_metric=0.0\n",
    "    len_data = len(dataset_dl.dataset)\n",
    "    model = model.to(device)\n",
    "    for xb, yb in dataset_dl:\n",
    "        xb=xb.to(device)\n",
    "        yb=yb.to(device)\n",
    "        output=model(xb)\n",
    "        loss_b, metric_b = loss_batch(loss_func, output, yb, opt)\n",
    "        running_loss += loss_b\n",
    "        \n",
    "        if metric_b is not None:\n",
    "            running_metric += metric_b\n",
    "\n",
    "    loss = running_loss/float(len_data)\n",
    "    metric = running_metric/float(len_data)\n",
    "    return loss, metric"
   ]
  },
  {
   "cell_type": "code",
   "execution_count": 26,
   "metadata": {
    "id": "r0hQfO4fWtCx"
   },
   "outputs": [],
   "source": [
    "def train_val(model, num_epochs, loss_func, opt, train_dl, val_dl, lr_scheduler, path_to_weights):   \n",
    "    loss_history={\n",
    "        \"train\": [],\n",
    "        \"val\": [],\n",
    "    }\n",
    "    \n",
    "    metric_history={\n",
    "        \"train\": [],\n",
    "        \"val\": [],\n",
    "    }\n",
    "    \n",
    "    best_model_wts = copy.deepcopy(model.state_dict())\n",
    "    best_loss=float('inf')\n",
    "    \n",
    "    for epoch in range(num_epochs):\n",
    "        current_lr=get_lr(opt)\n",
    "        print('Epoch {}/{}, current lr={}'.format(epoch, num_epochs - 1, current_lr))\n",
    "        model.train()\n",
    "        train_loss, train_metric = loss_epoch(model, loss_func, train_dl, opt)\n",
    "        loss_history[\"train\"].append(train_loss)\n",
    "        metric_history[\"train\"].append(train_metric)\n",
    "        model.eval()\n",
    "        with torch.no_grad():\n",
    "            val_loss, val_metric = loss_epoch(model, loss_func, val_dl)\n",
    "        if val_loss < best_loss:\n",
    "            best_loss = val_loss\n",
    "            best_model_wts = copy.deepcopy(model.state_dict())\n",
    "            torch.save(model.state_dict(), path_to_weights)\n",
    "            print(\"Copied best model weights!\")\n",
    "        \n",
    "        loss_history[\"val\"].append(val_loss)\n",
    "        metric_history[\"val\"].append(val_metric)\n",
    "        \n",
    "        lr_scheduler.step(val_loss)\n",
    "        if current_lr != get_lr(opt):\n",
    "            print(\"Loading best model weights!\")\n",
    "            model.load_state_dict(best_model_wts)\n",
    "        \n",
    "\n",
    "        print(\"train loss: %.6f, train_accuracy: %.2f, val_loss: %.6f, val_accuracy: %.2f\" %(train_loss, 100*train_metric, val_loss, 100*val_metric))\n",
    "        print(\"-\"*10) \n",
    "    model.load_state_dict(best_model_wts)\n",
    "        \n",
    "    return model, loss_history, metric_history"
   ]
  },
  {
   "cell_type": "code",
   "execution_count": 27,
   "metadata": {
    "id": "b8NSrmdvWtCx"
   },
   "outputs": [],
   "source": [
    "def plot_loss(loss_hist, metric_hist):\n",
    "\n",
    "    num_epochs= len(loss_hist[\"train\"])\n",
    "\n",
    "    plt.title(\"Train-Val Loss\")\n",
    "    plt.plot(range(1,num_epochs+1),loss_hist[\"train\"],label=\"train\")\n",
    "    plt.plot(range(1,num_epochs+1),loss_hist[\"val\"],label=\"val\")\n",
    "    plt.ylabel(\"Loss\")\n",
    "    plt.xlabel(\"Training Epochs\")\n",
    "    plt.legend()\n",
    "    plt.show()\n",
    "\n",
    "    plt.title(\"Train-Val Accuracy\")\n",
    "    plt.plot(range(1,num_epochs+1), metric_hist[\"train\"],label=\"train\")\n",
    "    plt.plot(range(1,num_epochs+1), metric_hist[\"val\"],label=\"val\")\n",
    "    plt.ylabel(\"Accuracy\")\n",
    "    plt.xlabel(\"Training Epochs\")\n",
    "    plt.legend()\n",
    "    plt.show()"
   ]
  },
  {
   "cell_type": "markdown",
   "metadata": {
    "id": "tYEL0SRTWtCy"
   },
   "source": [
    "## *Build Models*"
   ]
  },
  {
   "cell_type": "markdown",
   "metadata": {
    "id": "beK4oIwwWtCy"
   },
   "source": [
    "#### **1. Conv3D**"
   ]
  },
  {
   "cell_type": "code",
   "execution_count": 28,
   "metadata": {
    "id": "g0sfPx3bWtCy"
   },
   "outputs": [],
   "source": [
    "import os\n",
    "\n",
    "import torch\n",
    "import torch.nn as nn\n",
    "import torchvision"
   ]
  },
  {
   "cell_type": "code",
   "execution_count": 29,
   "metadata": {
    "id": "eyLp6EvTWtCy"
   },
   "outputs": [],
   "source": [
    "def convert_relu_to_swish(model: nn.Module):\n",
    "    for child_name, child in model.named_children():\n",
    "        if isinstance(child, nn.ReLU):\n",
    "            setattr(model, child_name, nn.SiLU(True))\n",
    "        else:\n",
    "            convert_relu_to_swish(child)\n"
   ]
  },
  {
   "cell_type": "code",
   "execution_count": 30,
   "metadata": {
    "id": "JKNY8x-RWtCz"
   },
   "outputs": [],
   "source": [
    "class Swish(nn.Module):\n",
    "    def __init(self):\n",
    "        super().__init__()\n",
    "\n",
    "    def forward(self, x):\n",
    "        return x.mult_(torch.sigmoid(x))"
   ]
  },
  {
   "cell_type": "code",
   "execution_count": 31,
   "metadata": {
    "id": "I2tjIjtJWtC0"
   },
   "outputs": [],
   "source": [
    "class r2plus1d_18(nn.Module):\n",
    "    def __init__(self, pretrained=True, n_classes=226, dropout_p=0.5):\n",
    "        super(r2plus1d_18, self).__init__()\n",
    "        self.pretrained = pretrained\n",
    "        self.n_classes = n_classes\n",
    "\n",
    "        model = torchvision.models.video.r2plus1d_18(pretrained=self.pretrained)\n",
    "        modules = list(model.children())[:-1]\n",
    "        self.r2plus1d_18 = nn.Sequential(*modules)\n",
    "        convert_relu_to_swish(self.r2plus1d_18)\n",
    "        self.fc1 = nn.Linear(model.fc.in_features, self.n_classes)\n",
    "        self.dropout = nn.Dropout(dropout_p, inplace=True)\n",
    "\n",
    "    def forward(self, x):\n",
    "        # (b, f, c, h, w) = x.size()\n",
    "        # x = x.view(b, c, f, h, w)\n",
    "\n",
    "        out = self.r2plus1d_18(x)\n",
    "        out = out.flatten(1)\n",
    "        out = self.dropout(out)\n",
    "        out = self.fc1(out)\n",
    "\n",
    "        return out"
   ]
  },
  {
   "cell_type": "markdown",
   "metadata": {
    "id": "68vKcKlaWtC0"
   },
   "source": [
    "# **Implementation**"
   ]
  },
  {
   "cell_type": "markdown",
   "metadata": {
    "id": "4JNE8kqMWtC1"
   },
   "source": [
    "## *Create training, validation, testing datasets*"
   ]
  },
  {
   "cell_type": "code",
   "execution_count": 32,
   "metadata": {
    "id": "H7qo0qy6WtC1"
   },
   "outputs": [],
   "source": [
    "model_type = \"3dcnn\"\n",
    "# model_type = \"rnn\"\n",
    "\n",
    "if model_type == \"rnn\":\n",
    "    h, w =224, 224\n",
    "    mean = [0.485, 0.456, 0.406]\n",
    "    std = [0.229, 0.224, 0.225]\n",
    "else:\n",
    "    h, w = 128, 128\n",
    "    mean = [0.43216, 0.394666, 0.37645]\n",
    "    std = [0.22803, 0.22145, 0.216989]"
   ]
  },
  {
   "cell_type": "code",
   "execution_count": 33,
   "metadata": {
    "id": "oXG88X_OWtC1"
   },
   "outputs": [],
   "source": [
    "import torchvision.transforms as transforms"
   ]
  },
  {
   "cell_type": "code",
   "execution_count": 65,
   "metadata": {
    "colab": {
     "base_uri": "https://localhost:8080/"
    },
    "id": "dejzq_DVWtC1",
    "outputId": "c10098a7-03ca-42da-c369-5627cd9fc365"
   },
   "outputs": [
    {
     "data": {
      "text/plain": [
       "374"
      ]
     },
     "execution_count": 65,
     "metadata": {},
     "output_type": "execute_result"
    }
   ],
   "source": [
    "train_transformer = transforms.Compose([\n",
    "                        transforms.Resize((h, w)),\n",
    "                        transforms.RandomHorizontalFlip(p=0.5),\n",
    "                        transforms.RandomAffine(degrees=0, translate=(0.1, 0.1)),\n",
    "                        transforms.ToTensor(),\n",
    "                        transforms.Normalize(mean, std)\n",
    "                        ])\n",
    "\n",
    "\n",
    "train_ds = VideoDataset(imgs_name=train_X, labels=train_Y, folder=\"train\", transform=train_transformer)\n",
    "len(train_ds)"
   ]
  },
  {
   "cell_type": "code",
   "execution_count": 66,
   "metadata": {
    "colab": {
     "base_uri": "https://localhost:8080/",
     "height": 286
    },
    "id": "Z9IgGzuJWtC1",
    "outputId": "aa7e5554-048e-4609-a9dd-aaccb245f69c"
   },
   "outputs": [
    {
     "data": {
      "text/plain": [
       "<matplotlib.image.AxesImage at 0x7f3d80f598b0>"
      ]
     },
     "execution_count": 66,
     "metadata": {},
     "output_type": "execute_result"
    },
    {
     "data": {
      "image/png": "[encoded data removed]",
      "text/plain": [
       "<Figure size 432x288 with 1 Axes>"
      ]
     },
     "metadata": {
      "needs_background": "light"
     },
     "output_type": "display_data"
    }
   ],
   "source": [
    "imgs, label = train_ds[0]\n",
    "plt.imshow(denormalize(imgs[10], mean, std))"
   ]
  },
  {
   "cell_type": "code",
   "execution_count": 67,
   "metadata": {
    "colab": {
     "base_uri": "https://localhost:8080/"
    },
    "id": "6BfoMm3SWtC2",
    "outputId": "f4077ab0-23df-4bd4-f92d-053280f822be"
   },
   "outputs": [
    {
     "data": {
      "text/plain": [
       "59"
      ]
     },
     "execution_count": 67,
     "metadata": {},
     "output_type": "execute_result"
    }
   ],
   "source": [
    "val_transofrmer = transforms.Compose([\n",
    "                        transforms.Resize((h, w)),\n",
    "                        transforms.ToTensor(),\n",
    "                        transforms.Normalize(mean, std)\n",
    "                        ])\n",
    "\n",
    "val_ds = VideoDataset(imgs_name=val_X, labels=val_Y, folder=\"val\", transform=val_transofrmer)\n",
    "len(val_ds)"
   ]
  },
  {
   "cell_type": "code",
   "execution_count": 68,
   "metadata": {
    "colab": {
     "base_uri": "https://localhost:8080/",
     "height": 286
    },
    "id": "fjix6c0mWtC2",
    "outputId": "3521b02b-29b1-4a28-eb67-9b4e440b8d61"
   },
   "outputs": [
    {
     "data": {
      "text/plain": [
       "<matplotlib.image.AxesImage at 0x7f3d80f9ce20>"
      ]
     },
     "execution_count": 68,
     "metadata": {},
     "output_type": "execute_result"
    },
    {
     "data": {
      "image/png": "[encoded data removed]",
      "text/plain": [
       "<Figure size 432x288 with 1 Axes>"
      ]
     },
     "metadata": {
      "needs_background": "light"
     },
     "output_type": "display_data"
    }
   ],
   "source": [
    "imgs, label = val_ds[10]\n",
    "plt.imshow(denormalize(imgs[10], mean, std))"
   ]
  },
  {
   "cell_type": "code",
   "execution_count": 69,
   "metadata": {
    "colab": {
     "base_uri": "https://localhost:8080/"
    },
    "id": "jDkrGqzpWtC3",
    "outputId": "0f3ddf85-1d39-43cb-89ea-292cb5f24644"
   },
   "outputs": [
    {
     "data": {
      "text/plain": [
       "81"
      ]
     },
     "execution_count": 69,
     "metadata": {},
     "output_type": "execute_result"
    }
   ],
   "source": [
    "test_transformer = transforms.Compose([\n",
    "                        transforms.Resize((h, w)),\n",
    "                        transforms.ToTensor(),\n",
    "                        transforms.Normalize(mean, std)\n",
    "                        ])\n",
    "\n",
    "test_ds = VideoDataset(imgs_name=my_updated_train_X, labels=my_test_Y, folder=\"my_test\", transform=test_transformer)\n",
    "len(test_ds)"
   ]
  },
  {
   "cell_type": "code",
   "execution_count": 70,
   "metadata": {
    "colab": {
     "base_uri": "https://localhost:8080/",
     "height": 286
    },
    "id": "zeQgsmaWWtC3",
    "outputId": "a4837511-f905-46b5-bf0f-35caa304c2bc"
   },
   "outputs": [
    {
     "data": {
      "text/plain": [
       "<matplotlib.image.AxesImage at 0x7f3d812b74f0>"
      ]
     },
     "execution_count": 70,
     "metadata": {},
     "output_type": "execute_result"
    },
    {
     "data": {
      "image/png": "[encoded data removed]",
      "text/plain": [
       "<Figure size 432x288 with 1 Axes>"
      ]
     },
     "metadata": {
      "needs_background": "light"
     },
     "output_type": "display_data"
    }
   ],
   "source": [
    "imgs, label = test_ds[10]\n",
    "plt.imshow(denormalize(imgs[10], mean, std))"
   ]
  },
  {
   "cell_type": "markdown",
   "metadata": {
    "id": "e9ZxnteYWtC4"
   },
   "source": [
    "## *Create training, validation, testing dataloaders*"
   ]
  },
  {
   "cell_type": "code",
   "execution_count": 71,
   "metadata": {
    "id": "aFP6kFmTWtC4"
   },
   "outputs": [],
   "source": [
    "def collate_fn_r3d_18(batch):\n",
    "    imgs_batch, label_batch = list(zip(*batch))\n",
    "    imgs_batch = [imgs for imgs in imgs_batch if len(imgs)>0]\n",
    "    label_batch = [torch.tensor(l) for l, imgs in zip(label_batch, imgs_batch) if len(imgs)>0]\n",
    "    imgs_tensor = torch.stack(imgs_batch)\n",
    "    imgs_tensor = torch.transpose(imgs_tensor, 2, 1)\n",
    "    labels_tensor = torch.stack(label_batch)\n",
    "    return imgs_tensor, labels_tensor\n",
    "\n",
    "def collate_fn_rnn(batch):\n",
    "    imgs_batch, label_batch = list(zip(*batch))\n",
    "    imgs_batch = [imgs for imgs in imgs_batch if len(imgs)>0]\n",
    "    label_batch = [torch.tensor(l) for l, imgs in zip(label_batch, imgs_batch) if len(imgs)>0]\n",
    "    imgs_tensor = torch.stack(imgs_batch)\n",
    "    labels_tensor = torch.stack(label_batch)\n",
    "    return imgs_tensor,labels_tensor\n",
    "\n",
    "batch_size = 1\n",
    "if model_type == \"rnn\":\n",
    "    train_dl = DataLoader(train_ds, batch_size=batch_size, shuffle=True, collate_fn=collate_fn_rnn)\n",
    "    val_dl = DataLoader(val_ds, batch_size=batch_size, shuffle=False, collate_fn=collate_fn_rnn)\n",
    "    test_dl = DataLoader(test_ds, batch_size=batch_size, shuffle=False, collate_fn=collate_fn_rnn)\n",
    "else:\n",
    "    train_dl = DataLoader(train_ds, batch_size=batch_size, shuffle=True, collate_fn=collate_fn_r3d_18)\n",
    "    val_dl = DataLoader(val_ds, batch_size=batch_size, shuffle=False, collate_fn=collate_fn_r3d_18)\n",
    "    test_dl = DataLoader(test_ds, batch_size=batch_size, shuffle=False, collate_fn=collate_fn_r3d_18)"
   ]
  },
  {
   "cell_type": "code",
   "execution_count": 72,
   "metadata": {
    "colab": {
     "base_uri": "https://localhost:8080/"
    },
    "id": "x1BO8WupWtC5",
    "outputId": "748544b9-2fa6-48aa-a070-271902826c53"
   },
   "outputs": [
    {
     "name": "stdout",
     "output_type": "stream",
     "text": [
      "torch.Size([1, 3, 16, 128, 128]) torch.Size([1]) tensor(1)\n",
      "torch.Size([1, 3, 15, 128, 128]) torch.Size([1]) tensor(0)\n",
      "torch.Size([1, 3, 16, 128, 128]) torch.Size([1]) tensor(0)\n"
     ]
    }
   ],
   "source": [
    "for xb, yb in train_dl:\n",
    "    print(xb.shape, yb.shape, yb[0])\n",
    "    break\n",
    "\n",
    "for xb, yb in val_dl:\n",
    "    print(xb.shape, yb.shape, yb[0])\n",
    "    break\n",
    "\n",
    "for xb, yb in test_dl:\n",
    "    print(xb.shape, yb.shape, yb[0])\n",
    "    break"
   ]
  },
  {
   "cell_type": "markdown",
   "metadata": {
    "id": "u53uOoWSWtC5"
   },
   "source": [
    "## *Testing the model*"
   ]
  },
  {
   "cell_type": "code",
   "execution_count": null,
   "metadata": {
    "colab": {
     "base_uri": "https://localhost:8080/"
    },
    "id": "QVLLvnf7WtC6",
    "outputId": "63dfc87d-1fe7-4453-bb74-381dc1482956"
   },
   "outputs": [],
   "source": [
    "import torch.nn as nn\n",
    "from collections import OrderedDict\n",
    "\n",
    "model = r2plus1d_18(pretrained=True, n_classes=500)\n",
    "checkpoint = torch.load(\"/content/drive/MyDrive/slr_resnet2d+1.pth\")\n",
    "new_state_dict = OrderedDict()\n",
    "for k, v in checkpoint.items():\n",
    "    name = k[7:]\n",
    "    new_state_dict[name] = v\n",
    "model.load_state_dict(new_state_dict)\n",
    "model.fc1 = nn.Linear(model.fc1.in_features, n_classes)\n",
    "model"
   ]
  },
  {
   "cell_type": "code",
   "execution_count": 80,
   "metadata": {
    "colab": {
     "base_uri": "https://localhost:8080/"
    },
    "id": "Ix0QT1L8WtC6",
    "outputId": "683bd48c-5a67-4f3c-cfcd-7c2a74bbb4e2"
   },
   "outputs": [
    {
     "name": "stdout",
     "output_type": "stream",
     "text": [
      "torch.Size([1, 3])\n"
     ]
    }
   ],
   "source": [
    "with torch.no_grad():\n",
    "    x = torch.zeros(1, 3, 16, h, w)\n",
    "    y = model(x)\n",
    "    print(y.shape)"
   ]
  },
  {
   "cell_type": "code",
   "execution_count": 81,
   "metadata": {
    "colab": {
     "base_uri": "https://localhost:8080/"
    },
    "id": "jycc-GVCWtC7",
    "outputId": "83abd053-7218-4007-f5b9-033377ec1c46"
   },
   "outputs": [
    {
     "data": {
      "text/plain": [
       "device(type='cuda')"
      ]
     },
     "execution_count": 81,
     "metadata": {},
     "output_type": "execute_result"
    }
   ],
   "source": [
    "device = torch.device(\"cuda\" if torch.cuda.is_available() else \"cpu\")\n",
    "device"
   ]
  },
  {
   "cell_type": "code",
   "execution_count": 82,
   "metadata": {
    "id": "dKUClFAbWtC7"
   },
   "outputs": [],
   "source": [
    "path_to_weights = \"weights.pt\"\n",
    "torch.save(model.state_dict(), path_to_weights)"
   ]
  },
  {
   "cell_type": "markdown",
   "metadata": {
    "id": "6Fu5MsXAWtC7"
   },
   "source": [
    "## *Model Training*"
   ]
  },
  {
   "cell_type": "code",
   "execution_count": 83,
   "metadata": {
    "id": "Rq38fxt-WtC7"
   },
   "outputs": [],
   "source": [
    "from torch import optim\n",
    "from torch.optim.lr_scheduler import CosineAnnealingLR, ReduceLROnPlateau\n",
    "\n",
    "loss_fn = nn.CrossEntropyLoss(reduction=\"sum\")\n",
    "opt = optim.Adam(model.parameters(), lr=3e-5)\n",
    "lr_scheduler = ReduceLROnPlateau(opt, mode=\"min\", factor=0.5, patience=5, verbose=1)\n",
    "os.makedirs(\".\\models\", exist_ok=True)\n",
    "\n",
    "params_train = {\n",
    "    \"num_epochs\": 100,\n",
    "    \"opt\": opt,\n",
    "    \"loss_func\": loss_fn,\n",
    "    \"train_dl\": train_dl,\n",
    "    \"val_dl\": val_dl,\n",
    "    \"lr_scheduler\": lr_scheduler,\n",
    "    \"path_to_weights\": \"weights_\"+model_type+ \"_v\" + str(WEIGHTS_V) + \".pt\"\n",
    "}"
   ]
  },
  {
   "cell_type": "code",
   "execution_count": 84,
   "metadata": {
    "colab": {
     "base_uri": "https://localhost:8080/"
    },
    "id": "CRaswNj8-Q_A",
    "outputId": "7c44a5fa-9318-4c85-87d6-81e3dda4d7b2"
   },
   "outputs": [
    {
     "name": "stdout",
     "output_type": "stream",
     "text": [
      "Wed Dec 22 16:30:45 2021       \n",
      "+-----------------------------------------------------------------------------+\n",
      "| NVIDIA-SMI 495.44       Driver Version: 460.32.03    CUDA Version: 11.2     |\n",
      "|-------------------------------+----------------------+----------------------+\n",
      "| GPU  Name        Persistence-M| Bus-Id        Disp.A | Volatile Uncorr. ECC |\n",
      "| Fan  Temp  Perf  Pwr:Usage/Cap|         Memory-Usage | GPU-Util  Compute M. |\n",
      "|                               |                      |               MIG M. |\n",
      "|===============================+======================+======================|\n",
      "|   0  Tesla P100-PCIE...  Off  | 00000000:00:04.0 Off |                    0 |\n",
      "| N/A   59C    P0    40W / 250W |   3851MiB / 16280MiB |      0%      Default |\n",
      "|                               |                      |                  N/A |\n",
      "+-------------------------------+----------------------+----------------------+\n",
      "                                                                               \n",
      "+-----------------------------------------------------------------------------+\n",
      "| Processes:                                                                  |\n",
      "|  GPU   GI   CI        PID   Type   Process name                  GPU Memory |\n",
      "|        ID   ID                                                   Usage      |\n",
      "|=============================================================================|\n",
      "|  No running processes found                                                 |\n",
      "+-----------------------------------------------------------------------------+\n"
     ]
    }
   ],
   "source": [
    "!nvidia-smi"
   ]
  },
  {
   "cell_type": "code",
   "execution_count": 85,
   "metadata": {
    "colab": {
     "base_uri": "https://localhost:8080/"
    },
    "id": "TGFPOnObWtC8",
    "outputId": "935269c2-a951-42b7-c139-80ba868b0983"
   },
   "outputs": [
    {
     "name": "stdout",
     "output_type": "stream",
     "text": [
      "Epoch 0/99, current lr=3e-05\n",
      "Copied best model weights!\n",
      "train loss: 0.966472, train_accuracy: 50.27, val_loss: 0.888487, val_accuracy: 57.63\n",
      "----------\n",
      "Epoch 1/99, current lr=3e-05\n",
      "Copied best model weights!\n",
      "train loss: 0.335042, train_accuracy: 93.05, val_loss: 0.232622, val_accuracy: 93.22\n",
      "----------\n",
      "Epoch 2/99, current lr=3e-05\n",
      "train loss: 0.231166, train_accuracy: 94.39, val_loss: 0.326073, val_accuracy: 88.14\n",
      "----------\n",
      "Epoch 3/99, current lr=3e-05\n",
      "Copied best model weights!\n",
      "train loss: 0.100718, train_accuracy: 98.93, val_loss: 0.086591, val_accuracy: 96.61\n",
      "----------\n",
      "Epoch 4/99, current lr=3e-05\n",
      "Copied best model weights!\n",
      "train loss: 0.132134, train_accuracy: 97.06, val_loss: 0.079235, val_accuracy: 96.61\n",
      "----------\n",
      "Epoch 5/99, current lr=3e-05\n",
      "train loss: 0.116117, train_accuracy: 97.33, val_loss: 0.096504, val_accuracy: 93.22\n",
      "----------\n",
      "Epoch 6/99, current lr=3e-05\n",
      "train loss: 0.056560, train_accuracy: 99.47, val_loss: 0.094597, val_accuracy: 93.22\n",
      "----------\n",
      "Epoch 7/99, current lr=3e-05\n",
      "Copied best model weights!\n",
      "train loss: 0.024131, train_accuracy: 100.00, val_loss: 0.057902, val_accuracy: 96.61\n",
      "----------\n",
      "Epoch 8/99, current lr=3e-05\n",
      "train loss: 0.017897, train_accuracy: 100.00, val_loss: 0.074673, val_accuracy: 96.61\n",
      "----------\n",
      "Epoch 9/99, current lr=3e-05\n",
      "train loss: 0.065427, train_accuracy: 98.40, val_loss: 0.142664, val_accuracy: 93.22\n",
      "----------\n",
      "Epoch 10/99, current lr=3e-05\n",
      "train loss: 0.019774, train_accuracy: 100.00, val_loss: 0.113346, val_accuracy: 93.22\n",
      "----------\n",
      "Epoch 11/99, current lr=3e-05\n",
      "train loss: 0.187272, train_accuracy: 95.72, val_loss: 0.113719, val_accuracy: 94.92\n",
      "----------\n",
      "Epoch 12/99, current lr=3e-05\n",
      "train loss: 0.047907, train_accuracy: 99.73, val_loss: 0.117647, val_accuracy: 96.61\n",
      "----------\n",
      "Epoch 13/99, current lr=3e-05\n",
      "Epoch    14: reducing learning rate of group 0 to 1.5000e-05.\n",
      "Loading best model weights!\n",
      "train loss: 0.015559, train_accuracy: 100.00, val_loss: 0.169320, val_accuracy: 91.53\n",
      "----------\n",
      "Epoch 14/99, current lr=1.5e-05\n",
      "train loss: 0.018461, train_accuracy: 100.00, val_loss: 0.072759, val_accuracy: 96.61\n",
      "----------\n",
      "Epoch 15/99, current lr=1.5e-05\n",
      "train loss: 0.015794, train_accuracy: 100.00, val_loss: 0.096595, val_accuracy: 94.92\n",
      "----------\n",
      "Epoch 16/99, current lr=1.5e-05\n",
      "train loss: 0.014439, train_accuracy: 100.00, val_loss: 0.087879, val_accuracy: 96.61\n",
      "----------\n",
      "Epoch 17/99, current lr=1.5e-05\n",
      "train loss: 0.035160, train_accuracy: 99.47, val_loss: 0.138300, val_accuracy: 94.92\n",
      "----------\n",
      "Epoch 18/99, current lr=1.5e-05\n",
      "train loss: 0.013955, train_accuracy: 100.00, val_loss: 0.114933, val_accuracy: 96.61\n",
      "----------\n",
      "Epoch 19/99, current lr=1.5e-05\n",
      "Epoch    20: reducing learning rate of group 0 to 7.5000e-06.\n",
      "Loading best model weights!\n",
      "train loss: 0.173076, train_accuracy: 95.99, val_loss: 0.135926, val_accuracy: 91.53\n",
      "----------\n",
      "Epoch 20/99, current lr=7.5e-06\n",
      "train loss: 0.018764, train_accuracy: 100.00, val_loss: 0.115513, val_accuracy: 96.61\n",
      "----------\n",
      "Epoch 21/99, current lr=7.5e-06\n",
      "train loss: 0.018390, train_accuracy: 100.00, val_loss: 0.153616, val_accuracy: 93.22\n",
      "----------\n",
      "Epoch 22/99, current lr=7.5e-06\n",
      "train loss: 0.015772, train_accuracy: 100.00, val_loss: 0.079559, val_accuracy: 96.61\n",
      "----------\n",
      "Epoch 23/99, current lr=7.5e-06\n",
      "train loss: 0.015103, train_accuracy: 100.00, val_loss: 0.301083, val_accuracy: 88.14\n",
      "----------\n",
      "Epoch 24/99, current lr=7.5e-06\n",
      "Copied best model weights!\n",
      "train loss: 0.013588, train_accuracy: 100.00, val_loss: 0.054673, val_accuracy: 96.61\n",
      "----------\n",
      "Epoch 25/99, current lr=7.5e-06\n",
      "train loss: 0.013772, train_accuracy: 100.00, val_loss: 0.092440, val_accuracy: 96.61\n",
      "----------\n",
      "Epoch 26/99, current lr=7.5e-06\n",
      "train loss: 0.014898, train_accuracy: 100.00, val_loss: 0.136024, val_accuracy: 94.92\n",
      "----------\n",
      "Epoch 27/99, current lr=7.5e-06\n",
      "train loss: 0.011185, train_accuracy: 100.00, val_loss: 0.066406, val_accuracy: 96.61\n",
      "----------\n",
      "Epoch 28/99, current lr=7.5e-06\n",
      "train loss: 0.010432, train_accuracy: 100.00, val_loss: 0.070419, val_accuracy: 100.00\n",
      "----------\n",
      "Epoch 29/99, current lr=7.5e-06\n",
      "train loss: 0.064889, train_accuracy: 98.66, val_loss: 0.182308, val_accuracy: 91.53\n",
      "----------\n",
      "Epoch 30/99, current lr=7.5e-06\n",
      "Copied best model weights!\n",
      "train loss: 0.020541, train_accuracy: 99.73, val_loss: 0.051164, val_accuracy: 96.61\n",
      "----------\n",
      "Epoch 31/99, current lr=7.5e-06\n",
      "train loss: 0.010138, train_accuracy: 100.00, val_loss: 0.072886, val_accuracy: 96.61\n",
      "----------\n",
      "Epoch 32/99, current lr=7.5e-06\n",
      "train loss: 0.008696, train_accuracy: 100.00, val_loss: 0.066366, val_accuracy: 96.61\n",
      "----------\n",
      "Epoch 33/99, current lr=7.5e-06\n",
      "train loss: 0.007813, train_accuracy: 100.00, val_loss: 0.246805, val_accuracy: 91.53\n",
      "----------\n",
      "Epoch 34/99, current lr=7.5e-06\n",
      "train loss: 0.006755, train_accuracy: 100.00, val_loss: 0.157297, val_accuracy: 93.22\n",
      "----------\n",
      "Epoch 35/99, current lr=7.5e-06\n",
      "train loss: 0.006245, train_accuracy: 100.00, val_loss: 0.121758, val_accuracy: 93.22\n",
      "----------\n",
      "Epoch 36/99, current lr=7.5e-06\n",
      "Epoch    37: reducing learning rate of group 0 to 3.7500e-06.\n",
      "Loading best model weights!\n",
      "train loss: 0.006076, train_accuracy: 100.00, val_loss: 0.156627, val_accuracy: 93.22\n",
      "----------\n",
      "Epoch 37/99, current lr=3.75e-06\n",
      "train loss: 0.009647, train_accuracy: 100.00, val_loss: 0.072039, val_accuracy: 96.61\n",
      "----------\n",
      "Epoch 38/99, current lr=3.75e-06\n",
      "train loss: 0.008545, train_accuracy: 100.00, val_loss: 0.103693, val_accuracy: 96.61\n",
      "----------\n",
      "Epoch 39/99, current lr=3.75e-06\n",
      "train loss: 0.008060, train_accuracy: 100.00, val_loss: 0.164477, val_accuracy: 93.22\n",
      "----------\n",
      "Epoch 40/99, current lr=3.75e-06\n",
      "train loss: 0.006863, train_accuracy: 100.00, val_loss: 0.067196, val_accuracy: 96.61\n",
      "----------\n",
      "Epoch 41/99, current lr=3.75e-06\n",
      "train loss: 0.005780, train_accuracy: 100.00, val_loss: 0.078272, val_accuracy: 96.61\n",
      "----------\n",
      "Epoch 42/99, current lr=3.75e-06\n",
      "Epoch    43: reducing learning rate of group 0 to 1.8750e-06.\n",
      "Loading best model weights!\n",
      "train loss: 0.005636, train_accuracy: 100.00, val_loss: 0.171660, val_accuracy: 93.22\n",
      "----------\n",
      "Epoch 43/99, current lr=1.875e-06\n",
      "train loss: 0.011102, train_accuracy: 100.00, val_loss: 0.205303, val_accuracy: 93.22\n",
      "----------\n",
      "Epoch 44/99, current lr=1.875e-06\n",
      "train loss: 0.008589, train_accuracy: 100.00, val_loss: 0.117109, val_accuracy: 94.92\n",
      "----------\n",
      "Epoch 45/99, current lr=1.875e-06\n",
      "train loss: 0.007355, train_accuracy: 100.00, val_loss: 0.072667, val_accuracy: 96.61\n",
      "----------\n",
      "Epoch 46/99, current lr=1.875e-06\n",
      "train loss: 0.007627, train_accuracy: 100.00, val_loss: 0.152499, val_accuracy: 94.92\n",
      "----------\n",
      "Epoch 47/99, current lr=1.875e-06\n",
      "train loss: 0.007033, train_accuracy: 100.00, val_loss: 0.143543, val_accuracy: 93.22\n",
      "----------\n",
      "Epoch 48/99, current lr=1.875e-06\n",
      "Epoch    49: reducing learning rate of group 0 to 9.3750e-07.\n",
      "Loading best model weights!\n",
      "train loss: 0.006659, train_accuracy: 100.00, val_loss: 0.152382, val_accuracy: 93.22\n",
      "----------\n",
      "Epoch 49/99, current lr=9.375e-07\n",
      "train loss: 0.009881, train_accuracy: 100.00, val_loss: 0.072741, val_accuracy: 96.61\n",
      "----------\n",
      "Epoch 50/99, current lr=9.375e-07\n",
      "train loss: 0.008276, train_accuracy: 100.00, val_loss: 0.276373, val_accuracy: 89.83\n",
      "----------\n",
      "Epoch 51/99, current lr=9.375e-07\n",
      "train loss: 0.008493, train_accuracy: 100.00, val_loss: 0.082215, val_accuracy: 96.61\n",
      "----------\n",
      "Epoch 52/99, current lr=9.375e-07\n",
      "train loss: 0.007868, train_accuracy: 100.00, val_loss: 0.067867, val_accuracy: 98.31\n",
      "----------\n",
      "Epoch 53/99, current lr=9.375e-07\n",
      "train loss: 0.007060, train_accuracy: 100.00, val_loss: 0.102590, val_accuracy: 96.61\n",
      "----------\n",
      "Epoch 54/99, current lr=9.375e-07\n",
      "Epoch    55: reducing learning rate of group 0 to 4.6875e-07.\n",
      "Loading best model weights!\n",
      "train loss: 0.007314, train_accuracy: 100.00, val_loss: 0.110654, val_accuracy: 94.92\n",
      "----------\n",
      "Epoch 55/99, current lr=4.6875e-07\n",
      "train loss: 0.009224, train_accuracy: 100.00, val_loss: 0.089230, val_accuracy: 93.22\n",
      "----------\n",
      "Epoch 56/99, current lr=4.6875e-07\n",
      "train loss: 0.009693, train_accuracy: 100.00, val_loss: 0.082819, val_accuracy: 96.61\n",
      "----------\n",
      "Epoch 57/99, current lr=4.6875e-07\n",
      "train loss: 0.008348, train_accuracy: 100.00, val_loss: 0.242644, val_accuracy: 91.53\n",
      "----------\n",
      "Epoch 58/99, current lr=4.6875e-07\n",
      "train loss: 0.008145, train_accuracy: 100.00, val_loss: 0.216253, val_accuracy: 91.53\n",
      "----------\n",
      "Epoch 59/99, current lr=4.6875e-07\n",
      "train loss: 0.007933, train_accuracy: 100.00, val_loss: 0.128933, val_accuracy: 93.22\n",
      "----------\n",
      "Epoch 60/99, current lr=4.6875e-07\n",
      "Epoch    61: reducing learning rate of group 0 to 2.3438e-07.\n",
      "Loading best model weights!\n",
      "train loss: 0.007810, train_accuracy: 100.00, val_loss: 0.147730, val_accuracy: 94.92\n",
      "----------\n",
      "Epoch 61/99, current lr=2.34375e-07\n",
      "train loss: 0.011361, train_accuracy: 100.00, val_loss: 0.133925, val_accuracy: 93.22\n",
      "----------\n",
      "Epoch 62/99, current lr=2.34375e-07\n",
      "train loss: 0.010818, train_accuracy: 100.00, val_loss: 0.067430, val_accuracy: 96.61\n",
      "----------\n",
      "Epoch 63/99, current lr=2.34375e-07\n",
      "train loss: 0.009494, train_accuracy: 100.00, val_loss: 0.094596, val_accuracy: 96.61\n",
      "----------\n",
      "Epoch 64/99, current lr=2.34375e-07\n",
      "train loss: 0.009376, train_accuracy: 100.00, val_loss: 0.205919, val_accuracy: 91.53\n",
      "----------\n",
      "Epoch 65/99, current lr=2.34375e-07\n",
      "train loss: 0.014802, train_accuracy: 99.73, val_loss: 0.119280, val_accuracy: 93.22\n",
      "----------\n",
      "Epoch 66/99, current lr=2.34375e-07\n",
      "Epoch    67: reducing learning rate of group 0 to 1.1719e-07.\n",
      "Loading best model weights!\n",
      "train loss: 0.009176, train_accuracy: 100.00, val_loss: 0.065846, val_accuracy: 96.61\n",
      "----------\n",
      "Epoch 67/99, current lr=1.171875e-07\n",
      "train loss: 0.010885, train_accuracy: 100.00, val_loss: 0.164144, val_accuracy: 93.22\n",
      "----------\n",
      "Epoch 68/99, current lr=1.171875e-07\n",
      "train loss: 0.010505, train_accuracy: 100.00, val_loss: 0.190014, val_accuracy: 93.22\n",
      "----------\n",
      "Epoch 69/99, current lr=1.171875e-07\n",
      "train loss: 0.010237, train_accuracy: 100.00, val_loss: 0.201134, val_accuracy: 93.22\n",
      "----------\n",
      "Epoch 70/99, current lr=1.171875e-07\n",
      "train loss: 0.010604, train_accuracy: 100.00, val_loss: 0.078486, val_accuracy: 96.61\n",
      "----------\n",
      "Epoch 71/99, current lr=1.171875e-07\n",
      "train loss: 0.009906, train_accuracy: 100.00, val_loss: 0.124815, val_accuracy: 93.22\n",
      "----------\n",
      "Epoch 72/99, current lr=1.171875e-07\n",
      "Epoch    73: reducing learning rate of group 0 to 5.8594e-08.\n",
      "Loading best model weights!\n",
      "train loss: 0.009770, train_accuracy: 100.00, val_loss: 0.128866, val_accuracy: 93.22\n",
      "----------\n",
      "Epoch 73/99, current lr=5.859375e-08\n",
      "train loss: 0.019760, train_accuracy: 99.73, val_loss: 0.093814, val_accuracy: 93.22\n",
      "----------\n",
      "Epoch 74/99, current lr=5.859375e-08\n",
      "train loss: 0.009910, train_accuracy: 100.00, val_loss: 0.091040, val_accuracy: 96.61\n",
      "----------\n",
      "Epoch 75/99, current lr=5.859375e-08\n",
      "train loss: 0.009800, train_accuracy: 100.00, val_loss: 0.091861, val_accuracy: 96.61\n",
      "----------\n",
      "Epoch 76/99, current lr=5.859375e-08\n",
      "train loss: 0.010448, train_accuracy: 100.00, val_loss: 0.092110, val_accuracy: 96.61\n",
      "----------\n",
      "Epoch 77/99, current lr=5.859375e-08\n",
      "train loss: 0.009983, train_accuracy: 100.00, val_loss: 0.157808, val_accuracy: 93.22\n",
      "----------\n",
      "Epoch 78/99, current lr=5.859375e-08\n",
      "Epoch    79: reducing learning rate of group 0 to 2.9297e-08.\n",
      "Loading best model weights!\n",
      "train loss: 0.010712, train_accuracy: 100.00, val_loss: 0.124369, val_accuracy: 96.61\n",
      "----------\n",
      "Epoch 79/99, current lr=2.9296875e-08\n",
      "train loss: 0.010995, train_accuracy: 100.00, val_loss: 0.262336, val_accuracy: 89.83\n",
      "----------\n",
      "Epoch 80/99, current lr=2.9296875e-08\n",
      "train loss: 0.010154, train_accuracy: 100.00, val_loss: 0.074270, val_accuracy: 100.00\n",
      "----------\n",
      "Epoch 81/99, current lr=2.9296875e-08\n",
      "train loss: 0.010189, train_accuracy: 100.00, val_loss: 0.112376, val_accuracy: 93.22\n",
      "----------\n",
      "Epoch 82/99, current lr=2.9296875e-08\n",
      "train loss: 0.009947, train_accuracy: 100.00, val_loss: 0.085590, val_accuracy: 96.61\n",
      "----------\n",
      "Epoch 83/99, current lr=2.9296875e-08\n",
      "train loss: 0.010083, train_accuracy: 100.00, val_loss: 0.179179, val_accuracy: 93.22\n",
      "----------\n",
      "Epoch 84/99, current lr=2.9296875e-08\n",
      "Epoch    85: reducing learning rate of group 0 to 1.4648e-08.\n",
      "Loading best model weights!\n",
      "train loss: 0.010923, train_accuracy: 100.00, val_loss: 0.104879, val_accuracy: 96.61\n",
      "----------\n",
      "Epoch 85/99, current lr=1.46484375e-08\n",
      "train loss: 0.011148, train_accuracy: 100.00, val_loss: 0.085788, val_accuracy: 94.92\n",
      "----------\n",
      "Epoch 86/99, current lr=1.46484375e-08\n",
      "train loss: 0.011143, train_accuracy: 100.00, val_loss: 0.195133, val_accuracy: 93.22\n",
      "----------\n",
      "Epoch 87/99, current lr=1.46484375e-08\n",
      "train loss: 0.012179, train_accuracy: 100.00, val_loss: 0.223808, val_accuracy: 91.53\n",
      "----------\n",
      "Epoch 88/99, current lr=1.46484375e-08\n",
      "train loss: 0.010911, train_accuracy: 100.00, val_loss: 0.053460, val_accuracy: 98.31\n",
      "----------\n",
      "Epoch 89/99, current lr=1.46484375e-08\n",
      "train loss: 0.010468, train_accuracy: 100.00, val_loss: 0.073771, val_accuracy: 98.31\n",
      "----------\n",
      "Epoch 90/99, current lr=1.46484375e-08\n",
      "train loss: 0.010320, train_accuracy: 100.00, val_loss: 0.073417, val_accuracy: 100.00\n",
      "----------\n",
      "Epoch 91/99, current lr=1.46484375e-08\n",
      "train loss: 0.011101, train_accuracy: 100.00, val_loss: 0.108340, val_accuracy: 94.92\n",
      "----------\n",
      "Epoch 92/99, current lr=1.46484375e-08\n",
      "train loss: 0.010458, train_accuracy: 100.00, val_loss: 0.081556, val_accuracy: 96.61\n",
      "----------\n",
      "Epoch 93/99, current lr=1.46484375e-08\n",
      "train loss: 0.009633, train_accuracy: 100.00, val_loss: 0.082616, val_accuracy: 96.61\n",
      "----------\n",
      "Epoch 94/99, current lr=1.46484375e-08\n",
      "train loss: 0.010280, train_accuracy: 100.00, val_loss: 0.074001, val_accuracy: 96.61\n",
      "----------\n",
      "Epoch 95/99, current lr=1.46484375e-08\n",
      "train loss: 0.009625, train_accuracy: 100.00, val_loss: 0.222970, val_accuracy: 93.22\n",
      "----------\n",
      "Epoch 96/99, current lr=1.46484375e-08\n",
      "train loss: 0.010832, train_accuracy: 100.00, val_loss: 0.125766, val_accuracy: 93.22\n",
      "----------\n",
      "Epoch 97/99, current lr=1.46484375e-08\n",
      "train loss: 0.011247, train_accuracy: 100.00, val_loss: 0.089111, val_accuracy: 96.61\n",
      "----------\n",
      "Epoch 98/99, current lr=1.46484375e-08\n",
      "train loss: 0.009996, train_accuracy: 100.00, val_loss: 0.083742, val_accuracy: 96.61\n",
      "----------\n",
      "Epoch 99/99, current lr=1.46484375e-08\n",
      "train loss: 0.009653, train_accuracy: 100.00, val_loss: 0.151699, val_accuracy: 93.22\n",
      "----------\n"
     ]
    }
   ],
   "source": [
    "WEIGHTS_V += 1\n",
    "model, loss_hist, metric_hist = train_val(model, **params_train)"
   ]
  },
  {
   "cell_type": "code",
   "execution_count": null,
   "metadata": {
    "id": "zUdj4Z1vWtC8"
   },
   "outputs": [],
   "source": [
    "metric_hist"
   ]
  },
  {
   "cell_type": "code",
   "execution_count": 87,
   "metadata": {
    "colab": {
     "base_uri": "https://localhost:8080/",
     "height": 573
    },
    "id": "bLuIwdTVWtC8",
    "outputId": "0395bb63-0d62-4085-e83e-7896ed9de42d"
   },
   "outputs": [
    {
     "data": {
      "image/png": "[encoded data removed]",
      "text/plain": [
       "<Figure size 432x288 with 1 Axes>"
      ]
     },
     "metadata": {
      "needs_background": "light"
     },
     "output_type": "display_data"
    },
    {
     "data": {
      "image/png": "[encoded data removed]",
      "text/plain": [
       "<Figure size 432x288 with 1 Axes>"
      ]
     },
     "metadata": {
      "needs_background": "light"
     },
     "output_type": "display_data"
    }
   ],
   "source": [
    "plot_loss(loss_hist, metric_hist)"
   ]
  },
  {
   "cell_type": "markdown",
   "metadata": {},
   "source": [
    "## Model Testing"
   ]
  },
  {
   "cell_type": "markdown",
   "metadata": {},
   "source": [
    "#### 1. *Load pretrained weights*"
   ]
  },
  {
   "cell_type": "code",
   "execution_count": 73,
   "metadata": {},
   "outputs": [
    {
     "data": {
      "text/plain": [
       "<All keys matched successfully>"
      ]
     },
     "execution_count": 73,
     "metadata": {},
     "output_type": "execute_result"
    }
   ],
   "source": [
    "import torch\n",
    "\n",
    "import torch.nn as nn\n",
    "from collections import OrderedDict\n",
    "\n",
    "m = r2plus1d_18(pretrained=False, n_classes=3)\n",
    "w = torch.load(\"weights_3dcnn_v24.pt\")\n",
    "m.load_state_dict(w)"
   ]
  },
  {
   "cell_type": "code",
   "execution_count": 75,
   "metadata": {
    "id": "g3CaH1PNtBya"
   },
   "outputs": [],
   "source": [
    "loss_fn = nn.CrossEntropyLoss(reduction=\"sum\")\n",
    "\n",
    "params_test = {\n",
    "    \"model\": m,\n",
    "    \"loss_func\": loss_fn,\n",
    "    \"dataset_dl\": test_dl\n",
    "}"
   ]
  },
  {
   "cell_type": "code",
   "execution_count": 76,
   "metadata": {
    "colab": {
     "base_uri": "https://localhost:8080/"
    },
    "id": "q_H3IQVjxa9a",
    "outputId": "72912730-e71e-4666-97f5-b10596e6f4e2"
   },
   "outputs": [
    {
     "name": "stdout",
     "output_type": "stream",
     "text": [
      "dev loss: 1.371722, accuracy: 55.56\n"
     ]
    }
   ],
   "source": [
    "device = torch.device(\"cuda\" if torch.cuda.is_available() else \"cpu\")\n",
    "\n",
    "with torch.no_grad():\n",
    "    m.eval()\n",
    "    testing_loss, testing_metric = loss_epoch(**params_test)\n",
    "\n",
    "print(\"dev loss: %.6f, accuracy: %.2f\" %(testing_loss,100*testing_metric))"
   ]
  },
  {
   "cell_type": "code",
   "execution_count": 166,
   "metadata": {},
   "outputs": [],
   "source": [
    "my_test_transformer = transforms.Compose([\n",
    "                        transforms.Resize((h, w)),\n",
    "                        transforms.ToTensor(),\n",
    "                        transforms.Normalize(mean, std)\n",
    "                        ])\n",
    "\n"
   ]
  },
  {
   "cell_type": "markdown",
   "metadata": {},
   "source": [
    "## Try Real time"
   ]
  },
  {
   "cell_type": "code",
   "execution_count": 146,
   "metadata": {},
   "outputs": [],
   "source": [
    "from scipy import stats\n",
    "\n",
    "colors = [(245,117,16), (117,245,16), (16,117,245)]\n",
    "def prob_viz(res, actions, input_frame, colors):\n",
    "    output_frame = input_frame.copy()\n",
    "    for num, prob in enumerate(res):\n",
    "        prob = max(0,prob)\n",
    "        cv2.rectangle(output_frame, (0,60+num*40), (int(prob*100), 90+num*40), colors[num], -1)\n",
    "        cv2.putText(output_frame, actions[num], (0, 85+num*40), cv2.FONT_HERSHEY_SIMPLEX, 1, (255,255,255), 2, cv2.LINE_AA)\n",
    "        \n",
    "    return output_frame\n"
   ]
  },
  {
   "cell_type": "code",
   "execution_count": 94,
   "metadata": {
    "collapsed": true
   },
   "outputs": [
    {
     "data": {
      "text/plain": [
       "r2plus1d_18(\n",
       "  (r2plus1d_18): Sequential(\n",
       "    (0): R2Plus1dStem(\n",
       "      (0): Conv3d(3, 45, kernel_size=(1, 7, 7), stride=(1, 2, 2), padding=(0, 3, 3), bias=False)\n",
       "      (1): BatchNorm3d(45, eps=1e-05, momentum=0.1, affine=True, track_running_stats=True)\n",
       "      (2): SiLU(inplace=True)\n",
       "      (3): Conv3d(45, 64, kernel_size=(3, 1, 1), stride=(1, 1, 1), padding=(1, 0, 0), bias=False)\n",
       "      (4): BatchNorm3d(64, eps=1e-05, momentum=0.1, affine=True, track_running_stats=True)\n",
       "      (5): SiLU(inplace=True)\n",
       "    )\n",
       "    (1): Sequential(\n",
       "      (0): BasicBlock(\n",
       "        (conv1): Sequential(\n",
       "          (0): Conv2Plus1D(\n",
       "            (0): Conv3d(64, 144, kernel_size=(1, 3, 3), stride=(1, 1, 1), padding=(0, 1, 1), bias=False)\n",
       "            (1): BatchNorm3d(144, eps=1e-05, momentum=0.1, affine=True, track_running_stats=True)\n",
       "            (2): SiLU(inplace=True)\n",
       "            (3): Conv3d(144, 64, kernel_size=(3, 1, 1), stride=(1, 1, 1), padding=(1, 0, 0), bias=False)\n",
       "          )\n",
       "          (1): BatchNorm3d(64, eps=1e-05, momentum=0.1, affine=True, track_running_stats=True)\n",
       "          (2): SiLU(inplace=True)\n",
       "        )\n",
       "        (conv2): Sequential(\n",
       "          (0): Conv2Plus1D(\n",
       "            (0): Conv3d(64, 144, kernel_size=(1, 3, 3), stride=(1, 1, 1), padding=(0, 1, 1), bias=False)\n",
       "            (1): BatchNorm3d(144, eps=1e-05, momentum=0.1, affine=True, track_running_stats=True)\n",
       "            (2): SiLU(inplace=True)\n",
       "            (3): Conv3d(144, 64, kernel_size=(3, 1, 1), stride=(1, 1, 1), padding=(1, 0, 0), bias=False)\n",
       "          )\n",
       "          (1): BatchNorm3d(64, eps=1e-05, momentum=0.1, affine=True, track_running_stats=True)\n",
       "        )\n",
       "        (relu): SiLU(inplace=True)\n",
       "      )\n",
       "      (1): BasicBlock(\n",
       "        (conv1): Sequential(\n",
       "          (0): Conv2Plus1D(\n",
       "            (0): Conv3d(64, 144, kernel_size=(1, 3, 3), stride=(1, 1, 1), padding=(0, 1, 1), bias=False)\n",
       "            (1): BatchNorm3d(144, eps=1e-05, momentum=0.1, affine=True, track_running_stats=True)\n",
       "            (2): SiLU(inplace=True)\n",
       "            (3): Conv3d(144, 64, kernel_size=(3, 1, 1), stride=(1, 1, 1), padding=(1, 0, 0), bias=False)\n",
       "          )\n",
       "          (1): BatchNorm3d(64, eps=1e-05, momentum=0.1, affine=True, track_running_stats=True)\n",
       "          (2): SiLU(inplace=True)\n",
       "        )\n",
       "        (conv2): Sequential(\n",
       "          (0): Conv2Plus1D(\n",
       "            (0): Conv3d(64, 144, kernel_size=(1, 3, 3), stride=(1, 1, 1), padding=(0, 1, 1), bias=False)\n",
       "            (1): BatchNorm3d(144, eps=1e-05, momentum=0.1, affine=True, track_running_stats=True)\n",
       "            (2): SiLU(inplace=True)\n",
       "            (3): Conv3d(144, 64, kernel_size=(3, 1, 1), stride=(1, 1, 1), padding=(1, 0, 0), bias=False)\n",
       "          )\n",
       "          (1): BatchNorm3d(64, eps=1e-05, momentum=0.1, affine=True, track_running_stats=True)\n",
       "        )\n",
       "        (relu): SiLU(inplace=True)\n",
       "      )\n",
       "    )\n",
       "    (2): Sequential(\n",
       "      (0): BasicBlock(\n",
       "        (conv1): Sequential(\n",
       "          (0): Conv2Plus1D(\n",
       "            (0): Conv3d(64, 230, kernel_size=(1, 3, 3), stride=(1, 2, 2), padding=(0, 1, 1), bias=False)\n",
       "            (1): BatchNorm3d(230, eps=1e-05, momentum=0.1, affine=True, track_running_stats=True)\n",
       "            (2): SiLU(inplace=True)\n",
       "            (3): Conv3d(230, 128, kernel_size=(3, 1, 1), stride=(2, 1, 1), padding=(1, 0, 0), bias=False)\n",
       "          )\n",
       "          (1): BatchNorm3d(128, eps=1e-05, momentum=0.1, affine=True, track_running_stats=True)\n",
       "          (2): SiLU(inplace=True)\n",
       "        )\n",
       "        (conv2): Sequential(\n",
       "          (0): Conv2Plus1D(\n",
       "            (0): Conv3d(128, 230, kernel_size=(1, 3, 3), stride=(1, 1, 1), padding=(0, 1, 1), bias=False)\n",
       "            (1): BatchNorm3d(230, eps=1e-05, momentum=0.1, affine=True, track_running_stats=True)\n",
       "            (2): SiLU(inplace=True)\n",
       "            (3): Conv3d(230, 128, kernel_size=(3, 1, 1), stride=(1, 1, 1), padding=(1, 0, 0), bias=False)\n",
       "          )\n",
       "          (1): BatchNorm3d(128, eps=1e-05, momentum=0.1, affine=True, track_running_stats=True)\n",
       "        )\n",
       "        (relu): SiLU(inplace=True)\n",
       "        (downsample): Sequential(\n",
       "          (0): Conv3d(64, 128, kernel_size=(1, 1, 1), stride=(2, 2, 2), bias=False)\n",
       "          (1): BatchNorm3d(128, eps=1e-05, momentum=0.1, affine=True, track_running_stats=True)\n",
       "        )\n",
       "      )\n",
       "      (1): BasicBlock(\n",
       "        (conv1): Sequential(\n",
       "          (0): Conv2Plus1D(\n",
       "            (0): Conv3d(128, 288, kernel_size=(1, 3, 3), stride=(1, 1, 1), padding=(0, 1, 1), bias=False)\n",
       "            (1): BatchNorm3d(288, eps=1e-05, momentum=0.1, affine=True, track_running_stats=True)\n",
       "            (2): SiLU(inplace=True)\n",
       "            (3): Conv3d(288, 128, kernel_size=(3, 1, 1), stride=(1, 1, 1), padding=(1, 0, 0), bias=False)\n",
       "          )\n",
       "          (1): BatchNorm3d(128, eps=1e-05, momentum=0.1, affine=True, track_running_stats=True)\n",
       "          (2): SiLU(inplace=True)\n",
       "        )\n",
       "        (conv2): Sequential(\n",
       "          (0): Conv2Plus1D(\n",
       "            (0): Conv3d(128, 288, kernel_size=(1, 3, 3), stride=(1, 1, 1), padding=(0, 1, 1), bias=False)\n",
       "            (1): BatchNorm3d(288, eps=1e-05, momentum=0.1, affine=True, track_running_stats=True)\n",
       "            (2): SiLU(inplace=True)\n",
       "            (3): Conv3d(288, 128, kernel_size=(3, 1, 1), stride=(1, 1, 1), padding=(1, 0, 0), bias=False)\n",
       "          )\n",
       "          (1): BatchNorm3d(128, eps=1e-05, momentum=0.1, affine=True, track_running_stats=True)\n",
       "        )\n",
       "        (relu): SiLU(inplace=True)\n",
       "      )\n",
       "    )\n",
       "    (3): Sequential(\n",
       "      (0): BasicBlock(\n",
       "        (conv1): Sequential(\n",
       "          (0): Conv2Plus1D(\n",
       "            (0): Conv3d(128, 460, kernel_size=(1, 3, 3), stride=(1, 2, 2), padding=(0, 1, 1), bias=False)\n",
       "            (1): BatchNorm3d(460, eps=1e-05, momentum=0.1, affine=True, track_running_stats=True)\n",
       "            (2): SiLU(inplace=True)\n",
       "            (3): Conv3d(460, 256, kernel_size=(3, 1, 1), stride=(2, 1, 1), padding=(1, 0, 0), bias=False)\n",
       "          )\n",
       "          (1): BatchNorm3d(256, eps=1e-05, momentum=0.1, affine=True, track_running_stats=True)\n",
       "          (2): SiLU(inplace=True)\n",
       "        )\n",
       "        (conv2): Sequential(\n",
       "          (0): Conv2Plus1D(\n",
       "            (0): Conv3d(256, 460, kernel_size=(1, 3, 3), stride=(1, 1, 1), padding=(0, 1, 1), bias=False)\n",
       "            (1): BatchNorm3d(460, eps=1e-05, momentum=0.1, affine=True, track_running_stats=True)\n",
       "            (2): SiLU(inplace=True)\n",
       "            (3): Conv3d(460, 256, kernel_size=(3, 1, 1), stride=(1, 1, 1), padding=(1, 0, 0), bias=False)\n",
       "          )\n",
       "          (1): BatchNorm3d(256, eps=1e-05, momentum=0.1, affine=True, track_running_stats=True)\n",
       "        )\n",
       "        (relu): SiLU(inplace=True)\n",
       "        (downsample): Sequential(\n",
       "          (0): Conv3d(128, 256, kernel_size=(1, 1, 1), stride=(2, 2, 2), bias=False)\n",
       "          (1): BatchNorm3d(256, eps=1e-05, momentum=0.1, affine=True, track_running_stats=True)\n",
       "        )\n",
       "      )\n",
       "      (1): BasicBlock(\n",
       "        (conv1): Sequential(\n",
       "          (0): Conv2Plus1D(\n",
       "            (0): Conv3d(256, 576, kernel_size=(1, 3, 3), stride=(1, 1, 1), padding=(0, 1, 1), bias=False)\n",
       "            (1): BatchNorm3d(576, eps=1e-05, momentum=0.1, affine=True, track_running_stats=True)\n",
       "            (2): SiLU(inplace=True)\n",
       "            (3): Conv3d(576, 256, kernel_size=(3, 1, 1), stride=(1, 1, 1), padding=(1, 0, 0), bias=False)\n",
       "          )\n",
       "          (1): BatchNorm3d(256, eps=1e-05, momentum=0.1, affine=True, track_running_stats=True)\n",
       "          (2): SiLU(inplace=True)\n",
       "        )\n",
       "        (conv2): Sequential(\n",
       "          (0): Conv2Plus1D(\n",
       "            (0): Conv3d(256, 576, kernel_size=(1, 3, 3), stride=(1, 1, 1), padding=(0, 1, 1), bias=False)\n",
       "            (1): BatchNorm3d(576, eps=1e-05, momentum=0.1, affine=True, track_running_stats=True)\n",
       "            (2): SiLU(inplace=True)\n",
       "            (3): Conv3d(576, 256, kernel_size=(3, 1, 1), stride=(1, 1, 1), padding=(1, 0, 0), bias=False)\n",
       "          )\n",
       "          (1): BatchNorm3d(256, eps=1e-05, momentum=0.1, affine=True, track_running_stats=True)\n",
       "        )\n",
       "        (relu): SiLU(inplace=True)\n",
       "      )\n",
       "    )\n",
       "    (4): Sequential(\n",
       "      (0): BasicBlock(\n",
       "        (conv1): Sequential(\n",
       "          (0): Conv2Plus1D(\n",
       "            (0): Conv3d(256, 921, kernel_size=(1, 3, 3), stride=(1, 2, 2), padding=(0, 1, 1), bias=False)\n",
       "            (1): BatchNorm3d(921, eps=1e-05, momentum=0.1, affine=True, track_running_stats=True)\n",
       "            (2): SiLU(inplace=True)\n",
       "            (3): Conv3d(921, 512, kernel_size=(3, 1, 1), stride=(2, 1, 1), padding=(1, 0, 0), bias=False)\n",
       "          )\n",
       "          (1): BatchNorm3d(512, eps=1e-05, momentum=0.1, affine=True, track_running_stats=True)\n",
       "          (2): SiLU(inplace=True)\n",
       "        )\n",
       "        (conv2): Sequential(\n",
       "          (0): Conv2Plus1D(\n",
       "            (0): Conv3d(512, 921, kernel_size=(1, 3, 3), stride=(1, 1, 1), padding=(0, 1, 1), bias=False)\n",
       "            (1): BatchNorm3d(921, eps=1e-05, momentum=0.1, affine=True, track_running_stats=True)\n",
       "            (2): SiLU(inplace=True)\n",
       "            (3): Conv3d(921, 512, kernel_size=(3, 1, 1), stride=(1, 1, 1), padding=(1, 0, 0), bias=False)\n",
       "          )\n",
       "          (1): BatchNorm3d(512, eps=1e-05, momentum=0.1, affine=True, track_running_stats=True)\n",
       "        )\n",
       "        (relu): SiLU(inplace=True)\n",
       "        (downsample): Sequential(\n",
       "          (0): Conv3d(256, 512, kernel_size=(1, 1, 1), stride=(2, 2, 2), bias=False)\n",
       "          (1): BatchNorm3d(512, eps=1e-05, momentum=0.1, affine=True, track_running_stats=True)\n",
       "        )\n",
       "      )\n",
       "      (1): BasicBlock(\n",
       "        (conv1): Sequential(\n",
       "          (0): Conv2Plus1D(\n",
       "            (0): Conv3d(512, 1152, kernel_size=(1, 3, 3), stride=(1, 1, 1), padding=(0, 1, 1), bias=False)\n",
       "            (1): BatchNorm3d(1152, eps=1e-05, momentum=0.1, affine=True, track_running_stats=True)\n",
       "            (2): SiLU(inplace=True)\n",
       "            (3): Conv3d(1152, 512, kernel_size=(3, 1, 1), stride=(1, 1, 1), padding=(1, 0, 0), bias=False)\n",
       "          )\n",
       "          (1): BatchNorm3d(512, eps=1e-05, momentum=0.1, affine=True, track_running_stats=True)\n",
       "          (2): SiLU(inplace=True)\n",
       "        )\n",
       "        (conv2): Sequential(\n",
       "          (0): Conv2Plus1D(\n",
       "            (0): Conv3d(512, 1152, kernel_size=(1, 3, 3), stride=(1, 1, 1), padding=(0, 1, 1), bias=False)\n",
       "            (1): BatchNorm3d(1152, eps=1e-05, momentum=0.1, affine=True, track_running_stats=True)\n",
       "            (2): SiLU(inplace=True)\n",
       "            (3): Conv3d(1152, 512, kernel_size=(3, 1, 1), stride=(1, 1, 1), padding=(1, 0, 0), bias=False)\n",
       "          )\n",
       "          (1): BatchNorm3d(512, eps=1e-05, momentum=0.1, affine=True, track_running_stats=True)\n",
       "        )\n",
       "        (relu): SiLU(inplace=True)\n",
       "      )\n",
       "    )\n",
       "    (5): AdaptiveAvgPool3d(output_size=(1, 1, 1))\n",
       "  )\n",
       "  (fc1): Linear(in_features=512, out_features=3, bias=True)\n",
       "  (dropout): Dropout(p=0.5, inplace=True)\n",
       ")"
      ]
     },
     "execution_count": 94,
     "metadata": {},
     "output_type": "execute_result"
    }
   ],
   "source": [
    "m.cuda()"
   ]
  },
  {
   "cell_type": "code",
   "execution_count": 96,
   "metadata": {},
   "outputs": [
    {
     "data": {
      "text/plain": [
       "True"
      ]
     },
     "execution_count": 96,
     "metadata": {},
     "output_type": "execute_result"
    }
   ],
   "source": [
    "next(model.parameters()).is_cuda"
   ]
  },
  {
   "cell_type": "code",
   "execution_count": 147,
   "metadata": {},
   "outputs": [],
   "source": [
    "# 1. New detection variables\n",
    "from PIL import Image\n",
    "\n",
    "sequence = []\n",
    "sentence = []\n",
    "predictions = []\n",
    "threshold = 0.5\n",
    "\n",
    "# model = m.to(device)\n",
    "cap = cv2.VideoCapture(0)\n",
    "# Set mediapipe model \n",
    "\n",
    "\n",
    "\n",
    "resize_transform   = transforms.Resize((h, w))\n",
    "totensor_transform  = transforms.ToTensor()\n",
    "normalize_transform = transforms.Normalize(mean, std)\n",
    "\n",
    "while cap.isOpened():\n",
    "\n",
    "    # Read feed\n",
    "    ret, frame = cap.read()\n",
    "    if(not ret):\n",
    "        break\n",
    "#         frame = cv2.resize(frame, (512, 512))\n",
    "\n",
    "\n",
    "    final_frame = cv2.cvtColor(frame, cv2.COLOR_BGR2RGB)\n",
    "    \n",
    "    final_frame = Image.fromarray(final_frame)\n",
    "    \n",
    "    \n",
    "\n",
    "    final_frame = resize_transform(final_frame)\n",
    "    final_frame = totensor_transform(final_frame)\n",
    "    final_frame = normalize_transform(final_frame).to(device)\n",
    "    \n",
    "    \n",
    "    \n",
    "    sequence.append(final_frame)\n",
    "    sequence = sequence[-16:]\n",
    "    arg_max=-1\n",
    "    if len(sequence) == 16:\n",
    "        first_seq = torch.stack(sequence).to(device)\n",
    "        output_seq = torch.unsqueeze(first_seq, dim=0).permute(0, 2, 1, 3, 4)\n",
    "        with torch.no_grad():\n",
    "            res = m(output_seq)\n",
    "            arg_max = int(torch.argmax(res))\n",
    "        predictions.append(arg_max)\n",
    "\n",
    "\n",
    "    #3. Viz logic\n",
    "        if np.unique(predictions[-2:])[0]==arg_max: \n",
    "            if res[0][arg_max] > threshold: \n",
    "\n",
    "                if len(sentence) > 0: \n",
    "                    if actions[arg_max] != sentence[-1]:\n",
    "                        sentence.append(actions[arg_max])\n",
    "                else:\n",
    "                    sentence.append(actions[arg_max])\n",
    "\n",
    "        if len(sentence) > 5: \n",
    "            sentence = sentence[-5:]\n",
    "\n",
    "        # Viz probabilities\n",
    "        frame = prob_viz(res.cpu().detach().numpy()[0], actions, frame, colors)\n",
    "\n",
    "    cv2.rectangle(frame, (0,0), (640, 40), (245, 117, 16), -1)\n",
    "    cv2.putText(frame, ' '.join(sentence), (3,30), \n",
    "                   cv2.FONT_HERSHEY_SIMPLEX, 1, (255, 255, 255), 2, cv2.LINE_AA)\n",
    "\n",
    "    # Show to screen\n",
    "    cv2.imshow('OpenCV Feed', frame)\n",
    "\n",
    "    # Break gracefully\n",
    "    if cv2.waitKey(10) & 0xFF == ord('q'):\n",
    "        break\n",
    "cap.release()\n",
    "cv2.destroyAllWindows()"
   ]
  },
  {
   "cell_type": "code",
   "execution_count": 138,
   "metadata": {},
   "outputs": [],
   "source": [
    "cap.release()\n"
   ]
  },
  {
   "cell_type": "code",
   "execution_count": 139,
   "metadata": {},
   "outputs": [],
   "source": [
    "cv2.destroyAllWindows()"
   ]
  },
  {
   "cell_type": "code",
   "execution_count": 128,
   "metadata": {},
   "outputs": [
    {
     "data": {
      "text/plain": [
       "(480, 640, 3)"
      ]
     },
     "execution_count": 128,
     "metadata": {},
     "output_type": "execute_result"
    }
   ],
   "source": [
    "frame.shape"
   ]
  },
  {
   "cell_type": "code",
   "execution_count": 145,
   "metadata": {},
   "outputs": [
    {
     "data": {
      "text/plain": [
       "array([ 0.7863796, -1.7930923,  0.4524451], dtype=float32)"
      ]
     },
     "execution_count": 145,
     "metadata": {},
     "output_type": "execute_result"
    }
   ],
   "source": []
  },
  {
   "cell_type": "code",
   "execution_count": 253,
   "metadata": {
    "id": "MOfOXrLIxfTr"
   },
   "outputs": [
    {
     "data": {
      "text/plain": [
       "8795"
      ]
     },
     "execution_count": 253,
     "metadata": {},
     "output_type": "execute_result"
    }
   ],
   "source": [
    "gc.collect()"
   ]
  },
  {
   "cell_type": "code",
   "execution_count": 300,
   "metadata": {},
   "outputs": [],
   "source": [
    "torch.cuda.empty_cache()"
   ]
  },
  {
   "cell_type": "code",
   "execution_count": null,
   "metadata": {},
   "outputs": [],
   "source": []
  }
 ],
 "metadata": {
  "accelerator": "GPU",
  "colab": {
   "collapsed_sections": [
    "joq10it7JVug",
    "AOfEU8egJtMT",
    "ywx1VfVaJe7x",
    "8Q99-mrlJ24S",
    "l2GjKuRbKC1U",
    "juWhMkPaKtTF",
    "V4a48hQnK1j4",
    "rIVk0nxRKVT6",
    "loENlyJbKVT6",
    "ArakOFBDKZbG",
    "744gwGQfLS-g",
    "B97uAaVCLS-i",
    "6Fu5MsXAWtC7"
   ],
   "machine_shape": "hm",
   "name": "main_notebook_3.ipynb",
   "provenance": []
  },
  "interpreter": {
   "hash": "5442513ba35897157162e772485767663a309d0b481473f29ae9b3d4e5ea1118"
  },
  "kernelspec": {
   "display_name": "Python 3 (ipykernel)",
   "language": "python",
   "name": "python3"
  },
  "language_info": {
   "codemirror_mode": {
    "name": "ipython",
    "version": 3
   },
   "file_extension": ".py",
   "mimetype": "text/x-python",
   "name": "python",
   "nbconvert_exporter": "python",
   "pygments_lexer": "ipython3",
   "version": "3.8.10"
  }
 },
 "nbformat": 4,
 "nbformat_minor": 1
}
