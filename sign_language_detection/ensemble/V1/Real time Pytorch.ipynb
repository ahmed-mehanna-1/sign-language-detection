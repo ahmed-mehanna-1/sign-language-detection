{
 "cells": [
  {
   "cell_type": "markdown",
   "metadata": {},
   "source": [
    "# install dependencies"
   ]
  },
  {
   "cell_type": "code",
   "execution_count": 58,
   "metadata": {
    "id": "1JuwyyimWtCi"
   },
   "outputs": [],
   "source": [
    "import pandas as pd\n",
    "import os\n",
    "import cv2\n",
    "import numpy as np\n",
    "import torch\n",
    "import torch.nn as nn\n",
    "import torchvision\n",
    "import torchvision.transforms as transforms\n"
   ]
  },
  {
   "cell_type": "code",
   "execution_count": 60,
   "metadata": {
    "id": "JoteYw6HWtCl"
   },
   "outputs": [],
   "source": [
    "n_classes = 10\n",
    "actions = ['sister','hurry','hungry','meal','brother','tree','heavy','cry','family','wise']"
   ]
  },
  {
   "cell_type": "code",
   "execution_count": 56,
   "metadata": {
    "id": "g0sfPx3bWtCy"
   },
   "outputs": [],
   "source": [
    "def convert_relu_to_swish(model: nn.Module):\n",
    "    for child_name, child in model.named_children():\n",
    "        if isinstance(child, nn.ReLU):\n",
    "            setattr(model, child_name, nn.SiLU(True))\n",
    "        else:\n",
    "            convert_relu_to_swish(child)\n",
    "\n",
    "\n",
    "            \n",
    "            \n",
    "class Swish(nn.Module):\n",
    "    def __init(self):\n",
    "        super().__init__()\n",
    "\n",
    "    def forward(self, x):\n",
    "        return x.mult_(torch.sigmoid(x))\n",
    "    \n",
    "    \n",
    "    \n",
    "class r2plus1d_18(nn.Module):\n",
    "    def __init__(self, pretrained=True, n_classes=3, dropout_p=0.5):\n",
    "        super(r2plus1d_18, self).__init__()\n",
    "        self.pretrained = pretrained\n",
    "        self.n_classes = n_classes\n",
    "\n",
    "        model = torchvision.models.video.r2plus1d_18(pretrained=self.pretrained)\n",
    "        modules = list(model.children())[:-1]\n",
    "        self.r2plus1d_18 = nn.Sequential(*modules)\n",
    "        convert_relu_to_swish(self.r2plus1d_18)\n",
    "        self.fc1 = nn.Linear(model.fc.in_features, self.n_classes)\n",
    "        self.dropout = nn.Dropout(dropout_p, inplace=True)\n",
    "\n",
    "    def forward(self, x):\n",
    "        # (b, f, c, h, w) = x.size()\n",
    "        # x = x.view(b, c, f, h, w)\n",
    "\n",
    "        out = self.r2plus1d_18(x)\n",
    "        out = out.flatten(1)\n",
    "        out = self.dropout(out)\n",
    "        out = self.fc1(out)\n",
    "\n",
    "        return out"
   ]
  },
  {
   "cell_type": "code",
   "execution_count": 59,
   "metadata": {
    "id": "H7qo0qy6WtC1"
   },
   "outputs": [],
   "source": [
    "h, w = 128, 128\n",
    "mean = [0.43216, 0.394666, 0.37645]\n",
    "std = [0.22803, 0.22145, 0.216989]"
   ]
  },
  {
   "cell_type": "markdown",
   "metadata": {},
   "source": [
    "## Model Testing"
   ]
  },
  {
   "cell_type": "markdown",
   "metadata": {},
   "source": [
    "#### 1. *Load pretrained weights*"
   ]
  },
  {
   "cell_type": "code",
   "execution_count": 61,
   "metadata": {},
   "outputs": [],
   "source": [
    "m = r2plus1d_18(pretrained=False, n_classes=n_classes)\n",
    "best_checkpoint = torch.load(\"pytorch_weights.tar\")\n",
    "m.load_state_dict(best_checkpoint[\"model_state_dict\"])\n",
    "\n",
    "\n",
    "device = torch.device(\"cuda\" if torch.cuda.is_available() else \"cpu\")"
   ]
  },
  {
   "cell_type": "code",
   "execution_count": 62,
   "metadata": {},
   "outputs": [
    {
     "data": {
      "text/plain": [
       "dict_keys(['epochs', 'last_epoch', 'best_epoch', 'model_state_dict', 'optimizer_state_dict', 'lr_scheduler_state_dict', 'loss_state_dict', 'hist'])"
      ]
     },
     "execution_count": 62,
     "metadata": {},
     "output_type": "execute_result"
    }
   ],
   "source": [
    "best_checkpoint.keys()"
   ]
  },
  {
   "cell_type": "markdown",
   "metadata": {},
   "source": [
    "## Try Real time"
   ]
  },
  {
   "cell_type": "code",
   "execution_count": 63,
   "metadata": {},
   "outputs": [],
   "source": [
    "from scipy import stats\n",
    "\n",
    "colors = [(245,117,16), (117,245,16), (16,117,245)]\n",
    "def prob_viz(res, actions, input_frame, colors):\n",
    "    output_frame = input_frame.copy()\n",
    "    for num, prob in enumerate(res):\n",
    "        prob = max(0,prob)\n",
    "        cv2.rectangle(output_frame, (0,60+num*40), (int(prob*100), 90+num*40), colors[num%3], -1)\n",
    "        cv2.putText(output_frame, actions[num], (0, 85+num*40), cv2.FONT_HERSHEY_SIMPLEX, 1, (255,255,255), 2, cv2.LINE_AA)\n",
    "        \n",
    "    return output_frame\n"
   ]
  },
  {
   "cell_type": "code",
   "execution_count": 68,
   "metadata": {},
   "outputs": [],
   "source": [
    "# 1. New detection variables\n",
    "from PIL import Image\n",
    "\n",
    "sequence = []\n",
    "sentence = []\n",
    "predictions = []\n",
    "threshold = 0.5\n",
    "\n",
    "m = m.to(device)\n",
    "cap = cv2.VideoCapture(0)\n",
    "# Set mediapipe model \n",
    "\n",
    "\n",
    "\n",
    "resize_transform   = transforms.Resize((h, w))\n",
    "totensor_transform  = transforms.ToTensor()\n",
    "normalize_transform = transforms.Normalize(mean, std)\n",
    "\n",
    "while cap.isOpened():\n",
    "\n",
    "    # Read feed\n",
    "    ret, frame = cap.read()\n",
    "    if(not ret):\n",
    "        break\n",
    "#         frame = cv2.resize(frame, (512, 512))\n",
    "\n",
    "\n",
    "    final_frame = cv2.cvtColor(frame, cv2.COLOR_BGR2RGB)\n",
    "    \n",
    "    final_frame = Image.fromarray(final_frame)\n",
    "    \n",
    "    \n",
    "\n",
    "    final_frame = resize_transform(final_frame)\n",
    "    final_frame = totensor_transform(final_frame)\n",
    "    final_frame = normalize_transform(final_frame).to(device)\n",
    "    \n",
    "    \n",
    "    \n",
    "    sequence.append(final_frame)\n",
    "    sequence = sequence[-16:]\n",
    "    arg_max=-1\n",
    "    if len(sequence) == 16:\n",
    "        first_seq = torch.stack(sequence).to(device)\n",
    "        output_seq = torch.unsqueeze(first_seq, dim=0).permute(0, 2, 1, 3, 4)\n",
    "        with torch.no_grad():\n",
    "            m.eval()\n",
    "            res = m(output_seq)\n",
    "            arg_max = int(torch.argmax(res))\n",
    "        predictions.append(arg_max)\n",
    "\n",
    "\n",
    "    #3. Viz logic\n",
    "        if np.unique(predictions[-2:])[0]==arg_max: \n",
    "            if res[0][arg_max] > threshold: \n",
    "\n",
    "                if len(sentence) > 0: \n",
    "                    if actions[arg_max] != sentence[-1]:\n",
    "                        sentence.append(actions[arg_max])\n",
    "                else:\n",
    "                    sentence.append(actions[arg_max])\n",
    "\n",
    "        if len(sentence) > 5: \n",
    "            sentence = sentence[-5:]\n",
    "\n",
    "        # Viz probabilities\n",
    "        frame = prob_viz(res.cpu().detach().numpy()[0], actions, frame, colors)\n",
    "\n",
    "    cv2.rectangle(frame, (0,0), (640, 40), (245, 117, 16), -1)\n",
    "    cv2.putText(frame, ' '.join(sentence), (3,30), \n",
    "                   cv2.FONT_HERSHEY_SIMPLEX, 1, (255, 255, 255), 2, cv2.LINE_AA)\n",
    "\n",
    "    # Show to screen\n",
    "    cv2.imshow('OpenCV Feed', frame)\n",
    "\n",
    "    # Break gracefully\n",
    "    if cv2.waitKey(100) & 0xFF == ord('q'):\n",
    "        break\n",
    "cap.release()\n",
    "cv2.destroyAllWindows()"
   ]
  },
  {
   "cell_type": "code",
   "execution_count": 138,
   "metadata": {},
   "outputs": [],
   "source": [
    "cap.release()\n"
   ]
  },
  {
   "cell_type": "code",
   "execution_count": 139,
   "metadata": {},
   "outputs": [],
   "source": [
    "cv2.destroyAllWindows()"
   ]
  },
  {
   "cell_type": "code",
   "execution_count": 253,
   "metadata": {
    "id": "MOfOXrLIxfTr"
   },
   "outputs": [
    {
     "data": {
      "text/plain": [
       "8795"
      ]
     },
     "execution_count": 253,
     "metadata": {},
     "output_type": "execute_result"
    }
   ],
   "source": [
    "import gc\n",
    "gc.collect()\n",
    "torch.cuda.empty_cache()"
   ]
  }
 ],
 "metadata": {
  "accelerator": "GPU",
  "colab": {
   "collapsed_sections": [
    "joq10it7JVug",
    "AOfEU8egJtMT",
    "ywx1VfVaJe7x",
    "8Q99-mrlJ24S",
    "l2GjKuRbKC1U",
    "juWhMkPaKtTF",
    "V4a48hQnK1j4",
    "rIVk0nxRKVT6",
    "loENlyJbKVT6",
    "ArakOFBDKZbG",
    "744gwGQfLS-g",
    "B97uAaVCLS-i",
    "6Fu5MsXAWtC7"
   ],
   "machine_shape": "hm",
   "name": "main_notebook_3.ipynb",
   "provenance": []
  },
  "interpreter": {
   "hash": "5442513ba35897157162e772485767663a309d0b481473f29ae9b3d4e5ea1118"
  },
  "kernelspec": {
   "display_name": "Python 3 (ipykernel)",
   "language": "python",
   "name": "python3"
  },
  "language_info": {
   "codemirror_mode": {
    "name": "ipython",
    "version": 3
   },
   "file_extension": ".py",
   "mimetype": "text/x-python",
   "name": "python",
   "nbconvert_exporter": "python",
   "pygments_lexer": "ipython3",
   "version": "3.8.10"
  }
 },
 "nbformat": 4,
 "nbformat_minor": 1
}
