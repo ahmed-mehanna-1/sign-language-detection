{
 "cells": [
  {
   "cell_type": "markdown",
   "id": "2f40dc76",
   "metadata": {},
   "source": [
    "# normalize predections"
   ]
  },
  {
   "cell_type": "code",
   "execution_count": 1,
   "id": "efa77039",
   "metadata": {},
   "outputs": [],
   "source": [
    "import numpy as np\n",
    "import os"
   ]
  },
  {
   "cell_type": "code",
   "execution_count": 2,
   "id": "a8135223",
   "metadata": {},
   "outputs": [],
   "source": [
    "def softmax(x):\n",
    "    \n",
    "    f_x = np.exp(x) / np.sum(np.exp(x))\n",
    "    return f_x\n",
    "\n",
    "\n",
    "def arg_max(array):\n",
    "    arg_max = np.argmax(array)\n",
    "    return arg_max,array[arg_max]"
   ]
  },
  {
   "cell_type": "code",
   "execution_count": 3,
   "id": "187587c3",
   "metadata": {},
   "outputs": [],
   "source": [
    "predection_path = \"predections_test\"\n",
    "\n",
    "\n",
    "keras_predections_test = np.load(os.path.join(predection_path,\"keras.npy\"))\n",
    "\n",
    "pytorch_predections_test = np.load(os.path.join(predection_path,\"pytorch.npy\"))\n",
    "pytorch_predections_test = np.array([softmax(arr) for arr in pytorch_predections_test])\n",
    "\n",
    "labels_predections_test = np.load(os.path.join(predection_path,\"labels.npy\"))\n",
    "\n",
    "\n",
    "predection_path = \"predections_val\"\n",
    "\n",
    "\n",
    "keras_predections_val = np.load(os.path.join(predection_path,\"keras.npy\"))\n",
    "\n",
    "pytorch_predections_val = np.load(os.path.join(predection_path,\"pytorch.npy\"))\n",
    "pytorch_predections_val = np.array([softmax(arr) for arr in pytorch_predections_val])\n",
    "\n",
    "labels_predections_val = np.load(os.path.join(predection_path,\"labels.npy\"))\n",
    "\n"
   ]
  },
  {
   "cell_type": "code",
   "execution_count": 5,
   "id": "e0ce1385",
   "metadata": {},
   "outputs": [
    {
     "name": "stdout",
     "output_type": "stream",
     "text": [
      "(0, 0.9370243)\n",
      "(0, 0.9999732)\n"
     ]
    }
   ],
   "source": [
    "sign=0\n",
    "print(arg_max(pytorch_predections_val[sign]))\n",
    "print(arg_max(keras_predections_val[sign]))"
   ]
  },
  {
   "cell_type": "code",
   "execution_count": 7,
   "id": "9898fbcc",
   "metadata": {},
   "outputs": [
    {
     "data": {
      "text/plain": [
       "(0, 0.9999732)"
      ]
     },
     "execution_count": 7,
     "metadata": {},
     "output_type": "execute_result"
    }
   ],
   "source": [
    "arg_max(keras_predections_val[0])"
   ]
  },
  {
   "cell_type": "markdown",
   "id": "3e98634d",
   "metadata": {},
   "source": [
    "# evaluate each one"
   ]
  },
  {
   "cell_type": "code",
   "execution_count": 10,
   "id": "02c2c488",
   "metadata": {},
   "outputs": [],
   "source": [
    "def evaluate_all(keras_predections,pytorch_predections,labels_predections,verbose=1):\n",
    "    keras_acc = 0\n",
    "    torch_acc = 0\n",
    "    ensemble_acc=0\n",
    "    n_samples = len(labels_predections)\n",
    "    for sign in range(n_samples):\n",
    "        torch_predection = arg_max(pytorch_predections[sign])\n",
    "        keras_predection = arg_max(keras_predections[sign])\n",
    "        ensemble_predection = arg_max(pytorch_predections[sign] + keras_predections[sign])\n",
    "        actual = labels_predections[sign]\n",
    "        if verbose:\n",
    "            print(torch_predection,keras_predection,ensemble_predection,actual)\n",
    "        if(actual==keras_predection[0]):keras_acc+=1\n",
    "        if(actual==torch_predection[0]):torch_acc+=1\n",
    "        if(actual==ensemble_predection[0]):ensemble_acc+=1\n",
    "\n",
    "\n",
    "    print(\"\\nkeras acc\",(keras_acc/n_samples) * 100)\n",
    "    print(\"torch acc\",(torch_acc/n_samples) * 100)\n",
    "    print(\"ensemble acc\",(ensemble_acc/n_samples) * 100)\n",
    "    "
   ]
  },
  {
   "cell_type": "code",
   "execution_count": 13,
   "id": "43951e31",
   "metadata": {},
   "outputs": [
    {
     "name": "stdout",
     "output_type": "stream",
     "text": [
      "\n",
      "keras acc 95.26315789473684\n",
      "torch acc 93.6842105263158\n",
      "ensemble acc 96.84210526315789\n"
     ]
    }
   ],
   "source": [
    "evaluate_all(keras_predections_val,pytorch_predections_val,labels_predections_val,verbose=0)"
   ]
  },
  {
   "cell_type": "code",
   "execution_count": 14,
   "id": "e9228ee9",
   "metadata": {},
   "outputs": [
    {
     "name": "stdout",
     "output_type": "stream",
     "text": [
      "\n",
      "keras acc 91.66666666666666\n",
      "torch acc 89.88095238095238\n",
      "ensemble acc 95.83333333333334\n"
     ]
    }
   ],
   "source": [
    "evaluate_all(keras_predections_test,pytorch_predections_test,labels_predections_test,verbose=0)"
   ]
  },
  {
   "cell_type": "code",
   "execution_count": null,
   "id": "426a7ae2",
   "metadata": {},
   "outputs": [],
   "source": []
  },
  {
   "cell_type": "code",
   "execution_count": null,
   "id": "53814144",
   "metadata": {},
   "outputs": [],
   "source": []
  },
  {
   "cell_type": "code",
   "execution_count": null,
   "id": "2b0e91dc",
   "metadata": {},
   "outputs": [],
   "source": []
  }
 ],
 "metadata": {
  "kernelspec": {
   "display_name": "Python 3 (ipykernel)",
   "language": "python",
   "name": "python3"
  },
  "language_info": {
   "codemirror_mode": {
    "name": "ipython",
    "version": 3
   },
   "file_extension": ".py",
   "mimetype": "text/x-python",
   "name": "python",
   "nbconvert_exporter": "python",
   "pygments_lexer": "ipython3",
   "version": "3.8.10"
  }
 },
 "nbformat": 4,
 "nbformat_minor": 5
}
