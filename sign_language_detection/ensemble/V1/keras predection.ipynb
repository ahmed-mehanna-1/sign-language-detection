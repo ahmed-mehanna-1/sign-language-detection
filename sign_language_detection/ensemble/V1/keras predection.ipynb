{
 "cells": [
  {
   "cell_type": "markdown",
   "metadata": {
    "id": "hRDaeItWCU_g"
   },
   "source": [
    "# 1 - Load Keras and evaluate "
   ]
  },
  {
   "cell_type": "code",
   "execution_count": 1,
   "metadata": {
    "id": "37Mp0HP7BPza"
   },
   "outputs": [],
   "source": [
    "import numpy as np\n",
    "import cv2 \n",
    "import os\n",
    "import tensorflow as tf \n",
    "from tensorflow import keras\n",
    "import matplotlib.pyplot as plt\n",
    "import time\n",
    "import pandas as pd"
   ]
  },
  {
   "cell_type": "code",
   "execution_count": 2,
   "metadata": {},
   "outputs": [],
   "source": [
    "key_points_dir = os.path.join(\"key_points\")\n",
    "keras_weights_dir = os.path.join(\"keras_weights\")\n",
    "\n",
    "actions = ['sister','hurry','hungry','meal','brother','tree','heavy','cry','family','wise']"
   ]
  },
  {
   "cell_type": "code",
   "execution_count": 3,
   "metadata": {
    "id": "KR_zxUuACl1b"
   },
   "outputs": [
    {
     "name": "stdout",
     "output_type": "stream",
     "text": [
      "(7446, 16, 62) (7446,) (190, 16, 62) (190,) (168, 16, 62) (168,)\n"
     ]
    }
   ],
   "source": [
    "# both depends on actions_id -> [0,1,2,3,4,5,6,7,8,9]\n",
    "def load_dir(dir_name,data_temp=None,labels_temp=None,actions_id=None):\n",
    "    if actions_id == None or action_id == \"all\":\n",
    "        actions_id = [int(s.split('.')[0]) for s in os.listdir(os.path.join(dir_name))]\n",
    "        actions_id.sort()\n",
    "    for action_id in actions_id:\n",
    "        new_array = np.load(os.path.join(dir_name,f\"{action_id}.npy\"))\n",
    "        labels_array = np.array([action_id]*len(new_array))\n",
    "\n",
    "        if(type(data_temp) == np.ndarray):\n",
    "            data_temp = np.concatenate([data_temp,new_array])\n",
    "            labels_temp = np.concatenate([labels_temp,labels_array])\n",
    "        else:\n",
    "            data_temp = new_array\n",
    "            labels_temp = labels_array\n",
    "    \n",
    "    return data_temp,labels_temp\n",
    "\n",
    "\n",
    "def load_mul_dir(parent_dir):\n",
    "    data_temp = None\n",
    "    labels_temp = None\n",
    "    for transformation_index in range(len(os.listdir(parent_dir))):\n",
    "        dir_name = os.path.join(parent_dir,str(transformation_index))\n",
    "        data_temp,labels_temp = load_dir(dir_name,data_temp,labels_temp)\n",
    "    return data_temp,labels_temp\n",
    "\n",
    "\n",
    "train_X,train_Y = load_mul_dir(os.path.join(key_points_dir,\"train\"))\n",
    "val_X,val_Y = load_dir(os.path.join(key_points_dir,\"val\"))\n",
    "test_X,test_Y = load_dir(os.path.join(key_points_dir,\"test\"))\n",
    "\n",
    "perm = np.random.permutation(len(train_X))\n",
    "\n",
    "train_X = train_X[perm]\n",
    "train_Y = train_Y[perm]\n",
    "\n",
    "print(\n",
    "    train_X.shape,\n",
    "    train_Y.shape,\n",
    "    val_X.shape,\n",
    "    val_Y.shape,\n",
    "    test_X.shape,\n",
    "    test_Y.shape\n",
    "    \n",
    ")"
   ]
  },
  {
   "cell_type": "code",
   "execution_count": 4,
   "metadata": {
    "id": "DRiUwVxqDADk"
   },
   "outputs": [
    {
     "name": "stdout",
     "output_type": "stream",
     "text": [
      "WARNING:tensorflow:Layer lstm will not use cuDNN kernels since it doesn't meet the criteria. It will use a generic GPU kernel as fallback when running on GPU.\n",
      "WARNING:tensorflow:Layer lstm_1 will not use cuDNN kernels since it doesn't meet the criteria. It will use a generic GPU kernel as fallback when running on GPU.\n",
      "WARNING:tensorflow:Layer lstm_2 will not use cuDNN kernels since it doesn't meet the criteria. It will use a generic GPU kernel as fallback when running on GPU.\n",
      "Model: \"model\"\n",
      "_________________________________________________________________\n",
      " Layer (type)                Output Shape              Param #   \n",
      "=================================================================\n",
      " input_1 (InputLayer)        [(None, 16, 62)]          0         \n",
      "                                                                 \n",
      " lstm (LSTM)                 (None, 16, 64)            32512     \n",
      "                                                                 \n",
      " lstm_1 (LSTM)               (None, 16, 128)           98816     \n",
      "                                                                 \n",
      " lstm_2 (LSTM)               (None, 96)                86400     \n",
      "                                                                 \n",
      " dense (Dense)               (None, 64)                6208      \n",
      "                                                                 \n",
      " dense_1 (Dense)             (None, 10)                650       \n",
      "                                                                 \n",
      "=================================================================\n",
      "Total params: 224,586\n",
      "Trainable params: 224,586\n",
      "Non-trainable params: 0\n",
      "_________________________________________________________________\n"
     ]
    },
    {
     "name": "stderr",
     "output_type": "stream",
     "text": [
      "2022-01-06 00:58:18.944483: I tensorflow/stream_executor/cuda/cuda_gpu_executor.cc:939] successful NUMA node read from SysFS had negative value (-1), but there must be at least one NUMA node, so returning NUMA node zero\n",
      "2022-01-06 00:58:18.948022: I tensorflow/stream_executor/cuda/cuda_gpu_executor.cc:939] successful NUMA node read from SysFS had negative value (-1), but there must be at least one NUMA node, so returning NUMA node zero\n",
      "2022-01-06 00:58:18.948224: I tensorflow/stream_executor/cuda/cuda_gpu_executor.cc:939] successful NUMA node read from SysFS had negative value (-1), but there must be at least one NUMA node, so returning NUMA node zero\n",
      "2022-01-06 00:58:18.948541: I tensorflow/core/platform/cpu_feature_guard.cc:151] This TensorFlow binary is optimized with oneAPI Deep Neural Network Library (oneDNN) to use the following CPU instructions in performance-critical operations:  AVX2 FMA\n",
      "To enable them in other operations, rebuild TensorFlow with the appropriate compiler flags.\n",
      "2022-01-06 00:58:18.949597: I tensorflow/stream_executor/cuda/cuda_gpu_executor.cc:939] successful NUMA node read from SysFS had negative value (-1), but there must be at least one NUMA node, so returning NUMA node zero\n",
      "2022-01-06 00:58:18.949765: I tensorflow/stream_executor/cuda/cuda_gpu_executor.cc:939] successful NUMA node read from SysFS had negative value (-1), but there must be at least one NUMA node, so returning NUMA node zero\n",
      "2022-01-06 00:58:18.949921: I tensorflow/stream_executor/cuda/cuda_gpu_executor.cc:939] successful NUMA node read from SysFS had negative value (-1), but there must be at least one NUMA node, so returning NUMA node zero\n",
      "2022-01-06 00:58:19.247785: I tensorflow/stream_executor/cuda/cuda_gpu_executor.cc:939] successful NUMA node read from SysFS had negative value (-1), but there must be at least one NUMA node, so returning NUMA node zero\n",
      "2022-01-06 00:58:19.247983: I tensorflow/stream_executor/cuda/cuda_gpu_executor.cc:939] successful NUMA node read from SysFS had negative value (-1), but there must be at least one NUMA node, so returning NUMA node zero\n",
      "2022-01-06 00:58:19.248138: I tensorflow/stream_executor/cuda/cuda_gpu_executor.cc:939] successful NUMA node read from SysFS had negative value (-1), but there must be at least one NUMA node, so returning NUMA node zero\n",
      "2022-01-06 00:58:19.248286: I tensorflow/core/common_runtime/gpu/gpu_device.cc:1525] Created device /job:localhost/replica:0/task:0/device:GPU:0 with 516 MB memory:  -> device: 0, name: NVIDIA GeForce GTX 1650 Ti, pci bus id: 0000:01:00.0, compute capability: 7.5\n"
     ]
    }
   ],
   "source": [
    "from tensorflow.keras.models import Sequential\n",
    "from tensorflow.keras.layers import LSTM, Dense,Input,Dropout\n",
    "from tensorflow.keras.models import Model\n",
    "from tensorflow.keras.callbacks import TensorBoard,ModelCheckpoint,EarlyStopping\n",
    "\n",
    "\n",
    "def V1():\n",
    "    input_layer = Input(shape=(16,62))\n",
    "    layer = LSTM(64,return_sequences=True,activation=\"relu\")(input_layer)\n",
    "    layer = LSTM(128,return_sequences=True,activation=\"relu\")(layer)\n",
    "    layer = LSTM(96,return_sequences=False,activation=\"relu\")(layer)\n",
    "    layer = Dense(64,activation=\"relu\")(layer)\n",
    "    layer = Dense(len(actions),activation=\"softmax\")(layer)\n",
    "\n",
    "    \n",
    "    model = Model(inputs=input_layer,outputs=layer)\n",
    "    model.compile(optimizer=\"Adam\", loss='sparse_categorical_crossentropy', metrics=['accuracy'])\n",
    "    \n",
    "    return model\n",
    "\n",
    "\n",
    "\n",
    "def V2():\n",
    "    input_layer = Input(shape=(16,62))\n",
    "    layer = LSTM(64,return_sequences=True,activation=\"relu\")(input_layer)\n",
    "    layer = LSTM(128,return_sequences=True,activation=\"relu\")(layer)\n",
    "    layer = LSTM(256,return_sequences=True,activation=\"relu\")(layer)\n",
    "    layer = LSTM(128,return_sequences=True,activation=\"relu\")(layer)\n",
    "    layer = LSTM(64,return_sequences=False,activation=\"relu\")(layer)\n",
    "    layer = Dense(64,activation=\"relu\")(layer)\n",
    "    layer = Dense(len(actions),activation=\"softmax\")(layer)\n",
    "\n",
    "    model = Model(inputs=input_layer,outputs=layer)\n",
    "    model.compile(optimizer='Adam', loss='sparse_categorical_crossentropy', metrics=['accuracy'])\n",
    "    \n",
    "    return model\n",
    "\n",
    "\n",
    "def V3():\n",
    "    input_layer = Input(shape=(16,62))\n",
    "    layer = LSTM(64,return_sequences=True,activation=\"relu\")(input_layer)\n",
    "    layer = LSTM(256,return_sequences=True,activation=\"relu\")(layer)\n",
    "    layer = LSTM(96,return_sequences=False,activation=\"relu\")(layer)\n",
    "    layer = Dense(64,activation=\"relu\")(layer)\n",
    "    layer = Dense(len(actions),activation=\"softmax\")(layer)\n",
    "\n",
    "    \n",
    "    model = Model(inputs=input_layer,outputs=layer)\n",
    "    model.compile(optimizer=\"Adam\", loss='sparse_categorical_crossentropy', metrics=['accuracy'])\n",
    "    \n",
    "    return model\n",
    "\n",
    "\n",
    "\n",
    "def V4():\n",
    "    input_layer = Input(shape=(16,62))\n",
    "    layer = LSTM(64,return_sequences=True,activation=\"relu\")(input_layer)\n",
    "    layer = LSTM(512,return_sequences=True,activation=\"relu\")(layer)\n",
    "    layer = Dropout(0.5)(layer)\n",
    "    layer = LSTM(128,return_sequences=False,activation=\"relu\")(layer)\n",
    "    layer = Dense(64,activation=\"relu\")(layer)\n",
    "    layer = Dense(len(actions),activation=\"softmax\")(layer)\n",
    "\n",
    "    \n",
    "    model = Model(inputs=input_layer,outputs=layer)\n",
    "    model.compile(optimizer=\"Adam\", loss='sparse_categorical_crossentropy', metrics=['accuracy'])\n",
    "    \n",
    "    return model\n",
    "\n",
    "    \n",
    "    return model\n",
    "\n",
    "\n",
    "def V5():\n",
    "    input_layer = Input(shape=(16,62))\n",
    "    layer = LSTM(64,return_sequences=True,activation=\"relu\")(input_layer)\n",
    "    layer = LSTM(512,return_sequences=True,activation=\"relu\")(layer)\n",
    "    layer = LSTM(128,return_sequences=False,activation=\"relu\")(layer)\n",
    "    layer = Dense(64,activation=\"relu\")(layer)\n",
    "    layer = Dense(len(actions),activation=\"softmax\")(layer)\n",
    "\n",
    "    \n",
    "    model = Model(inputs=input_layer,outputs=layer)\n",
    "    model.compile(optimizer=\"Adam\", loss='sparse_categorical_crossentropy', metrics=['accuracy'])\n",
    "    \n",
    "    return model\n",
    "\n",
    "    \n",
    "    return model\n",
    "\n",
    "\n",
    "\n",
    "model = V1()\n",
    "\n",
    "model.summary()"
   ]
  },
  {
   "cell_type": "code",
   "execution_count": 5,
   "metadata": {},
   "outputs": [],
   "source": [
    "best_model_file_name = os.path.join(keras_weights_dir,\"V1.h5\")\n",
    "model.load_weights(best_model_file_name)"
   ]
  },
  {
   "cell_type": "code",
   "execution_count": 6,
   "metadata": {},
   "outputs": [
    {
     "name": "stdout",
     "output_type": "stream",
     "text": [
      "233/233 [==============================] - 2s 6ms/step - loss: 0.0279 - accuracy: 0.9925\n",
      "6/6 [==============================] - 0s 5ms/step - loss: 0.1426 - accuracy: 0.9526\n",
      "6/6 [==============================] - 0s 6ms/step - loss: 0.2830 - accuracy: 0.9167\n",
      "[0.0278821662068367, 0.9924792051315308] [0.14260661602020264, 0.9526315927505493] [0.28297799825668335, 0.9166666865348816]\n"
     ]
    }
   ],
   "source": [
    "print(\n",
    "    model.evaluate(train_X,train_Y),\n",
    "    model.evaluate(val_X,val_Y),\n",
    "    model.evaluate(test_X,test_Y)\n",
    ")"
   ]
  },
  {
   "cell_type": "markdown",
   "metadata": {},
   "source": [
    "# save predections"
   ]
  },
  {
   "cell_type": "code",
   "execution_count": 8,
   "metadata": {},
   "outputs": [],
   "source": [
    "predection = model.predict(test_X)"
   ]
  },
  {
   "cell_type": "code",
   "execution_count": 9,
   "metadata": {},
   "outputs": [],
   "source": [
    "np.save(\"predections_test/keras.npy\",predection)"
   ]
  },
  {
   "cell_type": "code",
   "execution_count": 10,
   "metadata": {},
   "outputs": [],
   "source": [
    "np.save(\"predections_test/labels.npy\",test_Y)"
   ]
  },
  {
   "cell_type": "code",
   "execution_count": null,
   "metadata": {},
   "outputs": [],
   "source": []
  },
  {
   "cell_type": "code",
   "execution_count": null,
   "metadata": {},
   "outputs": [],
   "source": []
  },
  {
   "cell_type": "code",
   "execution_count": null,
   "metadata": {},
   "outputs": [],
   "source": []
  },
  {
   "cell_type": "code",
   "execution_count": null,
   "metadata": {},
   "outputs": [],
   "source": []
  }
 ],
 "metadata": {
  "colab": {
   "name": "LSTM with Mediapipe on 10 signs",
   "provenance": []
  },
  "kernelspec": {
   "display_name": "Python 3 (ipykernel)",
   "language": "python",
   "name": "python3"
  },
  "language_info": {
   "codemirror_mode": {
    "name": "ipython",
    "version": 3
   },
   "file_extension": ".py",
   "mimetype": "text/x-python",
   "name": "python",
   "nbconvert_exporter": "python",
   "pygments_lexer": "ipython3",
   "version": "3.8.10"
  }
 },
 "nbformat": 4,
 "nbformat_minor": 1
}
