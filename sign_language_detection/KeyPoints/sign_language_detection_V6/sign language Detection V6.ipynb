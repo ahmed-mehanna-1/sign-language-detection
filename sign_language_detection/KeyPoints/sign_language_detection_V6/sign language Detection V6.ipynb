{
 "cells": [
  {
   "cell_type": "markdown",
   "id": "e0c03c2d",
   "metadata": {},
   "source": [
    "# 1 - install dependencies"
   ]
  },
  {
   "cell_type": "code",
   "execution_count": 27,
   "id": "0bffa97f",
   "metadata": {},
   "outputs": [],
   "source": [
    "import numpy as np\n",
    "import cv2 \n",
    "import os\n",
    "import mediapipe as mp\n",
    "import tensorflow as tf \n",
    "from tensorflow import keras\n",
    "import matplotlib.pyplot as plt\n",
    "import time\n",
    "import pandas as pd"
   ]
  },
  {
   "cell_type": "markdown",
   "id": "ef3e681a",
   "metadata": {},
   "source": [
    "# 2 - keypoints extractions and drawing"
   ]
  },
  {
   "cell_type": "code",
   "execution_count": 28,
   "id": "6c4d3678",
   "metadata": {},
   "outputs": [],
   "source": [
    "mp_holistic = mp.solutions.holistic\n",
    "mp_drawing = mp.solutions.drawing_utils\n",
    "\n",
    "num_hand_marks = 21\n",
    "num_pose_marks = 33\n",
    "\n",
    "\n",
    "# holistic model process image and return the results as keypoints\n",
    "def mediapipe_detection(image,model):\n",
    "    image  = cv2.cvtColor(image,cv2.COLOR_BGR2RGB)\n",
    "    image.flags.writeable = False\n",
    "    results = model.process(image)\n",
    "    image.flags.writeable = True\n",
    "    image  = cv2.cvtColor(image,cv2.COLOR_RGB2BGR)\n",
    "    return image,results\n",
    "    \n",
    "def draw_styled_landmarks(image,results):\n",
    "    # Draw pose connections\n",
    "    mp_drawing.draw_landmarks(image, results.pose_landmarks, mp_holistic.POSE_CONNECTIONS,\n",
    "                             mp_drawing.DrawingSpec(color=(80,22,10), thickness=2, circle_radius=4), \n",
    "                             mp_drawing.DrawingSpec(color=(80,44,121), thickness=2, circle_radius=2)\n",
    "                             ) \n",
    "    # Draw left hand connections\n",
    "    mp_drawing.draw_landmarks(image, results.left_hand_landmarks, mp_holistic.HAND_CONNECTIONS, \n",
    "                             mp_drawing.DrawingSpec(color=(121,22,76), thickness=2, circle_radius=4), \n",
    "                             mp_drawing.DrawingSpec(color=(121,44,250), thickness=2, circle_radius=2)\n",
    "                             ) \n",
    "    # Draw right hand connections  \n",
    "    mp_drawing.draw_landmarks(image, results.right_hand_landmarks, mp_holistic.HAND_CONNECTIONS, \n",
    "                             mp_drawing.DrawingSpec(color=(245,117,66), thickness=2, circle_radius=4), \n",
    "                             mp_drawing.DrawingSpec(color=(245,66,230), thickness=2, circle_radius=2)\n",
    "                             ) \n",
    "    \n",
    "\n",
    "# read the keypoints and extract them and process them\n",
    "def extract_keypoints(results):\n",
    "    # extract pose marks\n",
    "    if results.pose_landmarks:\n",
    "        pose = np.array([ [res.x,res.y,res.z,res.visibility] for res in results.pose_landmarks.landmark ]).flatten()\n",
    "    else:\n",
    "        pose = np.zeros(num_pose_marks*4)\n",
    "    \n",
    "    # extract left hand\n",
    "    if results.left_hand_landmarks:\n",
    "        left_hand = np.array([ [res.x,res.y,res.z] for res in results.left_hand_landmarks.landmark ]).flatten()\n",
    "    else:\n",
    "        left_hand = np.zeros(num_hand_marks*3)\n",
    "        \n",
    "        \n",
    "    # extract right hand\n",
    "    if results.right_hand_landmarks:\n",
    "        right_hand = np.array([ [res.x,res.y,res.z] for res in results.right_hand_landmarks.landmark ]).flatten()\n",
    "    else:\n",
    "        right_hand = np.zeros(num_hand_marks*3)\n",
    "    \n",
    "    return np.concatenate([pose,left_hand,right_hand])\n",
    "    "
   ]
  },
  {
   "cell_type": "markdown",
   "id": "f6a53451",
   "metadata": {},
   "source": [
    "# 3 - read and process data"
   ]
  },
  {
   "cell_type": "code",
   "execution_count": 29,
   "id": "7a26a4d4",
   "metadata": {},
   "outputs": [],
   "source": [
    "data_path = \"../../data/Datasets/\"\n",
    "\n",
    "train_labels = pd.read_csv(os.path.join(data_path,\"train_labels.csv\"),names=['sample','id'])\n",
    "validation_labels = pd.read_csv(os.path.join(data_path,\"validation_labels.csv\"),names=['sample','id'])\n",
    "test_labels = pd.read_csv(os.path.join(data_path,\"test_labels.csv\"),names=['sample','id'])\n",
    "class_id = pd.read_csv(os.path.join(data_path,\"class_id.csv\"))\n",
    "\n",
    "\n",
    "    \n",
    "train_path = os.path.join(data_path,\"train\")\n",
    "val_path = os.path.join(data_path,\"val\")\n",
    "test_path = os.path.join(data_path,\"test\")\n",
    "\n"
   ]
  },
  {
   "cell_type": "code",
   "execution_count": 44,
   "id": "1b0631ba",
   "metadata": {},
   "outputs": [],
   "source": [
    "def check_file(file_path):\n",
    "    try:\n",
    "        f = open(file_path)\n",
    "        f.close()\n",
    "        return True\n",
    "    except IOError:\n",
    "        return False\n",
    "    \n",
    "    \n",
    "\n",
    "def construct_path(file,path=\"train\"):\n",
    "    return os.path.join(os.path.join(data_path,path),file+\"_color.mp4\")\n",
    "    "
   ]
  },
  {
   "cell_type": "markdown",
   "id": "6c96171e",
   "metadata": {},
   "source": [
    "### 3.1 collect data that in classes 0,1,2 and available in the data/train directory"
   ]
  },
  {
   "cell_type": "code",
   "execution_count": 45,
   "id": "e6e3cc2c",
   "metadata": {},
   "outputs": [],
   "source": [
    "n_actions = 20\n",
    "actions = list(class_id['EN'][:n_actions])\n",
    "dic={}\n",
    "for i,action in enumerate(actions):\n",
    "    dic[action]=i"
   ]
  },
  {
   "cell_type": "code",
   "execution_count": 46,
   "id": "0cf7da59",
   "metadata": {},
   "outputs": [],
   "source": [
    "def get_data(id,file_path):\n",
    "    if file_path==\"train\":\n",
    "        label_dic = train_labels\n",
    "    elif file_path==\"val\":\n",
    "        label_dic = validation_labels\n",
    "    elif file_path==\"test\":\n",
    "        label_dic = test_labels\n",
    "        \n",
    "    \n",
    "    data =  label_dic[label_dic['id']==id]\n",
    "    lis =  [construct_path(i,file_path) for i in  (data['sample'])]\n",
    "    data =  [i for i in lis if check_file(i)]\n",
    "    return data,[id for i in data]\n",
    "    \n",
    "\n",
    "    "
   ]
  },
  {
   "cell_type": "code",
   "execution_count": 77,
   "id": "c02e60cd",
   "metadata": {},
   "outputs": [],
   "source": [
    "\n",
    "\n",
    "train_X = [] \n",
    "train_Y = []\n",
    "val_X = [] \n",
    "val_Y = []\n",
    "test_X = [] \n",
    "test_Y = []\n",
    "\n",
    "for i in range(n_actions):\n",
    "    data,labels = get_data(i,'train')\n",
    "    train_X.extend(data)\n",
    "    train_Y.extend(labels)\n",
    "\n",
    "    \n",
    "for i in range(n_actions):\n",
    "    data,labels = get_data(i,'val')\n",
    "    val_X.extend(data)\n",
    "    val_Y.extend(labels)\n",
    "\n",
    "    \n",
    "for i in range(n_actions):\n",
    "    data,labels = get_data(i,'test')\n",
    "    test_X.extend(data)\n",
    "    test_Y.extend(labels)\n",
    "    "
   ]
  },
  {
   "cell_type": "code",
   "execution_count": 57,
   "id": "f6f2914c",
   "metadata": {},
   "outputs": [
    {
     "name": "stdout",
     "output_type": "stream",
     "text": [
      "2450 2450 382 382 328 328\n"
     ]
    }
   ],
   "source": [
    "print(\n",
    "    len(train_X ),\n",
    "len(train_Y),\n",
    "len(val_X ),\n",
    "len(val_Y),\n",
    "len(test_X ),\n",
    "len(test_Y)\n",
    ")"
   ]
  },
  {
   "cell_type": "markdown",
   "id": "a781311b",
   "metadata": {},
   "source": [
    "### 3.2 process videos into frames and label to cateogries"
   ]
  },
  {
   "cell_type": "code",
   "execution_count": 59,
   "id": "d602a5e6",
   "metadata": {},
   "outputs": [],
   "source": [
    "\n",
    "\n",
    "def capture_frames(video_path):\n",
    "    video = cv2.VideoCapture(video_path)\n",
    "    video_length = int(video.get(cv2.CAP_PROP_FRAME_COUNT)) - 1\n",
    "    # count = 0\n",
    "    # frame_rate = video.get(cv2.CAP_PROP_FRAME_COUNT)\n",
    "\n",
    "    count=0\n",
    "    frames = []\n",
    "    while video.isOpened():\n",
    "      # frame_id = video.get(0)\n",
    "        ret, frame = video.read()\n",
    "        \n",
    "        if not ret:\n",
    "            continue\n",
    "        frames.append(frame)\n",
    "        count += 1\n",
    "        # If there are no more frames left\n",
    "        if (count > (video_length-1)):\n",
    "          # Release the feed\n",
    "          video.release()\n",
    "        # if frame_id % math.floor(1) == 0:\n",
    "        #     file_name = f\"{video_path}_frame_{count}.jpg\"\n",
    "        #     count += 1\n",
    "        #     # print(f\"File name: {file_name}\")\n",
    "        #     frames.append(frame)\n",
    "        #     # cv2.imwrite(file_name, frame)\n",
    "    video.release()\n",
    "    return np.array(frames)\n",
    "\n",
    "\n",
    "def get_frames(video_path,num_frames):\n",
    "    frames = capture_frames(video_path)\n",
    "    video_length = len(frames)\n",
    "    steps = video_length/num_frames\n",
    "    count=0\n",
    "    new_frames=[]\n",
    "    while count<video_length:\n",
    "        frame = frames[int(count)]\n",
    "#         frame = cv2.resize(frame, (256, 256))\n",
    "#         frame =  (frame/255.0).astype(np.float16)\n",
    "        new_frames.append(frame)\n",
    "        count+=steps\n",
    "\n",
    "    s = np.array(new_frames[:num_frames])\n",
    "    print(\"SHAPE\",s.shape)\n",
    "    return np.array(new_frames[:num_frames])\n"
   ]
  },
  {
   "cell_type": "code",
   "execution_count": 60,
   "id": "781d6db1",
   "metadata": {},
   "outputs": [],
   "source": [
    "def extract_keypoints_video(path,i=-1):\n",
    "    if(i):\n",
    "        print(i,end=\"\\t\")\n",
    "    frames = get_frames(path,20)\n",
    "    output_key_points=[]\n",
    "    with mp_holistic.Holistic(min_detection_confidence=0.5, min_tracking_confidence=0.5) as holistic:\n",
    "        for frame in frames:\n",
    "            image, results = mediapipe_detection(frame, holistic)\n",
    "            output_key_points.append(extract_keypoints(results))\n",
    "    return np.array(output_key_points)\n",
    "    "
   ]
  },
  {
   "cell_type": "markdown",
   "id": "fb4424e1",
   "metadata": {},
   "source": [
    "### 3.3 - extract the keypoints and save them in train"
   ]
  },
  {
   "cell_type": "code",
   "execution_count": 90,
   "id": "16b5ad3d",
   "metadata": {},
   "outputs": [],
   "source": [
    "if \"train_features:0-20.npy\" in os.listdir():\n",
    "    train_data = np.load(\"train_features:0-20.npy\")\n",
    "    val_data = np.load(\"val_features:0-20.npy\")\n",
    "    test_data = np.load(\"test_features:0-20.npy\")\n",
    "    train_labels = np.load(\"train_labels:0-20.npy\")\n",
    "    val_labels = np.load(\"val_labels:0-20.npy\")\n",
    "    test_labels = np.load(\"test_labels:0-20.npy\")\n",
    "else:\n",
    "    train = np.array([extract_keypoints_video(path,f'iteration : {i+1}/{len(train_X)}') for i,path in enumerate(train_X) ])\n",
    "    np.save('train_features:0-20.npy', train) \n",
    "    val = np.array([extract_keypoints_video(path,f'iteration : {i+1}/{len(val_X)}') for i,path in enumerate(val_X) ])\n",
    "    np.save('val_features:0-20.npy', val) \n",
    "    test = np.array([extract_keypoints_video(path,f'iteration : {i+1}/{len(test_X)}') for i,path in enumerate(test_X) ])\n",
    "    np.save('test_features:0-20.npy', test)\n",
    "    np.save(\"train_labels:0-20.npy\",np.array(train_Y))\n",
    "    np.save(\"val_labels:0-20.npy\",np.array(val_Y))\n",
    "    np.save(\"test_labels:0-20.npy\",np.array(test_Y))"
   ]
  },
  {
   "cell_type": "code",
   "execution_count": 93,
   "id": "6e1b1216",
   "metadata": {
    "scrolled": true
   },
   "outputs": [
    {
     "name": "stdout",
     "output_type": "stream",
     "text": [
      "(2450, 20, 258) (2450,) (382, 20, 258) (382,) (328, 20, 258) (328,)\n"
     ]
    }
   ],
   "source": [
    "print(\n",
    "train_data.shape,\n",
    "    train_labels.shape,\n",
    "    val_data.shape,\n",
    "    val_labels.shape,\n",
    "    test_data.shape,\n",
    "    test_labels.shape\n",
    "    \n",
    ")"
   ]
  },
  {
   "cell_type": "markdown",
   "id": "b0fb9834",
   "metadata": {},
   "source": [
    "### 3.4 split the data (training,testing)"
   ]
  },
  {
   "cell_type": "code",
   "execution_count": 65,
   "id": "f5f4b16a",
   "metadata": {},
   "outputs": [],
   "source": [
    "from sklearn.model_selection import train_test_split\n",
    "from tensorflow.keras.utils import to_categorical"
   ]
  },
  {
   "cell_type": "code",
   "execution_count": 94,
   "id": "3230f83e",
   "metadata": {},
   "outputs": [],
   "source": [
    "perm = np.random.permutation(len(train))\n",
    "\n",
    "train_X = train_data[perm]\n",
    "train_Y = to_categorical(train_labels)[perm]\n",
    "val_X = val_data\n",
    "val_Y = to_categorical(val_labels)\n",
    "test_X = test_data\n",
    "test_Y = to_categorical(test_labels)\n"
   ]
  },
  {
   "cell_type": "code",
   "execution_count": 95,
   "id": "10087b94",
   "metadata": {},
   "outputs": [
    {
     "name": "stdout",
     "output_type": "stream",
     "text": [
      "(2450, 20, 258) (2450, 20) (382, 20, 258) (382, 20) (328, 20, 258) (328, 20)\n"
     ]
    }
   ],
   "source": [
    "print(\n",
    "train_X.shape,\n",
    "train_Y.shape,\n",
    "val_X.shape,\n",
    "val_Y.shape,\n",
    "test_X.shape,\n",
    "test_Y.shape,\n",
    ")"
   ]
  },
  {
   "cell_type": "markdown",
   "id": "e742a5d4",
   "metadata": {},
   "source": [
    "# 4 - build the model"
   ]
  },
  {
   "cell_type": "code",
   "execution_count": 146,
   "id": "c0c15994",
   "metadata": {},
   "outputs": [],
   "source": [
    "from tensorflow.keras.models import Sequential\n",
    "from tensorflow.keras.layers import LSTM, Dense,Input,Dropout\n",
    "from tensorflow.keras.models import Model\n",
    "from tensorflow.keras.callbacks import TensorBoard,ModelCheckpoint,EarlyStopping\n",
    "\n",
    "\n",
    "tb_callback = TensorBoard(log_dir=os.path.join('Logs'))\n",
    "checkpoint = ModelCheckpoint(\"best_model.h5\", monitor='loss', verbose=0,\n",
    "    save_best_only=True, mode='auto', save_freq=1)\n",
    "earlyStopping = EarlyStopping(monitor='loss', patience=20)"
   ]
  },
  {
   "cell_type": "code",
   "execution_count": 147,
   "id": "dfdeb079",
   "metadata": {},
   "outputs": [
    {
     "name": "stdout",
     "output_type": "stream",
     "text": [
      "WARNING:tensorflow:Layer lstm_35 will not use cuDNN kernels since it doesn't meet the criteria. It will use a generic GPU kernel as fallback when running on GPU.\n",
      "WARNING:tensorflow:Layer lstm_36 will not use cuDNN kernels since it doesn't meet the criteria. It will use a generic GPU kernel as fallback when running on GPU.\n",
      "WARNING:tensorflow:Layer lstm_37 will not use cuDNN kernels since it doesn't meet the criteria. It will use a generic GPU kernel as fallback when running on GPU.\n",
      "WARNING:tensorflow:Layer lstm_38 will not use cuDNN kernels since it doesn't meet the criteria. It will use a generic GPU kernel as fallback when running on GPU.\n",
      "WARNING:tensorflow:Layer lstm_39 will not use cuDNN kernels since it doesn't meet the criteria. It will use a generic GPU kernel as fallback when running on GPU.\n"
     ]
    }
   ],
   "source": [
    "def first_model():\n",
    "    input_layer = Input(shape=(20,258))\n",
    "    layer = LSTM(64,return_sequences=True,activation=\"relu\")(input_layer)\n",
    "    layer = LSTM(128,return_sequences=True,activation=\"relu\")(layer)\n",
    "    layer = LSTM(256,return_sequences=True,activation=\"relu\")(layer)\n",
    "    layer = LSTM(128,return_sequences=True,activation=\"relu\")(layer)\n",
    "    layer = LSTM(64,return_sequences=False,activation=\"relu\")(layer)\n",
    "    layer = Dense(64,activation=\"relu\")(layer)\n",
    "    layer = Dense(32,activation=\"relu\")(layer)\n",
    "    layer = Dense(len(actions),activation=\"softmax\")(layer)\n",
    "\n",
    "    model = Model(inputs=input_layer,outputs=layer)\n",
    "    model.compile(optimizer='Adam', loss='categorical_crossentropy', metrics=['categorical_accuracy'])\n",
    "    \n",
    "    return model\n",
    "\n",
    "\n",
    "def second_model():\n",
    "    input_layer = Input(shape=(20,258))\n",
    "    layer = LSTM(64,return_sequences=True,activation=\"relu\")(input_layer)\n",
    "    layer = LSTM(128,return_sequences=True,activation=\"relu\")(layer)\n",
    "    layer = Dropout(0.3)(layer)\n",
    "    layer = LSTM(128,return_sequences=True,activation=\"relu\")(layer)\n",
    "    layer = Dropout(0.3)(layer)\n",
    "    layer = LSTM(64,return_sequences=False,activation=\"relu\")(layer)\n",
    "    layer = Dense(64,activation=\"relu\")(layer)\n",
    "    layer = Dense(32,activation=\"relu\")(layer)\n",
    "    layer = Dense(len(actions),activation=\"softmax\")(layer)\n",
    "\n",
    "    model = Model(inputs=input_layer,outputs=layer)\n",
    "    model.compile(optimizer='Adam', loss='categorical_crossentropy', metrics=['categorical_accuracy'])\n",
    "    \n",
    "    return model\n",
    "\n",
    "def third_model():\n",
    "    input_layer = Input(shape=(20,258))\n",
    "    layer = LSTM(64,return_sequences=True,activation=\"relu\")(input_layer)\n",
    "    layer = LSTM(128,return_sequences=True,activation=\"relu\")(layer)\n",
    "    layer = LSTM(64,return_sequences=False,activation=\"relu\")(layer)\n",
    "    layer = Dense(64,activation=\"relu\")(layer)\n",
    "    layer = Dense(32,activation=\"relu\")(layer)\n",
    "    layer = Dense(len(actions),activation=\"softmax\")(layer)\n",
    "\n",
    "    model = Model(inputs=input_layer,outputs=layer)\n",
    "    model.compile(optimizer='Adam', loss='categorical_crossentropy', metrics=['categorical_accuracy'])\n",
    "    \n",
    "    return model\n",
    "\n",
    "\n",
    "model = first_model()"
   ]
  },
  {
   "cell_type": "code",
   "execution_count": 148,
   "id": "b631cd6f",
   "metadata": {},
   "outputs": [],
   "source": [
    "model.load_weights('best_model.h5')"
   ]
  },
  {
   "cell_type": "code",
   "execution_count": 149,
   "id": "330f87ff",
   "metadata": {},
   "outputs": [
    {
     "name": "stdout",
     "output_type": "stream",
     "text": [
      "Model: \"model_8\"\n",
      "_________________________________________________________________\n",
      " Layer (type)                Output Shape              Param #   \n",
      "=================================================================\n",
      " input_9 (InputLayer)        [(None, 20, 258)]         0         \n",
      "                                                                 \n",
      " lstm_35 (LSTM)              (None, 20, 64)            82688     \n",
      "                                                                 \n",
      " lstm_36 (LSTM)              (None, 20, 128)           98816     \n",
      "                                                                 \n",
      " lstm_37 (LSTM)              (None, 20, 256)           394240    \n",
      "                                                                 \n",
      " lstm_38 (LSTM)              (None, 20, 128)           197120    \n",
      "                                                                 \n",
      " lstm_39 (LSTM)              (None, 64)                49408     \n",
      "                                                                 \n",
      " dense_24 (Dense)            (None, 64)                4160      \n",
      "                                                                 \n",
      " dense_25 (Dense)            (None, 32)                2080      \n",
      "                                                                 \n",
      " dense_26 (Dense)            (None, 20)                660       \n",
      "                                                                 \n",
      "=================================================================\n",
      "Total params: 829,172\n",
      "Trainable params: 829,172\n",
      "Non-trainable params: 0\n",
      "_________________________________________________________________\n"
     ]
    }
   ],
   "source": [
    "model.summary()"
   ]
  },
  {
   "cell_type": "code",
   "execution_count": 150,
   "id": "8a38fd8e",
   "metadata": {
    "collapsed": true
   },
   "outputs": [
    {
     "name": "stdout",
     "output_type": "stream",
     "text": [
      "Epoch 1/100\n",
      "77/77 [==============================] - 26s 276ms/step - loss: 0.2999 - categorical_accuracy: 0.8906 - val_loss: 1.6354 - val_categorical_accuracy: 0.6780\n",
      "Epoch 2/100\n",
      "77/77 [==============================] - 20s 252ms/step - loss: 0.2514 - categorical_accuracy: 0.9090 - val_loss: 1.4904 - val_categorical_accuracy: 0.7304\n",
      "Epoch 3/100\n",
      "77/77 [==============================] - 19s 253ms/step - loss: 0.3187 - categorical_accuracy: 0.8878 - val_loss: 1.4843 - val_categorical_accuracy: 0.6309\n",
      "Epoch 4/100\n",
      "77/77 [==============================] - 19s 254ms/step - loss: 0.3023 - categorical_accuracy: 0.8853 - val_loss: 1.2782 - val_categorical_accuracy: 0.7094\n",
      "Epoch 5/100\n",
      "77/77 [==============================] - 19s 251ms/step - loss: 0.2636 - categorical_accuracy: 0.9102 - val_loss: 1.0623 - val_categorical_accuracy: 0.7330\n",
      "Epoch 6/100\n",
      "77/77 [==============================] - 19s 253ms/step - loss: 0.2710 - categorical_accuracy: 0.9147 - val_loss: 1.4803 - val_categorical_accuracy: 0.7120\n",
      "Epoch 7/100\n",
      "77/77 [==============================] - 19s 244ms/step - loss: 0.2299 - categorical_accuracy: 0.9118 - val_loss: 1.6408 - val_categorical_accuracy: 0.6361\n",
      "Epoch 8/100\n",
      "77/77 [==============================] - 20s 260ms/step - loss: 0.2007 - categorical_accuracy: 0.9273 - val_loss: 1.4838 - val_categorical_accuracy: 0.6990\n",
      "Epoch 9/100\n",
      "77/77 [==============================] - 22s 277ms/step - loss: 0.2451 - categorical_accuracy: 0.9106 - val_loss: 1.4214 - val_categorical_accuracy: 0.7147\n",
      "Epoch 10/100\n",
      "77/77 [==============================] - 19s 251ms/step - loss: 0.1747 - categorical_accuracy: 0.9437 - val_loss: 1.6138 - val_categorical_accuracy: 0.7120\n",
      "Epoch 11/100\n",
      "77/77 [==============================] - 19s 253ms/step - loss: 0.2248 - categorical_accuracy: 0.9176 - val_loss: 1.2101 - val_categorical_accuracy: 0.7565\n",
      "Epoch 12/100\n",
      "77/77 [==============================] - 19s 244ms/step - loss: 0.2111 - categorical_accuracy: 0.9249 - val_loss: 1.3154 - val_categorical_accuracy: 0.7408\n",
      "Epoch 13/100\n",
      "77/77 [==============================] - 20s 259ms/step - loss: 0.2499 - categorical_accuracy: 0.9106 - val_loss: 1.3756 - val_categorical_accuracy: 0.7094\n",
      "Epoch 14/100\n",
      "77/77 [==============================] - 20s 264ms/step - loss: 0.1773 - categorical_accuracy: 0.9424 - val_loss: 1.3279 - val_categorical_accuracy: 0.7408\n",
      "Epoch 15/100\n",
      "77/77 [==============================] - 19s 253ms/step - loss: 0.1717 - categorical_accuracy: 0.9416 - val_loss: 1.6673 - val_categorical_accuracy: 0.7120\n",
      "Epoch 16/100\n",
      "77/77 [==============================] - 19s 252ms/step - loss: 0.2908 - categorical_accuracy: 0.9098 - val_loss: 1.3138 - val_categorical_accuracy: 0.6937\n",
      "Epoch 17/100\n",
      "77/77 [==============================] - 19s 252ms/step - loss: 0.3307 - categorical_accuracy: 0.8853 - val_loss: 1.7053 - val_categorical_accuracy: 0.6387\n",
      "Epoch 18/100\n",
      "77/77 [==============================] - 19s 251ms/step - loss: 0.2330 - categorical_accuracy: 0.9257 - val_loss: 1.4584 - val_categorical_accuracy: 0.7251\n",
      "Epoch 19/100\n",
      "77/77 [==============================] - 19s 252ms/step - loss: 0.1475 - categorical_accuracy: 0.9473 - val_loss: 1.9372 - val_categorical_accuracy: 0.6204\n",
      "Epoch 20/100\n",
      "77/77 [==============================] - 19s 253ms/step - loss: 0.2147 - categorical_accuracy: 0.9229 - val_loss: 1.5600 - val_categorical_accuracy: 0.6623\n",
      "Epoch 21/100\n",
      "77/77 [==============================] - 19s 251ms/step - loss: 0.1449 - categorical_accuracy: 0.9437 - val_loss: 1.4235 - val_categorical_accuracy: 0.7382\n",
      "Epoch 22/100\n",
      "77/77 [==============================] - 19s 251ms/step - loss: 0.1222 - categorical_accuracy: 0.9563 - val_loss: 1.5989 - val_categorical_accuracy: 0.7304\n",
      "Epoch 23/100\n",
      "77/77 [==============================] - 19s 253ms/step - loss: 0.1621 - categorical_accuracy: 0.9445 - val_loss: 1.4747 - val_categorical_accuracy: 0.7251\n",
      "Epoch 24/100\n",
      "77/77 [==============================] - 19s 254ms/step - loss: 0.2289 - categorical_accuracy: 0.9212 - val_loss: 1.5980 - val_categorical_accuracy: 0.7120\n",
      "Epoch 25/100\n",
      "77/77 [==============================] - 19s 251ms/step - loss: 0.1628 - categorical_accuracy: 0.9445 - val_loss: 1.6941 - val_categorical_accuracy: 0.7147\n",
      "Epoch 26/100\n",
      "77/77 [==============================] - 19s 251ms/step - loss: 0.1078 - categorical_accuracy: 0.9592 - val_loss: 1.9580 - val_categorical_accuracy: 0.6702\n",
      "Epoch 27/100\n",
      "77/77 [==============================] - 19s 253ms/step - loss: 0.2396 - categorical_accuracy: 0.9176 - val_loss: 1.4364 - val_categorical_accuracy: 0.7173\n",
      "Epoch 28/100\n",
      "77/77 [==============================] - 19s 254ms/step - loss: 0.2913 - categorical_accuracy: 0.8967 - val_loss: 1.3808 - val_categorical_accuracy: 0.6937\n",
      "Epoch 29/100\n",
      "77/77 [==============================] - 19s 243ms/step - loss: 0.1057 - categorical_accuracy: 0.9633 - val_loss: 1.4357 - val_categorical_accuracy: 0.7330\n",
      "Epoch 30/100\n",
      "77/77 [==============================] - 21s 275ms/step - loss: 0.2149 - categorical_accuracy: 0.9257 - val_loss: 1.3147 - val_categorical_accuracy: 0.7225\n",
      "Epoch 31/100\n",
      "77/77 [==============================] - 19s 253ms/step - loss: 0.1248 - categorical_accuracy: 0.9555 - val_loss: 1.5966 - val_categorical_accuracy: 0.7382\n",
      "Epoch 32/100\n",
      "77/77 [==============================] - 21s 271ms/step - loss: 0.1692 - categorical_accuracy: 0.9433 - val_loss: 1.3819 - val_categorical_accuracy: 0.7356\n",
      "Epoch 33/100\n",
      "77/77 [==============================] - 21s 278ms/step - loss: 0.1103 - categorical_accuracy: 0.9633 - val_loss: 1.4286 - val_categorical_accuracy: 0.7513\n",
      "Epoch 34/100\n",
      "77/77 [==============================] - 21s 274ms/step - loss: 0.3010 - categorical_accuracy: 0.9053 - val_loss: 1.4470 - val_categorical_accuracy: 0.6990\n",
      "Epoch 35/100\n",
      "77/77 [==============================] - 21s 275ms/step - loss: 0.1211 - categorical_accuracy: 0.9588 - val_loss: 1.6382 - val_categorical_accuracy: 0.7173\n",
      "Epoch 36/100\n",
      "77/77 [==============================] - 19s 252ms/step - loss: 0.1007 - categorical_accuracy: 0.9641 - val_loss: 1.7892 - val_categorical_accuracy: 0.6832\n",
      "Epoch 37/100\n",
      "77/77 [==============================] - 19s 253ms/step - loss: 0.3292 - categorical_accuracy: 0.8829 - val_loss: 1.3281 - val_categorical_accuracy: 0.6937\n",
      "Epoch 38/100\n",
      "77/77 [==============================] - 19s 252ms/step - loss: 0.1133 - categorical_accuracy: 0.9649 - val_loss: 1.4703 - val_categorical_accuracy: 0.7565\n",
      "Epoch 39/100\n",
      "77/77 [==============================] - 19s 251ms/step - loss: 0.2150 - categorical_accuracy: 0.9265 - val_loss: 1.3941 - val_categorical_accuracy: 0.6990\n",
      "Epoch 40/100\n",
      "77/77 [==============================] - 19s 251ms/step - loss: 0.0995 - categorical_accuracy: 0.9629 - val_loss: 1.8647 - val_categorical_accuracy: 0.6990\n",
      "Epoch 41/100\n",
      "77/77 [==============================] - 19s 251ms/step - loss: 0.1842 - categorical_accuracy: 0.9396 - val_loss: 1.4484 - val_categorical_accuracy: 0.7251\n",
      "Epoch 42/100\n",
      "77/77 [==============================] - 21s 277ms/step - loss: 0.1214 - categorical_accuracy: 0.9616 - val_loss: 1.5238 - val_categorical_accuracy: 0.7277\n",
      "Epoch 43/100\n",
      "77/77 [==============================] - 19s 252ms/step - loss: 0.1049 - categorical_accuracy: 0.9665 - val_loss: 1.7622 - val_categorical_accuracy: 0.7199\n",
      "Epoch 44/100\n",
      "77/77 [==============================] - 19s 250ms/step - loss: 0.1149 - categorical_accuracy: 0.9620 - val_loss: 1.5853 - val_categorical_accuracy: 0.7199\n",
      "Epoch 45/100\n",
      "77/77 [==============================] - 19s 251ms/step - loss: 0.1840 - categorical_accuracy: 0.9363 - val_loss: 1.5310 - val_categorical_accuracy: 0.7094\n",
      "Epoch 46/100\n",
      "77/77 [==============================] - 19s 252ms/step - loss: 0.1353 - categorical_accuracy: 0.9535 - val_loss: 1.8961 - val_categorical_accuracy: 0.6649\n",
      "Epoch 47/100\n",
      "77/77 [==============================] - 19s 252ms/step - loss: 0.1783 - categorical_accuracy: 0.9404 - val_loss: 1.6909 - val_categorical_accuracy: 0.6911\n",
      "Epoch 48/100\n",
      "77/77 [==============================] - 19s 250ms/step - loss: 0.1021 - categorical_accuracy: 0.9686 - val_loss: 1.8801 - val_categorical_accuracy: 0.7042\n",
      "Epoch 49/100\n"
     ]
    },
    {
     "name": "stdout",
     "output_type": "stream",
     "text": [
      "77/77 [==============================] - 19s 250ms/step - loss: 0.2045 - categorical_accuracy: 0.9339 - val_loss: 1.3724 - val_categorical_accuracy: 0.6597\n",
      "Epoch 50/100\n",
      "77/77 [==============================] - 19s 251ms/step - loss: 0.2599 - categorical_accuracy: 0.9163 - val_loss: 1.3233 - val_categorical_accuracy: 0.7173\n",
      "Epoch 51/100\n",
      "77/77 [==============================] - 19s 243ms/step - loss: 0.1351 - categorical_accuracy: 0.9510 - val_loss: 1.4525 - val_categorical_accuracy: 0.7461\n",
      "Epoch 52/100\n",
      "77/77 [==============================] - 20s 257ms/step - loss: 0.2045 - categorical_accuracy: 0.9237 - val_loss: 1.4946 - val_categorical_accuracy: 0.7199\n",
      "Epoch 53/100\n",
      "77/77 [==============================] - 19s 253ms/step - loss: 0.1897 - categorical_accuracy: 0.9437 - val_loss: 1.3790 - val_categorical_accuracy: 0.7435\n",
      "Epoch 54/100\n",
      "77/77 [==============================] - 13s 175ms/step - loss: 0.1445 - categorical_accuracy: 0.9482 - val_loss: 1.6628 - val_categorical_accuracy: 0.7120\n",
      "Epoch 55/100\n",
      "77/77 [==============================] - 6s 79ms/step - loss: 0.1002 - categorical_accuracy: 0.9641 - val_loss: 1.6019 - val_categorical_accuracy: 0.7199\n",
      "Epoch 56/100\n",
      "77/77 [==============================] - 6s 80ms/step - loss: 0.1298 - categorical_accuracy: 0.9596 - val_loss: 1.5241 - val_categorical_accuracy: 0.7356\n",
      "Epoch 57/100\n",
      "77/77 [==============================] - 6s 80ms/step - loss: 0.0701 - categorical_accuracy: 0.9759 - val_loss: 1.7199 - val_categorical_accuracy: 0.7461\n",
      "Epoch 58/100\n",
      "77/77 [==============================] - 6s 80ms/step - loss: 0.0532 - categorical_accuracy: 0.9820 - val_loss: 1.8841 - val_categorical_accuracy: 0.7382\n",
      "Epoch 59/100\n",
      "77/77 [==============================] - 6s 79ms/step - loss: 0.1211 - categorical_accuracy: 0.9604 - val_loss: 1.9193 - val_categorical_accuracy: 0.6885\n",
      "Epoch 60/100\n",
      "77/77 [==============================] - 6s 79ms/step - loss: 0.2064 - categorical_accuracy: 0.9388 - val_loss: 1.7358 - val_categorical_accuracy: 0.6806\n",
      "Epoch 61/100\n",
      "77/77 [==============================] - 6s 79ms/step - loss: 0.0678 - categorical_accuracy: 0.9784 - val_loss: 1.6096 - val_categorical_accuracy: 0.7382\n",
      "Epoch 62/100\n",
      "77/77 [==============================] - 6s 80ms/step - loss: 0.1342 - categorical_accuracy: 0.9522 - val_loss: 1.4650 - val_categorical_accuracy: 0.7356\n",
      "Epoch 63/100\n",
      "77/77 [==============================] - 6s 79ms/step - loss: 0.0644 - categorical_accuracy: 0.9804 - val_loss: 1.8707 - val_categorical_accuracy: 0.7016\n",
      "Epoch 64/100\n",
      "77/77 [==============================] - 6s 80ms/step - loss: 0.1424 - categorical_accuracy: 0.9531 - val_loss: 1.6200 - val_categorical_accuracy: 0.7356\n",
      "Epoch 65/100\n",
      "77/77 [==============================] - 6s 81ms/step - loss: 0.1528 - categorical_accuracy: 0.9555 - val_loss: 1.2923 - val_categorical_accuracy: 0.7592\n",
      "Epoch 66/100\n",
      "77/77 [==============================] - 6s 79ms/step - loss: 0.0607 - categorical_accuracy: 0.9820 - val_loss: 2.1514 - val_categorical_accuracy: 0.7016\n",
      "Epoch 67/100\n",
      "77/77 [==============================] - 6s 79ms/step - loss: 0.6315 - categorical_accuracy: 0.8241 - val_loss: 1.1985 - val_categorical_accuracy: 0.7225\n",
      "Epoch 68/100\n",
      "77/77 [==============================] - 6s 79ms/step - loss: 0.3003 - categorical_accuracy: 0.8971 - val_loss: 1.4875 - val_categorical_accuracy: 0.7225\n",
      "Epoch 69/100\n",
      "77/77 [==============================] - 6s 79ms/step - loss: 0.2052 - categorical_accuracy: 0.9339 - val_loss: 1.3034 - val_categorical_accuracy: 0.7277\n",
      "Epoch 70/100\n",
      "77/77 [==============================] - 6s 79ms/step - loss: 0.0942 - categorical_accuracy: 0.9673 - val_loss: 1.7325 - val_categorical_accuracy: 0.6911\n",
      "Epoch 71/100\n",
      "77/77 [==============================] - 6s 82ms/step - loss: 0.1446 - categorical_accuracy: 0.9527 - val_loss: 1.5090 - val_categorical_accuracy: 0.6990\n",
      "Epoch 72/100\n",
      "77/77 [==============================] - 6s 79ms/step - loss: 0.2300 - categorical_accuracy: 0.9245 - val_loss: 1.3120 - val_categorical_accuracy: 0.7042\n",
      "Epoch 73/100\n",
      "77/77 [==============================] - 6s 81ms/step - loss: 0.0629 - categorical_accuracy: 0.9853 - val_loss: 1.6117 - val_categorical_accuracy: 0.7304\n",
      "Epoch 74/100\n",
      "77/77 [==============================] - 6s 80ms/step - loss: 0.0321 - categorical_accuracy: 0.9898 - val_loss: 1.4580 - val_categorical_accuracy: 0.7618\n",
      "Epoch 75/100\n",
      "77/77 [==============================] - 6s 79ms/step - loss: 0.1229 - categorical_accuracy: 0.9600 - val_loss: 1.4861 - val_categorical_accuracy: 0.7199\n",
      "Epoch 76/100\n",
      "77/77 [==============================] - 6s 80ms/step - loss: 0.1246 - categorical_accuracy: 0.9543 - val_loss: 1.4275 - val_categorical_accuracy: 0.7277\n",
      "Epoch 77/100\n",
      "77/77 [==============================] - 6s 79ms/step - loss: 0.0773 - categorical_accuracy: 0.9747 - val_loss: 1.5060 - val_categorical_accuracy: 0.7513\n",
      "Epoch 78/100\n",
      "77/77 [==============================] - 6s 79ms/step - loss: 0.1335 - categorical_accuracy: 0.9576 - val_loss: 1.6898 - val_categorical_accuracy: 0.6571\n",
      "Epoch 79/100\n",
      "77/77 [==============================] - 6s 79ms/step - loss: 0.2939 - categorical_accuracy: 0.9008 - val_loss: 1.2487 - val_categorical_accuracy: 0.7225\n",
      "Epoch 80/100\n",
      "77/77 [==============================] - 6s 79ms/step - loss: 0.2532 - categorical_accuracy: 0.9241 - val_loss: 1.0660 - val_categorical_accuracy: 0.7173\n",
      "Epoch 81/100\n",
      "77/77 [==============================] - 6s 79ms/step - loss: 0.0709 - categorical_accuracy: 0.9812 - val_loss: 1.4346 - val_categorical_accuracy: 0.7539\n",
      "Epoch 82/100\n",
      "77/77 [==============================] - 6s 79ms/step - loss: 0.0430 - categorical_accuracy: 0.9878 - val_loss: 1.5918 - val_categorical_accuracy: 0.7251\n",
      "Epoch 83/100\n",
      "77/77 [==============================] - 6s 79ms/step - loss: 0.0328 - categorical_accuracy: 0.9898 - val_loss: 1.8443 - val_categorical_accuracy: 0.6885\n",
      "Epoch 84/100\n",
      "77/77 [==============================] - 6s 79ms/step - loss: 0.0531 - categorical_accuracy: 0.9824 - val_loss: 1.7474 - val_categorical_accuracy: 0.7120\n",
      "Epoch 85/100\n",
      "77/77 [==============================] - 6s 79ms/step - loss: 0.2222 - categorical_accuracy: 0.9392 - val_loss: 2.2179 - val_categorical_accuracy: 0.6257\n",
      "Epoch 86/100\n",
      "77/77 [==============================] - 6s 78ms/step - loss: 0.8745 - categorical_accuracy: 0.7404 - val_loss: 1.0773 - val_categorical_accuracy: 0.7173\n",
      "Epoch 87/100\n",
      "77/77 [==============================] - 6s 79ms/step - loss: 0.1950 - categorical_accuracy: 0.9433 - val_loss: 1.4529 - val_categorical_accuracy: 0.6754\n",
      "Epoch 88/100\n",
      "77/77 [==============================] - 6s 79ms/step - loss: 0.1427 - categorical_accuracy: 0.9498 - val_loss: 1.2728 - val_categorical_accuracy: 0.7277\n",
      "Epoch 89/100\n",
      "77/77 [==============================] - 6s 78ms/step - loss: 0.0563 - categorical_accuracy: 0.9845 - val_loss: 1.5740 - val_categorical_accuracy: 0.7225\n",
      "Epoch 90/100\n",
      "77/77 [==============================] - 6s 80ms/step - loss: 0.0654 - categorical_accuracy: 0.9792 - val_loss: 1.4502 - val_categorical_accuracy: 0.7173\n",
      "Epoch 91/100\n",
      "77/77 [==============================] - 6s 78ms/step - loss: 0.7535 - categorical_accuracy: 0.7645 - val_loss: 1.0108 - val_categorical_accuracy: 0.7068\n",
      "Epoch 92/100\n",
      "77/77 [==============================] - 6s 79ms/step - loss: 0.2238 - categorical_accuracy: 0.9265 - val_loss: 1.1602 - val_categorical_accuracy: 0.7120\n",
      "Epoch 93/100\n",
      "77/77 [==============================] - 6s 80ms/step - loss: 0.2164 - categorical_accuracy: 0.9208 - val_loss: 1.3190 - val_categorical_accuracy: 0.6754\n",
      "Epoch 94/100\n",
      "77/77 [==============================] - 6s 79ms/step - loss: 0.1928 - categorical_accuracy: 0.9282 - val_loss: 1.1391 - val_categorical_accuracy: 0.7487\n"
     ]
    }
   ],
   "source": [
    "history = model.fit(train_X, train_Y, epochs=100, callbacks=[tb_callback,checkpoint,earlyStopping],validation_data=(val_X,val_Y))"
   ]
  },
  {
   "cell_type": "code",
   "execution_count": 151,
   "id": "14414be2",
   "metadata": {},
   "outputs": [
    {
     "name": "stdout",
     "output_type": "stream",
     "text": [
      "dict_keys(['loss', 'categorical_accuracy', 'val_loss', 'val_categorical_accuracy'])\n"
     ]
    }
   ],
   "source": [
    "print(history.history.keys())\n",
    "# summarize history for accuracy\n",
    "\n"
   ]
  },
  {
   "cell_type": "code",
   "execution_count": 152,
   "id": "a666ffa9",
   "metadata": {},
   "outputs": [
    {
     "data": {
      "image/png": "[encoded data removed]",
      "text/plain": [
       "<Figure size 432x288 with 1 Axes>"
      ]
     },
     "metadata": {
      "needs_background": "light"
     },
     "output_type": "display_data"
    }
   ],
   "source": [
    "plt.plot(history.history['categorical_accuracy'])\n",
    "plt.plot(history.history['val_categorical_accuracy'])\n",
    "plt.title('model accuracy')\n",
    "plt.ylabel('accuracy')\n",
    "plt.xlabel('epoch')\n",
    "plt.legend(['train', 'test'], loc='upper left')\n",
    "plt.show()"
   ]
  },
  {
   "cell_type": "code",
   "execution_count": 153,
   "id": "45782a05",
   "metadata": {},
   "outputs": [
    {
     "data": {
      "image/png": "[encoded data removed]",
      "text/plain": [
       "<Figure size 432x288 with 1 Axes>"
      ]
     },
     "metadata": {
      "needs_background": "light"
     },
     "output_type": "display_data"
    }
   ],
   "source": [
    "# summarize history for loss\n",
    "plt.plot(history.history['loss'])\n",
    "plt.plot(history.history['val_loss'])\n",
    "plt.title('model loss')\n",
    "plt.ylabel('loss')\n",
    "plt.xlabel('epoch')\n",
    "plt.legend(['train', 'test'], loc='upper left')\n",
    "plt.show()"
   ]
  },
  {
   "cell_type": "code",
   "execution_count": 142,
   "id": "4a3da93a",
   "metadata": {},
   "outputs": [
    {
     "name": "stdout",
     "output_type": "stream",
     "text": [
      "11/11 [==============================] - 0s 8ms/step - loss: 2.3068 - categorical_accuracy: 0.6951\n"
     ]
    },
    {
     "data": {
      "text/plain": [
       "[2.3068442344665527, 0.6951219439506531]"
      ]
     },
     "execution_count": 142,
     "metadata": {},
     "output_type": "execute_result"
    }
   ],
   "source": [
    "model.evaluate(train_X,train_Y)"
   ]
  },
  {
   "cell_type": "markdown",
   "id": "7743e09c",
   "metadata": {},
   "source": [
    "# 5 - test in real time"
   ]
  },
  {
   "cell_type": "code",
   "execution_count": 113,
   "id": "ad45443f",
   "metadata": {},
   "outputs": [],
   "source": [
    "from scipy import stats\n",
    "\n",
    "colors = [(245,117,16), (117,245,16), (16,117,245)]\n",
    "def prob_viz(res, actions, input_frame, colors):\n",
    "    output_frame = input_frame.copy()\n",
    "    for num, prob in enumerate(res):\n",
    "        cv2.rectangle(output_frame, (0,60+num*40), (int(prob*100), 90+num*40), colors[num%3], -1)\n",
    "        cv2.putText(output_frame, actions[num], (0, 85+num*40), cv2.FONT_HERSHEY_SIMPLEX, 1, (255,255,255), 2, cv2.LINE_AA)\n",
    "        \n",
    "    return output_frame\n"
   ]
  },
  {
   "cell_type": "code",
   "execution_count": 114,
   "id": "a888db6b",
   "metadata": {
    "scrolled": false
   },
   "outputs": [],
   "source": [
    "# 1. New detection variables\n",
    "sequence = []\n",
    "sentence = []\n",
    "predictions = []\n",
    "threshold = 0.5\n",
    "\n",
    "cap = cv2.VideoCapture(0)\n",
    "# Set mediapipe model \n",
    "with mp_holistic.Holistic(min_detection_confidence=0.5, min_tracking_confidence=0.5) as holistic:\n",
    "    while cap.isOpened():\n",
    "\n",
    "        # Read feed\n",
    "        ret, frame = cap.read()\n",
    "        if(not ret):\n",
    "            break\n",
    "#         frame = cv2.resize(frame, (512, 512))\n",
    "\n",
    "        # Make detections\n",
    "        image, results = mediapipe_detection(frame, holistic)\n",
    "        \n",
    "        # Draw landmarks\n",
    "        draw_styled_landmarks(image, results)\n",
    "        \n",
    "        # 2. Prediction logic\n",
    "        keypoints = extract_keypoints(results)\n",
    "        sequence.append(keypoints)\n",
    "        sequence = sequence[-20:]\n",
    "        \n",
    "        if len(sequence) == 20:\n",
    "            res = model.predict(np.expand_dims(sequence, axis=0))[0]\n",
    "            predictions.append(np.argmax(res))\n",
    "            \n",
    "            \n",
    "        #3. Viz logic\n",
    "            if np.unique(predictions[-2:])[0]==np.argmax(res): \n",
    "                if res[np.argmax(res)] > threshold: \n",
    "                    \n",
    "                    if len(sentence) > 0: \n",
    "                        if actions[np.argmax(res)] != sentence[-1]:\n",
    "                            sentence.append(actions[np.argmax(res)])\n",
    "                    else:\n",
    "                        sentence.append(actions[np.argmax(res)])\n",
    "\n",
    "            if len(sentence) > 5: \n",
    "                sentence = sentence[-5:]\n",
    "\n",
    "            # Viz probabilities\n",
    "            image = prob_viz(res, actions, image, colors)\n",
    "            \n",
    "        cv2.rectangle(image, (0,0), (640, 40), (245, 117, 16), -1)\n",
    "        cv2.putText(image, ' '.join(sentence), (3,30), \n",
    "                       cv2.FONT_HERSHEY_SIMPLEX, 1, (255, 255, 255), 2, cv2.LINE_AA)\n",
    "        \n",
    "        # Show to screen\n",
    "        cv2.imshow('OpenCV Feed', image)\n",
    "\n",
    "        # Break gracefully\n",
    "        if cv2.waitKey(10) & 0xFF == ord('q'):\n",
    "            break\n",
    "    cap.release()\n",
    "    cv2.destroyAllWindows()"
   ]
  },
  {
   "cell_type": "code",
   "execution_count": 60,
   "id": "844aa3f6",
   "metadata": {},
   "outputs": [],
   "source": [
    "cap.release()"
   ]
  },
  {
   "cell_type": "code",
   "execution_count": 61,
   "id": "04f084c6",
   "metadata": {},
   "outputs": [],
   "source": [
    "cv2.destroyAllWindows()"
   ]
  },
  {
   "cell_type": "markdown",
   "id": "90ad503d",
   "metadata": {},
   "source": [
    "# first time results \n",
    "### training accuracy -> 97%\n",
    "### validation accuracy -> 76%\n",
    "\n",
    "\n",
    "# second time results\n",
    "### training accuracy -> 75%\n",
    "### validation accuracy -> 65% and after a while it went down very fast\n",
    "\n",
    "\n",
    "# third time results\n",
    "### training accuracy ->  \n",
    "### validation accuracy -> 52 %"
   ]
  },
  {
   "cell_type": "code",
   "execution_count": null,
   "id": "e0b9d67e",
   "metadata": {},
   "outputs": [],
   "source": []
  }
 ],
 "metadata": {
  "kernelspec": {
   "display_name": "Python 3 (ipykernel)",
   "language": "python",
   "name": "python3"
  },
  "language_info": {
   "codemirror_mode": {
    "name": "ipython",
    "version": 3
   },
   "file_extension": ".py",
   "mimetype": "text/x-python",
   "name": "python",
   "nbconvert_exporter": "python",
   "pygments_lexer": "ipython3",
   "version": "3.8.10"
  }
 },
 "nbformat": 4,
 "nbformat_minor": 5
}
