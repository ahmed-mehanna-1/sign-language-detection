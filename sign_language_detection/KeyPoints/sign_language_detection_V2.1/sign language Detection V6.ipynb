{
 "cells": [
  {
   "cell_type": "markdown",
   "id": "e0c03c2d",
   "metadata": {},
   "source": [
    "# 1 - install dependencies"
   ]
  },
  {
   "cell_type": "code",
   "execution_count": 1,
   "id": "0bffa97f",
   "metadata": {},
   "outputs": [],
   "source": [
    "import numpy as np\n",
    "import cv2 \n",
    "import os\n",
    "import mediapipe as mp\n",
    "import tensorflow as tf \n",
    "from tensorflow import keras\n",
    "import matplotlib.pyplot as plt\n",
    "import time\n",
    "import pandas as pd"
   ]
  },
  {
   "cell_type": "markdown",
   "id": "ef3e681a",
   "metadata": {},
   "source": [
    "# 2 - keypoints extractions and drawing"
   ]
  },
  {
   "cell_type": "code",
   "execution_count": 2,
   "id": "6c4d3678",
   "metadata": {},
   "outputs": [],
   "source": [
    "mp_holistic = mp.solutions.holistic\n",
    "mp_drawing = mp.solutions.drawing_utils\n",
    "\n",
    "num_hand_marks = 21\n",
    "num_pose_marks = 33\n",
    "\n",
    "\n",
    "# holistic model process image and return the results as keypoints\n",
    "def mediapipe_detection(image,model):\n",
    "    image  = cv2.cvtColor(image,cv2.COLOR_BGR2RGB)\n",
    "    image.flags.writeable = False\n",
    "    results = model.process(image)\n",
    "    image.flags.writeable = True\n",
    "    image  = cv2.cvtColor(image,cv2.COLOR_RGB2BGR)\n",
    "    return image,results\n",
    "    \n",
    "def draw_styled_landmarks(image,results):\n",
    "    # Draw pose connections\n",
    "    mp_drawing.draw_landmarks(image, results.pose_landmarks, mp_holistic.POSE_CONNECTIONS,\n",
    "                             mp_drawing.DrawingSpec(color=(80,22,10), thickness=2, circle_radius=4), \n",
    "                             mp_drawing.DrawingSpec(color=(80,44,121), thickness=2, circle_radius=2)\n",
    "                             ) \n",
    "    # Draw left hand connections\n",
    "    mp_drawing.draw_landmarks(image, results.left_hand_landmarks, mp_holistic.HAND_CONNECTIONS, \n",
    "                             mp_drawing.DrawingSpec(color=(121,22,76), thickness=2, circle_radius=4), \n",
    "                             mp_drawing.DrawingSpec(color=(121,44,250), thickness=2, circle_radius=2)\n",
    "                             ) \n",
    "    # Draw right hand connections  \n",
    "    mp_drawing.draw_landmarks(image, results.right_hand_landmarks, mp_holistic.HAND_CONNECTIONS, \n",
    "                             mp_drawing.DrawingSpec(color=(245,117,66), thickness=2, circle_radius=4), \n",
    "                             mp_drawing.DrawingSpec(color=(245,66,230), thickness=2, circle_radius=2)\n",
    "                             ) \n",
    "    \n",
    "\n",
    "# read the keypoints and extract them and process them\n",
    "def extract_keypoints(results):\n",
    "    # extract pose marks\n",
    "    if results.pose_landmarks:\n",
    "        pose = np.array([ [res.x,res.y,res.z,res.visibility] for res in results.pose_landmarks.landmark ]).flatten()\n",
    "    else:\n",
    "        pose = np.zeros(num_pose_marks*4)\n",
    "    \n",
    "    # extract left hand\n",
    "    if results.left_hand_landmarks:\n",
    "        left_hand = np.array([ [res.x,res.y,res.z] for res in results.left_hand_landmarks.landmark ]).flatten()\n",
    "    else:\n",
    "        left_hand = np.zeros(num_hand_marks*3)\n",
    "        \n",
    "        \n",
    "    # extract right hand\n",
    "    if results.right_hand_landmarks:\n",
    "        right_hand = np.array([ [res.x,res.y,res.z] for res in results.right_hand_landmarks.landmark ]).flatten()\n",
    "    else:\n",
    "        right_hand = np.zeros(num_hand_marks*3)\n",
    "    \n",
    "    return np.concatenate([pose,left_hand,right_hand])\n",
    "    "
   ]
  },
  {
   "cell_type": "code",
   "execution_count": null,
   "id": "abf67027",
   "metadata": {},
   "outputs": [],
   "source": []
  },
  {
   "cell_type": "markdown",
   "id": "f6a53451",
   "metadata": {},
   "source": [
    "# 3 - read and process data"
   ]
  },
  {
   "cell_type": "code",
   "execution_count": 5,
   "id": "7a26a4d4",
   "metadata": {},
   "outputs": [],
   "source": [
    "data_path = \"../../../data/Datasets/\"\n",
    "\n",
    "train_labels = pd.read_csv(os.path.join(data_path,\"train_labels.csv\"),names=['sample','id'])\n",
    "validation_labels = pd.read_csv(os.path.join(data_path,\"validation_labels.csv\"),names=['sample','id'])\n",
    "test_labels = pd.read_csv(os.path.join(data_path,\"test_labels.csv\"),names=['sample','id'])\n",
    "class_id = pd.read_csv(os.path.join(data_path,\"class_id.csv\"))\n",
    "\n",
    "\n",
    "    \n",
    "train_path = os.path.join(data_path,\"train\")\n",
    "val_path = os.path.join(data_path,\"val\")\n",
    "test_path = os.path.join(data_path,\"test\")\n",
    "\n"
   ]
  },
  {
   "cell_type": "code",
   "execution_count": 137,
   "id": "f743fb72",
   "metadata": {},
   "outputs": [
    {
     "data": {
      "text/html": [
       "<div>\n",
       "<style scoped>\n",
       "    .dataframe tbody tr th:only-of-type {\n",
       "        vertical-align: middle;\n",
       "    }\n",
       "\n",
       "    .dataframe tbody tr th {\n",
       "        vertical-align: top;\n",
       "    }\n",
       "\n",
       "    .dataframe thead th {\n",
       "        text-align: right;\n",
       "    }\n",
       "</style>\n",
       "<table border=\"1\" class=\"dataframe\">\n",
       "  <thead>\n",
       "    <tr style=\"text-align: right;\">\n",
       "      <th></th>\n",
       "      <th>sample</th>\n",
       "      <th>id</th>\n",
       "    </tr>\n",
       "  </thead>\n",
       "  <tbody>\n",
       "    <tr>\n",
       "      <th>0</th>\n",
       "      <td>signer0_sample1</td>\n",
       "      <td>41</td>\n",
       "    </tr>\n",
       "    <tr>\n",
       "      <th>1</th>\n",
       "      <td>signer0_sample2</td>\n",
       "      <td>104</td>\n",
       "    </tr>\n",
       "    <tr>\n",
       "      <th>2</th>\n",
       "      <td>signer0_sample3</td>\n",
       "      <td>205</td>\n",
       "    </tr>\n",
       "    <tr>\n",
       "      <th>3</th>\n",
       "      <td>signer0_sample4</td>\n",
       "      <td>26</td>\n",
       "    </tr>\n",
       "    <tr>\n",
       "      <th>4</th>\n",
       "      <td>signer0_sample5</td>\n",
       "      <td>191</td>\n",
       "    </tr>\n",
       "    <tr>\n",
       "      <th>...</th>\n",
       "      <td>...</td>\n",
       "      <td>...</td>\n",
       "    </tr>\n",
       "    <tr>\n",
       "      <th>28137</th>\n",
       "      <td>signer42_sample668</td>\n",
       "      <td>82</td>\n",
       "    </tr>\n",
       "    <tr>\n",
       "      <th>28138</th>\n",
       "      <td>signer42_sample669</td>\n",
       "      <td>164</td>\n",
       "    </tr>\n",
       "    <tr>\n",
       "      <th>28139</th>\n",
       "      <td>signer42_sample670</td>\n",
       "      <td>215</td>\n",
       "    </tr>\n",
       "    <tr>\n",
       "      <th>28140</th>\n",
       "      <td>signer42_sample671</td>\n",
       "      <td>123</td>\n",
       "    </tr>\n",
       "    <tr>\n",
       "      <th>28141</th>\n",
       "      <td>signer42_sample672</td>\n",
       "      <td>42</td>\n",
       "    </tr>\n",
       "  </tbody>\n",
       "</table>\n",
       "<p>28142 rows × 2 columns</p>\n",
       "</div>"
      ],
      "text/plain": [
       "                   sample   id\n",
       "0         signer0_sample1   41\n",
       "1         signer0_sample2  104\n",
       "2         signer0_sample3  205\n",
       "3         signer0_sample4   26\n",
       "4         signer0_sample5  191\n",
       "...                   ...  ...\n",
       "28137  signer42_sample668   82\n",
       "28138  signer42_sample669  164\n",
       "28139  signer42_sample670  215\n",
       "28140  signer42_sample671  123\n",
       "28141  signer42_sample672   42\n",
       "\n",
       "[28142 rows x 2 columns]"
      ]
     },
     "execution_count": 137,
     "metadata": {},
     "output_type": "execute_result"
    }
   ],
   "source": [
    "train_labels"
   ]
  },
  {
   "cell_type": "code",
   "execution_count": 6,
   "id": "1b0631ba",
   "metadata": {},
   "outputs": [],
   "source": [
    "def check_file(file_path):\n",
    "    try:\n",
    "        f = open(file_path)\n",
    "        f.close()\n",
    "        return True\n",
    "    except IOError:\n",
    "        return False\n",
    "    \n",
    "    \n",
    "\n",
    "def construct_path(file,path=\"train\"):\n",
    "    return os.path.join(os.path.join(data_path,path),file+\"_color.mp4\")\n",
    "    "
   ]
  },
  {
   "cell_type": "markdown",
   "id": "6c96171e",
   "metadata": {},
   "source": [
    "### 3.1 collect data that in classes 0,1,2 and available in the data/train directory"
   ]
  },
  {
   "cell_type": "code",
   "execution_count": 7,
   "id": "33dcd736",
   "metadata": {},
   "outputs": [],
   "source": [
    "n_actions = 5\n",
    "actions = list(class_id['EN'][:n_actions])"
   ]
  },
  {
   "cell_type": "code",
   "execution_count": 8,
   "id": "ed9d9651",
   "metadata": {},
   "outputs": [
    {
     "data": {
      "text/plain": [
       "['sister', 'hurry', 'hungry', 'enjoy_your_meal', 'brother']"
      ]
     },
     "execution_count": 8,
     "metadata": {},
     "output_type": "execute_result"
    }
   ],
   "source": [
    "actions"
   ]
  },
  {
   "cell_type": "code",
   "execution_count": 9,
   "id": "e6e3cc2c",
   "metadata": {},
   "outputs": [],
   "source": [
    "n_actions = 5\n",
    "actions = list(class_id['EN'][:n_actions])\n",
    "actions[-1] = \"tree\"\n",
    "actions[-2] = \"meal\"\n",
    "dic={}\n",
    "for i,action in enumerate(actions):\n",
    "    dic[action]=i"
   ]
  },
  {
   "cell_type": "code",
   "execution_count": 10,
   "id": "81b7e589",
   "metadata": {},
   "outputs": [
    {
     "data": {
      "text/plain": [
       "{'sister': 0, 'hurry': 1, 'hungry': 2, 'meal': 3, 'tree': 4}"
      ]
     },
     "execution_count": 10,
     "metadata": {},
     "output_type": "execute_result"
    }
   ],
   "source": [
    "dic"
   ]
  },
  {
   "cell_type": "code",
   "execution_count": 11,
   "id": "0cf7da59",
   "metadata": {},
   "outputs": [],
   "source": [
    "def get_data(value,file_path,label_name):\n",
    "    if file_path==\"train\":\n",
    "        label_dic = train_labels\n",
    "    elif file_path==\"val\":\n",
    "        label_dic = validation_labels\n",
    "    elif file_path==\"test\":\n",
    "        label_dic = test_labels\n",
    "        \n",
    "    \n",
    "    data =  label_dic[label_dic['id']==value]\n",
    "    lis =  [construct_path(i,file_path) for i in  (data['sample'])]\n",
    "    data =  [i for i in lis if check_file(i)]\n",
    "    return data,[label_name for i in data]\n",
    "    \n",
    "\n",
    "    "
   ]
  },
  {
   "cell_type": "code",
   "execution_count": 170,
   "id": "c02e60cd",
   "metadata": {},
   "outputs": [],
   "source": [
    "\n",
    "\n",
    "d = [0,1,2,3,5]\n",
    "\n",
    "def get_list(d,cat):\n",
    "    arr_x=[]\n",
    "    arr_y=[]\n",
    "    for index,value in enumerate(d):\n",
    "        \n",
    "        data,labels = get_data(value,cat,index)\n",
    "        arr_x.extend(data)\n",
    "        arr_y.extend(labels)\n",
    "    return arr_x,arr_y\n",
    "\n",
    "train_X,train_Y = get_list(d,\"train\")\n",
    "val_X,val_Y = get_list(d,\"val\")\n",
    "test_X,test_Y = get_list(d,\"test\")\n"
   ]
  },
  {
   "cell_type": "code",
   "execution_count": 171,
   "id": "f6f2914c",
   "metadata": {},
   "outputs": [
    {
     "name": "stdout",
     "output_type": "stream",
     "text": [
      "622 622 98 98 83 83\n"
     ]
    }
   ],
   "source": [
    "print(\n",
    "    len(train_X ),\n",
    "len(train_Y),\n",
    "len(val_X ),\n",
    "len(val_Y),\n",
    "len(test_X ),\n",
    "len(test_Y)\n",
    ")"
   ]
  },
  {
   "cell_type": "code",
   "execution_count": 173,
   "id": "192e3c37",
   "metadata": {},
   "outputs": [
    {
     "data": {
      "text/plain": [
       "'../../../data/Datasets/train/signer42_sample383_color.mp4'"
      ]
     },
     "execution_count": 173,
     "metadata": {},
     "output_type": "execute_result"
    }
   ],
   "source": [
    "train_X[-1]"
   ]
  },
  {
   "cell_type": "markdown",
   "id": "a781311b",
   "metadata": {},
   "source": [
    "### 3.2 process videos into frames and label to cateogries"
   ]
  },
  {
   "cell_type": "code",
   "execution_count": 174,
   "id": "d602a5e6",
   "metadata": {},
   "outputs": [],
   "source": [
    "\n",
    "\n",
    "def capture_frames(video_path):\n",
    "    video = cv2.VideoCapture(video_path)\n",
    "    video_length = int(video.get(cv2.CAP_PROP_FRAME_COUNT)) - 1\n",
    "    # count = 0\n",
    "    # frame_rate = video.get(cv2.CAP_PROP_FRAME_COUNT)\n",
    "\n",
    "    count=0\n",
    "    frames = []\n",
    "    while video.isOpened():\n",
    "      # frame_id = video.get(0)\n",
    "        ret, frame = video.read()\n",
    "        \n",
    "        if not ret:\n",
    "            continue\n",
    "        frames.append(frame)\n",
    "        count += 1\n",
    "        # If there are no more frames left\n",
    "        if (count > (video_length-1)):\n",
    "          # Release the feed\n",
    "          video.release()\n",
    "        # if frame_id % math.floor(1) == 0:\n",
    "        #     file_name = f\"{video_path}_frame_{count}.jpg\"\n",
    "        #     count += 1\n",
    "        #     # print(f\"File name: {file_name}\")\n",
    "        #     frames.append(frame)\n",
    "        #     # cv2.imwrite(file_name, frame)\n",
    "    video.release()\n",
    "    return np.array(frames)\n",
    "\n",
    "\n",
    "def get_frames(video_path,num_frames):\n",
    "    frames = capture_frames(video_path)\n",
    "    video_length = len(frames)\n",
    "    steps = video_length/num_frames\n",
    "    count=0\n",
    "    new_frames=[]\n",
    "    while count<video_length:\n",
    "        frame = frames[int(count)]\n",
    "#         frame = cv2.resize(frame, (256, 256))\n",
    "#         frame =  (frame/255.0).astype(np.float16)\n",
    "        new_frames.append(frame)\n",
    "        count+=steps\n",
    "\n",
    "    s = np.array(new_frames[:num_frames])\n",
    "    return np.array(new_frames[:num_frames])\n"
   ]
  },
  {
   "cell_type": "code",
   "execution_count": 70,
   "id": "781d6db1",
   "metadata": {},
   "outputs": [],
   "source": [
    "def extract_keypoints_video(path,i=-1):\n",
    "    \n",
    "    if(i!=-1):\n",
    "        print(i,end=\"\\r\")\n",
    "    \n",
    "    if(type(path) == str):\n",
    "        frames = get_frames(path,20)\n",
    "    frames = path\n",
    "    output_key_points=[]\n",
    "    with mp_holistic.Holistic(min_detection_confidence=0.5, min_tracking_confidence=0.5) as holistic:\n",
    "        for frame in frames:\n",
    "            image, results = mediapipe_detection(frame, holistic)\n",
    "            output_key_points.append(extract_keypoints(results))\n",
    "    return np.array(output_key_points)\n",
    "\n",
    "\n",
    "    "
   ]
  },
  {
   "cell_type": "markdown",
   "id": "fb4424e1",
   "metadata": {},
   "source": [
    "### 3.3 - extract the keypoints and save them in train"
   ]
  },
  {
   "cell_type": "code",
   "execution_count": 177,
   "id": "16b5ad3d",
   "metadata": {},
   "outputs": [],
   "source": [
    "if \"train_features:0-20.npy\" in os.listdir():\n",
    "    train_data = np.load(\"train_features:0-20.npy\")\n",
    "    val_data = np.load(\"val_features:0-20.npy\")\n",
    "    test_data = np.load(\"test_features:0-20.npy\")\n",
    "    train_labels = np.load(\"train_labels:0-20.npy\")\n",
    "    val_labels = np.load(\"val_labels:0-20.npy\")\n",
    "    test_labels = np.load(\"test_labels:0-20.npy\")\n",
    "else:\n",
    "    train = np.array([extract_keypoints_video(path,f'Train iteration : {i+1}/{len(train_X)}') for i,path in enumerate(train_X) ])\n",
    "    np.save('train_features:0-20.npy', train) \n",
    "    print(\"Training Finished\")\n",
    "    val = np.array([extract_keypoints_video(path,f'Valdiation iteration : {i+1}/{len(val_X)}') for i,path in enumerate(val_X) ])\n",
    "    np.save('val_features:0-20.npy', val) \n",
    "    print(\"Validation Finished\")\n",
    "    test = np.array([extract_keypoints_video(path,f'Test iteration : {i+1}/{len(test_X)}') for i,path in enumerate(test_X) ])\n",
    "    np.save('test_features:0-20.npy', test)\n",
    "    print(\"Test Finished\")\n",
    "    np.save(\"train_labels:0-20.npy\",np.array(train_Y))\n",
    "    np.save(\"val_labels:0-20.npy\",np.array(val_Y))\n",
    "    np.save(\"test_labels:0-20.npy\",np.array(test_Y))"
   ]
  },
  {
   "cell_type": "code",
   "execution_count": 178,
   "id": "6e1b1216",
   "metadata": {
    "scrolled": true
   },
   "outputs": [
    {
     "name": "stdout",
     "output_type": "stream",
     "text": [
      "(622, 20, 258) (622,) (98, 20, 258) (98,) (83, 20, 258) (83,)\n"
     ]
    }
   ],
   "source": [
    "print(\n",
    "train_data.shape,\n",
    "    train_labels.shape,\n",
    "    val_data.shape,\n",
    "    val_labels.shape,\n",
    "    test_data.shape,\n",
    "    test_labels.shape\n",
    "    \n",
    ")"
   ]
  },
  {
   "cell_type": "markdown",
   "id": "b0fb9834",
   "metadata": {},
   "source": [
    "### 3.4 shuffle the data"
   ]
  },
  {
   "cell_type": "code",
   "execution_count": 179,
   "id": "3230f83e",
   "metadata": {},
   "outputs": [],
   "source": [
    "perm = np.random.permutation(len(train))\n",
    "\n",
    "train_X = train_data[perm]\n",
    "train_Y = train_labels[perm]\n",
    "val_X = val_data\n",
    "val_Y = val_labels\n",
    "test_X = test_data\n",
    "test_Y = test_labels\n"
   ]
  },
  {
   "cell_type": "code",
   "execution_count": 180,
   "id": "10087b94",
   "metadata": {},
   "outputs": [
    {
     "name": "stdout",
     "output_type": "stream",
     "text": [
      "(622, 20, 258) (622,) (98, 20, 258) (98,) (83, 20, 258) (83,)\n"
     ]
    }
   ],
   "source": [
    "print(\n",
    "train_X.shape,\n",
    "train_Y.shape,\n",
    "val_X.shape,\n",
    "val_Y.shape,\n",
    "test_X.shape,\n",
    "test_Y.shape,\n",
    ")"
   ]
  },
  {
   "cell_type": "markdown",
   "id": "e742a5d4",
   "metadata": {},
   "source": [
    "# 4 - build and train the model"
   ]
  },
  {
   "cell_type": "code",
   "execution_count": 3,
   "id": "c0c15994",
   "metadata": {},
   "outputs": [],
   "source": [
    "from tensorflow.keras.models import Sequential\n",
    "from tensorflow.keras.layers import LSTM, Dense,Input,Dropout\n",
    "from tensorflow.keras.models import Model\n",
    "from tensorflow.keras.callbacks import TensorBoard,ModelCheckpoint,EarlyStopping\n",
    "\n",
    "\n",
    "tb_callback = TensorBoard(log_dir=os.path.join('Logs'))\n",
    "checkpoint = ModelCheckpoint(\"best_model_v2.h5\", monitor='loss', verbose=0,\n",
    "    save_best_only=True, mode='auto', save_freq=1)\n",
    "earlyStopping = EarlyStopping(monitor='loss', patience=20)"
   ]
  },
  {
   "cell_type": "code",
   "execution_count": 12,
   "id": "dfdeb079",
   "metadata": {},
   "outputs": [
    {
     "name": "stdout",
     "output_type": "stream",
     "text": [
      "WARNING:tensorflow:Layer lstm_3 will not use cuDNN kernels since it doesn't meet the criteria. It will use a generic GPU kernel as fallback when running on GPU.\n",
      "WARNING:tensorflow:Layer lstm_4 will not use cuDNN kernels since it doesn't meet the criteria. It will use a generic GPU kernel as fallback when running on GPU.\n",
      "WARNING:tensorflow:Layer lstm_5 will not use cuDNN kernels since it doesn't meet the criteria. It will use a generic GPU kernel as fallback when running on GPU.\n"
     ]
    }
   ],
   "source": [
    "def first_model():\n",
    "    input_layer = Input(shape=(20,258))\n",
    "    layer = LSTM(64,return_sequences=True,activation=\"relu\")(input_layer)\n",
    "    layer = LSTM(128,return_sequences=True,activation=\"relu\")(layer)\n",
    "    layer = LSTM(256,return_sequences=True,activation=\"relu\")(layer)\n",
    "    layer = LSTM(128,return_sequences=True,activation=\"relu\")(layer)\n",
    "    layer = LSTM(64,return_sequences=False,activation=\"relu\")(layer)\n",
    "    layer = Dense(64,activation=\"relu\")(layer)\n",
    "    layer = Dense(32,activation=\"relu\")(layer)\n",
    "    layer = Dense(len(actions),activation=\"softmax\")(layer)\n",
    "\n",
    "    model = Model(inputs=input_layer,outputs=layer)\n",
    "    model.compile(optimizer='Adam', loss='categorical_crossentropy', metrics=['categorical_accuracy'])\n",
    "    \n",
    "    return model\n",
    "\n",
    "\n",
    "def second_model():\n",
    "    input_layer = Input(shape=(20,258))\n",
    "    layer = LSTM(64,return_sequences=True,activation=\"relu\")(input_layer)\n",
    "    layer = LSTM(128,return_sequences=True,activation=\"relu\")(layer)\n",
    "    layer = Dropout(0.3)(layer)\n",
    "    layer = LSTM(128,return_sequences=True,activation=\"relu\")(layer)\n",
    "    layer = Dropout(0.3)(layer)\n",
    "    layer = LSTM(64,return_sequences=False,activation=\"relu\")(layer)\n",
    "    layer = Dense(64,activation=\"relu\")(layer)\n",
    "    layer = Dense(32,activation=\"relu\")(layer)\n",
    "    layer = Dense(len(actions),activation=\"softmax\")(layer)\n",
    "\n",
    "    model = Model(inputs=input_layer,outputs=layer)\n",
    "    model.compile(optimizer='Adam', loss='categorical_crossentropy', metrics=['categorical_accuracy'])\n",
    "    \n",
    "    return model\n",
    "\n",
    "def third_model():\n",
    "    input_layer = Input(shape=(20,258))\n",
    "    layer = LSTM(64,return_sequences=True,activation=\"relu\")(input_layer)\n",
    "    layer = LSTM(128,return_sequences=True,activation=\"relu\")(layer)\n",
    "    layer = LSTM(96,return_sequences=False,activation=\"relu\")(layer)\n",
    "    layer = Dense(64,activation=\"relu\")(layer)\n",
    "    layer = Dense(32,activation=\"relu\")(layer)\n",
    "    layer = Dense(len(actions),activation=\"softmax\")(layer)\n",
    "\n",
    "#     optimizer = tf.keras.optimizers.Nadam(learning_rate=0.002,\n",
    "#                              beta_1=0.9,\n",
    "#                              beta_2=0.999, \n",
    "#                              epsilon=1e-08,\n",
    "#                              schedule_decay=0.004)\n",
    "    \n",
    "    model = Model(inputs=input_layer,outputs=layer)\n",
    "    model.compile(optimizer=\"Adam\", loss='sparse_categorical_crossentropy', metrics=['accuracy'])\n",
    "    \n",
    "    return model\n",
    "\n",
    "\n",
    "model = third_model()"
   ]
  },
  {
   "cell_type": "code",
   "execution_count": 13,
   "id": "b631cd6f",
   "metadata": {},
   "outputs": [],
   "source": [
    "# model.load_weights('best_model.h5')"
   ]
  },
  {
   "cell_type": "code",
   "execution_count": 14,
   "id": "330f87ff",
   "metadata": {},
   "outputs": [
    {
     "name": "stdout",
     "output_type": "stream",
     "text": [
      "Model: \"model\"\n",
      "_________________________________________________________________\n",
      " Layer (type)                Output Shape              Param #   \n",
      "=================================================================\n",
      " input_2 (InputLayer)        [(None, 20, 258)]         0         \n",
      "                                                                 \n",
      " lstm_3 (LSTM)               (None, 20, 64)            82688     \n",
      "                                                                 \n",
      " lstm_4 (LSTM)               (None, 20, 128)           98816     \n",
      "                                                                 \n",
      " lstm_5 (LSTM)               (None, 96)                86400     \n",
      "                                                                 \n",
      " dense_2 (Dense)             (None, 64)                6208      \n",
      "                                                                 \n",
      " dense_3 (Dense)             (None, 32)                2080      \n",
      "                                                                 \n",
      " dense_4 (Dense)             (None, 5)                 165       \n",
      "                                                                 \n",
      "=================================================================\n",
      "Total params: 276,357\n",
      "Trainable params: 276,357\n",
      "Non-trainable params: 0\n",
      "_________________________________________________________________\n"
     ]
    }
   ],
   "source": [
    "model.summary()"
   ]
  },
  {
   "cell_type": "code",
   "execution_count": 186,
   "id": "8a38fd8e",
   "metadata": {},
   "outputs": [
    {
     "name": "stdout",
     "output_type": "stream",
     "text": [
      "Epoch 1/400\n",
      "20/20 [==============================] - 3s 70ms/step - loss: 1.5656 - accuracy: 0.2428 - val_loss: 1.3329 - val_accuracy: 0.3776\n",
      "Epoch 2/400\n",
      "20/20 [==============================] - 1s 50ms/step - loss: 1.5866 - accuracy: 0.3617 - val_loss: 1.5329 - val_accuracy: 0.2143\n",
      "Epoch 3/400\n",
      "20/20 [==============================] - 1s 49ms/step - loss: 1.5519 - accuracy: 0.3151 - val_loss: 1.4708 - val_accuracy: 0.3776\n",
      "Epoch 4/400\n",
      "20/20 [==============================] - 1s 63ms/step - loss: 1.2567 - accuracy: 0.4228 - val_loss: 1.1000 - val_accuracy: 0.4694\n",
      "Epoch 5/400\n",
      "20/20 [==============================] - 1s 53ms/step - loss: 1.3513 - accuracy: 0.4277 - val_loss: 1.5159 - val_accuracy: 0.3776\n",
      "Epoch 6/400\n",
      "20/20 [==============================] - 1s 47ms/step - loss: 1.4730 - accuracy: 0.3264 - val_loss: 1.4014 - val_accuracy: 0.3673\n",
      "Epoch 7/400\n",
      "20/20 [==============================] - 1s 47ms/step - loss: 1.1666 - accuracy: 0.3971 - val_loss: 1.1647 - val_accuracy: 0.5000\n",
      "Epoch 8/400\n",
      "20/20 [==============================] - 1s 47ms/step - loss: 1.0313 - accuracy: 0.5273 - val_loss: 1.0856 - val_accuracy: 0.4796\n",
      "Epoch 9/400\n",
      "20/20 [==============================] - 1s 48ms/step - loss: 1.0949 - accuracy: 0.5241 - val_loss: 0.8772 - val_accuracy: 0.6327\n",
      "Epoch 10/400\n",
      "20/20 [==============================] - 1s 50ms/step - loss: 0.9990 - accuracy: 0.5707 - val_loss: 1.0004 - val_accuracy: 0.5408\n",
      "Epoch 11/400\n",
      "20/20 [==============================] - 1s 47ms/step - loss: 0.9357 - accuracy: 0.6141 - val_loss: 0.9662 - val_accuracy: 0.5204\n",
      "Epoch 12/400\n",
      "20/20 [==============================] - 1s 47ms/step - loss: 0.8684 - accuracy: 0.5997 - val_loss: 1.1394 - val_accuracy: 0.5510\n",
      "Epoch 13/400\n",
      "20/20 [==============================] - 1s 49ms/step - loss: 0.9130 - accuracy: 0.6077 - val_loss: 1.0640 - val_accuracy: 0.5102\n",
      "Epoch 14/400\n",
      "20/20 [==============================] - 1s 48ms/step - loss: 0.8149 - accuracy: 0.6608 - val_loss: 0.8149 - val_accuracy: 0.5612\n",
      "Epoch 15/400\n",
      "20/20 [==============================] - 1s 52ms/step - loss: 0.8235 - accuracy: 0.6318 - val_loss: 0.8702 - val_accuracy: 0.7551\n",
      "Epoch 16/400\n",
      "20/20 [==============================] - 1s 48ms/step - loss: 0.8725 - accuracy: 0.6077 - val_loss: 0.9326 - val_accuracy: 0.5204\n",
      "Epoch 17/400\n",
      "20/20 [==============================] - 1s 50ms/step - loss: 0.7033 - accuracy: 0.7058 - val_loss: 0.6715 - val_accuracy: 0.7041\n",
      "Epoch 18/400\n",
      "20/20 [==============================] - 1s 51ms/step - loss: 0.7489 - accuracy: 0.6785 - val_loss: 0.6905 - val_accuracy: 0.6735\n",
      "Epoch 19/400\n",
      "20/20 [==============================] - 1s 49ms/step - loss: 0.6616 - accuracy: 0.7283 - val_loss: 0.6771 - val_accuracy: 0.6735\n",
      "Epoch 20/400\n",
      "20/20 [==============================] - 1s 48ms/step - loss: 0.6174 - accuracy: 0.7299 - val_loss: 0.5329 - val_accuracy: 0.7449\n",
      "Epoch 21/400\n",
      "20/20 [==============================] - 1s 53ms/step - loss: 0.6661 - accuracy: 0.7106 - val_loss: 1.1559 - val_accuracy: 0.4490\n",
      "Epoch 22/400\n",
      "20/20 [==============================] - 1s 49ms/step - loss: 0.6872 - accuracy: 0.7267 - val_loss: 0.5135 - val_accuracy: 0.8571\n",
      "Epoch 23/400\n",
      "20/20 [==============================] - 1s 49ms/step - loss: 0.6732 - accuracy: 0.7315 - val_loss: 0.6086 - val_accuracy: 0.7857\n",
      "Epoch 24/400\n",
      "20/20 [==============================] - 1s 49ms/step - loss: 0.6152 - accuracy: 0.7605 - val_loss: 0.5474 - val_accuracy: 0.8163\n",
      "Epoch 25/400\n",
      "20/20 [==============================] - 1s 48ms/step - loss: 0.5249 - accuracy: 0.7958 - val_loss: 0.6244 - val_accuracy: 0.8061\n",
      "Epoch 26/400\n",
      "20/20 [==============================] - 1s 50ms/step - loss: 0.5096 - accuracy: 0.7894 - val_loss: 0.7294 - val_accuracy: 0.7347\n",
      "Epoch 27/400\n",
      "20/20 [==============================] - 1s 48ms/step - loss: 0.6540 - accuracy: 0.7203 - val_loss: 0.7547 - val_accuracy: 0.8061\n",
      "Epoch 28/400\n",
      "20/20 [==============================] - 1s 48ms/step - loss: 0.6147 - accuracy: 0.7492 - val_loss: 0.5120 - val_accuracy: 0.8061\n",
      "Epoch 29/400\n",
      "20/20 [==============================] - 1s 48ms/step - loss: 0.5097 - accuracy: 0.8055 - val_loss: 0.6466 - val_accuracy: 0.8776\n",
      "Epoch 30/400\n",
      "20/20 [==============================] - 1s 53ms/step - loss: 0.4432 - accuracy: 0.8055 - val_loss: 0.5505 - val_accuracy: 0.8469\n",
      "Epoch 31/400\n",
      "20/20 [==============================] - 1s 49ms/step - loss: 0.4782 - accuracy: 0.8039 - val_loss: 0.9281 - val_accuracy: 0.8061\n",
      "Epoch 32/400\n",
      "20/20 [==============================] - 1s 47ms/step - loss: 0.5569 - accuracy: 0.7685 - val_loss: 0.5217 - val_accuracy: 0.7653\n",
      "Epoch 33/400\n",
      "20/20 [==============================] - 1s 47ms/step - loss: 0.5134 - accuracy: 0.8135 - val_loss: 0.5237 - val_accuracy: 0.7959\n",
      "Epoch 34/400\n",
      "20/20 [==============================] - 1s 48ms/step - loss: 0.4187 - accuracy: 0.8408 - val_loss: 0.4691 - val_accuracy: 0.8367\n",
      "Epoch 35/400\n",
      "20/20 [==============================] - 1s 50ms/step - loss: 0.3765 - accuracy: 0.8344 - val_loss: 0.3473 - val_accuracy: 0.8980\n",
      "Epoch 36/400\n",
      "20/20 [==============================] - 1s 53ms/step - loss: 0.3440 - accuracy: 0.8682 - val_loss: 0.5575 - val_accuracy: 0.8265\n",
      "Epoch 37/400\n",
      "20/20 [==============================] - 1s 50ms/step - loss: 0.3857 - accuracy: 0.8521 - val_loss: 0.5420 - val_accuracy: 0.8265\n",
      "Epoch 38/400\n",
      "20/20 [==============================] - 1s 51ms/step - loss: 0.3041 - accuracy: 0.8714 - val_loss: 0.3662 - val_accuracy: 0.8571\n",
      "Epoch 39/400\n",
      "20/20 [==============================] - 1s 48ms/step - loss: 0.3114 - accuracy: 0.8682 - val_loss: 0.3478 - val_accuracy: 0.9184\n",
      "Epoch 40/400\n",
      "20/20 [==============================] - 1s 49ms/step - loss: 0.3804 - accuracy: 0.8650 - val_loss: 0.6615 - val_accuracy: 0.8571\n",
      "Epoch 41/400\n",
      "20/20 [==============================] - 1s 49ms/step - loss: 0.3894 - accuracy: 0.8344 - val_loss: 0.4823 - val_accuracy: 0.8367\n",
      "Epoch 42/400\n",
      "20/20 [==============================] - 1s 50ms/step - loss: 0.3313 - accuracy: 0.8601 - val_loss: 0.4292 - val_accuracy: 0.9286\n",
      "Epoch 43/400\n",
      "20/20 [==============================] - 1s 47ms/step - loss: 0.3321 - accuracy: 0.8553 - val_loss: 0.4069 - val_accuracy: 0.8776\n",
      "Epoch 44/400\n",
      "20/20 [==============================] - 1s 48ms/step - loss: 0.1791 - accuracy: 0.9293 - val_loss: 0.3965 - val_accuracy: 0.9082\n",
      "Epoch 45/400\n",
      "20/20 [==============================] - 1s 51ms/step - loss: 0.2119 - accuracy: 0.9003 - val_loss: 0.5942 - val_accuracy: 0.8980\n",
      "Epoch 46/400\n",
      "20/20 [==============================] - 1s 49ms/step - loss: 0.1978 - accuracy: 0.9260 - val_loss: 0.2789 - val_accuracy: 0.9286\n",
      "Epoch 47/400\n",
      "20/20 [==============================] - 1s 48ms/step - loss: 0.1786 - accuracy: 0.9357 - val_loss: 0.3642 - val_accuracy: 0.8776\n",
      "Epoch 48/400\n",
      "20/20 [==============================] - 1s 48ms/step - loss: 0.2910 - accuracy: 0.8842 - val_loss: 0.4390 - val_accuracy: 0.9286\n",
      "Epoch 49/400\n",
      "20/20 [==============================] - 1s 49ms/step - loss: 0.1783 - accuracy: 0.9260 - val_loss: 0.3210 - val_accuracy: 0.9184\n",
      "Epoch 50/400\n",
      "20/20 [==============================] - 1s 48ms/step - loss: 0.2221 - accuracy: 0.9148 - val_loss: 0.9852 - val_accuracy: 0.6939\n",
      "Epoch 51/400\n",
      "20/20 [==============================] - 1s 48ms/step - loss: 0.4091 - accuracy: 0.8473 - val_loss: 0.3414 - val_accuracy: 0.8878\n",
      "Epoch 52/400\n",
      "20/20 [==============================] - 1s 49ms/step - loss: 0.2270 - accuracy: 0.9196 - val_loss: 0.2024 - val_accuracy: 0.9184\n",
      "Epoch 53/400\n",
      "20/20 [==============================] - 1s 49ms/step - loss: 0.1350 - accuracy: 0.9453 - val_loss: 0.1456 - val_accuracy: 0.9694\n",
      "Epoch 54/400\n",
      "20/20 [==============================] - 1s 52ms/step - loss: 0.3542 - accuracy: 0.8939 - val_loss: 0.2639 - val_accuracy: 0.9184\n",
      "Epoch 55/400\n",
      "20/20 [==============================] - 1s 49ms/step - loss: 0.3703 - accuracy: 0.8762 - val_loss: 0.2497 - val_accuracy: 0.9286\n",
      "Epoch 56/400\n",
      "20/20 [==============================] - 1s 49ms/step - loss: 0.2740 - accuracy: 0.8891 - val_loss: 0.2354 - val_accuracy: 0.9082\n",
      "Epoch 57/400\n",
      "20/20 [==============================] - 1s 49ms/step - loss: 0.2317 - accuracy: 0.9100 - val_loss: 0.1828 - val_accuracy: 0.9490\n",
      "Epoch 58/400\n",
      "20/20 [==============================] - 1s 49ms/step - loss: 0.1589 - accuracy: 0.9389 - val_loss: 0.1426 - val_accuracy: 0.9388\n",
      "Epoch 59/400\n",
      "20/20 [==============================] - 1s 50ms/step - loss: 0.1343 - accuracy: 0.9518 - val_loss: 0.1517 - val_accuracy: 0.9694\n",
      "Epoch 60/400\n",
      "20/20 [==============================] - 1s 48ms/step - loss: 0.4001 - accuracy: 0.8553 - val_loss: 0.2819 - val_accuracy: 0.8980\n",
      "Epoch 61/400\n",
      "20/20 [==============================] - 1s 49ms/step - loss: 0.2190 - accuracy: 0.9116 - val_loss: 0.1579 - val_accuracy: 0.9388\n",
      "Epoch 62/400\n",
      "20/20 [==============================] - 1s 49ms/step - loss: 0.0970 - accuracy: 0.9630 - val_loss: 0.1541 - val_accuracy: 0.9388\n",
      "Epoch 63/400\n",
      "20/20 [==============================] - 1s 49ms/step - loss: 0.0971 - accuracy: 0.9598 - val_loss: 0.1824 - val_accuracy: 0.9592\n",
      "Epoch 64/400\n",
      "20/20 [==============================] - 1s 48ms/step - loss: 0.1925 - accuracy: 0.9212 - val_loss: 0.1295 - val_accuracy: 0.9694\n",
      "Epoch 65/400\n",
      "20/20 [==============================] - 1s 48ms/step - loss: 0.2481 - accuracy: 0.9132 - val_loss: 0.3189 - val_accuracy: 0.8980\n",
      "Epoch 66/400\n",
      "20/20 [==============================] - 1s 49ms/step - loss: 0.1569 - accuracy: 0.9357 - val_loss: 0.1407 - val_accuracy: 0.9490\n",
      "Epoch 67/400\n",
      "20/20 [==============================] - 1s 48ms/step - loss: 0.1008 - accuracy: 0.9662 - val_loss: 0.1439 - val_accuracy: 0.9592\n",
      "Epoch 68/400\n",
      "20/20 [==============================] - 1s 49ms/step - loss: 0.0705 - accuracy: 0.9743 - val_loss: 0.2657 - val_accuracy: 0.9388\n",
      "Epoch 69/400\n",
      "20/20 [==============================] - 1s 49ms/step - loss: 0.1271 - accuracy: 0.9405 - val_loss: 0.2245 - val_accuracy: 0.9388\n",
      "Epoch 70/400\n",
      "20/20 [==============================] - 1s 48ms/step - loss: 0.1290 - accuracy: 0.9373 - val_loss: 0.1299 - val_accuracy: 0.9694\n",
      "Epoch 71/400\n",
      "20/20 [==============================] - 1s 48ms/step - loss: 0.0902 - accuracy: 0.9614 - val_loss: 0.2376 - val_accuracy: 0.9388\n",
      "Epoch 72/400\n",
      "20/20 [==============================] - 1s 48ms/step - loss: 0.0574 - accuracy: 0.9727 - val_loss: 0.2629 - val_accuracy: 0.9592\n",
      "Epoch 73/400\n",
      "20/20 [==============================] - 1s 48ms/step - loss: 0.0569 - accuracy: 0.9807 - val_loss: 0.6925 - val_accuracy: 0.8878\n",
      "Epoch 74/400\n",
      "20/20 [==============================] - 1s 47ms/step - loss: 0.0891 - accuracy: 0.9695 - val_loss: 0.1008 - val_accuracy: 0.9592\n",
      "Epoch 75/400\n",
      "20/20 [==============================] - 1s 49ms/step - loss: 0.1252 - accuracy: 0.9469 - val_loss: 0.3310 - val_accuracy: 0.9082\n",
      "Epoch 76/400\n",
      "20/20 [==============================] - 1s 49ms/step - loss: 0.2034 - accuracy: 0.9228 - val_loss: 0.6515 - val_accuracy: 0.8673\n",
      "Epoch 77/400\n",
      "20/20 [==============================] - 1s 49ms/step - loss: 0.1516 - accuracy: 0.9325 - val_loss: 0.2054 - val_accuracy: 0.9388\n",
      "Epoch 78/400\n",
      "20/20 [==============================] - 1s 50ms/step - loss: 0.1128 - accuracy: 0.9566 - val_loss: 0.2107 - val_accuracy: 0.9286\n",
      "Epoch 79/400\n",
      "20/20 [==============================] - 1s 50ms/step - loss: 0.1046 - accuracy: 0.9630 - val_loss: 0.1830 - val_accuracy: 0.9490\n",
      "Epoch 80/400\n",
      "20/20 [==============================] - 1s 49ms/step - loss: 0.1200 - accuracy: 0.9469 - val_loss: 0.4688 - val_accuracy: 0.8673\n",
      "Epoch 81/400\n",
      "20/20 [==============================] - 1s 48ms/step - loss: 0.1781 - accuracy: 0.9293 - val_loss: 0.3510 - val_accuracy: 0.9286\n",
      "Epoch 82/400\n",
      "20/20 [==============================] - 1s 48ms/step - loss: 0.1427 - accuracy: 0.9453 - val_loss: 0.3119 - val_accuracy: 0.9184\n",
      "Epoch 83/400\n",
      "20/20 [==============================] - 1s 49ms/step - loss: 0.4360 - accuracy: 0.9019 - val_loss: 0.5748 - val_accuracy: 0.8367\n",
      "Epoch 84/400\n",
      "20/20 [==============================] - 1s 48ms/step - loss: 0.3540 - accuracy: 0.8682 - val_loss: 0.1167 - val_accuracy: 0.9694\n",
      "Epoch 85/400\n",
      "20/20 [==============================] - 1s 48ms/step - loss: 0.1864 - accuracy: 0.9357 - val_loss: 0.2573 - val_accuracy: 0.9388\n",
      "Epoch 86/400\n",
      "20/20 [==============================] - 1s 49ms/step - loss: 0.1453 - accuracy: 0.9389 - val_loss: 0.1511 - val_accuracy: 0.9490\n",
      "Epoch 87/400\n",
      "20/20 [==============================] - 1s 50ms/step - loss: 0.0787 - accuracy: 0.9630 - val_loss: 0.0910 - val_accuracy: 0.9694\n",
      "Epoch 88/400\n",
      "20/20 [==============================] - 1s 50ms/step - loss: 0.0779 - accuracy: 0.9662 - val_loss: 0.1927 - val_accuracy: 0.9286\n",
      "Epoch 89/400\n",
      "20/20 [==============================] - 1s 48ms/step - loss: 0.1678 - accuracy: 0.9534 - val_loss: 0.5509 - val_accuracy: 0.8061\n",
      "Epoch 90/400\n",
      "20/20 [==============================] - 1s 49ms/step - loss: 0.2022 - accuracy: 0.9228 - val_loss: 0.1439 - val_accuracy: 0.9388\n",
      "Epoch 91/400\n",
      "20/20 [==============================] - 1s 48ms/step - loss: 0.1511 - accuracy: 0.9405 - val_loss: 0.0960 - val_accuracy: 0.9592\n",
      "Epoch 92/400\n",
      "20/20 [==============================] - 1s 47ms/step - loss: 0.0701 - accuracy: 0.9695 - val_loss: 0.0812 - val_accuracy: 0.9796\n",
      "Epoch 93/400\n",
      "20/20 [==============================] - 1s 48ms/step - loss: 0.0497 - accuracy: 0.9743 - val_loss: 0.1224 - val_accuracy: 0.9490\n",
      "Epoch 94/400\n",
      "20/20 [==============================] - 1s 49ms/step - loss: 0.0466 - accuracy: 0.9855 - val_loss: 0.1721 - val_accuracy: 0.9592\n",
      "Epoch 95/400\n",
      "20/20 [==============================] - 1s 48ms/step - loss: 0.0548 - accuracy: 0.9775 - val_loss: 0.2071 - val_accuracy: 0.9592\n",
      "Epoch 96/400\n",
      "20/20 [==============================] - 1s 49ms/step - loss: 0.0884 - accuracy: 0.9695 - val_loss: 0.1931 - val_accuracy: 0.9388\n",
      "Epoch 97/400\n",
      "20/20 [==============================] - 1s 48ms/step - loss: 0.0730 - accuracy: 0.9646 - val_loss: 0.2921 - val_accuracy: 0.8878\n",
      "Epoch 98/400\n",
      "20/20 [==============================] - 1s 47ms/step - loss: 0.1169 - accuracy: 0.9437 - val_loss: 0.1071 - val_accuracy: 0.9694\n",
      "Epoch 99/400\n",
      "20/20 [==============================] - 1s 49ms/step - loss: 0.0799 - accuracy: 0.9646 - val_loss: 0.1162 - val_accuracy: 0.9592\n",
      "Epoch 100/400\n",
      "20/20 [==============================] - 1s 47ms/step - loss: 0.0512 - accuracy: 0.9839 - val_loss: 0.1785 - val_accuracy: 0.9490\n",
      "Epoch 101/400\n",
      "20/20 [==============================] - 1s 47ms/step - loss: 0.0402 - accuracy: 0.9887 - val_loss: 0.1230 - val_accuracy: 0.9694\n",
      "Epoch 102/400\n",
      "20/20 [==============================] - 1s 48ms/step - loss: 0.0366 - accuracy: 0.9871 - val_loss: 0.2041 - val_accuracy: 0.9592\n",
      "Epoch 103/400\n",
      "20/20 [==============================] - 1s 48ms/step - loss: 0.0438 - accuracy: 0.9807 - val_loss: 0.1839 - val_accuracy: 0.9592\n",
      "Epoch 104/400\n",
      "20/20 [==============================] - 1s 49ms/step - loss: 0.0312 - accuracy: 0.9871 - val_loss: 0.1842 - val_accuracy: 0.9694\n",
      "Epoch 105/400\n",
      "20/20 [==============================] - 1s 49ms/step - loss: 0.0402 - accuracy: 0.9887 - val_loss: 0.3164 - val_accuracy: 0.9490\n",
      "Epoch 106/400\n",
      "20/20 [==============================] - 1s 49ms/step - loss: 0.0431 - accuracy: 0.9823 - val_loss: 0.2078 - val_accuracy: 0.9490\n",
      "Epoch 107/400\n",
      "20/20 [==============================] - 1s 51ms/step - loss: 0.0388 - accuracy: 0.9823 - val_loss: 0.2690 - val_accuracy: 0.9490\n",
      "Epoch 108/400\n",
      "20/20 [==============================] - 1s 49ms/step - loss: 0.0393 - accuracy: 0.9807 - val_loss: 0.1499 - val_accuracy: 0.9592\n",
      "Epoch 109/400\n",
      "20/20 [==============================] - 1s 50ms/step - loss: 0.0217 - accuracy: 0.9887 - val_loss: 0.2655 - val_accuracy: 0.9694\n",
      "Epoch 110/400\n",
      "20/20 [==============================] - 1s 48ms/step - loss: 0.0269 - accuracy: 0.9920 - val_loss: 0.2334 - val_accuracy: 0.9592\n",
      "Epoch 111/400\n",
      "20/20 [==============================] - 1s 52ms/step - loss: 0.0354 - accuracy: 0.9823 - val_loss: 0.3024 - val_accuracy: 0.9388\n",
      "Epoch 112/400\n",
      "20/20 [==============================] - 1s 49ms/step - loss: 0.0621 - accuracy: 0.9775 - val_loss: 0.2458 - val_accuracy: 0.9490\n",
      "Epoch 113/400\n",
      "20/20 [==============================] - 1s 48ms/step - loss: 0.0291 - accuracy: 0.9936 - val_loss: 0.2846 - val_accuracy: 0.9388\n",
      "Epoch 114/400\n",
      "20/20 [==============================] - 1s 48ms/step - loss: 0.1732 - accuracy: 0.9502 - val_loss: 0.5987 - val_accuracy: 0.9286\n",
      "Epoch 115/400\n"
     ]
    },
    {
     "name": "stdout",
     "output_type": "stream",
     "text": [
      "20/20 [==============================] - 1s 49ms/step - loss: 0.2939 - accuracy: 0.8987 - val_loss: 0.3017 - val_accuracy: 0.9184\n",
      "Epoch 116/400\n",
      "20/20 [==============================] - 1s 50ms/step - loss: 0.1650 - accuracy: 0.9534 - val_loss: 0.2974 - val_accuracy: 0.9490\n",
      "Epoch 117/400\n",
      "20/20 [==============================] - 1s 49ms/step - loss: 0.0549 - accuracy: 0.9823 - val_loss: 0.1570 - val_accuracy: 0.9694\n",
      "Epoch 118/400\n",
      "20/20 [==============================] - 1s 48ms/step - loss: 0.0220 - accuracy: 0.9984 - val_loss: 0.2201 - val_accuracy: 0.9592\n",
      "Epoch 119/400\n",
      "20/20 [==============================] - 1s 49ms/step - loss: 0.0296 - accuracy: 0.9871 - val_loss: 0.2016 - val_accuracy: 0.9694\n",
      "Epoch 120/400\n",
      "20/20 [==============================] - 1s 48ms/step - loss: 0.0264 - accuracy: 0.9904 - val_loss: 0.2483 - val_accuracy: 0.9592\n",
      "Epoch 121/400\n",
      "20/20 [==============================] - 1s 48ms/step - loss: 0.0287 - accuracy: 0.9855 - val_loss: 0.2299 - val_accuracy: 0.9592\n",
      "Epoch 122/400\n",
      "20/20 [==============================] - 1s 48ms/step - loss: 0.0840 - accuracy: 0.9678 - val_loss: 0.1582 - val_accuracy: 0.9592\n",
      "Epoch 123/400\n",
      "20/20 [==============================] - 1s 48ms/step - loss: 0.3136 - accuracy: 0.9148 - val_loss: 0.3734 - val_accuracy: 0.8469\n",
      "Epoch 124/400\n",
      "20/20 [==============================] - 1s 48ms/step - loss: 0.2424 - accuracy: 0.9003 - val_loss: 0.1548 - val_accuracy: 0.9592\n",
      "Epoch 125/400\n",
      "20/20 [==============================] - 1s 50ms/step - loss: 0.1315 - accuracy: 0.9550 - val_loss: 0.2023 - val_accuracy: 0.9286\n",
      "Epoch 126/400\n",
      "20/20 [==============================] - 1s 49ms/step - loss: 0.0617 - accuracy: 0.9791 - val_loss: 0.3915 - val_accuracy: 0.9184\n",
      "Epoch 127/400\n",
      "20/20 [==============================] - 1s 48ms/step - loss: 0.0398 - accuracy: 0.9855 - val_loss: 0.1955 - val_accuracy: 0.9694\n",
      "Epoch 128/400\n",
      "20/20 [==============================] - 1s 49ms/step - loss: 0.0243 - accuracy: 0.9936 - val_loss: 0.2021 - val_accuracy: 0.9694\n",
      "Epoch 129/400\n",
      "20/20 [==============================] - 1s 50ms/step - loss: 0.0181 - accuracy: 0.9904 - val_loss: 0.1958 - val_accuracy: 0.9592\n",
      "Epoch 130/400\n",
      "20/20 [==============================] - 1s 49ms/step - loss: 0.0602 - accuracy: 0.9807 - val_loss: 0.1178 - val_accuracy: 0.9694\n",
      "Epoch 131/400\n",
      "20/20 [==============================] - 1s 48ms/step - loss: 0.0719 - accuracy: 0.9727 - val_loss: 0.1399 - val_accuracy: 0.9694\n",
      "Epoch 132/400\n",
      "20/20 [==============================] - 1s 49ms/step - loss: 0.0718 - accuracy: 0.9678 - val_loss: 0.1683 - val_accuracy: 0.9592\n",
      "Epoch 133/400\n",
      "20/20 [==============================] - 1s 50ms/step - loss: 0.0455 - accuracy: 0.9823 - val_loss: 0.1265 - val_accuracy: 0.9694\n",
      "Epoch 134/400\n",
      "20/20 [==============================] - 1s 49ms/step - loss: 0.0386 - accuracy: 0.9839 - val_loss: 0.2024 - val_accuracy: 0.9694\n",
      "Epoch 135/400\n",
      "20/20 [==============================] - 1s 48ms/step - loss: 0.0150 - accuracy: 0.9936 - val_loss: 0.1112 - val_accuracy: 0.9694\n",
      "Epoch 136/400\n",
      "20/20 [==============================] - 1s 48ms/step - loss: 0.0289 - accuracy: 0.9887 - val_loss: 0.3865 - val_accuracy: 0.8980\n",
      "Epoch 137/400\n",
      "20/20 [==============================] - 1s 48ms/step - loss: 0.1635 - accuracy: 0.9469 - val_loss: 0.1884 - val_accuracy: 0.9592\n",
      "Epoch 138/400\n",
      "20/20 [==============================] - 1s 49ms/step - loss: 0.0810 - accuracy: 0.9678 - val_loss: 0.1309 - val_accuracy: 0.9592\n",
      "Epoch 139/400\n",
      "20/20 [==============================] - 1s 49ms/step - loss: 0.0219 - accuracy: 0.9952 - val_loss: 0.2218 - val_accuracy: 0.9388\n",
      "Epoch 140/400\n",
      "20/20 [==============================] - 1s 49ms/step - loss: 0.0348 - accuracy: 0.9839 - val_loss: 0.4215 - val_accuracy: 0.8878\n",
      "Epoch 141/400\n",
      "20/20 [==============================] - 1s 48ms/step - loss: 0.0262 - accuracy: 0.9904 - val_loss: 0.2401 - val_accuracy: 0.9592\n",
      "Epoch 142/400\n",
      "20/20 [==============================] - 1s 48ms/step - loss: 0.0537 - accuracy: 0.9871 - val_loss: 0.2514 - val_accuracy: 0.9592\n",
      "Epoch 143/400\n",
      "20/20 [==============================] - 1s 48ms/step - loss: 0.1029 - accuracy: 0.9695 - val_loss: 0.2873 - val_accuracy: 0.9082\n",
      "Epoch 144/400\n",
      "20/20 [==============================] - 1s 50ms/step - loss: 0.1428 - accuracy: 0.9405 - val_loss: 0.1673 - val_accuracy: 0.9286\n",
      "Epoch 145/400\n",
      "20/20 [==============================] - 1s 50ms/step - loss: 0.0627 - accuracy: 0.9775 - val_loss: 0.1510 - val_accuracy: 0.9592\n",
      "Epoch 146/400\n",
      "20/20 [==============================] - 1s 49ms/step - loss: 0.0260 - accuracy: 0.9920 - val_loss: 0.0756 - val_accuracy: 0.9490\n",
      "Epoch 147/400\n",
      "20/20 [==============================] - 1s 50ms/step - loss: 0.0164 - accuracy: 0.9936 - val_loss: 0.1376 - val_accuracy: 0.9490\n",
      "Epoch 148/400\n",
      "20/20 [==============================] - 1s 49ms/step - loss: 0.0068 - accuracy: 0.9968 - val_loss: 0.1255 - val_accuracy: 0.9592\n",
      "Epoch 149/400\n",
      "20/20 [==============================] - 1s 48ms/step - loss: 0.0042 - accuracy: 1.0000 - val_loss: 0.1134 - val_accuracy: 0.9490\n",
      "Epoch 150/400\n",
      "20/20 [==============================] - 1s 49ms/step - loss: 0.0158 - accuracy: 0.9952 - val_loss: 0.2501 - val_accuracy: 0.9592\n",
      "Epoch 151/400\n",
      "20/20 [==============================] - 1s 49ms/step - loss: 0.0072 - accuracy: 0.9984 - val_loss: 0.2043 - val_accuracy: 0.9694\n",
      "Epoch 152/400\n",
      "20/20 [==============================] - 1s 50ms/step - loss: 0.0042 - accuracy: 1.0000 - val_loss: 0.1623 - val_accuracy: 0.9592\n",
      "Epoch 153/400\n",
      "20/20 [==============================] - 1s 48ms/step - loss: 0.0030 - accuracy: 1.0000 - val_loss: 0.2059 - val_accuracy: 0.9694\n",
      "Epoch 154/400\n",
      "20/20 [==============================] - 1s 48ms/step - loss: 0.0177 - accuracy: 0.9952 - val_loss: 0.5253 - val_accuracy: 0.8980\n",
      "Epoch 155/400\n",
      "20/20 [==============================] - 1s 48ms/step - loss: 0.0304 - accuracy: 0.9904 - val_loss: 0.2377 - val_accuracy: 0.9388\n",
      "Epoch 156/400\n",
      "20/20 [==============================] - 1s 47ms/step - loss: 0.0693 - accuracy: 0.9727 - val_loss: 0.4235 - val_accuracy: 0.9592\n",
      "Epoch 157/400\n",
      "20/20 [==============================] - 1s 49ms/step - loss: 0.3513 - accuracy: 0.8987 - val_loss: 0.2543 - val_accuracy: 0.9388\n",
      "Epoch 158/400\n",
      "20/20 [==============================] - 1s 50ms/step - loss: 0.1726 - accuracy: 0.9373 - val_loss: 0.3630 - val_accuracy: 0.9184\n",
      "Epoch 159/400\n",
      "20/20 [==============================] - 1s 48ms/step - loss: 0.0945 - accuracy: 0.9662 - val_loss: 0.1865 - val_accuracy: 0.9592\n",
      "Epoch 160/400\n",
      "20/20 [==============================] - 1s 49ms/step - loss: 0.0605 - accuracy: 0.9743 - val_loss: 0.2183 - val_accuracy: 0.9490\n",
      "Epoch 161/400\n",
      "20/20 [==============================] - 1s 49ms/step - loss: 0.1408 - accuracy: 0.9469 - val_loss: 0.1283 - val_accuracy: 0.9592\n",
      "Epoch 162/400\n",
      "20/20 [==============================] - 1s 47ms/step - loss: 0.0963 - accuracy: 0.9598 - val_loss: 0.1556 - val_accuracy: 0.9592\n",
      "Epoch 163/400\n",
      "20/20 [==============================] - 1s 48ms/step - loss: 0.0738 - accuracy: 0.9775 - val_loss: 0.1699 - val_accuracy: 0.9592\n",
      "Epoch 164/400\n",
      "20/20 [==============================] - 1s 47ms/step - loss: 0.0341 - accuracy: 0.9936 - val_loss: 0.1561 - val_accuracy: 0.9490\n",
      "Epoch 165/400\n",
      "20/20 [==============================] - 1s 47ms/step - loss: 0.0252 - accuracy: 0.9904 - val_loss: 0.3337 - val_accuracy: 0.9184\n",
      "Epoch 166/400\n",
      "20/20 [==============================] - 1s 48ms/step - loss: 0.0136 - accuracy: 0.9952 - val_loss: 0.1688 - val_accuracy: 0.9592\n",
      "Epoch 167/400\n",
      "20/20 [==============================] - 1s 50ms/step - loss: 0.0126 - accuracy: 0.9920 - val_loss: 0.2481 - val_accuracy: 0.9490\n",
      "Epoch 168/400\n",
      "20/20 [==============================] - 1s 47ms/step - loss: 0.0471 - accuracy: 0.9871 - val_loss: 0.1849 - val_accuracy: 0.9694\n",
      "Epoch 169/400\n",
      "20/20 [==============================] - 1s 48ms/step - loss: 0.1027 - accuracy: 0.9695 - val_loss: 0.1307 - val_accuracy: 0.9694\n",
      "Epoch 170/400\n",
      "20/20 [==============================] - 1s 49ms/step - loss: 0.0364 - accuracy: 0.9920 - val_loss: 0.1483 - val_accuracy: 0.9694\n",
      "Epoch 171/400\n",
      "20/20 [==============================] - 1s 49ms/step - loss: 0.0269 - accuracy: 0.9887 - val_loss: 0.2210 - val_accuracy: 0.9592\n"
     ]
    },
    {
     "name": "stdout",
     "output_type": "stream",
     "text": [
      "Epoch 172/400\n",
      "20/20 [==============================] - 1s 49ms/step - loss: 0.0093 - accuracy: 1.0000 - val_loss: 0.2758 - val_accuracy: 0.9592\n",
      "Epoch 173/400\n",
      "20/20 [==============================] - 1s 49ms/step - loss: 0.0040 - accuracy: 1.0000 - val_loss: 0.3157 - val_accuracy: 0.9592\n"
     ]
    }
   ],
   "source": [
    "history = model.fit(train_X, train_Y, epochs=400, callbacks=[tb_callback,checkpoint,earlyStopping],validation_data=(val_X,val_Y))"
   ]
  },
  {
   "cell_type": "code",
   "execution_count": 187,
   "id": "14414be2",
   "metadata": {},
   "outputs": [
    {
     "name": "stdout",
     "output_type": "stream",
     "text": [
      "dict_keys(['loss', 'accuracy', 'val_loss', 'val_accuracy'])\n"
     ]
    }
   ],
   "source": [
    "print(history.history.keys())\n",
    "# summarize history for accuracy\n",
    "\n"
   ]
  },
  {
   "cell_type": "code",
   "execution_count": 188,
   "id": "a666ffa9",
   "metadata": {},
   "outputs": [
    {
     "data": {
      "image/png": "[encoded data removed]",
      "text/plain": [
       "<Figure size 432x288 with 1 Axes>"
      ]
     },
     "metadata": {
      "needs_background": "light"
     },
     "output_type": "display_data"
    }
   ],
   "source": [
    "plt.plot(history.history['accuracy'])\n",
    "plt.plot(history.history['val_accuracy'])\n",
    "plt.title('model accuracy')\n",
    "plt.ylabel('accuracy')\n",
    "plt.xlabel('epoch')\n",
    "plt.legend(['train', 'test'], loc='upper left')\n",
    "plt.show()"
   ]
  },
  {
   "cell_type": "code",
   "execution_count": 189,
   "id": "45782a05",
   "metadata": {},
   "outputs": [
    {
     "data": {
      "image/png": "[encoded data removed]",
      "text/plain": [
       "<Figure size 432x288 with 1 Axes>"
      ]
     },
     "metadata": {
      "needs_background": "light"
     },
     "output_type": "display_data"
    }
   ],
   "source": [
    "# summarize history for loss\n",
    "plt.plot(history.history['loss'])\n",
    "plt.plot(history.history['val_loss'])\n",
    "plt.title('model loss')\n",
    "plt.ylabel('loss')\n",
    "plt.xlabel('epoch')\n",
    "plt.legend(['train', 'test'], loc='upper left')\n",
    "plt.show()"
   ]
  },
  {
   "cell_type": "code",
   "execution_count": 204,
   "id": "4a3da93a",
   "metadata": {},
   "outputs": [
    {
     "name": "stdout",
     "output_type": "stream",
     "text": [
      "20/20 [==============================] - 0s 7ms/step - loss: 0.0035 - accuracy: 1.0000\n"
     ]
    },
    {
     "data": {
      "text/plain": [
       "[0.0034555569291114807, 1.0]"
      ]
     },
     "execution_count": 204,
     "metadata": {},
     "output_type": "execute_result"
    }
   ],
   "source": [
    "m2.evaluate(train_X,train_Y)"
   ]
  },
  {
   "cell_type": "code",
   "execution_count": 200,
   "id": "6f940199",
   "metadata": {},
   "outputs": [
    {
     "name": "stdout",
     "output_type": "stream",
     "text": [
      "WARNING:tensorflow:Layer lstm_23 will not use cuDNN kernels since it doesn't meet the criteria. It will use a generic GPU kernel as fallback when running on GPU.\n",
      "WARNING:tensorflow:Layer lstm_24 will not use cuDNN kernels since it doesn't meet the criteria. It will use a generic GPU kernel as fallback when running on GPU.\n",
      "WARNING:tensorflow:Layer lstm_25 will not use cuDNN kernels since it doesn't meet the criteria. It will use a generic GPU kernel as fallback when running on GPU.\n"
     ]
    }
   ],
   "source": [
    "m2 = third_model()\n",
    "m2.load_weights('best_model_v2.h5')"
   ]
  },
  {
   "cell_type": "code",
   "execution_count": 15,
   "id": "65b155f2",
   "metadata": {},
   "outputs": [],
   "source": [
    "model.load_weights('best_model.h5')"
   ]
  },
  {
   "cell_type": "markdown",
   "id": "7743e09c",
   "metadata": {},
   "source": [
    "# 5 - test in real time"
   ]
  },
  {
   "cell_type": "code",
   "execution_count": 41,
   "id": "ad45443f",
   "metadata": {},
   "outputs": [],
   "source": [
    "\n",
    "def view_probability(res, actions, image):\n",
    "    #output_frame = input_frame.copy()\n",
    "    \n",
    "    output_frame = image\n",
    "    \n",
    "    if(type(res)==list or type(res)==np.ndarray):\n",
    "        max_prob_index = np.argmax(res)\n",
    "        max_prob = res[max_prob_index]\n",
    "        text = f'{actions[max_prob_index]} - {max_prob:.3f}'\n",
    "    else:\n",
    "        text = \"not signing\"\n",
    "    \n",
    "    \n",
    "    cv2.rectangle(output_frame, (0,0), (640, 40), (0,255,0), -1)\n",
    "    cv2.putText(output_frame, text, (0, 30), cv2.FONT_HERSHEY_SIMPLEX, 1, (255,255,255), 2, cv2.LINE_AA)\n",
    "        \n",
    "    return output_frame\n",
    "\n",
    "\n",
    "\n",
    "def view_sentence(sentence,image):\n",
    "    # output_frame = image.copy()\n",
    "    output_frame = image\n",
    "    \n",
    "    cv2.rectangle(output_frame, (0,430), (640, 480), (255, 0, 0), -1)\n",
    "    cv2.putText(output_frame, ' '.join(sentence), (3,460), \n",
    "                   cv2.FONT_HERSHEY_SIMPLEX, 1, (255, 255, 255), 2, cv2.LINE_AA)\n",
    "    return output_frame\n",
    "\n",
    "\n",
    "def compare_frames(prev_frame,current_frame,threshold):\n",
    "    if(type(prev_frame) == np.ndarray ):\n",
    "        diff = cv2.absdiff(prev_frame, current_frame)\n",
    "        s = diff.sum()\n",
    "        if(s > threshold):\n",
    "            return True\n",
    "        \n",
    "    return False\n",
    "    \n",
    "def evaluate_list_comparisons(s):\n",
    "    \n",
    "    if(sum(s)>=2):\n",
    "        return True\n",
    "    return False"
   ]
  },
  {
   "cell_type": "code",
   "execution_count": 45,
   "id": "a888db6b",
   "metadata": {
    "scrolled": false
   },
   "outputs": [],
   "source": [
    "# 1. New detection variables\n",
    "sequence = []\n",
    "sentence = []\n",
    "predictions = []\n",
    "threshold = 0.5\n",
    "\n",
    "cap = cv2.VideoCapture(0)\n",
    "# Set mediapipe model \n",
    "\n",
    "last_comparisons = []\n",
    "holistic = mp_holistic.Holistic(min_detection_confidence=0.5, min_tracking_confidence=0.5)\n",
    "prev_frame = None\n",
    "while cap.isOpened():\n",
    "\n",
    "    ret, frame = cap.read()\n",
    "    if(not ret):break\n",
    "        \n",
    "        \n",
    "        \n",
    "    comparison_result = compare_frames(prev_frame,frame,4000000)\n",
    "    prev_frame = frame\n",
    "    \n",
    "    last_comparisons.append(int(comparison_result))\n",
    "    last_comparisons = last_comparisons[-2:]\n",
    "    \n",
    "    \n",
    "    \n",
    "\n",
    "    image, results = mediapipe_detection(frame, holistic)\n",
    "    draw_styled_landmarks(image, results)\n",
    "\n",
    "    # 2. Prediction logic\n",
    "    \n",
    "    \n",
    "    if(evaluate_list_comparisons(last_comparisons)):\n",
    "        keypoints = extract_keypoints(results)\n",
    "        sequence.append(keypoints)\n",
    "        sequence = sequence[-20:]\n",
    "\n",
    "        if len(sequence) == 20:\n",
    "            res = model.predict(np.expand_dims(sequence, axis=0))[0]\n",
    "            predictions.append(np.argmax(res))\n",
    "\n",
    "\n",
    "        #3. Viz logic\n",
    "            if np.unique(predictions[-2:])[0]==np.argmax(res): \n",
    "                if res[np.argmax(res)] > threshold: \n",
    "\n",
    "                    if len(sentence) > 0: \n",
    "                        if actions[np.argmax(res)] != sentence[-1]:\n",
    "                            sentence.append(actions[np.argmax(res)])\n",
    "                    else:\n",
    "                        sentence.append(actions[np.argmax(res)])\n",
    "\n",
    "            if len(sentence) > 5: \n",
    "                sentence = sentence[-5:]\n",
    "    else:\n",
    "        res = None\n",
    "\n",
    "\n",
    "    image = view_probability(res, actions, image)\n",
    "    image = view_sentence(sentence,image)\n",
    "    \n",
    "\n",
    "\n",
    "    cv2.imshow('OpenCV Feed', image)\n",
    "\n",
    "    # Break\n",
    "    if cv2.waitKey(25) & 0xFF == ord('q'):\n",
    "        break\n",
    "cap.release()\n",
    "cv2.destroyAllWindows()"
   ]
  },
  {
   "cell_type": "code",
   "execution_count": null,
   "id": "7429ceef",
   "metadata": {},
   "outputs": [],
   "source": [
    "cap.release()"
   ]
  },
  {
   "cell_type": "code",
   "execution_count": null,
   "id": "d4683df0",
   "metadata": {},
   "outputs": [],
   "source": [
    "cv2.destroyAllWindows()"
   ]
  },
  {
   "cell_type": "markdown",
   "id": "b1d84de1",
   "metadata": {},
   "source": [
    "# 6-read video and predict it (for slower models)"
   ]
  },
  {
   "cell_type": "code",
   "execution_count": 95,
   "id": "f6595cd2",
   "metadata": {},
   "outputs": [],
   "source": [
    "def read_video_camera(n_frames,duration=3):\n",
    "    import time\n",
    "    \n",
    "    frames = []\n",
    "    \n",
    "    cap = cv2.VideoCapture(0)\n",
    "    start_time = time.time()\n",
    "    while cap.isOpened():\n",
    "        ret, frame = cap.read()\n",
    "        if(not ret):break\n",
    "        \n",
    "        cv2.imshow(\"frame\",frame)\n",
    "        \n",
    "        cv2.waitKey(20)\n",
    "            \n",
    "        frames.append(frame)\n",
    "        if(time.time()-start_time > duration):\n",
    "            break\n",
    "    cap.release()\n",
    "    cv2.destroyAllWindows()\n",
    "    print(len(frames),n_frames)\n",
    "    steps = len(frames)/n_frames\n",
    "    count=0\n",
    "    new_frames=[]\n",
    "    while count < len(frames):\n",
    "        frame = frames[int(count)]\n",
    "        new_frames.append(frame)\n",
    "        count+=steps\n",
    "        \n",
    "    \n",
    "    return np.array(new_frames[:n_frames])\n",
    "    \n",
    "    \n",
    "def view_video(video):\n",
    "    for frame in video:\n",
    "        cv2.imshow(\"frame\",frame)\n",
    "        cv2.waitKey(100)\n",
    "    cv2.destroyAllWindows()\n",
    "    \n",
    "    \n",
    "    \n",
    "\n",
    "        \n"
   ]
  },
  {
   "cell_type": "markdown",
   "id": "c7ccf23d",
   "metadata": {},
   "source": [
    "### read the video from Webcam"
   ]
  },
  {
   "cell_type": "code",
   "execution_count": 136,
   "id": "76ae2750",
   "metadata": {},
   "outputs": [
    {
     "name": "stdout",
     "output_type": "stream",
     "text": [
      "74 20\n"
     ]
    }
   ],
   "source": [
    "video = read_video_camera(n_frames=20,duration=3) # duration is for the human to take his time making the move"
   ]
  },
  {
   "cell_type": "markdown",
   "id": "a24636a9",
   "metadata": {},
   "source": [
    "### view the video"
   ]
  },
  {
   "cell_type": "code",
   "execution_count": 132,
   "id": "7b7ba4cf",
   "metadata": {},
   "outputs": [],
   "source": [
    "view_video(video)"
   ]
  },
  {
   "cell_type": "markdown",
   "id": "5ada188b",
   "metadata": {},
   "source": [
    "### make prediction"
   ]
  },
  {
   "cell_type": "code",
   "execution_count": 137,
   "id": "17729098",
   "metadata": {},
   "outputs": [],
   "source": [
    "key_points = extract_keypoints_video(video)"
   ]
  },
  {
   "cell_type": "code",
   "execution_count": 138,
   "id": "04f084c6",
   "metadata": {},
   "outputs": [
    {
     "name": "stdout",
     "output_type": "stream",
     "text": [
      "hurry 0.99999964\n"
     ]
    }
   ],
   "source": [
    "predection_array = model.predict(np.expand_dims(key_points, axis=0))[0]\n",
    "predection_id = np.argmax(predection_array)\n",
    "predection_label = actions[predection_id]\n",
    "predection_prob = predection_array[predection_id]\n",
    "print(predection_label,predection_prob)\n"
   ]
  },
  {
   "cell_type": "code",
   "execution_count": 131,
   "id": "206cae01",
   "metadata": {},
   "outputs": [
    {
     "data": {
      "text/plain": [
       "array([0.00219467, 0.09042753, 0.15158355, 0.75396156, 0.00183264],\n",
       "      dtype=float32)"
      ]
     },
     "execution_count": 131,
     "metadata": {},
     "output_type": "execute_result"
    }
   ],
   "source": [
    "predection_array"
   ]
  },
  {
   "cell_type": "code",
   "execution_count": 104,
   "id": "f6eb68b9",
   "metadata": {},
   "outputs": [
    {
     "data": {
      "text/plain": [
       "['sister', 'hurry', 'hungry', 'meal', 'tree']"
      ]
     },
     "execution_count": 104,
     "metadata": {},
     "output_type": "execute_result"
    }
   ],
   "source": [
    "actions"
   ]
  },
  {
   "cell_type": "code",
   "execution_count": null,
   "id": "ec856065",
   "metadata": {},
   "outputs": [],
   "source": []
  }
 ],
 "metadata": {
  "kernelspec": {
   "display_name": "Python 3 (ipykernel)",
   "language": "python",
   "name": "python3"
  },
  "language_info": {
   "codemirror_mode": {
    "name": "ipython",
    "version": 3
   },
   "file_extension": ".py",
   "mimetype": "text/x-python",
   "name": "python",
   "nbconvert_exporter": "python",
   "pygments_lexer": "ipython3",
   "version": "3.8.10"
  }
 },
 "nbformat": 4,
 "nbformat_minor": 5
}
