{
 "cells": [
  {
   "cell_type": "markdown",
   "id": "e0c03c2d",
   "metadata": {},
   "source": [
    "# 1 - install dependencies"
   ]
  },
  {
   "cell_type": "code",
   "execution_count": 1,
   "id": "0bffa97f",
   "metadata": {},
   "outputs": [],
   "source": [
    "import numpy as np\n",
    "import cv2 \n",
    "import os\n",
    "import mediapipe as mp\n",
    "import tensorflow as tf \n",
    "from tensorflow import keras\n",
    "import matplotlib.pyplot as plt\n",
    "import time\n",
    "import pandas as pd"
   ]
  },
  {
   "cell_type": "markdown",
   "id": "ef3e681a",
   "metadata": {},
   "source": [
    "# 2 - keypoints extractions and drawing"
   ]
  },
  {
   "cell_type": "code",
   "execution_count": 2,
   "id": "6c4d3678",
   "metadata": {},
   "outputs": [],
   "source": [
    "mp_holistic = mp.solutions.holistic\n",
    "mp_drawing = mp.solutions.drawing_utils\n",
    "\n",
    "num_hand_marks = 21\n",
    "num_pose_marks = 33\n",
    "\n",
    "\n",
    "# holistic model process image and return the results as keypoints\n",
    "def mediapipe_detection(image,model):\n",
    "    image  = cv2.cvtColor(image,cv2.COLOR_BGR2RGB)\n",
    "    image.flags.writeable = False\n",
    "    results = model.process(image)\n",
    "    image.flags.writeable = True\n",
    "    image  = cv2.cvtColor(image,cv2.COLOR_RGB2BGR)\n",
    "    return image,results\n",
    "    \n",
    "def draw_styled_landmarks(image,results):\n",
    "    # Draw pose connections\n",
    "    mp_drawing.draw_landmarks(image, results.pose_landmarks, mp_holistic.POSE_CONNECTIONS,\n",
    "                             mp_drawing.DrawingSpec(color=(80,22,10), thickness=2, circle_radius=4), \n",
    "                             mp_drawing.DrawingSpec(color=(80,44,121), thickness=2, circle_radius=2)\n",
    "                             ) \n",
    "    # Draw left hand connections\n",
    "    mp_drawing.draw_landmarks(image, results.left_hand_landmarks, mp_holistic.HAND_CONNECTIONS, \n",
    "                             mp_drawing.DrawingSpec(color=(121,22,76), thickness=2, circle_radius=4), \n",
    "                             mp_drawing.DrawingSpec(color=(121,44,250), thickness=2, circle_radius=2)\n",
    "                             ) \n",
    "    # Draw right hand connections  \n",
    "    mp_drawing.draw_landmarks(image, results.right_hand_landmarks, mp_holistic.HAND_CONNECTIONS, \n",
    "                             mp_drawing.DrawingSpec(color=(245,117,66), thickness=2, circle_radius=4), \n",
    "                             mp_drawing.DrawingSpec(color=(245,66,230), thickness=2, circle_radius=2)\n",
    "                             ) \n",
    "    \n",
    "\n",
    "# read the keypoints and extract them and process them\n",
    "def extract_keypoints(results):\n",
    "    # extract pose marks\n",
    "    if results.pose_landmarks:\n",
    "        pose = np.array([ [res.x,res.y,res.z,res.visibility] for res in results.pose_landmarks.landmark ]).flatten()\n",
    "    else:\n",
    "        pose = np.zeros(num_pose_marks*4)\n",
    "    \n",
    "    # extract left hand\n",
    "    if results.left_hand_landmarks:\n",
    "        left_hand = np.array([ [res.x,res.y,res.z] for res in results.left_hand_landmarks.landmark ]).flatten()\n",
    "    else:\n",
    "        left_hand = np.zeros(num_hand_marks*3)\n",
    "        \n",
    "        \n",
    "    # extract right hand\n",
    "    if results.right_hand_landmarks:\n",
    "        right_hand = np.array([ [res.x,res.y,res.z] for res in results.right_hand_landmarks.landmark ]).flatten()\n",
    "    else:\n",
    "        right_hand = np.zeros(num_hand_marks*3)\n",
    "    \n",
    "    return np.concatenate([pose,left_hand,right_hand])\n",
    "    "
   ]
  },
  {
   "cell_type": "markdown",
   "id": "f6a53451",
   "metadata": {},
   "source": [
    "# 3 - read and process data"
   ]
  },
  {
   "cell_type": "code",
   "execution_count": 3,
   "id": "7a26a4d4",
   "metadata": {},
   "outputs": [],
   "source": [
    "data_path = \"../../../data/Datasets/\"\n",
    "\n",
    "train_labels = pd.read_csv(os.path.join(data_path,\"train_labels.csv\"),names=['sample','id'])\n",
    "validation_labels = pd.read_csv(os.path.join(data_path,\"validation_labels.csv\"),names=['sample','id'])\n",
    "test_labels = pd.read_csv(os.path.join(data_path,\"test_labels.csv\"),names=['sample','id'])\n",
    "class_id = pd.read_csv(os.path.join(data_path,\"class_id.csv\"))\n",
    "\n",
    "\n",
    "    \n",
    "train_path = os.path.join(data_path,\"train\")\n",
    "val_path = os.path.join(data_path,\"val\")\n",
    "test_path = os.path.join(data_path,\"test\")\n",
    "\n"
   ]
  },
  {
   "cell_type": "code",
   "execution_count": 4,
   "id": "1b0631ba",
   "metadata": {},
   "outputs": [],
   "source": [
    "def check_file(file_path):\n",
    "    try:\n",
    "        f = open(file_path)\n",
    "        f.close()\n",
    "        return True\n",
    "    except IOError:\n",
    "        return False\n",
    "    \n",
    "    \n",
    "\n",
    "def construct_path(file,path=\"train\"):\n",
    "    return os.path.join(os.path.join(data_path,path),file+\"_color.mp4\")\n",
    "    "
   ]
  },
  {
   "cell_type": "markdown",
   "id": "6c96171e",
   "metadata": {},
   "source": [
    "### 3.1 collect data that in classes 0,1,2 and available in the data/train directory"
   ]
  },
  {
   "cell_type": "code",
   "execution_count": 5,
   "id": "e6e3cc2c",
   "metadata": {},
   "outputs": [],
   "source": [
    "n_actions = 20\n",
    "actions = list(class_id['EN'][:n_actions])\n",
    "dic={}\n",
    "for i,action in enumerate(actions):\n",
    "    dic[action]=i"
   ]
  },
  {
   "cell_type": "code",
   "execution_count": 6,
   "id": "0cf7da59",
   "metadata": {},
   "outputs": [],
   "source": [
    "def get_data(id,file_path):\n",
    "    if file_path==\"train\":\n",
    "        label_dic = train_labels\n",
    "    elif file_path==\"val\":\n",
    "        label_dic = validation_labels\n",
    "    elif file_path==\"test\":\n",
    "        label_dic = test_labels\n",
    "        \n",
    "    \n",
    "    data =  label_dic[label_dic['id']==id]\n",
    "    lis =  [construct_path(i,file_path) for i in  (data['sample'])]\n",
    "    data =  [i for i in lis if check_file(i)]\n",
    "    return data,[id for i in data]\n",
    "    \n",
    "\n",
    "    "
   ]
  },
  {
   "cell_type": "code",
   "execution_count": 7,
   "id": "c02e60cd",
   "metadata": {},
   "outputs": [],
   "source": [
    "\n",
    "\n",
    "train_X = [] \n",
    "train_Y = []\n",
    "val_X = [] \n",
    "val_Y = []\n",
    "test_X = [] \n",
    "test_Y = []\n",
    "\n",
    "for i in range(n_actions):\n",
    "    data,labels = get_data(i,'train')\n",
    "    train_X.extend(data)\n",
    "    train_Y.extend(labels)\n",
    "\n",
    "    \n",
    "for i in range(n_actions):\n",
    "    data,labels = get_data(i,'val')\n",
    "    val_X.extend(data)\n",
    "    val_Y.extend(labels)\n",
    "\n",
    "    \n",
    "for i in range(n_actions):\n",
    "    data,labels = get_data(i,'test')\n",
    "    test_X.extend(data)\n",
    "    test_Y.extend(labels)\n",
    "    "
   ]
  },
  {
   "cell_type": "code",
   "execution_count": 8,
   "id": "f6f2914c",
   "metadata": {},
   "outputs": [
    {
     "name": "stdout",
     "output_type": "stream",
     "text": [
      "2450 2450 382 382 328 328\n"
     ]
    }
   ],
   "source": [
    "print(\n",
    "    len(train_X ),\n",
    "len(train_Y),\n",
    "len(val_X ),\n",
    "len(val_Y),\n",
    "len(test_X ),\n",
    "len(test_Y)\n",
    ")"
   ]
  },
  {
   "cell_type": "markdown",
   "id": "a781311b",
   "metadata": {},
   "source": [
    "### 3.2 process videos into frames and label to cateogries"
   ]
  },
  {
   "cell_type": "code",
   "execution_count": 9,
   "id": "d602a5e6",
   "metadata": {},
   "outputs": [],
   "source": [
    "\n",
    "\n",
    "def capture_frames(video_path):\n",
    "    video = cv2.VideoCapture(video_path)\n",
    "    video_length = int(video.get(cv2.CAP_PROP_FRAME_COUNT)) - 1\n",
    "    # count = 0\n",
    "    # frame_rate = video.get(cv2.CAP_PROP_FRAME_COUNT)\n",
    "\n",
    "    count=0\n",
    "    frames = []\n",
    "    while video.isOpened():\n",
    "      # frame_id = video.get(0)\n",
    "        ret, frame = video.read()\n",
    "        \n",
    "        if not ret:\n",
    "            continue\n",
    "        frames.append(frame)\n",
    "        count += 1\n",
    "        # If there are no more frames left\n",
    "        if (count > (video_length-1)):\n",
    "          # Release the feed\n",
    "          video.release()\n",
    "        # if frame_id % math.floor(1) == 0:\n",
    "        #     file_name = f\"{video_path}_frame_{count}.jpg\"\n",
    "        #     count += 1\n",
    "        #     # print(f\"File name: {file_name}\")\n",
    "        #     frames.append(frame)\n",
    "        #     # cv2.imwrite(file_name, frame)\n",
    "    video.release()\n",
    "    return np.array(frames)\n",
    "\n",
    "\n",
    "def get_frames(video_path,num_frames):\n",
    "    frames = capture_frames(video_path)\n",
    "    video_length = len(frames)\n",
    "    steps = video_length/num_frames\n",
    "    count=0\n",
    "    new_frames=[]\n",
    "    while count<video_length:\n",
    "        frame = frames[int(count)]\n",
    "#         frame = cv2.resize(frame, (256, 256))\n",
    "#         frame =  (frame/255.0).astype(np.float16)\n",
    "        new_frames.append(frame)\n",
    "        count+=steps\n",
    "\n",
    "    s = np.array(new_frames[:num_frames])\n",
    "    print(\"SHAPE\",s.shape)\n",
    "    return np.array(new_frames[:num_frames])\n"
   ]
  },
  {
   "cell_type": "code",
   "execution_count": 10,
   "id": "781d6db1",
   "metadata": {},
   "outputs": [],
   "source": [
    "def extract_keypoints_video(path,i=-1):\n",
    "    \n",
    "    if(i!=-1):\n",
    "        print(i,end=\"\\r\")\n",
    "    \n",
    "    if(type(path) == str):\n",
    "        frames = get_frames(path,20)\n",
    "    frames = path\n",
    "    output_key_points=[]\n",
    "    with mp_holistic.Holistic(min_detection_confidence=0.5, min_tracking_confidence=0.5) as holistic:\n",
    "        for frame in frames:\n",
    "            image, results = mediapipe_detection(frame, holistic)\n",
    "            output_key_points.append(extract_keypoints(results))\n",
    "    return np.array(output_key_points)\n",
    "    "
   ]
  },
  {
   "cell_type": "markdown",
   "id": "fb4424e1",
   "metadata": {},
   "source": [
    "### 3.3 - extract the keypoints and save them in train"
   ]
  },
  {
   "cell_type": "code",
   "execution_count": 11,
   "id": "16b5ad3d",
   "metadata": {},
   "outputs": [],
   "source": [
    "if \"train_features:0-20.npy\" in os.listdir():\n",
    "    train_data = np.load(\"train_features:0-20.npy\")\n",
    "    val_data = np.load(\"val_features:0-20.npy\")\n",
    "    test_data = np.load(\"test_features:0-20.npy\")\n",
    "    train_labels = np.load(\"train_labels:0-20.npy\")\n",
    "    val_labels = np.load(\"val_labels:0-20.npy\")\n",
    "    test_labels = np.load(\"test_labels:0-20.npy\")\n",
    "else:\n",
    "    train = np.array([extract_keypoints_video(path,f'iteration : {i+1}/{len(train_X)}') for i,path in enumerate(train_X) ])\n",
    "    np.save('train_features:0-20.npy', train) \n",
    "    val = np.array([extract_keypoints_video(path,f'iteration : {i+1}/{len(val_X)}') for i,path in enumerate(val_X) ])\n",
    "    np.save('val_features:0-20.npy', val) \n",
    "    test = np.array([extract_keypoints_video(path,f'iteration : {i+1}/{len(test_X)}') for i,path in enumerate(test_X) ])\n",
    "    np.save('test_features:0-20.npy', test)\n",
    "    np.save(\"train_labels:0-20.npy\",np.array(train_Y))\n",
    "    np.save(\"val_labels:0-20.npy\",np.array(val_Y))\n",
    "    np.save(\"test_labels:0-20.npy\",np.array(test_Y))"
   ]
  },
  {
   "cell_type": "code",
   "execution_count": 12,
   "id": "6e1b1216",
   "metadata": {
    "scrolled": true
   },
   "outputs": [
    {
     "name": "stdout",
     "output_type": "stream",
     "text": [
      "(2450, 20, 258) (2450,) (382, 20, 258) (382,) (328, 20, 258) (328,)\n"
     ]
    }
   ],
   "source": [
    "print(\n",
    "train_data.shape,\n",
    "    train_labels.shape,\n",
    "    val_data.shape,\n",
    "    val_labels.shape,\n",
    "    test_data.shape,\n",
    "    test_labels.shape\n",
    "    \n",
    ")"
   ]
  },
  {
   "cell_type": "markdown",
   "id": "b0fb9834",
   "metadata": {},
   "source": [
    "### 3.4 split the data (training,testing)"
   ]
  },
  {
   "cell_type": "code",
   "execution_count": 13,
   "id": "3230f83e",
   "metadata": {},
   "outputs": [],
   "source": [
    "perm = np.random.permutation(len(train_data))\n",
    "\n",
    "train_X = train_data[perm]\n",
    "train_Y = train_labels[perm]\n",
    "val_X = val_data\n",
    "val_Y = val_labels\n",
    "test_X = test_data\n",
    "test_Y = test_labels\n"
   ]
  },
  {
   "cell_type": "code",
   "execution_count": 14,
   "id": "10087b94",
   "metadata": {},
   "outputs": [
    {
     "name": "stdout",
     "output_type": "stream",
     "text": [
      "(2450, 20, 258) (2450,) (382, 20, 258) (382,) (328, 20, 258) (328,)\n"
     ]
    }
   ],
   "source": [
    "print(\n",
    "train_X.shape,\n",
    "train_Y.shape,\n",
    "val_X.shape,\n",
    "val_Y.shape,\n",
    "test_X.shape,\n",
    "test_Y.shape,\n",
    ")"
   ]
  },
  {
   "cell_type": "markdown",
   "id": "e742a5d4",
   "metadata": {},
   "source": [
    "# 4 - build the model"
   ]
  },
  {
   "cell_type": "code",
   "execution_count": 15,
   "id": "c0c15994",
   "metadata": {},
   "outputs": [],
   "source": [
    "from tensorflow.keras.models import Sequential\n",
    "from tensorflow.keras.layers import LSTM, Dense,Input,Dropout\n",
    "from tensorflow.keras.models import Model\n",
    "from tensorflow.keras.callbacks import TensorBoard,ModelCheckpoint,EarlyStopping\n",
    "\n",
    "\n",
    "tb_callback = TensorBoard(log_dir=os.path.join('Logs'))\n",
    "checkpoint = ModelCheckpoint(\"best_model.h5\", monitor='loss', verbose=0,\n",
    "    save_best_only=True, mode='auto', save_freq=1)\n",
    "earlyStopping = EarlyStopping(monitor='loss', patience=20)"
   ]
  },
  {
   "cell_type": "code",
   "execution_count": 31,
   "id": "dfdeb079",
   "metadata": {},
   "outputs": [
    {
     "name": "stdout",
     "output_type": "stream",
     "text": [
      "WARNING:tensorflow:Layer lstm_15 will not use cuDNN kernels since it doesn't meet the criteria. It will use a generic GPU kernel as fallback when running on GPU.\n",
      "WARNING:tensorflow:Layer lstm_16 will not use cuDNN kernels since it doesn't meet the criteria. It will use a generic GPU kernel as fallback when running on GPU.\n",
      "WARNING:tensorflow:Layer lstm_17 will not use cuDNN kernels since it doesn't meet the criteria. It will use a generic GPU kernel as fallback when running on GPU.\n",
      "WARNING:tensorflow:Layer lstm_18 will not use cuDNN kernels since it doesn't meet the criteria. It will use a generic GPU kernel as fallback when running on GPU.\n",
      "WARNING:tensorflow:Layer lstm_19 will not use cuDNN kernels since it doesn't meet the criteria. It will use a generic GPU kernel as fallback when running on GPU.\n"
     ]
    }
   ],
   "source": [
    "def first_model():\n",
    "    input_layer = Input(shape=(20,258))\n",
    "    layer = LSTM(64,return_sequences=True,activation=\"relu\")(input_layer)\n",
    "    layer = LSTM(128,return_sequences=True,activation=\"relu\")(layer)\n",
    "    layer = LSTM(256,return_sequences=True,activation=\"relu\")(layer)\n",
    "    layer = LSTM(128,return_sequences=True,activation=\"relu\")(layer)\n",
    "    layer = LSTM(64,return_sequences=False,activation=\"relu\")(layer)\n",
    "    layer = Dense(64,activation=\"relu\")(layer)\n",
    "    layer = Dense(32,activation=\"relu\")(layer)\n",
    "    layer = Dense(len(actions),activation=\"softmax\")(layer)\n",
    "\n",
    "    model = Model(inputs=input_layer,outputs=layer)\n",
    "    model.compile(optimizer='Adam', loss='sparse_categorical_crossentropy', metrics=['accuracy'])\n",
    "    \n",
    "    return model\n",
    "\n",
    "\n",
    "def second_model():\n",
    "    input_layer = Input(shape=(20,258))\n",
    "    layer = LSTM(64,return_sequences=True,activation=\"relu\")(input_layer)\n",
    "    layer = LSTM(128,return_sequences=True,activation=\"relu\")(layer)\n",
    "    layer = Dropout(0.3)(layer)\n",
    "    layer = LSTM(128,return_sequences=True,activation=\"relu\")(layer)\n",
    "    layer = Dropout(0.3)(layer)\n",
    "    layer = LSTM(64,return_sequences=False,activation=\"relu\")(layer)\n",
    "    layer = Dense(64,activation=\"relu\")(layer)\n",
    "    layer = Dense(32,activation=\"relu\")(layer)\n",
    "    layer = Dense(len(actions),activation=\"softmax\")(layer)\n",
    "\n",
    "    model = Model(inputs=input_layer,outputs=layer)\n",
    "    model.compile(optimizer='Adam', loss='sparse_categorical_crossentropy', metrics=['categorical_accuracy'])\n",
    "    \n",
    "    return model\n",
    "\n",
    "def third_model():\n",
    "    input_layer = Input(shape=(20,258))\n",
    "    layer = LSTM(64,return_sequences=True,activation=\"relu\")(input_layer)\n",
    "    layer = LSTM(128,return_sequences=True,activation=\"relu\")(layer)\n",
    "    layer = LSTM(64,return_sequences=False,activation=\"relu\")(layer)\n",
    "    layer = Dense(64,activation=\"relu\")(layer)\n",
    "    layer = Dense(32,activation=\"relu\")(layer)\n",
    "    layer = Dense(len(actions),activation=\"softmax\")(layer)\n",
    "\n",
    "    model = Model(inputs=input_layer,outputs=layer)\n",
    "    model.compile(optimizer='Adam', loss='sparse_categorical_crossentropy', metrics=['categorical_accuracy'])\n",
    "    \n",
    "    return model\n",
    "\n",
    "\n",
    "model = first_model()"
   ]
  },
  {
   "cell_type": "code",
   "execution_count": 43,
   "id": "b631cd6f",
   "metadata": {},
   "outputs": [],
   "source": [
    "model.load_weights('best_model.h5')"
   ]
  },
  {
   "cell_type": "code",
   "execution_count": 33,
   "id": "330f87ff",
   "metadata": {},
   "outputs": [
    {
     "name": "stdout",
     "output_type": "stream",
     "text": [
      "Model: \"model_3\"\n",
      "_________________________________________________________________\n",
      " Layer (type)                Output Shape              Param #   \n",
      "=================================================================\n",
      " input_4 (InputLayer)        [(None, 20, 258)]         0         \n",
      "                                                                 \n",
      " lstm_15 (LSTM)              (None, 20, 64)            82688     \n",
      "                                                                 \n",
      " lstm_16 (LSTM)              (None, 20, 128)           98816     \n",
      "                                                                 \n",
      " lstm_17 (LSTM)              (None, 20, 256)           394240    \n",
      "                                                                 \n",
      " lstm_18 (LSTM)              (None, 20, 128)           197120    \n",
      "                                                                 \n",
      " lstm_19 (LSTM)              (None, 64)                49408     \n",
      "                                                                 \n",
      " dense_9 (Dense)             (None, 64)                4160      \n",
      "                                                                 \n",
      " dense_10 (Dense)            (None, 32)                2080      \n",
      "                                                                 \n",
      " dense_11 (Dense)            (None, 20)                660       \n",
      "                                                                 \n",
      "=================================================================\n",
      "Total params: 829,172\n",
      "Trainable params: 829,172\n",
      "Non-trainable params: 0\n",
      "_________________________________________________________________\n"
     ]
    }
   ],
   "source": [
    "model.summary()"
   ]
  },
  {
   "cell_type": "code",
   "execution_count": 30,
   "id": "0b3a24e8",
   "metadata": {},
   "outputs": [
    {
     "data": {
      "text/plain": [
       "array([14, 18,  0, 10, 13, 19,  9, 15,  3, 17,  6,  9, 12, 16,  6,  5, 13,\n",
       "       19, 12, 15, 13,  1,  9,  0, 16,  8, 15,  2, 14,  5,  6,  9,  3, 16,\n",
       "        1,  1, 15,  4,  1, 11])"
      ]
     },
     "execution_count": 30,
     "metadata": {},
     "output_type": "execute_result"
    }
   ],
   "source": [
    "train_Y[0:40]"
   ]
  },
  {
   "cell_type": "code",
   "execution_count": 34,
   "id": "8a38fd8e",
   "metadata": {
    "scrolled": true
   },
   "outputs": [
    {
     "name": "stdout",
     "output_type": "stream",
     "text": [
      "Epoch 1/100\n",
      "77/77 [==============================] - 9s 85ms/step - loss: 2.4501 - accuracy: 0.1114 - val_loss: 2.4617 - val_accuracy: 0.1021\n",
      "Epoch 2/100\n",
      "77/77 [==============================] - 6s 78ms/step - loss: 2.4187 - accuracy: 0.1037 - val_loss: 2.4525 - val_accuracy: 0.1204\n",
      "Epoch 3/100\n",
      "77/77 [==============================] - 6s 78ms/step - loss: 2.3710 - accuracy: 0.1073 - val_loss: 2.4300 - val_accuracy: 0.1335\n",
      "Epoch 4/100\n",
      "77/77 [==============================] - 6s 78ms/step - loss: 2.3565 - accuracy: 0.1171 - val_loss: 2.3534 - val_accuracy: 0.1754\n",
      "Epoch 5/100\n",
      "77/77 [==============================] - 6s 77ms/step - loss: 2.2904 - accuracy: 0.1376 - val_loss: 2.2291 - val_accuracy: 0.1754\n",
      "Epoch 6/100\n",
      "77/77 [==============================] - 7s 92ms/step - loss: 2.1861 - accuracy: 0.1722 - val_loss: 2.2356 - val_accuracy: 0.1754\n",
      "Epoch 7/100\n",
      "77/77 [==============================] - 6s 80ms/step - loss: 2.2433 - accuracy: 0.1735 - val_loss: 2.1033 - val_accuracy: 0.2094\n",
      "Epoch 8/100\n",
      "77/77 [==============================] - 6s 84ms/step - loss: 2.0700 - accuracy: 0.2196 - val_loss: 2.0554 - val_accuracy: 0.2513\n",
      "Epoch 9/100\n",
      "77/77 [==============================] - 6s 83ms/step - loss: 2.0193 - accuracy: 0.2282 - val_loss: 1.9154 - val_accuracy: 0.2513\n",
      "Epoch 10/100\n",
      "77/77 [==============================] - 6s 79ms/step - loss: 1.9095 - accuracy: 0.2608 - val_loss: 1.9816 - val_accuracy: 0.3115\n",
      "Epoch 11/100\n",
      "77/77 [==============================] - 6s 78ms/step - loss: 1.8602 - accuracy: 0.2788 - val_loss: 1.9263 - val_accuracy: 0.2644\n",
      "Epoch 12/100\n",
      "77/77 [==============================] - 6s 83ms/step - loss: 1.7699 - accuracy: 0.2849 - val_loss: 1.8199 - val_accuracy: 0.3141\n",
      "Epoch 13/100\n",
      "77/77 [==============================] - 6s 78ms/step - loss: 1.6889 - accuracy: 0.3139 - val_loss: 1.8188 - val_accuracy: 0.3141\n",
      "Epoch 14/100\n",
      "77/77 [==============================] - 6s 78ms/step - loss: 1.6751 - accuracy: 0.3265 - val_loss: 1.7300 - val_accuracy: 0.3272\n",
      "Epoch 15/100\n",
      "77/77 [==============================] - 6s 78ms/step - loss: 1.6401 - accuracy: 0.3355 - val_loss: 1.6242 - val_accuracy: 0.3508\n",
      "Epoch 16/100\n",
      "77/77 [==============================] - 6s 81ms/step - loss: 1.5908 - accuracy: 0.3596 - val_loss: 1.7592 - val_accuracy: 0.3351\n",
      "Epoch 17/100\n",
      "77/77 [==============================] - 6s 78ms/step - loss: 1.4911 - accuracy: 0.3824 - val_loss: 1.5833 - val_accuracy: 0.4215\n",
      "Epoch 18/100\n",
      "77/77 [==============================] - 6s 78ms/step - loss: 1.5009 - accuracy: 0.3718 - val_loss: 1.5925 - val_accuracy: 0.3743\n",
      "Epoch 19/100\n",
      "77/77 [==============================] - 6s 79ms/step - loss: 1.4461 - accuracy: 0.4090 - val_loss: 1.6986 - val_accuracy: 0.3743\n",
      "Epoch 20/100\n",
      "77/77 [==============================] - 6s 78ms/step - loss: 1.4168 - accuracy: 0.4192 - val_loss: 1.5564 - val_accuracy: 0.4450\n",
      "Epoch 21/100\n",
      "77/77 [==============================] - 6s 79ms/step - loss: 1.3733 - accuracy: 0.4371 - val_loss: 1.8593 - val_accuracy: 0.3691\n",
      "Epoch 22/100\n",
      "77/77 [==============================] - 6s 78ms/step - loss: 1.4020 - accuracy: 0.4098 - val_loss: 1.6100 - val_accuracy: 0.3272\n",
      "Epoch 23/100\n",
      "77/77 [==============================] - 6s 78ms/step - loss: 1.2693 - accuracy: 0.4653 - val_loss: 1.4609 - val_accuracy: 0.4634\n",
      "Epoch 24/100\n",
      "77/77 [==============================] - 6s 78ms/step - loss: 1.4413 - accuracy: 0.4322 - val_loss: 1.3049 - val_accuracy: 0.4581\n",
      "Epoch 25/100\n",
      "77/77 [==============================] - 6s 78ms/step - loss: 1.2554 - accuracy: 0.4849 - val_loss: 1.5301 - val_accuracy: 0.4110\n",
      "Epoch 26/100\n",
      "77/77 [==============================] - 6s 77ms/step - loss: 1.2517 - accuracy: 0.4796 - val_loss: 1.6125 - val_accuracy: 0.3953\n",
      "Epoch 27/100\n",
      "77/77 [==============================] - 6s 78ms/step - loss: 1.4279 - accuracy: 0.4706 - val_loss: 1.9094 - val_accuracy: 0.3115\n",
      "Epoch 28/100\n",
      "77/77 [==============================] - 6s 78ms/step - loss: 1.6914 - accuracy: 0.3580 - val_loss: 1.5244 - val_accuracy: 0.4031\n",
      "Epoch 29/100\n",
      "77/77 [==============================] - 6s 80ms/step - loss: 1.2392 - accuracy: 0.4686 - val_loss: 1.4256 - val_accuracy: 0.5183\n",
      "Epoch 30/100\n",
      "77/77 [==============================] - 6s 78ms/step - loss: 1.2360 - accuracy: 0.5041 - val_loss: 1.3725 - val_accuracy: 0.4895\n",
      "Epoch 31/100\n",
      "77/77 [==============================] - 6s 77ms/step - loss: 1.1238 - accuracy: 0.5257 - val_loss: 1.5845 - val_accuracy: 0.4293\n",
      "Epoch 32/100\n",
      "77/77 [==============================] - 6s 78ms/step - loss: 1.0621 - accuracy: 0.5641 - val_loss: 1.3516 - val_accuracy: 0.5576\n",
      "Epoch 33/100\n",
      "77/77 [==============================] - 6s 78ms/step - loss: 1.1275 - accuracy: 0.5359 - val_loss: 1.4674 - val_accuracy: 0.4660\n",
      "Epoch 34/100\n",
      "77/77 [==============================] - 6s 78ms/step - loss: 1.0542 - accuracy: 0.5653 - val_loss: 1.2996 - val_accuracy: 0.5288\n",
      "Epoch 35/100\n",
      "77/77 [==============================] - 6s 80ms/step - loss: 1.0380 - accuracy: 0.5845 - val_loss: 1.2340 - val_accuracy: 0.4895\n",
      "Epoch 36/100\n",
      "77/77 [==============================] - 6s 78ms/step - loss: 0.9755 - accuracy: 0.5882 - val_loss: 1.2198 - val_accuracy: 0.5838\n",
      "Epoch 37/100\n",
      "77/77 [==============================] - 6s 79ms/step - loss: 0.8755 - accuracy: 0.6355 - val_loss: 1.1986 - val_accuracy: 0.5942\n",
      "Epoch 38/100\n",
      "77/77 [==============================] - 9s 118ms/step - loss: 0.9067 - accuracy: 0.6155 - val_loss: 1.5159 - val_accuracy: 0.5236\n",
      "Epoch 39/100\n",
      "77/77 [==============================] - 19s 243ms/step - loss: 1.0091 - accuracy: 0.6118 - val_loss: 2.0118 - val_accuracy: 0.3953\n",
      "Epoch 40/100\n",
      "77/77 [==============================] - 18s 236ms/step - loss: 1.0639 - accuracy: 0.5873 - val_loss: 1.2650 - val_accuracy: 0.5707\n",
      "Epoch 41/100\n",
      "77/77 [==============================] - 18s 242ms/step - loss: 0.8728 - accuracy: 0.6331 - val_loss: 1.3605 - val_accuracy: 0.5209\n",
      "Epoch 42/100\n",
      "77/77 [==============================] - 17s 224ms/step - loss: 0.9217 - accuracy: 0.6314 - val_loss: 1.2937 - val_accuracy: 0.6021\n",
      "Epoch 43/100\n",
      "77/77 [==============================] - 13s 171ms/step - loss: 0.8299 - accuracy: 0.6682 - val_loss: 1.2034 - val_accuracy: 0.5628\n",
      "Epoch 44/100\n",
      "77/77 [==============================] - 6s 78ms/step - loss: 0.8734 - accuracy: 0.6424 - val_loss: 1.1872 - val_accuracy: 0.5916\n",
      "Epoch 45/100\n",
      "77/77 [==============================] - 6s 78ms/step - loss: 0.7756 - accuracy: 0.6743 - val_loss: 1.2696 - val_accuracy: 0.5654\n",
      "Epoch 46/100\n",
      "77/77 [==============================] - 6s 78ms/step - loss: 0.7334 - accuracy: 0.6984 - val_loss: 1.1124 - val_accuracy: 0.5995\n",
      "Epoch 47/100\n",
      "77/77 [==============================] - 6s 78ms/step - loss: 0.8075 - accuracy: 0.6743 - val_loss: 1.1255 - val_accuracy: 0.5916\n",
      "Epoch 48/100\n",
      "77/77 [==============================] - 6s 78ms/step - loss: 0.7890 - accuracy: 0.6751 - val_loss: 1.1733 - val_accuracy: 0.6178\n",
      "Epoch 49/100\n",
      "77/77 [==============================] - 6s 78ms/step - loss: 0.6909 - accuracy: 0.7073 - val_loss: 1.1040 - val_accuracy: 0.6597\n",
      "Epoch 50/100\n",
      "77/77 [==============================] - 6s 79ms/step - loss: 0.7629 - accuracy: 0.6935 - val_loss: 1.2085 - val_accuracy: 0.5916\n",
      "Epoch 51/100\n",
      "77/77 [==============================] - 6s 78ms/step - loss: 0.7228 - accuracy: 0.7029 - val_loss: 1.1120 - val_accuracy: 0.6623\n",
      "Epoch 52/100\n",
      "77/77 [==============================] - 6s 77ms/step - loss: 0.5855 - accuracy: 0.7482 - val_loss: 1.1185 - val_accuracy: 0.6597\n",
      "Epoch 53/100\n",
      "77/77 [==============================] - 6s 78ms/step - loss: 0.5762 - accuracy: 0.7563 - val_loss: 1.3284 - val_accuracy: 0.6099\n",
      "Epoch 54/100\n",
      "77/77 [==============================] - 6s 79ms/step - loss: 0.6230 - accuracy: 0.7469 - val_loss: 1.1280 - val_accuracy: 0.6728\n",
      "Epoch 55/100\n",
      "77/77 [==============================] - 6s 78ms/step - loss: 0.6865 - accuracy: 0.7269 - val_loss: 1.2206 - val_accuracy: 0.6257\n",
      "Epoch 56/100\n",
      "77/77 [==============================] - 6s 78ms/step - loss: 0.6013 - accuracy: 0.7592 - val_loss: 1.0199 - val_accuracy: 0.6414\n",
      "Epoch 57/100\n",
      "77/77 [==============================] - 6s 78ms/step - loss: 0.5546 - accuracy: 0.7743 - val_loss: 1.1805 - val_accuracy: 0.6309\n",
      "Epoch 58/100\n"
     ]
    },
    {
     "name": "stdout",
     "output_type": "stream",
     "text": [
      "77/77 [==============================] - 6s 78ms/step - loss: 0.5912 - accuracy: 0.7600 - val_loss: 1.1598 - val_accuracy: 0.6466\n",
      "Epoch 59/100\n",
      "77/77 [==============================] - 6s 77ms/step - loss: 0.5894 - accuracy: 0.7624 - val_loss: 1.3582 - val_accuracy: 0.5733\n",
      "Epoch 60/100\n",
      "77/77 [==============================] - 6s 78ms/step - loss: 0.6250 - accuracy: 0.7555 - val_loss: 1.3928 - val_accuracy: 0.5995\n",
      "Epoch 61/100\n",
      "77/77 [==============================] - 10s 130ms/step - loss: 0.7356 - accuracy: 0.7229 - val_loss: 1.1614 - val_accuracy: 0.6518\n",
      "Epoch 62/100\n",
      "77/77 [==============================] - 18s 235ms/step - loss: 0.6382 - accuracy: 0.7327 - val_loss: 1.2551 - val_accuracy: 0.6597\n",
      "Epoch 63/100\n",
      "77/77 [==============================] - 17s 223ms/step - loss: 0.5324 - accuracy: 0.7812 - val_loss: 1.3139 - val_accuracy: 0.6178\n",
      "Epoch 64/100\n",
      "77/77 [==============================] - 18s 233ms/step - loss: 0.4520 - accuracy: 0.8122 - val_loss: 1.2684 - val_accuracy: 0.6492\n",
      "Epoch 65/100\n",
      "77/77 [==============================] - 17s 225ms/step - loss: 0.5627 - accuracy: 0.7784 - val_loss: 1.0339 - val_accuracy: 0.6466\n",
      "Epoch 66/100\n",
      "77/77 [==============================] - 17s 222ms/step - loss: 0.5185 - accuracy: 0.8000 - val_loss: 1.4044 - val_accuracy: 0.5759\n",
      "Epoch 67/100\n",
      "77/77 [==============================] - 17s 222ms/step - loss: 0.4568 - accuracy: 0.8114 - val_loss: 1.2149 - val_accuracy: 0.6806\n",
      "Epoch 68/100\n",
      "77/77 [==============================] - 17s 222ms/step - loss: 0.4843 - accuracy: 0.7967 - val_loss: 1.4515 - val_accuracy: 0.6099\n",
      "Epoch 69/100\n",
      "77/77 [==============================] - 17s 223ms/step - loss: 0.5133 - accuracy: 0.7988 - val_loss: 1.1365 - val_accuracy: 0.6963\n",
      "Epoch 70/100\n",
      "77/77 [==============================] - 17s 224ms/step - loss: 0.4274 - accuracy: 0.8159 - val_loss: 1.1842 - val_accuracy: 0.6492\n",
      "Epoch 71/100\n",
      "77/77 [==============================] - 17s 222ms/step - loss: 0.4767 - accuracy: 0.8151 - val_loss: 1.0460 - val_accuracy: 0.6675\n",
      "Epoch 72/100\n",
      "77/77 [==============================] - 16s 215ms/step - loss: 0.4667 - accuracy: 0.8004 - val_loss: 1.0999 - val_accuracy: 0.6963\n",
      "Epoch 73/100\n",
      "77/77 [==============================] - 18s 222ms/step - loss: 0.5828 - accuracy: 0.7710 - val_loss: 1.1805 - val_accuracy: 0.6728\n",
      "Epoch 74/100\n",
      "77/77 [==============================] - 17s 222ms/step - loss: 0.4217 - accuracy: 0.8265 - val_loss: 1.4578 - val_accuracy: 0.5995\n",
      "Epoch 75/100\n",
      "77/77 [==============================] - 17s 224ms/step - loss: 0.4858 - accuracy: 0.8094 - val_loss: 1.0862 - val_accuracy: 0.6859\n",
      "Epoch 76/100\n",
      "77/77 [==============================] - 17s 224ms/step - loss: 0.6492 - accuracy: 0.7669 - val_loss: 0.9939 - val_accuracy: 0.6754\n",
      "Epoch 77/100\n",
      "77/77 [==============================] - 17s 223ms/step - loss: 0.5105 - accuracy: 0.8086 - val_loss: 1.2368 - val_accuracy: 0.6230\n",
      "Epoch 78/100\n",
      "77/77 [==============================] - 17s 222ms/step - loss: 0.3977 - accuracy: 0.8441 - val_loss: 1.2346 - val_accuracy: 0.6230\n",
      "Epoch 79/100\n",
      "77/77 [==============================] - 17s 221ms/step - loss: 0.4530 - accuracy: 0.8176 - val_loss: 1.2920 - val_accuracy: 0.6571\n",
      "Epoch 80/100\n",
      "77/77 [==============================] - 17s 222ms/step - loss: 0.4806 - accuracy: 0.8159 - val_loss: 1.2164 - val_accuracy: 0.6728\n",
      "Epoch 81/100\n",
      "77/77 [==============================] - 17s 225ms/step - loss: 0.4768 - accuracy: 0.8086 - val_loss: 1.0183 - val_accuracy: 0.7225\n",
      "Epoch 82/100\n",
      "77/77 [==============================] - 17s 222ms/step - loss: 0.3830 - accuracy: 0.8547 - val_loss: 1.1935 - val_accuracy: 0.6126\n",
      "Epoch 83/100\n",
      "77/77 [==============================] - 17s 222ms/step - loss: 0.4058 - accuracy: 0.8384 - val_loss: 1.0757 - val_accuracy: 0.7042\n",
      "Epoch 84/100\n",
      "77/77 [==============================] - 17s 222ms/step - loss: 0.2921 - accuracy: 0.8853 - val_loss: 1.3021 - val_accuracy: 0.6832\n",
      "Epoch 85/100\n",
      "77/77 [==============================] - 17s 222ms/step - loss: 0.3475 - accuracy: 0.8649 - val_loss: 1.3268 - val_accuracy: 0.6702\n",
      "Epoch 86/100\n",
      "77/77 [==============================] - 17s 222ms/step - loss: 0.3297 - accuracy: 0.8710 - val_loss: 1.2666 - val_accuracy: 0.7016\n",
      "Epoch 87/100\n",
      "77/77 [==============================] - 16s 208ms/step - loss: 0.3144 - accuracy: 0.8755 - val_loss: 1.4856 - val_accuracy: 0.6440\n",
      "Epoch 88/100\n",
      "77/77 [==============================] - 6s 78ms/step - loss: 0.3838 - accuracy: 0.8551 - val_loss: 1.4355 - val_accuracy: 0.6571\n",
      "Epoch 89/100\n",
      "77/77 [==============================] - 6s 78ms/step - loss: 0.3415 - accuracy: 0.8702 - val_loss: 1.2519 - val_accuracy: 0.6754\n",
      "Epoch 90/100\n",
      "77/77 [==============================] - 6s 79ms/step - loss: 0.3866 - accuracy: 0.8547 - val_loss: 1.3908 - val_accuracy: 0.7016\n",
      "Epoch 91/100\n",
      "77/77 [==============================] - 6s 77ms/step - loss: 0.2831 - accuracy: 0.8890 - val_loss: 1.3779 - val_accuracy: 0.6990\n",
      "Epoch 92/100\n",
      "77/77 [==============================] - 6s 78ms/step - loss: 0.4002 - accuracy: 0.8531 - val_loss: 1.4049 - val_accuracy: 0.6623\n",
      "Epoch 93/100\n",
      "77/77 [==============================] - 6s 78ms/step - loss: 0.2834 - accuracy: 0.8922 - val_loss: 1.2193 - val_accuracy: 0.7251\n",
      "Epoch 94/100\n",
      "77/77 [==============================] - 6s 78ms/step - loss: 0.3334 - accuracy: 0.8694 - val_loss: 1.2353 - val_accuracy: 0.6545\n",
      "Epoch 95/100\n",
      "77/77 [==============================] - 6s 78ms/step - loss: 0.2879 - accuracy: 0.8865 - val_loss: 1.3293 - val_accuracy: 0.6832\n",
      "Epoch 96/100\n",
      "77/77 [==============================] - 6s 78ms/step - loss: 0.2290 - accuracy: 0.9069 - val_loss: 1.3985 - val_accuracy: 0.6806\n",
      "Epoch 97/100\n",
      "77/77 [==============================] - 6s 78ms/step - loss: 0.3124 - accuracy: 0.8824 - val_loss: 1.2805 - val_accuracy: 0.6754\n",
      "Epoch 98/100\n",
      "77/77 [==============================] - 6s 78ms/step - loss: 0.2355 - accuracy: 0.9045 - val_loss: 1.1642 - val_accuracy: 0.7408\n",
      "Epoch 99/100\n",
      "77/77 [==============================] - 6s 78ms/step - loss: 0.3517 - accuracy: 0.8706 - val_loss: 1.2176 - val_accuracy: 0.6545\n",
      "Epoch 100/100\n",
      "77/77 [==============================] - 6s 79ms/step - loss: 0.2604 - accuracy: 0.9020 - val_loss: 1.5123 - val_accuracy: 0.6623\n"
     ]
    }
   ],
   "source": [
    "history = model.fit(train_X, train_Y, epochs=100, callbacks=[tb_callback,checkpoint,earlyStopping],validation_data=(val_X,val_Y))"
   ]
  },
  {
   "cell_type": "code",
   "execution_count": 35,
   "id": "9a29abe8",
   "metadata": {},
   "outputs": [
    {
     "name": "stdout",
     "output_type": "stream",
     "text": [
      "Epoch 1/100\n",
      "77/77 [==============================] - 6s 79ms/step - loss: 0.3114 - accuracy: 0.8792 - val_loss: 1.2101 - val_accuracy: 0.7251\n",
      "Epoch 2/100\n",
      "77/77 [==============================] - 6s 78ms/step - loss: 0.3184 - accuracy: 0.8857 - val_loss: 1.4796 - val_accuracy: 0.6361\n",
      "Epoch 3/100\n",
      "77/77 [==============================] - 6s 77ms/step - loss: 0.2862 - accuracy: 0.8967 - val_loss: 1.6445 - val_accuracy: 0.6178\n",
      "Epoch 4/100\n",
      "77/77 [==============================] - 6s 77ms/step - loss: 0.3504 - accuracy: 0.8804 - val_loss: 0.9460 - val_accuracy: 0.7173\n",
      "Epoch 5/100\n",
      "77/77 [==============================] - 6s 77ms/step - loss: 0.2472 - accuracy: 0.9041 - val_loss: 1.2549 - val_accuracy: 0.7094\n",
      "Epoch 6/100\n",
      "77/77 [==============================] - 6s 79ms/step - loss: 0.2328 - accuracy: 0.9069 - val_loss: 1.3645 - val_accuracy: 0.6571\n",
      "Epoch 7/100\n",
      "77/77 [==============================] - 6s 78ms/step - loss: 0.2509 - accuracy: 0.9037 - val_loss: 1.1070 - val_accuracy: 0.7251\n",
      "Epoch 8/100\n",
      "77/77 [==============================] - 6s 78ms/step - loss: 0.2839 - accuracy: 0.8955 - val_loss: 1.3541 - val_accuracy: 0.6963\n",
      "Epoch 9/100\n",
      "77/77 [==============================] - 6s 78ms/step - loss: 0.2336 - accuracy: 0.9229 - val_loss: 1.1273 - val_accuracy: 0.7251\n",
      "Epoch 10/100\n",
      "77/77 [==============================] - 6s 78ms/step - loss: 0.2454 - accuracy: 0.9151 - val_loss: 1.1468 - val_accuracy: 0.7068\n",
      "Epoch 11/100\n",
      "77/77 [==============================] - 6s 78ms/step - loss: 0.7116 - accuracy: 0.8065 - val_loss: 1.5261 - val_accuracy: 0.4450\n",
      "Epoch 12/100\n",
      "77/77 [==============================] - 6s 78ms/step - loss: 0.7679 - accuracy: 0.7298 - val_loss: 1.2982 - val_accuracy: 0.6126\n",
      "Epoch 13/100\n",
      "77/77 [==============================] - 6s 78ms/step - loss: 0.3168 - accuracy: 0.8837 - val_loss: 1.2956 - val_accuracy: 0.7356\n",
      "Epoch 14/100\n",
      "77/77 [==============================] - 6s 78ms/step - loss: 0.3081 - accuracy: 0.8882 - val_loss: 1.0839 - val_accuracy: 0.7147\n",
      "Epoch 15/100\n",
      "77/77 [==============================] - 6s 77ms/step - loss: 0.2140 - accuracy: 0.9220 - val_loss: 1.2577 - val_accuracy: 0.6832\n",
      "Epoch 16/100\n",
      "77/77 [==============================] - 6s 78ms/step - loss: 0.2290 - accuracy: 0.9110 - val_loss: 1.1634 - val_accuracy: 0.7251\n",
      "Epoch 17/100\n",
      "77/77 [==============================] - 6s 77ms/step - loss: 0.1403 - accuracy: 0.9490 - val_loss: 1.5776 - val_accuracy: 0.6911\n",
      "Epoch 18/100\n",
      "77/77 [==============================] - 6s 78ms/step - loss: 0.2408 - accuracy: 0.9122 - val_loss: 1.2888 - val_accuracy: 0.7120\n",
      "Epoch 19/100\n",
      "77/77 [==============================] - 6s 78ms/step - loss: 0.1948 - accuracy: 0.9278 - val_loss: 1.1888 - val_accuracy: 0.7382\n",
      "Epoch 20/100\n",
      "77/77 [==============================] - 6s 78ms/step - loss: 0.1283 - accuracy: 0.9506 - val_loss: 1.6058 - val_accuracy: 0.6806\n",
      "Epoch 21/100\n",
      "77/77 [==============================] - 6s 77ms/step - loss: 0.2184 - accuracy: 0.9200 - val_loss: 1.1656 - val_accuracy: 0.7120\n",
      "Epoch 22/100\n",
      "77/77 [==============================] - 6s 78ms/step - loss: 0.1824 - accuracy: 0.9286 - val_loss: 1.3503 - val_accuracy: 0.6937\n",
      "Epoch 23/100\n",
      "77/77 [==============================] - 6s 78ms/step - loss: 0.1425 - accuracy: 0.9453 - val_loss: 1.6901 - val_accuracy: 0.6963\n",
      "Epoch 24/100\n",
      "77/77 [==============================] - 6s 78ms/step - loss: 0.1227 - accuracy: 0.9567 - val_loss: 1.7357 - val_accuracy: 0.6754\n",
      "Epoch 25/100\n",
      "77/77 [==============================] - 13s 167ms/step - loss: 0.2241 - accuracy: 0.9245 - val_loss: 1.5015 - val_accuracy: 0.6571\n",
      "Epoch 26/100\n",
      "77/77 [==============================] - 18s 240ms/step - loss: 0.2309 - accuracy: 0.9180 - val_loss: 1.3784 - val_accuracy: 0.7330\n",
      "Epoch 27/100\n",
      "77/77 [==============================] - 19s 242ms/step - loss: 0.8106 - accuracy: 0.7629 - val_loss: 1.0427 - val_accuracy: 0.6675\n",
      "Epoch 28/100\n",
      "77/77 [==============================] - 17s 225ms/step - loss: 0.3706 - accuracy: 0.8690 - val_loss: 1.0393 - val_accuracy: 0.6859\n",
      "Epoch 29/100\n",
      "77/77 [==============================] - 18s 233ms/step - loss: 0.2923 - accuracy: 0.8910 - val_loss: 1.1702 - val_accuracy: 0.6728\n",
      "Epoch 30/100\n",
      "77/77 [==============================] - 17s 222ms/step - loss: 0.1707 - accuracy: 0.9376 - val_loss: 1.1601 - val_accuracy: 0.7251\n",
      "Epoch 31/100\n",
      "77/77 [==============================] - 17s 224ms/step - loss: 0.1470 - accuracy: 0.9469 - val_loss: 1.1990 - val_accuracy: 0.6937\n",
      "Epoch 32/100\n",
      "77/77 [==============================] - 17s 222ms/step - loss: 0.3990 - accuracy: 0.8645 - val_loss: 0.9081 - val_accuracy: 0.7173\n",
      "Epoch 33/100\n",
      "77/77 [==============================] - 17s 222ms/step - loss: 0.2237 - accuracy: 0.9302 - val_loss: 1.2955 - val_accuracy: 0.7042\n",
      "Epoch 34/100\n",
      "77/77 [==============================] - 17s 225ms/step - loss: 0.2369 - accuracy: 0.9180 - val_loss: 1.3235 - val_accuracy: 0.7016\n",
      "Epoch 35/100\n",
      "77/77 [==============================] - 17s 224ms/step - loss: 0.1392 - accuracy: 0.9478 - val_loss: 1.2905 - val_accuracy: 0.7068\n",
      "Epoch 36/100\n",
      "77/77 [==============================] - 17s 223ms/step - loss: 0.2186 - accuracy: 0.9294 - val_loss: 1.3186 - val_accuracy: 0.6597\n",
      "Epoch 37/100\n",
      "77/77 [==============================] - 18s 231ms/step - loss: 0.1533 - accuracy: 0.9461 - val_loss: 1.1988 - val_accuracy: 0.7304\n",
      "Epoch 38/100\n",
      "77/77 [==============================] - 17s 225ms/step - loss: 0.1427 - accuracy: 0.9478 - val_loss: 1.1723 - val_accuracy: 0.7225\n",
      "Epoch 39/100\n",
      "77/77 [==============================] - 17s 225ms/step - loss: 0.1327 - accuracy: 0.9522 - val_loss: 1.2207 - val_accuracy: 0.7304\n",
      "Epoch 40/100\n",
      "77/77 [==============================] - 17s 226ms/step - loss: 0.1061 - accuracy: 0.9616 - val_loss: 1.2317 - val_accuracy: 0.7277\n",
      "Epoch 41/100\n",
      "77/77 [==============================] - 17s 225ms/step - loss: 0.2651 - accuracy: 0.9073 - val_loss: 1.2043 - val_accuracy: 0.6937\n",
      "Epoch 42/100\n",
      "77/77 [==============================] - 19s 247ms/step - loss: 0.1673 - accuracy: 0.9380 - val_loss: 1.3830 - val_accuracy: 0.6859\n",
      "Epoch 43/100\n",
      "77/77 [==============================] - 17s 225ms/step - loss: 0.2921 - accuracy: 0.9061 - val_loss: 0.9597 - val_accuracy: 0.7435\n",
      "Epoch 44/100\n",
      "77/77 [==============================] - 17s 223ms/step - loss: 0.2431 - accuracy: 0.9131 - val_loss: 1.1654 - val_accuracy: 0.7408\n",
      "Epoch 45/100\n",
      "77/77 [==============================] - 17s 223ms/step - loss: 0.4901 - accuracy: 0.8514 - val_loss: 0.9155 - val_accuracy: 0.7435\n",
      "Epoch 46/100\n",
      "77/77 [==============================] - 17s 222ms/step - loss: 0.1154 - accuracy: 0.9645 - val_loss: 1.4103 - val_accuracy: 0.6911\n",
      "Epoch 47/100\n",
      "77/77 [==============================] - 16s 214ms/step - loss: 0.1284 - accuracy: 0.9539 - val_loss: 1.4762 - val_accuracy: 0.7042\n",
      "Epoch 48/100\n",
      "77/77 [==============================] - 18s 223ms/step - loss: 0.1893 - accuracy: 0.9359 - val_loss: 1.2544 - val_accuracy: 0.7120\n",
      "Epoch 49/100\n",
      "77/77 [==============================] - 17s 223ms/step - loss: 0.1030 - accuracy: 0.9600 - val_loss: 1.5498 - val_accuracy: 0.6623\n",
      "Epoch 50/100\n",
      "77/77 [==============================] - 17s 224ms/step - loss: 0.0788 - accuracy: 0.9751 - val_loss: 1.5163 - val_accuracy: 0.7225\n",
      "Epoch 51/100\n",
      "77/77 [==============================] - 17s 223ms/step - loss: 0.1640 - accuracy: 0.9490 - val_loss: 1.5056 - val_accuracy: 0.7147\n",
      "Epoch 52/100\n",
      "77/77 [==============================] - 17s 225ms/step - loss: 0.1187 - accuracy: 0.9616 - val_loss: 1.3418 - val_accuracy: 0.7120\n",
      "Epoch 53/100\n",
      "77/77 [==============================] - 17s 224ms/step - loss: 0.2111 - accuracy: 0.9331 - val_loss: 1.8274 - val_accuracy: 0.6021\n",
      "Epoch 54/100\n",
      "77/77 [==============================] - 17s 223ms/step - loss: 0.2919 - accuracy: 0.9000 - val_loss: 1.1249 - val_accuracy: 0.7382\n",
      "Epoch 55/100\n",
      "77/77 [==============================] - 17s 225ms/step - loss: 0.1205 - accuracy: 0.9592 - val_loss: 1.2979 - val_accuracy: 0.7382\n",
      "Epoch 56/100\n",
      "77/77 [==============================] - 18s 235ms/step - loss: 0.0643 - accuracy: 0.9792 - val_loss: 1.5222 - val_accuracy: 0.7304\n",
      "Epoch 57/100\n",
      "77/77 [==============================] - 17s 225ms/step - loss: 0.1683 - accuracy: 0.9441 - val_loss: 1.2656 - val_accuracy: 0.7225\n"
     ]
    },
    {
     "name": "stdout",
     "output_type": "stream",
     "text": [
      "Epoch 58/100\n",
      "77/77 [==============================] - 19s 248ms/step - loss: 0.1555 - accuracy: 0.9502 - val_loss: 1.4496 - val_accuracy: 0.7304\n",
      "Epoch 59/100\n",
      "77/77 [==============================] - 17s 227ms/step - loss: 0.2178 - accuracy: 0.9286 - val_loss: 1.0468 - val_accuracy: 0.7356\n",
      "Epoch 60/100\n",
      "77/77 [==============================] - 17s 223ms/step - loss: 0.1028 - accuracy: 0.9637 - val_loss: 1.1939 - val_accuracy: 0.7173\n",
      "Epoch 61/100\n",
      "77/77 [==============================] - 17s 227ms/step - loss: 0.1357 - accuracy: 0.9486 - val_loss: 1.1246 - val_accuracy: 0.7644\n",
      "Epoch 62/100\n",
      "77/77 [==============================] - 17s 223ms/step - loss: 0.2099 - accuracy: 0.9257 - val_loss: 1.3463 - val_accuracy: 0.7042\n",
      "Epoch 63/100\n",
      "77/77 [==============================] - 12s 161ms/step - loss: 0.1405 - accuracy: 0.9502 - val_loss: 1.4930 - val_accuracy: 0.7016\n",
      "Epoch 64/100\n",
      "77/77 [==============================] - 6s 81ms/step - loss: 0.1804 - accuracy: 0.9453 - val_loss: 1.1054 - val_accuracy: 0.7330\n",
      "Epoch 65/100\n",
      "77/77 [==============================] - 6s 80ms/step - loss: 0.1708 - accuracy: 0.9457 - val_loss: 1.2803 - val_accuracy: 0.7147\n",
      "Epoch 66/100\n",
      "77/77 [==============================] - 6s 78ms/step - loss: 0.1312 - accuracy: 0.9486 - val_loss: 1.2954 - val_accuracy: 0.7016\n",
      "Epoch 67/100\n",
      "77/77 [==============================] - 6s 77ms/step - loss: 0.0936 - accuracy: 0.9710 - val_loss: 1.4333 - val_accuracy: 0.7356\n",
      "Epoch 68/100\n",
      "77/77 [==============================] - 6s 77ms/step - loss: 2.2310 - accuracy: 0.4229 - val_loss: 2.4803 - val_accuracy: 0.2016\n",
      "Epoch 69/100\n",
      "77/77 [==============================] - 6s 78ms/step - loss: 2.1402 - accuracy: 0.2678 - val_loss: 1.8764 - val_accuracy: 0.3560\n",
      "Epoch 70/100\n",
      "77/77 [==============================] - 6s 79ms/step - loss: 1.5144 - accuracy: 0.4420 - val_loss: 1.2678 - val_accuracy: 0.5026\n",
      "Epoch 71/100\n",
      "77/77 [==============================] - 6s 78ms/step - loss: 1.2028 - accuracy: 0.5339 - val_loss: 1.1319 - val_accuracy: 0.5733\n",
      "Epoch 72/100\n",
      "77/77 [==============================] - 6s 77ms/step - loss: 0.9921 - accuracy: 0.6184 - val_loss: 1.1562 - val_accuracy: 0.5942\n",
      "Epoch 73/100\n",
      "77/77 [==============================] - 6s 78ms/step - loss: 0.9029 - accuracy: 0.6437 - val_loss: 0.9511 - val_accuracy: 0.6545\n",
      "Epoch 74/100\n",
      "77/77 [==============================] - 6s 78ms/step - loss: 0.7801 - accuracy: 0.6967 - val_loss: 0.8781 - val_accuracy: 0.6728\n",
      "Epoch 75/100\n",
      "77/77 [==============================] - 6s 78ms/step - loss: 0.7224 - accuracy: 0.7257 - val_loss: 0.9948 - val_accuracy: 0.6649\n",
      "Epoch 76/100\n",
      "77/77 [==============================] - 6s 78ms/step - loss: 0.6519 - accuracy: 0.7494 - val_loss: 0.8066 - val_accuracy: 0.7225\n"
     ]
    }
   ],
   "source": [
    "history2 = model.fit(train_X, train_Y, epochs=100, callbacks=[tb_callback,checkpoint,earlyStopping],validation_data=(val_X,val_Y))"
   ]
  },
  {
   "cell_type": "code",
   "execution_count": 151,
   "id": "14414be2",
   "metadata": {},
   "outputs": [
    {
     "name": "stdout",
     "output_type": "stream",
     "text": [
      "dict_keys(['loss', 'categorical_accuracy', 'val_loss', 'val_categorical_accuracy'])\n"
     ]
    }
   ],
   "source": [
    "print(history.history.keys())\n",
    "# summarize history for accuracy\n",
    "\n"
   ]
  },
  {
   "cell_type": "code",
   "execution_count": 40,
   "id": "614037fc",
   "metadata": {},
   "outputs": [
    {
     "data": {
      "image/png": "[encoded data removed]",
      "text/plain": [
       "<Figure size 432x288 with 1 Axes>"
      ]
     },
     "metadata": {
      "needs_background": "light"
     },
     "output_type": "display_data"
    }
   ],
   "source": [
    "plt.plot(history.history['accuracy'])\n",
    "plt.plot(history.history['val_accuracy'])\n",
    "plt.title('model accuracy')\n",
    "plt.ylabel('accuracy')\n",
    "plt.xlabel('epoch')\n",
    "plt.legend(['train', 'test'], loc='upper left')\n",
    "plt.show()"
   ]
  },
  {
   "cell_type": "code",
   "execution_count": 41,
   "id": "b4bb6ead",
   "metadata": {},
   "outputs": [
    {
     "data": {
      "image/png": "[encoded data removed]",
      "text/plain": [
       "<Figure size 432x288 with 1 Axes>"
      ]
     },
     "metadata": {
      "needs_background": "light"
     },
     "output_type": "display_data"
    }
   ],
   "source": [
    "# summarize history for loss\n",
    "plt.plot(history.history['loss'])\n",
    "plt.plot(history.history['val_loss'])\n",
    "plt.title('model loss')\n",
    "plt.ylabel('loss')\n",
    "plt.xlabel('epoch')\n",
    "plt.legend(['train', 'test'], loc='upper left')\n",
    "plt.show()"
   ]
  },
  {
   "cell_type": "code",
   "execution_count": 38,
   "id": "a666ffa9",
   "metadata": {},
   "outputs": [
    {
     "data": {
      "image/png": "[encoded data removed]",
      "text/plain": [
       "<Figure size 432x288 with 1 Axes>"
      ]
     },
     "metadata": {
      "needs_background": "light"
     },
     "output_type": "display_data"
    }
   ],
   "source": [
    "plt.plot(history2.history['accuracy'])\n",
    "plt.plot(history2.history['val_accuracy'])\n",
    "plt.title('model accuracy')\n",
    "plt.ylabel('accuracy')\n",
    "plt.xlabel('epoch')\n",
    "plt.legend(['train', 'test'], loc='upper left')\n",
    "plt.show()"
   ]
  },
  {
   "cell_type": "code",
   "execution_count": 39,
   "id": "45782a05",
   "metadata": {},
   "outputs": [
    {
     "data": {
      "image/png": "[encoded data removed]",
      "text/plain": [
       "<Figure size 432x288 with 1 Axes>"
      ]
     },
     "metadata": {
      "needs_background": "light"
     },
     "output_type": "display_data"
    }
   ],
   "source": [
    "# summarize history for loss\n",
    "plt.plot(history2.history['loss'])\n",
    "plt.plot(history2.history['val_loss'])\n",
    "plt.title('model loss')\n",
    "plt.ylabel('loss')\n",
    "plt.xlabel('epoch')\n",
    "plt.legend(['train', 'test'], loc='upper left')\n",
    "plt.show()"
   ]
  },
  {
   "cell_type": "code",
   "execution_count": 45,
   "id": "4a3da93a",
   "metadata": {},
   "outputs": [
    {
     "name": "stdout",
     "output_type": "stream",
     "text": [
      "77/77 [==============================] - 1s 11ms/step - loss: 0.0624 - accuracy: 0.9784\n"
     ]
    },
    {
     "data": {
      "text/plain": [
       "[0.06242760643362999, 0.9783673286437988]"
      ]
     },
     "execution_count": 45,
     "metadata": {},
     "output_type": "execute_result"
    }
   ],
   "source": [
    "model.evaluate(train_X,train_Y)"
   ]
  },
  {
   "cell_type": "code",
   "execution_count": 46,
   "id": "cc21a4be",
   "metadata": {},
   "outputs": [
    {
     "name": "stdout",
     "output_type": "stream",
     "text": [
      "12/12 [==============================] - 0s 11ms/step - loss: 1.5501 - accuracy: 0.7225\n"
     ]
    },
    {
     "data": {
      "text/plain": [
       "[1.5500975847244263, 0.7225130796432495]"
      ]
     },
     "execution_count": 46,
     "metadata": {},
     "output_type": "execute_result"
    }
   ],
   "source": [
    "model.evaluate(val_X,val_Y)"
   ]
  },
  {
   "cell_type": "code",
   "execution_count": 47,
   "id": "3e299387",
   "metadata": {},
   "outputs": [
    {
     "name": "stdout",
     "output_type": "stream",
     "text": [
      "11/11 [==============================] - 0s 11ms/step - loss: 1.8379 - accuracy: 0.6921\n"
     ]
    },
    {
     "data": {
      "text/plain": [
       "[1.8378571271896362, 0.6920731663703918]"
      ]
     },
     "execution_count": 47,
     "metadata": {},
     "output_type": "execute_result"
    }
   ],
   "source": [
    "model.evaluate(test_X,test_Y)"
   ]
  },
  {
   "cell_type": "markdown",
   "id": "7743e09c",
   "metadata": {},
   "source": [
    "# 5 - test in real time"
   ]
  },
  {
   "cell_type": "code",
   "execution_count": null,
   "id": "a542b599",
   "metadata": {},
   "outputs": [],
   "source": []
  },
  {
   "cell_type": "code",
   "execution_count": 113,
   "id": "ad45443f",
   "metadata": {},
   "outputs": [],
   "source": [
    "from scipy import stats\n",
    "\n",
    "colors = [(245,117,16), (117,245,16), (16,117,245)]\n",
    "def prob_viz(res, actions, input_frame, colors):\n",
    "    output_frame = input_frame.copy()\n",
    "    for num, prob in enumerate(res):\n",
    "        cv2.rectangle(output_frame, (0,60+num*40), (int(prob*100), 90+num*40), colors[num%3], -1)\n",
    "        cv2.putText(output_frame, actions[num], (0, 85+num*40), cv2.FONT_HERSHEY_SIMPLEX, 1, (255,255,255), 2, cv2.LINE_AA)\n",
    "        \n",
    "    return output_frame\n"
   ]
  },
  {
   "cell_type": "code",
   "execution_count": 114,
   "id": "a888db6b",
   "metadata": {
    "scrolled": false
   },
   "outputs": [],
   "source": [
    "# 1. New detection variables\n",
    "sequence = []\n",
    "sentence = []\n",
    "predictions = []\n",
    "threshold = 0.5\n",
    "\n",
    "cap = cv2.VideoCapture(0)\n",
    "# Set mediapipe model \n",
    "with mp_holistic.Holistic(min_detection_confidence=0.5, min_tracking_confidence=0.5) as holistic:\n",
    "    while cap.isOpened():\n",
    "\n",
    "        # Read feed\n",
    "        ret, frame = cap.read()\n",
    "        if(not ret):\n",
    "            break\n",
    "#         frame = cv2.resize(frame, (512, 512))\n",
    "\n",
    "        # Make detections\n",
    "        image, results = mediapipe_detection(frame, holistic)\n",
    "        \n",
    "        # Draw landmarks\n",
    "        draw_styled_landmarks(image, results)\n",
    "        \n",
    "        # 2. Prediction logic\n",
    "        keypoints = extract_keypoints(results)\n",
    "        sequence.append(keypoints)\n",
    "        sequence = sequence[-20:]\n",
    "        \n",
    "        if len(sequence) == 20:\n",
    "            res = model.predict(np.expand_dims(sequence, axis=0))[0]\n",
    "            predictions.append(np.argmax(res))\n",
    "            \n",
    "            \n",
    "        #3. Viz logic\n",
    "            if np.unique(predictions[-2:])[0]==np.argmax(res): \n",
    "                if res[np.argmax(res)] > threshold: \n",
    "                    \n",
    "                    if len(sentence) > 0: \n",
    "                        if actions[np.argmax(res)] != sentence[-1]:\n",
    "                            sentence.append(actions[np.argmax(res)])\n",
    "                    else:\n",
    "                        sentence.append(actions[np.argmax(res)])\n",
    "\n",
    "            if len(sentence) > 5: \n",
    "                sentence = sentence[-5:]\n",
    "\n",
    "            # Viz probabilities\n",
    "            image = prob_viz(res, actions, image, colors)\n",
    "            \n",
    "        cv2.rectangle(image, (0,0), (640, 40), (245, 117, 16), -1)\n",
    "        cv2.putText(image, ' '.join(sentence), (3,30), \n",
    "                       cv2.FONT_HERSHEY_SIMPLEX, 1, (255, 255, 255), 2, cv2.LINE_AA)\n",
    "        \n",
    "        # Show to screen\n",
    "        cv2.imshow('OpenCV Feed', image)\n",
    "\n",
    "        # Break gracefully\n",
    "        if cv2.waitKey(10) & 0xFF == ord('q'):\n",
    "            break\n",
    "    cap.release()\n",
    "    cv2.destroyAllWindows()"
   ]
  },
  {
   "cell_type": "code",
   "execution_count": 60,
   "id": "844aa3f6",
   "metadata": {},
   "outputs": [],
   "source": [
    "cap.release()"
   ]
  },
  {
   "cell_type": "code",
   "execution_count": 61,
   "id": "04f084c6",
   "metadata": {},
   "outputs": [],
   "source": [
    "cv2.destroyAllWindows()"
   ]
  },
  {
   "cell_type": "markdown",
   "id": "67317192",
   "metadata": {},
   "source": [
    "# 6-read video and predict it (for slower models)"
   ]
  },
  {
   "cell_type": "code",
   "execution_count": 54,
   "id": "c1faaf9c",
   "metadata": {},
   "outputs": [],
   "source": [
    "def read_video_camera(n_frames,duration=3):\n",
    "    import time\n",
    "    \n",
    "    frames = []\n",
    "    \n",
    "    cap = cv2.VideoCapture(0)\n",
    "    start_time = time.time()\n",
    "    while cap.isOpened():\n",
    "        ret, frame = cap.read()\n",
    "        if(not ret):break\n",
    "        \n",
    "        cv2.imshow(\"frame\",frame)\n",
    "        \n",
    "        cv2.waitKey(20)\n",
    "            \n",
    "        frames.append(frame)\n",
    "        if(time.time()-start_time > duration):\n",
    "            break\n",
    "    cap.release()\n",
    "    cv2.destroyAllWindows()\n",
    "    print(len(frames),n_frames)\n",
    "    steps = len(frames)/n_frames\n",
    "    count=0\n",
    "    new_frames=[]\n",
    "    while count < len(frames):\n",
    "        frame = frames[int(count)]\n",
    "        new_frames.append(frame)\n",
    "        count+=steps\n",
    "        \n",
    "    \n",
    "    return np.array(new_frames[:n_frames])\n",
    "    \n",
    "    \n",
    "def view_video(video):\n",
    "    for frame in video:\n",
    "        cv2.imshow(\"frame\",frame)\n",
    "        cv2.waitKey(100)\n",
    "    cv2.destroyAllWindows()\n",
    "    \n",
    "    \n",
    "    \n",
    "\n",
    "        \n"
   ]
  },
  {
   "cell_type": "code",
   "execution_count": 133,
   "id": "151c6eec",
   "metadata": {},
   "outputs": [
    {
     "name": "stdout",
     "output_type": "stream",
     "text": [
      "59 20\n"
     ]
    }
   ],
   "source": [
    "video = read_video_camera(n_frames=20,duration=2.5)"
   ]
  },
  {
   "cell_type": "code",
   "execution_count": 134,
   "id": "6fc8ec98",
   "metadata": {},
   "outputs": [],
   "source": [
    "# view_video(video)"
   ]
  },
  {
   "cell_type": "code",
   "execution_count": 135,
   "id": "5132a998",
   "metadata": {},
   "outputs": [],
   "source": [
    "key_points = extract_keypoints_video(video)"
   ]
  },
  {
   "cell_type": "code",
   "execution_count": 136,
   "id": "de18d55b",
   "metadata": {},
   "outputs": [
    {
     "name": "stdout",
     "output_type": "stream",
     "text": [
      "kin 0.93491805\n"
     ]
    }
   ],
   "source": [
    "predection_array = model.predict(np.expand_dims(key_points, axis=0))[0]\n",
    "predection_id = np.argmax(predection_array)\n",
    "predection_label = actions[predection_id]\n",
    "predection_prob = predection_array[predection_id]\n",
    "print(predection_label,predection_prob)\n"
   ]
  },
  {
   "cell_type": "code",
   "execution_count": 137,
   "id": "b0bc798c",
   "metadata": {},
   "outputs": [
    {
     "data": {
      "text/plain": [
       "array([2.0466612e-06, 5.3695557e-03, 8.1069311e-06, 1.5126204e-04,\n",
       "       1.1117121e-03, 2.3179945e-04, 6.4867456e-03, 1.8684345e-07,\n",
       "       2.8425963e-03, 2.2387251e-08, 7.2930800e-07, 9.3491805e-01,\n",
       "       3.8555641e-02, 8.9185527e-03, 4.9083933e-06, 6.5342995e-04,\n",
       "       2.2316642e-07, 7.1633747e-04, 8.9228906e-06, 1.9149189e-05],\n",
       "      dtype=float32)"
      ]
     },
     "execution_count": 137,
     "metadata": {},
     "output_type": "execute_result"
    }
   ],
   "source": [
    "predection_array"
   ]
  },
  {
   "cell_type": "code",
   "execution_count": 59,
   "id": "189aeca3",
   "metadata": {},
   "outputs": [
    {
     "data": {
      "text/plain": [
       "['sister',\n",
       " 'hurry',\n",
       " 'hungry',\n",
       " 'enjoy_your_meal',\n",
       " 'brother',\n",
       " 'tree',\n",
       " 'heavy',\n",
       " 'cry',\n",
       " 'family',\n",
       " 'wise',\n",
       " 'unwise',\n",
       " 'kin',\n",
       " 'shopping',\n",
       " 'key',\n",
       " 'mother',\n",
       " 'friend',\n",
       " 'ataturk',\n",
       " 'shoe',\n",
       " 'mirror',\n",
       " 'same']"
      ]
     },
     "execution_count": 59,
     "metadata": {},
     "output_type": "execute_result"
    }
   ],
   "source": [
    "actions"
   ]
  },
  {
   "cell_type": "code",
   "execution_count": null,
   "id": "cc62e0d3",
   "metadata": {},
   "outputs": [],
   "source": [
    "cap.release()\n"
   ]
  },
  {
   "cell_type": "code",
   "execution_count": null,
   "id": "7269b748",
   "metadata": {},
   "outputs": [],
   "source": [
    "cv2.destroyAllWindows()"
   ]
  },
  {
   "cell_type": "code",
   "execution_count": 53,
   "id": "043eaedb",
   "metadata": {},
   "outputs": [],
   "source": [
    "cv2.destroyAllWindows()"
   ]
  },
  {
   "cell_type": "code",
   "execution_count": null,
   "id": "3fb73fc7",
   "metadata": {},
   "outputs": [],
   "source": []
  },
  {
   "cell_type": "code",
   "execution_count": null,
   "id": "5b1172ad",
   "metadata": {},
   "outputs": [],
   "source": []
  },
  {
   "cell_type": "code",
   "execution_count": null,
   "id": "bdcc1e9b",
   "metadata": {},
   "outputs": [],
   "source": []
  },
  {
   "cell_type": "markdown",
   "id": "90ad503d",
   "metadata": {},
   "source": [
    "# first time results \n",
    "### training accuracy -> 97%\n",
    "### validation accuracy -> 76%\n",
    "\n",
    "\n",
    "# second time results\n",
    "### training accuracy -> 75%\n",
    "### validation accuracy -> 65% and after a while it went down very fast\n",
    "\n",
    "\n",
    "# third time results\n",
    "### training accuracy ->  \n",
    "### validation accuracy -> 52 %"
   ]
  },
  {
   "cell_type": "code",
   "execution_count": null,
   "id": "e0b9d67e",
   "metadata": {},
   "outputs": [],
   "source": []
  }
 ],
 "metadata": {
  "kernelspec": {
   "display_name": "Python 3 (ipykernel)",
   "language": "python",
   "name": "python3"
  },
  "language_info": {
   "codemirror_mode": {
    "name": "ipython",
    "version": 3
   },
   "file_extension": ".py",
   "mimetype": "text/x-python",
   "name": "python",
   "nbconvert_exporter": "python",
   "pygments_lexer": "ipython3",
   "version": "3.8.10"
  }
 },
 "nbformat": 4,
 "nbformat_minor": 5
}
