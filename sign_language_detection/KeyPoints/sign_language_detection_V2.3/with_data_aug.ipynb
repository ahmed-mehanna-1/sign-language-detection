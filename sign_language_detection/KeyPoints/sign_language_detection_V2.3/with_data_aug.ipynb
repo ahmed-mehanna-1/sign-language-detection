{
 "cells": [
  {
   "cell_type": "markdown",
   "id": "e0c03c2d",
   "metadata": {},
   "source": [
    "# 1 - install dependencies"
   ]
  },
  {
   "cell_type": "code",
   "execution_count": 1,
   "id": "0bffa97f",
   "metadata": {},
   "outputs": [],
   "source": [
    "import numpy as np\n",
    "import cv2 \n",
    "import os\n",
    "import mediapipe as mp\n",
    "import tensorflow as tf \n",
    "from tensorflow import keras\n",
    "import matplotlib.pyplot as plt\n",
    "import time\n",
    "import pandas as pd"
   ]
  },
  {
   "cell_type": "markdown",
   "id": "ef3e681a",
   "metadata": {},
   "source": [
    "# 2 - keypoints extractions and drawing"
   ]
  },
  {
   "cell_type": "markdown",
   "id": "44d45b88",
   "metadata": {},
   "source": [
    "### \n",
    "\n",
    "- link to mediapipe documentation and info about keypoints numbers\n",
    "- https://google.github.io/mediapipe/solutions/hands.html\n",
    "\n",
    "\n",
    "\n",
    "\n",
    "- link to mediapipe code for drawing (to draw the point myself)\n",
    "- https://github.com/google/mediapipe/blob/master/mediapipe/python/solutions/drawing_utils.py\n",
    "\n"
   ]
  },
  {
   "cell_type": "code",
   "execution_count": 277,
   "id": "6fedcbce",
   "metadata": {},
   "outputs": [],
   "source": [
    "# points = results.pose_landmarks.landmark[0]"
   ]
  },
  {
   "cell_type": "code",
   "execution_count": 278,
   "id": "3fa8d4cf",
   "metadata": {},
   "outputs": [
    {
     "data": {
      "text/plain": [
       "(160, 207)"
      ]
     },
     "execution_count": 278,
     "metadata": {},
     "output_type": "execute_result"
    }
   ],
   "source": [
    "# mp_drawing._normalized_to_pixel_coordinates(points.x,points.y,512,512)"
   ]
  },
  {
   "cell_type": "code",
   "execution_count": 279,
   "id": "4631c314",
   "metadata": {},
   "outputs": [
    {
     "data": {
      "text/plain": [
       "array([0.31424871, 0.40516621, 0.34958363, 0.33295104, 0.27392039,\n",
       "       0.35212395, 0.57817125, 0.55916786, 0.68416971, 0.97159886,\n",
       "       0.73283637, 1.35949564, 0.13666716, 0.62433493, 0.06154023,\n",
       "       0.99031198, 0.25215438, 0.65857196, 0.        , 0.        ,\n",
       "       0.        , 0.        , 0.        , 0.        , 0.        ,\n",
       "       0.        , 0.        , 0.        , 0.        , 0.        ,\n",
       "       0.        , 0.        , 0.        , 0.        , 0.        ,\n",
       "       0.        , 0.        , 0.        , 0.        , 0.        ,\n",
       "       0.2916199 , 0.62908918, 0.2574822 , 0.48344749, 0.29246381,\n",
       "       0.40439418, 0.34092072, 0.43980053, 0.33933544, 0.40211019,\n",
       "       0.37682196, 0.46833116, 0.3664979 , 0.42915609, 0.40017185,\n",
       "       0.50406665, 0.39019808, 0.46095249, 0.41237393, 0.54100579,\n",
       "       0.4069846 , 0.49963647])"
      ]
     },
     "execution_count": 279,
     "metadata": {},
     "output_type": "execute_result"
    }
   ],
   "source": [
    "# extract_keypoints(results)"
   ]
  },
  {
   "cell_type": "code",
   "execution_count": 2,
   "id": "ab75ce58",
   "metadata": {},
   "outputs": [],
   "source": [
    "    \n",
    "pose_selected_landmarks = [\n",
    "    [0,2,5,11,13,15,12,14,16],\n",
    "    [0,2,4,5,8,9,12,13,16,17,20],\n",
    "    [0,2,4,5,8,9,12,13,16,17,20],\n",
    "\n",
    "]\n",
    "\n",
    "def draw_updated_styled(image,results):\n",
    "    image_rows, image_cols, _ = image.shape\n",
    "    \n",
    "    original_landmarks = [\n",
    "        results.pose_landmarks,\n",
    "        results.left_hand_landmarks,\n",
    "        results.right_hand_landmarks\n",
    "    ]\n",
    "\n",
    "    \n",
    "    for shape in range(3):\n",
    "        if(original_landmarks[shape]):\n",
    "            lis = original_landmarks[shape].landmark\n",
    "            for idx in pose_selected_landmarks[shape]:\n",
    "                point = lis[idx]\n",
    "                landmark_px = mp_drawing._normalized_to_pixel_coordinates(point.x, point.y,\n",
    "                                                           image_cols, image_rows)\n",
    "\n",
    "                cv2.circle(image, landmark_px, 2, (0,0,255),\n",
    "                         4)\n",
    "\n",
    "                \n",
    "                \n",
    "def extract_keypoints(results):\n",
    "    \n",
    "    original_landmarks = [\n",
    "        results.pose_landmarks,\n",
    "        results.left_hand_landmarks,\n",
    "        results.right_hand_landmarks\n",
    "    ]\n",
    "    \n",
    "    outputs = []\n",
    "    for shape in range(3):\n",
    "        if(original_landmarks[shape]):\n",
    "            lis = original_landmarks[shape].landmark\n",
    "            pose = np.array([ [lis[res].x,lis[res].y] for res in pose_selected_landmarks[shape] ]).flatten()\n",
    "        else:\n",
    "            pose = np.zeros(len(pose_selected_landmarks[shape])*2)\n",
    "        outputs.append(pose)\n",
    "    return np.concatenate([outputs[0],outputs[1],outputs[2]])\n",
    "            \n",
    "    \n",
    " \n",
    "        "
   ]
  },
  {
   "cell_type": "code",
   "execution_count": 3,
   "id": "6c4d3678",
   "metadata": {},
   "outputs": [],
   "source": [
    "mp_holistic = mp.solutions.holistic\n",
    "mp_drawing = mp.solutions.drawing_utils\n",
    "\n",
    "num_hand_marks = 21\n",
    "num_pose_marks = 33\n",
    "\n",
    "\n",
    "# holistic model process image and return the results as keypoints\n",
    "def mediapipe_detection(image,model):\n",
    "    image  = cv2.cvtColor(image,cv2.COLOR_BGR2RGB)\n",
    "    image.flags.writeable = False\n",
    "    results = model.process(image)\n",
    "    image.flags.writeable = True\n",
    "    image  = cv2.cvtColor(image,cv2.COLOR_RGB2BGR)\n",
    "    return image,results\n",
    "    \n",
    "def draw_styled_landmarks(image,results):\n",
    "    # Draw pose connections\n",
    "    mp_drawing.draw_landmarks(image, results.pose_landmarks, mp_holistic.POSE_CONNECTIONS,\n",
    "                             mp_drawing.DrawingSpec(color=(80,22,10), thickness=2, circle_radius=4), \n",
    "                             mp_drawing.DrawingSpec(color=(80,44,121), thickness=2, circle_radius=2)\n",
    "                             ) \n",
    "    # Draw left hand connections\n",
    "    mp_drawing.draw_landmarks(image, results.left_hand_landmarks, mp_holistic.HAND_CONNECTIONS, \n",
    "                             mp_drawing.DrawingSpec(color=(121,22,76), thickness=2, circle_radius=4), \n",
    "                             mp_drawing.DrawingSpec(color=(121,44,250), thickness=2, circle_radius=2)\n",
    "                             ) \n",
    "    # Draw right hand connections  \n",
    "    mp_drawing.draw_landmarks(image, results.right_hand_landmarks, mp_holistic.HAND_CONNECTIONS, \n",
    "                             mp_drawing.DrawingSpec(color=(245,117,66), thickness=2, circle_radius=4), \n",
    "                             mp_drawing.DrawingSpec(color=(245,66,230), thickness=2, circle_radius=2)\n",
    "                             ) \n",
    "    \n",
    "\n",
    "# read the keypoints and extract them and process them\n",
    "def old_extract_keypoints(results):\n",
    "    # extract pose marks\n",
    "    if results.pose_landmarks:\n",
    "        pose = np.array([ [res.x,res.y,res.visibility] for res in results.pose_landmarks.landmark ]).flatten()\n",
    "    else:\n",
    "        pose = np.zeros(num_pose_marks*3)\n",
    "    \n",
    "    # extract left hand\n",
    "    if results.left_hand_landmarks:\n",
    "        left_hand = np.array([ [res.x,res.y] for res in results.left_hand_landmarks.landmark ]).flatten()\n",
    "    else:\n",
    "        left_hand = np.zeros(num_hand_marks*2)\n",
    "        \n",
    "        \n",
    "    # extract right hand\n",
    "    if results.right_hand_landmarks:\n",
    "        right_hand = np.array([ [res.x,res.y] for res in results.right_hand_landmarks.landmark ]).flatten()\n",
    "    else:\n",
    "        right_hand = np.zeros(num_hand_marks*2)\n",
    "    \n",
    "    return np.concatenate([pose,left_hand,right_hand])\n",
    "    "
   ]
  },
  {
   "cell_type": "markdown",
   "id": "f6a53451",
   "metadata": {},
   "source": [
    "# 3 - read and process data"
   ]
  },
  {
   "cell_type": "code",
   "execution_count": 4,
   "id": "7a26a4d4",
   "metadata": {},
   "outputs": [],
   "source": [
    "data_path = \"../../../data/Datasets/\"\n",
    "\n",
    "train_labels = pd.read_csv(os.path.join(data_path,\"train_labels.csv\"),names=['sample','id'])\n",
    "validation_labels = pd.read_csv(os.path.join(data_path,\"validation_labels.csv\"),names=['sample','id'])\n",
    "test_labels = pd.read_csv(os.path.join(data_path,\"test_labels.csv\"),names=['sample','id'])\n",
    "class_id = pd.read_csv(os.path.join(data_path,\"class_id.csv\"))\n",
    "\n",
    "\n",
    "    \n",
    "train_path = os.path.join(data_path,\"train\")\n",
    "val_path = os.path.join(data_path,\"val\")\n",
    "test_path = os.path.join(data_path,\"test\")\n",
    "\n"
   ]
  },
  {
   "cell_type": "code",
   "execution_count": 5,
   "id": "1b0631ba",
   "metadata": {},
   "outputs": [],
   "source": [
    "def check_file(file_path):\n",
    "    try:\n",
    "        f = open(file_path)\n",
    "        f.close()\n",
    "        return True\n",
    "    except IOError:\n",
    "        return False\n",
    "    \n",
    "    \n",
    "\n",
    "def construct_path(file,path=\"train\"):\n",
    "    return os.path.join(os.path.join(data_path,path),file+\"_color.mp4\")\n",
    "    "
   ]
  },
  {
   "cell_type": "markdown",
   "id": "6c96171e",
   "metadata": {},
   "source": [
    "### 3.1 collect data that in classes 0,1,2 and available in the data/train directory"
   ]
  },
  {
   "cell_type": "code",
   "execution_count": 7,
   "id": "33dcd736",
   "metadata": {},
   "outputs": [],
   "source": [
    "# for 10 signs\n",
    "\n",
    "n_actions = 10\n",
    "actions = list(class_id['EN'][:n_actions])\n",
    "actions[3] = \"meal\"\n",
    "dic={}\n",
    "for i,action in enumerate(actions):\n",
    "    dic[action]=i\n",
    "    "
   ]
  },
  {
   "cell_type": "code",
   "execution_count": 8,
   "id": "e6e3cc2c",
   "metadata": {},
   "outputs": [
    {
     "data": {
      "text/plain": [
       "['sister',\n",
       " 'hurry',\n",
       " 'hungry',\n",
       " 'meal',\n",
       " 'brother',\n",
       " 'tree',\n",
       " 'heavy',\n",
       " 'cry',\n",
       " 'family',\n",
       " 'wise']"
      ]
     },
     "execution_count": 8,
     "metadata": {},
     "output_type": "execute_result"
    }
   ],
   "source": [
    "actions"
   ]
  },
  {
   "cell_type": "code",
   "execution_count": 9,
   "id": "81b7e589",
   "metadata": {},
   "outputs": [
    {
     "data": {
      "text/plain": [
       "{'sister': 0,\n",
       " 'hurry': 1,\n",
       " 'hungry': 2,\n",
       " 'meal': 3,\n",
       " 'brother': 4,\n",
       " 'tree': 5,\n",
       " 'heavy': 6,\n",
       " 'cry': 7,\n",
       " 'family': 8,\n",
       " 'wise': 9}"
      ]
     },
     "execution_count": 9,
     "metadata": {},
     "output_type": "execute_result"
    }
   ],
   "source": [
    "dic"
   ]
  },
  {
   "cell_type": "code",
   "execution_count": 11,
   "id": "0cf7da59",
   "metadata": {},
   "outputs": [],
   "source": [
    "def get_data(value,file_path,label_name):\n",
    "    if file_path==\"train\":\n",
    "        label_dic = train_labels\n",
    "    elif file_path==\"val\":\n",
    "        label_dic = validation_labels\n",
    "    elif file_path==\"test\":\n",
    "        label_dic = test_labels\n",
    "        \n",
    "    \n",
    "    data =  label_dic[label_dic['id']==value]\n",
    "    lis =  [construct_path(i,file_path) for i in  (data['sample'])]\n",
    "    data =  [i for i in lis if check_file(i)]\n",
    "    return data,[label_name for i in data]\n",
    "    \n",
    "\n",
    "def get_list(d,cat):\n",
    "    arr_x=[]\n",
    "    arr_y=[]\n",
    "    for index,value in enumerate(d):\n",
    "        \n",
    "        data,labels = get_data(value,cat,index)\n",
    "        arr_x.extend(data)\n",
    "        arr_y.extend(labels)\n",
    "    return arr_x,arr_y"
   ]
  },
  {
   "cell_type": "code",
   "execution_count": 12,
   "id": "c02e60cd",
   "metadata": {},
   "outputs": [],
   "source": [
    "\n",
    "\n",
    "d = [0,1,2,3,4,5,6,7,8,9]\n",
    "\n",
    "\n",
    "\n",
    "train_X,train_Y = get_list(d,\"train\")\n",
    "val_X,val_Y = get_list(d,\"val\")\n",
    "test_X,test_Y = get_list(d,\"test\")\n"
   ]
  },
  {
   "cell_type": "code",
   "execution_count": 13,
   "id": "f6f2914c",
   "metadata": {},
   "outputs": [
    {
     "name": "stdout",
     "output_type": "stream",
     "text": [
      "1241 1241 190 190 168 168\n"
     ]
    }
   ],
   "source": [
    "print(\n",
    "    len(train_X ),\n",
    "len(train_Y),\n",
    "len(val_X ),\n",
    "len(val_Y),\n",
    "len(test_X ),\n",
    "len(test_Y)\n",
    ")"
   ]
  },
  {
   "cell_type": "markdown",
   "id": "a781311b",
   "metadata": {},
   "source": [
    "### 3.2 process videos into frames and label to cateogries"
   ]
  },
  {
   "cell_type": "code",
   "execution_count": 16,
   "id": "d602a5e6",
   "metadata": {},
   "outputs": [],
   "source": [
    "\n",
    "\n",
    "def capture_frames(video_path):\n",
    "    video = cv2.VideoCapture(video_path)\n",
    "    video_length = int(video.get(cv2.CAP_PROP_FRAME_COUNT)) - 1\n",
    "    # count = 0\n",
    "    # frame_rate = video.get(cv2.CAP_PROP_FRAME_COUNT)\n",
    "\n",
    "    count=0\n",
    "    frames = []\n",
    "    while video.isOpened():\n",
    "      # frame_id = video.get(0)\n",
    "        ret, frame = video.read()\n",
    "        \n",
    "        if not ret:\n",
    "            continue\n",
    "        frames.append(frame)\n",
    "        count += 1\n",
    "        # If there are no more frames left\n",
    "        if (count > (video_length-1)):\n",
    "          # Release the feed\n",
    "          video.release()\n",
    "        # if frame_id % math.floor(1) == 0:\n",
    "        #     file_name = f\"{video_path}_frame_{count}.jpg\"\n",
    "        #     count += 1\n",
    "        #     # print(f\"File name: {file_name}\")\n",
    "        #     frames.append(frame)\n",
    "        #     # cv2.imwrite(file_name, frame)\n",
    "    video.release()\n",
    "    return np.array(frames)\n",
    "\n",
    "\n",
    "def get_frames(video_path,num_frames):\n",
    "    frames = capture_frames(video_path)\n",
    "    video_length = len(frames)\n",
    "    steps = video_length/num_frames\n",
    "    count=0\n",
    "    new_frames=[]\n",
    "    while count<video_length:\n",
    "        frame = frames[int(count)]\n",
    "#         frame = cv2.resize(frame, (256, 256))\n",
    "#         frame =  (frame/255.0).astype(np.float16)\n",
    "        new_frames.append(frame)\n",
    "        count+=steps\n",
    "\n",
    "    s = np.array(new_frames[:num_frames])\n",
    "    return np.array(new_frames[:num_frames])\n"
   ]
  },
  {
   "cell_type": "code",
   "execution_count": 17,
   "id": "be0aa6b1",
   "metadata": {},
   "outputs": [
    {
     "name": "stderr",
     "output_type": "stream",
     "text": [
      "INFO: Created TensorFlow Lite XNNPACK delegate for CPU.\n"
     ]
    }
   ],
   "source": [
    "from PIL import Image\n",
    "from keras.preprocessing.image import ImageDataGenerator, array_to_img, img_to_array, load_img\n",
    "import matplotlib.pyplot as plt\n",
    "holistic = mp_holistic.Holistic(min_detection_confidence=0.5, min_tracking_confidence=0.5)\n",
    "\n",
    "\n",
    "\n",
    "datagen = ImageDataGenerator(\n",
    "        rotation_range=10,\n",
    "        width_shift_range=0.2,\n",
    "        height_shift_range=0.2,\n",
    "        shear_range=0.2,\n",
    "        zoom_range=0.2,\n",
    "        #horizontal_flip=True,\n",
    "        fill_mode='nearest')\n",
    "\n",
    "\n",
    "\n",
    "def transform(frame):\n",
    "    for trans_frame in datagen.flow(np.expand_dims(frame, axis=0)):\n",
    "        return np.squeeze(trans_frame.astype(np.uint8), axis=0)\n",
    "    \n",
    "\n",
    "\n",
    "\n",
    "def get_frames_aug(video_path,num_frames):\n",
    "    frames = capture_frames(video_path)\n",
    "    video_length = len(frames)\n",
    "    steps = video_length/num_frames\n",
    "    count=0\n",
    "    new_frames=[]\n",
    "    while count<video_length:\n",
    "        frame = frames[int(count)]\n",
    "        \n",
    "        new_frames.append(transform(frame))\n",
    "        count+=steps\n",
    "\n",
    "    return np.array(new_frames[:num_frames])\n",
    "\n",
    "\n"
   ]
  },
  {
   "cell_type": "code",
   "execution_count": 18,
   "id": "781d6db1",
   "metadata": {},
   "outputs": [],
   "source": [
    "from PIL import Image\n",
    "\n",
    "holistic = mp_holistic.Holistic(min_detection_confidence=0.5, min_tracking_confidence=0.5)\n",
    "\n",
    "def extract_keypoints_video(path,i=-1):\n",
    "    \n",
    "    if(i!=-1):\n",
    "        print(i,end=\"\\r\")\n",
    "    \n",
    "    if(type(path) == str):\n",
    "        frames = get_frames_aug(path,20)\n",
    "    else:\n",
    "        frames = path \n",
    "    output_key_points=[]\n",
    "    \n",
    "    \n",
    "    for frame in frames:\n",
    "        image, results = mediapipe_detection(frame, holistic)\n",
    "        output_key_points.append(extract_keypoints(results))\n",
    "    return np.array(output_key_points)\n",
    "\n",
    "\n",
    "    "
   ]
  },
  {
   "cell_type": "markdown",
   "id": "87dd4a1c",
   "metadata": {},
   "source": [
    "# Test new pose"
   ]
  },
  {
   "cell_type": "code",
   "execution_count": 294,
   "id": "4effefd1",
   "metadata": {},
   "outputs": [
    {
     "data": {
      "text/plain": [
       "x: 0.3142487108707428\n",
       "y: 0.4051662087440491\n",
       "z: -1.0271275043487549\n",
       "visibility: 0.9993081092834473"
      ]
     },
     "execution_count": 294,
     "metadata": {},
     "output_type": "execute_result"
    }
   ],
   "source": [
    "results.pose_landmarks.landmark[0]"
   ]
  },
  {
   "cell_type": "code",
   "execution_count": 90,
   "id": "f8833ea9",
   "metadata": {},
   "outputs": [],
   "source": [
    "trans_frame = transform(frame)"
   ]
  },
  {
   "cell_type": "code",
   "execution_count": 94,
   "id": "4a8871fb",
   "metadata": {},
   "outputs": [
    {
     "data": {
      "text/plain": [
       "0"
      ]
     },
     "execution_count": 94,
     "metadata": {},
     "output_type": "execute_result"
    }
   ],
   "source": [
    "np.min(trans_frame)"
   ]
  },
  {
   "cell_type": "code",
   "execution_count": 45,
   "id": "f48a385e",
   "metadata": {
    "scrolled": false
   },
   "outputs": [
    {
     "data": {
      "image/png": "[encoded data removed]",
      "text/plain": [
       "<PIL.Image.Image image mode=RGB size=512x512 at 0x7F264955B460>"
      ]
     },
     "execution_count": 45,
     "metadata": {},
     "output_type": "execute_result"
    }
   ],
   "source": [
    "frames = get_frames_aug(train_X[34],20)\n",
    "frame = frames[7]\n",
    "\n",
    "image, results = mediapipe_detection(frame, holistic)\n",
    "ex = extract_keypoints(results)\n",
    "\n",
    "draw_updated_styled(image, results)\n",
    "\n",
    "\n",
    "image  = cv2.cvtColor(image,cv2.COLOR_BGR2RGB)\n",
    "\n",
    "from PIL import Image\n",
    "\n",
    "Image.fromarray(image)\n"
   ]
  },
  {
   "cell_type": "code",
   "execution_count": 44,
   "id": "cd85b814",
   "metadata": {},
   "outputs": [
    {
     "data": {
      "text/plain": [
       "array([0.65825856, 0.45923039, 0.67483896, 0.43934199, 0.64051181,\n",
       "       0.44361699, 0.75770265, 0.56956124, 0.79618555, 0.71626335,\n",
       "       0.80249506, 0.841093  , 0.57748812, 0.57267493, 0.55327159,\n",
       "       0.69705969, 0.635427  , 0.55231118, 0.81597841, 0.84940779,\n",
       "       0.78846276, 0.88067532, 0.78780055, 0.91195786, 0.8095783 ,\n",
       "       0.89305604, 0.79487228, 0.93540299, 0.8211593 , 0.89486694,\n",
       "       0.80068743, 0.93478698, 0.82757837, 0.89479673, 0.80664223,\n",
       "       0.93160516, 0.83064497, 0.89399612, 0.8115173 , 0.92605335,\n",
       "       0.        , 0.        , 0.        , 0.        , 0.        ,\n",
       "       0.        , 0.        , 0.        , 0.        , 0.        ,\n",
       "       0.        , 0.        , 0.        , 0.        , 0.        ,\n",
       "       0.        , 0.        , 0.        , 0.        , 0.        ,\n",
       "       0.        , 0.        ])"
      ]
     },
     "execution_count": 44,
     "metadata": {},
     "output_type": "execute_result"
    }
   ],
   "source": [
    "ex"
   ]
  },
  {
   "cell_type": "code",
   "execution_count": 194,
   "id": "14f6ad83",
   "metadata": {},
   "outputs": [],
   "source": [
    "cap = cv2.VideoCapture(0);\n",
    "\n",
    "while cap.isOpened():\n",
    "\n",
    "    ret, frame = cap.read()\n",
    "    if(not ret):break\n",
    "        \n",
    "    frame = transform(frame)\n",
    "    image, results = mediapipe_detection(frame, holistic)\n",
    "    # output_key_points.append(extract_keypoints(results))\n",
    "\n",
    "\n",
    "    # draw_styled_landmarks(frame, results)\n",
    "    draw_updated_styled(frame, results)\n",
    "    \n",
    "    cv2.imshow(\"frame\",frame)\n",
    "    if cv2.waitKey(25) & 0xFF == ord('q'):\n",
    "        break\n",
    "\n",
    "cap.release()\n",
    "cv2.destroyAllWindows()"
   ]
  },
  {
   "cell_type": "code",
   "execution_count": 170,
   "id": "0a2bce0b",
   "metadata": {},
   "outputs": [],
   "source": [
    "cap.release()\n",
    "cv2.destroyAllWindows()"
   ]
  },
  {
   "cell_type": "markdown",
   "id": "fb4424e1",
   "metadata": {},
   "source": [
    "### 3.3 - extract the keypoints and save them in train"
   ]
  },
  {
   "cell_type": "code",
   "execution_count": 24,
   "id": "c4f6199c",
   "metadata": {},
   "outputs": [],
   "source": [
    "x = extract_keypoints_video(train_X[0])"
   ]
  },
  {
   "cell_type": "code",
   "execution_count": 46,
   "id": "16b5ad3d",
   "metadata": {
    "scrolled": true
   },
   "outputs": [
    {
     "name": "stdout",
     "output_type": "stream",
     "text": [
      "V1 exists\n",
      "V2 exists\n",
      "V3 exists\n",
      "V4 exists\n",
      "V5 exists\n",
      "Start saving for V6\n",
      "Training Finished for V6241\n",
      "Start saving for V7\n",
      "Train iteration : 302/1241\r"
     ]
    },
    {
     "ename": "KeyboardInterrupt",
     "evalue": "",
     "output_type": "error",
     "traceback": [
      "\u001b[0;31m---------------------------------------------------------------------------\u001b[0m",
      "\u001b[0;31mKeyboardInterrupt\u001b[0m                         Traceback (most recent call last)",
      "\u001b[0;32m/tmp/ipykernel_52964/1759349438.py\u001b[0m in \u001b[0;36m<module>\u001b[0;34m\u001b[0m\n\u001b[1;32m     15\u001b[0m     \u001b[0;32melse\u001b[0m\u001b[0;34m:\u001b[0m\u001b[0;34m\u001b[0m\u001b[0;34m\u001b[0m\u001b[0m\n\u001b[1;32m     16\u001b[0m         \u001b[0mprint\u001b[0m\u001b[0;34m(\u001b[0m\u001b[0;34mf\"Start saving for V{v}\"\u001b[0m\u001b[0;34m)\u001b[0m\u001b[0;34m\u001b[0m\u001b[0;34m\u001b[0m\u001b[0m\n\u001b[0;32m---> 17\u001b[0;31m         \u001b[0mtrain\u001b[0m \u001b[0;34m=\u001b[0m \u001b[0mnp\u001b[0m\u001b[0;34m.\u001b[0m\u001b[0marray\u001b[0m\u001b[0;34m(\u001b[0m\u001b[0;34m[\u001b[0m\u001b[0mextract_keypoints_video\u001b[0m\u001b[0;34m(\u001b[0m\u001b[0mpath\u001b[0m\u001b[0;34m,\u001b[0m\u001b[0;34mf'Train iteration : {i+1}/{len(train_X)}'\u001b[0m\u001b[0;34m)\u001b[0m \u001b[0;32mfor\u001b[0m \u001b[0mi\u001b[0m\u001b[0;34m,\u001b[0m\u001b[0mpath\u001b[0m \u001b[0;32min\u001b[0m \u001b[0menumerate\u001b[0m\u001b[0;34m(\u001b[0m\u001b[0mtrain_X\u001b[0m\u001b[0;34m)\u001b[0m \u001b[0;34m]\u001b[0m\u001b[0;34m)\u001b[0m\u001b[0;34m\u001b[0m\u001b[0;34m\u001b[0m\u001b[0m\n\u001b[0m\u001b[1;32m     18\u001b[0m         \u001b[0mnp\u001b[0m\u001b[0;34m.\u001b[0m\u001b[0msave\u001b[0m\u001b[0;34m(\u001b[0m\u001b[0mos\u001b[0m\u001b[0;34m.\u001b[0m\u001b[0mpath\u001b[0m\u001b[0;34m.\u001b[0m\u001b[0mjoin\u001b[0m\u001b[0;34m(\u001b[0m\u001b[0mdir_name\u001b[0m\u001b[0;34m,\u001b[0m\u001b[0;34m'train_features.npy'\u001b[0m\u001b[0;34m)\u001b[0m\u001b[0;34m,\u001b[0m \u001b[0mtrain\u001b[0m\u001b[0;34m)\u001b[0m\u001b[0;34m\u001b[0m\u001b[0;34m\u001b[0m\u001b[0m\n\u001b[1;32m     19\u001b[0m         \u001b[0mnp\u001b[0m\u001b[0;34m.\u001b[0m\u001b[0msave\u001b[0m\u001b[0;34m(\u001b[0m\u001b[0mos\u001b[0m\u001b[0;34m.\u001b[0m\u001b[0mpath\u001b[0m\u001b[0;34m.\u001b[0m\u001b[0mjoin\u001b[0m\u001b[0;34m(\u001b[0m\u001b[0mdir_name\u001b[0m\u001b[0;34m,\u001b[0m\u001b[0;34m\"train_labels.npy\"\u001b[0m\u001b[0;34m)\u001b[0m\u001b[0;34m,\u001b[0m\u001b[0mnp\u001b[0m\u001b[0;34m.\u001b[0m\u001b[0marray\u001b[0m\u001b[0;34m(\u001b[0m\u001b[0mtrain_Y\u001b[0m\u001b[0;34m)\u001b[0m\u001b[0;34m)\u001b[0m\u001b[0;34m\u001b[0m\u001b[0;34m\u001b[0m\u001b[0m\n",
      "\u001b[0;32m/tmp/ipykernel_52964/1759349438.py\u001b[0m in \u001b[0;36m<listcomp>\u001b[0;34m(.0)\u001b[0m\n\u001b[1;32m     15\u001b[0m     \u001b[0;32melse\u001b[0m\u001b[0;34m:\u001b[0m\u001b[0;34m\u001b[0m\u001b[0;34m\u001b[0m\u001b[0m\n\u001b[1;32m     16\u001b[0m         \u001b[0mprint\u001b[0m\u001b[0;34m(\u001b[0m\u001b[0;34mf\"Start saving for V{v}\"\u001b[0m\u001b[0;34m)\u001b[0m\u001b[0;34m\u001b[0m\u001b[0;34m\u001b[0m\u001b[0m\n\u001b[0;32m---> 17\u001b[0;31m         \u001b[0mtrain\u001b[0m \u001b[0;34m=\u001b[0m \u001b[0mnp\u001b[0m\u001b[0;34m.\u001b[0m\u001b[0marray\u001b[0m\u001b[0;34m(\u001b[0m\u001b[0;34m[\u001b[0m\u001b[0mextract_keypoints_video\u001b[0m\u001b[0;34m(\u001b[0m\u001b[0mpath\u001b[0m\u001b[0;34m,\u001b[0m\u001b[0;34mf'Train iteration : {i+1}/{len(train_X)}'\u001b[0m\u001b[0;34m)\u001b[0m \u001b[0;32mfor\u001b[0m \u001b[0mi\u001b[0m\u001b[0;34m,\u001b[0m\u001b[0mpath\u001b[0m \u001b[0;32min\u001b[0m \u001b[0menumerate\u001b[0m\u001b[0;34m(\u001b[0m\u001b[0mtrain_X\u001b[0m\u001b[0;34m)\u001b[0m \u001b[0;34m]\u001b[0m\u001b[0;34m)\u001b[0m\u001b[0;34m\u001b[0m\u001b[0;34m\u001b[0m\u001b[0m\n\u001b[0m\u001b[1;32m     18\u001b[0m         \u001b[0mnp\u001b[0m\u001b[0;34m.\u001b[0m\u001b[0msave\u001b[0m\u001b[0;34m(\u001b[0m\u001b[0mos\u001b[0m\u001b[0;34m.\u001b[0m\u001b[0mpath\u001b[0m\u001b[0;34m.\u001b[0m\u001b[0mjoin\u001b[0m\u001b[0;34m(\u001b[0m\u001b[0mdir_name\u001b[0m\u001b[0;34m,\u001b[0m\u001b[0;34m'train_features.npy'\u001b[0m\u001b[0;34m)\u001b[0m\u001b[0;34m,\u001b[0m \u001b[0mtrain\u001b[0m\u001b[0;34m)\u001b[0m\u001b[0;34m\u001b[0m\u001b[0;34m\u001b[0m\u001b[0m\n\u001b[1;32m     19\u001b[0m         \u001b[0mnp\u001b[0m\u001b[0;34m.\u001b[0m\u001b[0msave\u001b[0m\u001b[0;34m(\u001b[0m\u001b[0mos\u001b[0m\u001b[0;34m.\u001b[0m\u001b[0mpath\u001b[0m\u001b[0;34m.\u001b[0m\u001b[0mjoin\u001b[0m\u001b[0;34m(\u001b[0m\u001b[0mdir_name\u001b[0m\u001b[0;34m,\u001b[0m\u001b[0;34m\"train_labels.npy\"\u001b[0m\u001b[0;34m)\u001b[0m\u001b[0;34m,\u001b[0m\u001b[0mnp\u001b[0m\u001b[0;34m.\u001b[0m\u001b[0marray\u001b[0m\u001b[0;34m(\u001b[0m\u001b[0mtrain_Y\u001b[0m\u001b[0;34m)\u001b[0m\u001b[0;34m)\u001b[0m\u001b[0;34m\u001b[0m\u001b[0;34m\u001b[0m\u001b[0m\n",
      "\u001b[0;32m/tmp/ipykernel_52964/4150683598.py\u001b[0m in \u001b[0;36mextract_keypoints_video\u001b[0;34m(path, i)\u001b[0m\n\u001b[1;32m     16\u001b[0m \u001b[0;34m\u001b[0m\u001b[0m\n\u001b[1;32m     17\u001b[0m     \u001b[0;32mfor\u001b[0m \u001b[0mframe\u001b[0m \u001b[0;32min\u001b[0m \u001b[0mframes\u001b[0m\u001b[0;34m:\u001b[0m\u001b[0;34m\u001b[0m\u001b[0;34m\u001b[0m\u001b[0m\n\u001b[0;32m---> 18\u001b[0;31m         \u001b[0mimage\u001b[0m\u001b[0;34m,\u001b[0m \u001b[0mresults\u001b[0m \u001b[0;34m=\u001b[0m \u001b[0mmediapipe_detection\u001b[0m\u001b[0;34m(\u001b[0m\u001b[0mframe\u001b[0m\u001b[0;34m,\u001b[0m \u001b[0mholistic\u001b[0m\u001b[0;34m)\u001b[0m\u001b[0;34m\u001b[0m\u001b[0;34m\u001b[0m\u001b[0m\n\u001b[0m\u001b[1;32m     19\u001b[0m         \u001b[0moutput_key_points\u001b[0m\u001b[0;34m.\u001b[0m\u001b[0mappend\u001b[0m\u001b[0;34m(\u001b[0m\u001b[0mextract_keypoints\u001b[0m\u001b[0;34m(\u001b[0m\u001b[0mresults\u001b[0m\u001b[0;34m)\u001b[0m\u001b[0;34m)\u001b[0m\u001b[0;34m\u001b[0m\u001b[0;34m\u001b[0m\u001b[0m\n\u001b[1;32m     20\u001b[0m     \u001b[0;32mreturn\u001b[0m \u001b[0mnp\u001b[0m\u001b[0;34m.\u001b[0m\u001b[0marray\u001b[0m\u001b[0;34m(\u001b[0m\u001b[0moutput_key_points\u001b[0m\u001b[0;34m)\u001b[0m\u001b[0;34m\u001b[0m\u001b[0;34m\u001b[0m\u001b[0m\n",
      "\u001b[0;32m/tmp/ipykernel_52964/1388278385.py\u001b[0m in \u001b[0;36mmediapipe_detection\u001b[0;34m(image, model)\u001b[0m\n\u001b[1;32m     10\u001b[0m     \u001b[0mimage\u001b[0m  \u001b[0;34m=\u001b[0m \u001b[0mcv2\u001b[0m\u001b[0;34m.\u001b[0m\u001b[0mcvtColor\u001b[0m\u001b[0;34m(\u001b[0m\u001b[0mimage\u001b[0m\u001b[0;34m,\u001b[0m\u001b[0mcv2\u001b[0m\u001b[0;34m.\u001b[0m\u001b[0mCOLOR_BGR2RGB\u001b[0m\u001b[0;34m)\u001b[0m\u001b[0;34m\u001b[0m\u001b[0;34m\u001b[0m\u001b[0m\n\u001b[1;32m     11\u001b[0m     \u001b[0mimage\u001b[0m\u001b[0;34m.\u001b[0m\u001b[0mflags\u001b[0m\u001b[0;34m.\u001b[0m\u001b[0mwriteable\u001b[0m \u001b[0;34m=\u001b[0m \u001b[0;32mFalse\u001b[0m\u001b[0;34m\u001b[0m\u001b[0;34m\u001b[0m\u001b[0m\n\u001b[0;32m---> 12\u001b[0;31m     \u001b[0mresults\u001b[0m \u001b[0;34m=\u001b[0m \u001b[0mmodel\u001b[0m\u001b[0;34m.\u001b[0m\u001b[0mprocess\u001b[0m\u001b[0;34m(\u001b[0m\u001b[0mimage\u001b[0m\u001b[0;34m)\u001b[0m\u001b[0;34m\u001b[0m\u001b[0;34m\u001b[0m\u001b[0m\n\u001b[0m\u001b[1;32m     13\u001b[0m     \u001b[0mimage\u001b[0m\u001b[0;34m.\u001b[0m\u001b[0mflags\u001b[0m\u001b[0;34m.\u001b[0m\u001b[0mwriteable\u001b[0m \u001b[0;34m=\u001b[0m \u001b[0;32mTrue\u001b[0m\u001b[0;34m\u001b[0m\u001b[0;34m\u001b[0m\u001b[0m\n\u001b[1;32m     14\u001b[0m     \u001b[0mimage\u001b[0m  \u001b[0;34m=\u001b[0m \u001b[0mcv2\u001b[0m\u001b[0;34m.\u001b[0m\u001b[0mcvtColor\u001b[0m\u001b[0;34m(\u001b[0m\u001b[0mimage\u001b[0m\u001b[0;34m,\u001b[0m\u001b[0mcv2\u001b[0m\u001b[0;34m.\u001b[0m\u001b[0mCOLOR_RGB2BGR\u001b[0m\u001b[0;34m)\u001b[0m\u001b[0;34m\u001b[0m\u001b[0;34m\u001b[0m\u001b[0m\n",
      "\u001b[0;32m~/.local/lib/python3.8/site-packages/mediapipe/python/solutions/holistic.py\u001b[0m in \u001b[0;36mprocess\u001b[0;34m(self, image)\u001b[0m\n\u001b[1;32m    158\u001b[0m     \"\"\"\n\u001b[1;32m    159\u001b[0m \u001b[0;34m\u001b[0m\u001b[0m\n\u001b[0;32m--> 160\u001b[0;31m     \u001b[0mresults\u001b[0m \u001b[0;34m=\u001b[0m \u001b[0msuper\u001b[0m\u001b[0;34m(\u001b[0m\u001b[0;34m)\u001b[0m\u001b[0;34m.\u001b[0m\u001b[0mprocess\u001b[0m\u001b[0;34m(\u001b[0m\u001b[0minput_data\u001b[0m\u001b[0;34m=\u001b[0m\u001b[0;34m{\u001b[0m\u001b[0;34m'image'\u001b[0m\u001b[0;34m:\u001b[0m \u001b[0mimage\u001b[0m\u001b[0;34m}\u001b[0m\u001b[0;34m)\u001b[0m\u001b[0;34m\u001b[0m\u001b[0;34m\u001b[0m\u001b[0m\n\u001b[0m\u001b[1;32m    161\u001b[0m     \u001b[0;32mif\u001b[0m \u001b[0mresults\u001b[0m\u001b[0;34m.\u001b[0m\u001b[0mpose_landmarks\u001b[0m\u001b[0;34m:\u001b[0m\u001b[0;34m\u001b[0m\u001b[0;34m\u001b[0m\u001b[0m\n\u001b[1;32m    162\u001b[0m       \u001b[0;32mfor\u001b[0m \u001b[0mlandmark\u001b[0m \u001b[0;32min\u001b[0m \u001b[0mresults\u001b[0m\u001b[0;34m.\u001b[0m\u001b[0mpose_landmarks\u001b[0m\u001b[0;34m.\u001b[0m\u001b[0mlandmark\u001b[0m\u001b[0;34m:\u001b[0m\u001b[0;34m\u001b[0m\u001b[0;34m\u001b[0m\u001b[0m\n",
      "\u001b[0;32m~/.local/lib/python3.8/site-packages/mediapipe/python/solution_base.py\u001b[0m in \u001b[0;36mprocess\u001b[0;34m(self, input_data)\u001b[0m\n\u001b[1;32m    332\u001b[0m                                      data).at(self._simulated_timestamp))\n\u001b[1;32m    333\u001b[0m \u001b[0;34m\u001b[0m\u001b[0m\n\u001b[0;32m--> 334\u001b[0;31m     \u001b[0mself\u001b[0m\u001b[0;34m.\u001b[0m\u001b[0m_graph\u001b[0m\u001b[0;34m.\u001b[0m\u001b[0mwait_until_idle\u001b[0m\u001b[0;34m(\u001b[0m\u001b[0;34m)\u001b[0m\u001b[0;34m\u001b[0m\u001b[0;34m\u001b[0m\u001b[0m\n\u001b[0m\u001b[1;32m    335\u001b[0m     \u001b[0;31m# Create a NamedTuple object where the field names are mapping to the graph\u001b[0m\u001b[0;34m\u001b[0m\u001b[0;34m\u001b[0m\u001b[0;34m\u001b[0m\u001b[0m\n\u001b[1;32m    336\u001b[0m     \u001b[0;31m# output stream names.\u001b[0m\u001b[0;34m\u001b[0m\u001b[0;34m\u001b[0m\u001b[0;34m\u001b[0m\u001b[0m\n",
      "\u001b[0;31mKeyboardInterrupt\u001b[0m: "
     ]
    }
   ],
   "source": [
    "# collect 7 different transformations\n",
    "for v in range(1,8):\n",
    "    dir_name = os.path.join(\"final_aug\",str(v))\n",
    "    try:\n",
    "        os.mkdir(dir_name)\n",
    "    except:\n",
    "        pass\n",
    "\n",
    "    os.listdir(dir_name)\n",
    "\n",
    "    if \"train_features.npy\" in os.listdir(dir_name):\n",
    "        print(f\"V{v} exists\")\n",
    "        train_data = np.load(os.path.join(dir_name,\"train_features.npy\"))\n",
    "        train_labels = np.load(os.path.join(dir_name,\"train_labels.npy\"))\n",
    "    else:\n",
    "        print(f\"Start saving for V{v}\")\n",
    "        train = np.array([extract_keypoints_video(path,f'Train iteration : {i+1}/{len(train_X)}') for i,path in enumerate(train_X) ])\n",
    "        np.save(os.path.join(dir_name,'train_features.npy'), train) \n",
    "        np.save(os.path.join(dir_name,\"train_labels.npy\"),np.array(train_Y))\n",
    "        print(f\"Training Finished for V{v}\")"
   ]
  },
  {
   "cell_type": "markdown",
   "id": "067d55d0",
   "metadata": {},
   "source": [
    "# combining the 5 transformed data"
   ]
  },
  {
   "cell_type": "code",
   "execution_count": 32,
   "id": "3b6ed89c",
   "metadata": {},
   "outputs": [],
   "source": [
    "train_data = np.concatenate([\n",
    "    np.load(os.path.join(\"final_aug\",\"1\",'train_features.npy')),\n",
    "    np.load(os.path.join(\"final_aug\",\"2\",'train_features.npy')),\n",
    "    np.load(os.path.join(\"final_aug\",\"3\",'train_features.npy')),\n",
    "    np.load(os.path.join(\"final_aug\",\"4\",'train_features.npy')),\n",
    "    np.load(os.path.join(\"final_aug\",\"5\",'train_features.npy')),\n",
    "    np.load(os.path.join(\"final_reduced\",'train_features.npy')),\n",
    "])\n",
    "\n",
    "train_labels = np.concatenate([\n",
    "    np.load(os.path.join(\"final_aug\",\"1\",'train_labels.npy')),\n",
    "    np.load(os.path.join(\"final_aug\",\"2\",'train_labels.npy')),\n",
    "    np.load(os.path.join(\"final_aug\",\"3\",'train_labels.npy')),\n",
    "    np.load(os.path.join(\"final_aug\",\"4\",'train_labels.npy')),\n",
    "    np.load(os.path.join(\"final_aug\",\"5\",'train_labels.npy')),\n",
    "    np.load(os.path.join(\"final_reduced\",'train_labels.npy')),\n",
    "])\n",
    "val_data    = np.load(os.path.join(\"final_reduced\",'val_features.npy')) \n",
    "val_labels  = np.load(os.path.join(\"final_reduced\",'val_labels.npy')) \n",
    "test_data   = np.load(os.path.join(\"final_reduced\",'test_features.npy')) \n",
    "test_labels = np.load(os.path.join(\"final_reduced\",'test_labels.npy'))  "
   ]
  },
  {
   "cell_type": "code",
   "execution_count": 33,
   "id": "6e1b1216",
   "metadata": {
    "scrolled": true
   },
   "outputs": [
    {
     "name": "stdout",
     "output_type": "stream",
     "text": [
      "(7446, 20, 62) (7446,) (190, 20, 62) (190,) (168, 20, 62) (168,)\n"
     ]
    }
   ],
   "source": [
    "print(\n",
    "train_data.shape,\n",
    "    train_labels.shape,\n",
    "    val_data.shape,\n",
    "    val_labels.shape,\n",
    "    test_data.shape,\n",
    "    test_labels.shape\n",
    "    \n",
    ")"
   ]
  },
  {
   "cell_type": "markdown",
   "id": "b0fb9834",
   "metadata": {},
   "source": [
    "### 3.4 shuffle the data"
   ]
  },
  {
   "cell_type": "code",
   "execution_count": 222,
   "id": "3230f83e",
   "metadata": {},
   "outputs": [],
   "source": [
    "perm = np.random.permutation(len(train_data))\n",
    "\n",
    "train_X = train_data[perm]\n",
    "train_Y = train_labels[perm]\n",
    "val_X = val_data\n",
    "val_Y = val_labels\n",
    "test_X = test_data\n",
    "test_Y = test_labels\n"
   ]
  },
  {
   "cell_type": "code",
   "execution_count": 223,
   "id": "10087b94",
   "metadata": {},
   "outputs": [
    {
     "name": "stdout",
     "output_type": "stream",
     "text": [
      "(4482, 20, 62) (4482,) (118, 20, 62) (118,) (100, 20, 62) (100,)\n"
     ]
    }
   ],
   "source": [
    "print(\n",
    "train_X.shape,\n",
    "train_Y.shape,\n",
    "val_X.shape,\n",
    "val_Y.shape,\n",
    "test_X.shape,\n",
    "test_Y.shape,\n",
    ")"
   ]
  },
  {
   "cell_type": "markdown",
   "id": "e742a5d4",
   "metadata": {},
   "source": [
    "# 4 - build and train the model"
   ]
  },
  {
   "cell_type": "code",
   "execution_count": 257,
   "id": "c0c15994",
   "metadata": {},
   "outputs": [],
   "source": [
    "from tensorflow.keras.models import Sequential\n",
    "from tensorflow.keras.layers import LSTM, Dense,Input,Dropout\n",
    "from tensorflow.keras.models import Model\n",
    "from tensorflow.keras.callbacks import TensorBoard,ModelCheckpoint,EarlyStopping\n",
    "\n",
    "best_model_file_name = os.path.join(\"data_aug\",\"arc_1.h5\")\n",
    "\n",
    "tb_callback = TensorBoard(log_dir=os.path.join('Logs'))\n",
    "checkpoint = ModelCheckpoint(os.path.join(best_model_file_name), monitor='loss', verbose=0,\n",
    "    save_best_only=True, mode='auto', save_freq=1)\n",
    "earlyStopping = EarlyStopping(monitor='loss', patience=40)"
   ]
  },
  {
   "cell_type": "code",
   "execution_count": 258,
   "id": "c681d876",
   "metadata": {},
   "outputs": [
    {
     "data": {
      "text/plain": [
       "['sister', 'hurry', 'hungry', 'meal', 'brother', 'tree']"
      ]
     },
     "execution_count": 258,
     "metadata": {},
     "output_type": "execute_result"
    }
   ],
   "source": [
    "actions"
   ]
  },
  {
   "cell_type": "code",
   "execution_count": 255,
   "id": "dfdeb079",
   "metadata": {},
   "outputs": [
    {
     "name": "stdout",
     "output_type": "stream",
     "text": [
      "WARNING:tensorflow:Layer lstm_18 will not use cuDNN kernels since it doesn't meet the criteria. It will use a generic GPU kernel as fallback when running on GPU.\n",
      "WARNING:tensorflow:Layer lstm_19 will not use cuDNN kernels since it doesn't meet the criteria. It will use a generic GPU kernel as fallback when running on GPU.\n",
      "WARNING:tensorflow:Layer lstm_20 will not use cuDNN kernels since it doesn't meet the criteria. It will use a generic GPU kernel as fallback when running on GPU.\n",
      "WARNING:tensorflow:Layer lstm_21 will not use cuDNN kernels since it doesn't meet the criteria. It will use a generic GPU kernel as fallback when running on GPU.\n",
      "WARNING:tensorflow:Layer lstm_22 will not use cuDNN kernels since it doesn't meet the criteria. It will use a generic GPU kernel as fallback when running on GPU.\n"
     ]
    }
   ],
   "source": [
    "def first_model():\n",
    "    input_layer = Input(shape=(20,62))\n",
    "    layer = LSTM(64,return_sequences=True,activation=\"relu\")(input_layer)\n",
    "    layer = LSTM(128,return_sequences=True,activation=\"relu\")(layer)\n",
    "    layer = LSTM(256,return_sequences=True,activation=\"relu\")(layer)\n",
    "    layer = LSTM(128,return_sequences=True,activation=\"relu\")(layer)\n",
    "    layer = LSTM(64,return_sequences=False,activation=\"relu\")(layer)\n",
    "    layer = Dense(64,activation=\"relu\")(layer)\n",
    "    layer = Dense(32,activation=\"relu\")(layer)\n",
    "    layer = Dense(len(actions),activation=\"softmax\")(layer)\n",
    "\n",
    "    model = Model(inputs=input_layer,outputs=layer)\n",
    "    model.compile(optimizer='Adam', loss='sparse_categorical_crossentropy', metrics=['accuracy'])\n",
    "    \n",
    "    return model\n",
    "\n",
    "\n",
    "def second_model():\n",
    "    input_layer = Input(shape=(20,62))\n",
    "    layer = LSTM(64,return_sequences=True,activation=\"relu\")(input_layer)\n",
    "    layer = LSTM(128,return_sequences=True,activation=\"relu\")(layer)\n",
    "    layer = Dropout(0.5)(layer)\n",
    "    layer = LSTM(256,return_sequences=True,activation=\"relu\")(layer)\n",
    "    layer = Dropout(0.5)(layer)\n",
    "    layer = LSTM(128,return_sequences=True,activation=\"relu\")(layer)\n",
    "    layer = Dropout(0.5)(layer)\n",
    "    layer = LSTM(64,return_sequences=False,activation=\"relu\")(layer)\n",
    "    layer = Dense(64,activation=\"relu\")(layer)\n",
    "    layer = Dense(32,activation=\"relu\")(layer)\n",
    "    layer = Dense(len(actions),activation=\"softmax\")(layer)\n",
    "\n",
    "    model = Model(inputs=input_layer,outputs=layer)\n",
    "    model.compile(optimizer='Adam', loss='sparse_categorical_crossentropy', metrics=['accuracy'])\n",
    "    \n",
    "    return model\n",
    "    \n",
    "    return model\n",
    "\n",
    "def third_model():\n",
    "    input_layer = Input(shape=(20,62))\n",
    "    layer = LSTM(64,return_sequences=True,activation=\"relu\")(input_layer)\n",
    "    layer = LSTM(128,return_sequences=True,activation=\"relu\")(layer)\n",
    "    layer = LSTM(96,return_sequences=False,activation=\"relu\")(layer)\n",
    "    layer = Dense(64,activation=\"relu\")(layer)\n",
    "    layer = Dense(32,activation=\"relu\")(layer)\n",
    "    layer = Dense(len(actions),activation=\"softmax\")(layer)\n",
    "\n",
    "#     optimizer = tf.keras.optimizers.Nadam(learning_rate=0.002,\n",
    "#                              beta_1=0.9,\n",
    "#                              beta_2=0.999, \n",
    "#                              epsilon=1e-08,\n",
    "#                              schedule_decay=0.004)\n",
    "    \n",
    "    model = Model(inputs=input_layer,outputs=layer)\n",
    "    model.compile(optimizer=\"Adam\", loss='sparse_categorical_crossentropy', metrics=['accuracy'])\n",
    "    \n",
    "    return model\n",
    "\n",
    "\n",
    "model = first_model()"
   ]
  },
  {
   "cell_type": "code",
   "execution_count": 259,
   "id": "330f87ff",
   "metadata": {},
   "outputs": [
    {
     "name": "stdout",
     "output_type": "stream",
     "text": [
      "Model: \"model_4\"\n",
      "_________________________________________________________________\n",
      " Layer (type)                Output Shape              Param #   \n",
      "=================================================================\n",
      " input_5 (InputLayer)        [(None, 20, 62)]          0         \n",
      "                                                                 \n",
      " lstm_18 (LSTM)              (None, 20, 64)            32512     \n",
      "                                                                 \n",
      " lstm_19 (LSTM)              (None, 20, 128)           98816     \n",
      "                                                                 \n",
      " lstm_20 (LSTM)              (None, 20, 256)           394240    \n",
      "                                                                 \n",
      " lstm_21 (LSTM)              (None, 20, 128)           197120    \n",
      "                                                                 \n",
      " lstm_22 (LSTM)              (None, 64)                49408     \n",
      "                                                                 \n",
      " dense_12 (Dense)            (None, 64)                4160      \n",
      "                                                                 \n",
      " dense_13 (Dense)            (None, 32)                2080      \n",
      "                                                                 \n",
      " dense_14 (Dense)            (None, 6)                 198       \n",
      "                                                                 \n",
      "=================================================================\n",
      "Total params: 778,534\n",
      "Trainable params: 778,534\n",
      "Non-trainable params: 0\n",
      "_________________________________________________________________\n"
     ]
    }
   ],
   "source": [
    "model.summary()"
   ]
  },
  {
   "cell_type": "code",
   "execution_count": 235,
   "id": "8a38fd8e",
   "metadata": {},
   "outputs": [
    {
     "name": "stdout",
     "output_type": "stream",
     "text": [
      "Epoch 1/150\n",
      "281/281 [==============================] - 72s 241ms/step - loss: 0.5844 - accuracy: 0.7820 - val_loss: 0.4915 - val_accuracy: 0.7881\n",
      "Epoch 2/150\n",
      "281/281 [==============================] - 56s 199ms/step - loss: 0.3989 - accuracy: 0.8349 - val_loss: 0.4270 - val_accuracy: 0.8305\n",
      "Epoch 3/150\n",
      "281/281 [==============================] - 55s 195ms/step - loss: 0.3392 - accuracy: 0.8664 - val_loss: 0.3546 - val_accuracy: 0.9068\n",
      "Epoch 4/150\n",
      "281/281 [==============================] - 55s 195ms/step - loss: 0.2975 - accuracy: 0.8780 - val_loss: 0.2849 - val_accuracy: 0.9153\n",
      "Epoch 5/150\n",
      "281/281 [==============================] - 55s 196ms/step - loss: 0.2862 - accuracy: 0.8759 - val_loss: 0.4448 - val_accuracy: 0.8390\n",
      "Epoch 6/150\n",
      "281/281 [==============================] - 55s 196ms/step - loss: 0.2943 - accuracy: 0.8742 - val_loss: 0.3983 - val_accuracy: 0.8729\n",
      "Epoch 7/150\n",
      "281/281 [==============================] - 55s 193ms/step - loss: 0.2636 - accuracy: 0.9029 - val_loss: 0.5981 - val_accuracy: 0.8051\n",
      "Epoch 8/150\n",
      "281/281 [==============================] - 59s 209ms/step - loss: 0.2283 - accuracy: 0.9076 - val_loss: 0.3219 - val_accuracy: 0.9068\n",
      "Epoch 9/150\n",
      "281/281 [==============================] - 57s 202ms/step - loss: 0.2601 - accuracy: 0.8969 - val_loss: 0.3231 - val_accuracy: 0.9068\n",
      "Epoch 10/150\n",
      "281/281 [==============================] - 58s 206ms/step - loss: 0.2154 - accuracy: 0.9096 - val_loss: 0.2453 - val_accuracy: 0.9153\n",
      "Epoch 11/150\n",
      "281/281 [==============================] - 56s 198ms/step - loss: 0.4621 - accuracy: 0.8240 - val_loss: 0.3743 - val_accuracy: 0.8983\n",
      "Epoch 12/150\n",
      "281/281 [==============================] - 56s 197ms/step - loss: 0.2751 - accuracy: 0.8891 - val_loss: 0.4073 - val_accuracy: 0.8983\n",
      "Epoch 13/150\n",
      "281/281 [==============================] - 56s 196ms/step - loss: 0.2624 - accuracy: 0.8996 - val_loss: 0.3216 - val_accuracy: 0.8814\n",
      "Epoch 14/150\n",
      "281/281 [==============================] - 59s 208ms/step - loss: 0.2729 - accuracy: 0.8938 - val_loss: 0.3664 - val_accuracy: 0.8983\n",
      "Epoch 15/150\n",
      "281/281 [==============================] - 64s 226ms/step - loss: 0.2156 - accuracy: 0.9137 - val_loss: 0.5267 - val_accuracy: 0.8729\n",
      "Epoch 16/150\n",
      "281/281 [==============================] - 58s 207ms/step - loss: 0.1950 - accuracy: 0.9188 - val_loss: 0.4738 - val_accuracy: 0.8898\n",
      "Epoch 17/150\n",
      "281/281 [==============================] - 57s 204ms/step - loss: 0.2013 - accuracy: 0.9197 - val_loss: 0.3355 - val_accuracy: 0.8475\n",
      "Epoch 18/150\n",
      "281/281 [==============================] - 65s 229ms/step - loss: 0.1666 - accuracy: 0.9315 - val_loss: 0.4627 - val_accuracy: 0.8898\n",
      "Epoch 19/150\n",
      "281/281 [==============================] - 59s 209ms/step - loss: 0.1659 - accuracy: 0.9340 - val_loss: 0.3159 - val_accuracy: 0.9153\n",
      "Epoch 20/150\n",
      "281/281 [==============================] - 58s 207ms/step - loss: 0.1334 - accuracy: 0.9460 - val_loss: 0.3496 - val_accuracy: 0.9153\n",
      "Epoch 21/150\n",
      "281/281 [==============================] - 58s 207ms/step - loss: 0.1586 - accuracy: 0.9375 - val_loss: 0.3156 - val_accuracy: 0.9153\n",
      "Epoch 22/150\n",
      "281/281 [==============================] - 63s 224ms/step - loss: 0.1284 - accuracy: 0.9480 - val_loss: 0.3226 - val_accuracy: 0.9068\n",
      "Epoch 23/150\n",
      "281/281 [==============================] - 57s 205ms/step - loss: 0.1451 - accuracy: 0.9415 - val_loss: 0.4529 - val_accuracy: 0.8475\n",
      "Epoch 24/150\n",
      "281/281 [==============================] - 55s 197ms/step - loss: 0.1561 - accuracy: 0.9407 - val_loss: 0.3357 - val_accuracy: 0.8983\n",
      "Epoch 25/150\n",
      "281/281 [==============================] - 57s 203ms/step - loss: 0.1280 - accuracy: 0.9473 - val_loss: 0.3877 - val_accuracy: 0.8983\n",
      "Epoch 26/150\n",
      "281/281 [==============================] - 57s 204ms/step - loss: 0.1200 - accuracy: 0.9507 - val_loss: 0.2489 - val_accuracy: 0.9237\n",
      "Epoch 27/150\n",
      "281/281 [==============================] - 55s 197ms/step - loss: 0.1297 - accuracy: 0.9478 - val_loss: 0.3700 - val_accuracy: 0.8644\n",
      "Epoch 28/150\n",
      "281/281 [==============================] - 55s 197ms/step - loss: 0.1457 - accuracy: 0.9422 - val_loss: 0.5604 - val_accuracy: 0.8729\n",
      "Epoch 29/150\n",
      "281/281 [==============================] - 56s 200ms/step - loss: 0.1203 - accuracy: 0.9567 - val_loss: 0.7159 - val_accuracy: 0.8475\n",
      "Epoch 30/150\n",
      "281/281 [==============================] - 55s 197ms/step - loss: 0.1105 - accuracy: 0.9567 - val_loss: 0.5213 - val_accuracy: 0.8390\n",
      "Epoch 31/150\n",
      "281/281 [==============================] - 56s 201ms/step - loss: 0.1044 - accuracy: 0.9659 - val_loss: 0.3798 - val_accuracy: 0.8898\n",
      "Epoch 32/150\n",
      "281/281 [==============================] - 57s 202ms/step - loss: 0.0988 - accuracy: 0.9632 - val_loss: 0.3769 - val_accuracy: 0.8983\n",
      "Epoch 33/150\n",
      "281/281 [==============================] - 58s 206ms/step - loss: 0.1042 - accuracy: 0.9614 - val_loss: 0.4741 - val_accuracy: 0.8559\n",
      "Epoch 34/150\n",
      "281/281 [==============================] - 58s 206ms/step - loss: 0.1011 - accuracy: 0.9618 - val_loss: 0.3760 - val_accuracy: 0.8898\n",
      "Epoch 35/150\n",
      "281/281 [==============================] - 59s 210ms/step - loss: 0.1017 - accuracy: 0.9621 - val_loss: 0.2552 - val_accuracy: 0.9322\n",
      "Epoch 36/150\n",
      "281/281 [==============================] - 57s 203ms/step - loss: 0.0884 - accuracy: 0.9656 - val_loss: 0.7373 - val_accuracy: 0.8220\n",
      "Epoch 37/150\n",
      "281/281 [==============================] - 57s 203ms/step - loss: 0.0923 - accuracy: 0.9630 - val_loss: 0.7823 - val_accuracy: 0.8475\n",
      "Epoch 38/150\n",
      "281/281 [==============================] - 57s 202ms/step - loss: 0.0988 - accuracy: 0.9650 - val_loss: 0.3212 - val_accuracy: 0.9153\n",
      "Epoch 39/150\n",
      "281/281 [==============================] - 57s 204ms/step - loss: 0.0942 - accuracy: 0.9670 - val_loss: 0.3576 - val_accuracy: 0.8983\n",
      "Epoch 40/150\n",
      "281/281 [==============================] - 58s 207ms/step - loss: 0.2000 - accuracy: 0.9297 - val_loss: 0.6482 - val_accuracy: 0.8220\n",
      "Epoch 41/150\n",
      "281/281 [==============================] - 55s 197ms/step - loss: 0.1137 - accuracy: 0.9616 - val_loss: 0.4694 - val_accuracy: 0.8729\n",
      "Epoch 42/150\n",
      "281/281 [==============================] - 57s 203ms/step - loss: 0.1019 - accuracy: 0.9636 - val_loss: 0.3409 - val_accuracy: 0.8814\n",
      "Epoch 43/150\n",
      "281/281 [==============================] - 56s 200ms/step - loss: 0.0944 - accuracy: 0.9685 - val_loss: 0.4914 - val_accuracy: 0.8814\n",
      "Epoch 44/150\n",
      "281/281 [==============================] - 58s 208ms/step - loss: 0.0846 - accuracy: 0.9692 - val_loss: 0.4696 - val_accuracy: 0.8559\n",
      "Epoch 45/150\n",
      "281/281 [==============================] - 58s 207ms/step - loss: 0.2583 - accuracy: 0.9203 - val_loss: 0.4537 - val_accuracy: 0.8729\n",
      "Epoch 46/150\n",
      "281/281 [==============================] - 59s 208ms/step - loss: 0.1342 - accuracy: 0.9518 - val_loss: 0.4699 - val_accuracy: 0.8814\n",
      "Epoch 47/150\n",
      "281/281 [==============================] - 56s 200ms/step - loss: 0.1129 - accuracy: 0.9583 - val_loss: 0.4085 - val_accuracy: 0.8898\n",
      "Epoch 48/150\n",
      "281/281 [==============================] - 55s 197ms/step - loss: 0.0629 - accuracy: 0.9777 - val_loss: 0.4986 - val_accuracy: 0.8814\n",
      "Epoch 49/150\n",
      "281/281 [==============================] - 56s 200ms/step - loss: 0.0684 - accuracy: 0.9759 - val_loss: 0.4526 - val_accuracy: 0.9068\n",
      "Epoch 50/150\n",
      "281/281 [==============================] - 56s 201ms/step - loss: 0.0501 - accuracy: 0.9819 - val_loss: 0.6020 - val_accuracy: 0.8729\n",
      "Epoch 51/150\n",
      "281/281 [==============================] - 56s 199ms/step - loss: 0.0614 - accuracy: 0.9813 - val_loss: 0.4992 - val_accuracy: 0.8644\n",
      "Epoch 52/150\n",
      "281/281 [==============================] - 57s 202ms/step - loss: 0.0558 - accuracy: 0.9777 - val_loss: 0.5873 - val_accuracy: 0.8729\n",
      "Epoch 53/150\n",
      "281/281 [==============================] - 56s 197ms/step - loss: 0.0701 - accuracy: 0.9786 - val_loss: 0.6256 - val_accuracy: 0.8814\n",
      "Epoch 54/150\n",
      "281/281 [==============================] - 59s 211ms/step - loss: 0.0734 - accuracy: 0.9730 - val_loss: 0.5635 - val_accuracy: 0.8814\n",
      "Epoch 55/150\n",
      "281/281 [==============================] - 56s 201ms/step - loss: 0.0731 - accuracy: 0.9759 - val_loss: 0.4766 - val_accuracy: 0.8983\n",
      "Epoch 56/150\n",
      "281/281 [==============================] - 58s 206ms/step - loss: 0.0547 - accuracy: 0.9806 - val_loss: 0.5385 - val_accuracy: 0.8898\n"
     ]
    },
    {
     "name": "stdout",
     "output_type": "stream",
     "text": [
      "Epoch 57/150\n",
      "281/281 [==============================] - 58s 208ms/step - loss: 0.0645 - accuracy: 0.9779 - val_loss: 0.4858 - val_accuracy: 0.9153\n",
      "Epoch 58/150\n",
      "281/281 [==============================] - 60s 214ms/step - loss: 0.0494 - accuracy: 0.9844 - val_loss: 0.7198 - val_accuracy: 0.8729\n",
      "Epoch 59/150\n",
      "281/281 [==============================] - 58s 207ms/step - loss: 0.1118 - accuracy: 0.9643 - val_loss: 0.4219 - val_accuracy: 0.8814\n",
      "Epoch 60/150\n",
      "281/281 [==============================] - 56s 201ms/step - loss: 0.0904 - accuracy: 0.9683 - val_loss: 0.7234 - val_accuracy: 0.8390\n",
      "Epoch 61/150\n",
      "281/281 [==============================] - 56s 199ms/step - loss: 0.0679 - accuracy: 0.9775 - val_loss: 0.5854 - val_accuracy: 0.8729\n",
      "Epoch 62/150\n",
      "281/281 [==============================] - 58s 205ms/step - loss: 0.0512 - accuracy: 0.9817 - val_loss: 0.7724 - val_accuracy: 0.8729\n",
      "Epoch 63/150\n",
      "281/281 [==============================] - 59s 212ms/step - loss: 0.0538 - accuracy: 0.9801 - val_loss: 0.6230 - val_accuracy: 0.8814\n",
      "Epoch 64/150\n",
      "281/281 [==============================] - 57s 204ms/step - loss: 0.0840 - accuracy: 0.9730 - val_loss: 0.5863 - val_accuracy: 0.8729\n",
      "Epoch 65/150\n",
      "281/281 [==============================] - 59s 211ms/step - loss: 0.0654 - accuracy: 0.9786 - val_loss: 0.4405 - val_accuracy: 0.9237\n",
      "Epoch 66/150\n",
      "281/281 [==============================] - 56s 198ms/step - loss: 0.0498 - accuracy: 0.9819 - val_loss: 0.4427 - val_accuracy: 0.8729\n",
      "Epoch 67/150\n",
      "281/281 [==============================] - 56s 198ms/step - loss: 0.0800 - accuracy: 0.9743 - val_loss: 0.3774 - val_accuracy: 0.9237\n",
      "Epoch 68/150\n",
      "281/281 [==============================] - 56s 200ms/step - loss: 0.0291 - accuracy: 0.9900 - val_loss: 0.5419 - val_accuracy: 0.8983\n",
      "Epoch 69/150\n",
      "281/281 [==============================] - 58s 206ms/step - loss: 0.0362 - accuracy: 0.9864 - val_loss: 0.8527 - val_accuracy: 0.8559\n",
      "Epoch 70/150\n",
      "281/281 [==============================] - 57s 205ms/step - loss: 0.0453 - accuracy: 0.9855 - val_loss: 0.5301 - val_accuracy: 0.8898\n",
      "Epoch 71/150\n",
      "281/281 [==============================] - 59s 209ms/step - loss: 0.0815 - accuracy: 0.9737 - val_loss: 0.3597 - val_accuracy: 0.9068\n",
      "Epoch 72/150\n",
      "281/281 [==============================] - 58s 208ms/step - loss: 0.0204 - accuracy: 0.9940 - val_loss: 0.6816 - val_accuracy: 0.8729\n",
      "Epoch 73/150\n",
      "281/281 [==============================] - 54s 194ms/step - loss: 0.0484 - accuracy: 0.9842 - val_loss: 0.3953 - val_accuracy: 0.9153\n",
      "Epoch 74/150\n",
      "281/281 [==============================] - 55s 198ms/step - loss: 0.0328 - accuracy: 0.9900 - val_loss: 0.7126 - val_accuracy: 0.8729\n",
      "Epoch 75/150\n",
      "281/281 [==============================] - 57s 204ms/step - loss: 0.0730 - accuracy: 0.9777 - val_loss: 0.5016 - val_accuracy: 0.8644\n",
      "Epoch 76/150\n",
      "281/281 [==============================] - 57s 204ms/step - loss: 0.0547 - accuracy: 0.9846 - val_loss: 0.4886 - val_accuracy: 0.9068\n",
      "Epoch 77/150\n",
      "281/281 [==============================] - 59s 210ms/step - loss: 0.0396 - accuracy: 0.9859 - val_loss: 0.4752 - val_accuracy: 0.9068\n",
      "Epoch 78/150\n",
      "281/281 [==============================] - 58s 205ms/step - loss: 0.0526 - accuracy: 0.9795 - val_loss: 0.4609 - val_accuracy: 0.9407\n",
      "Epoch 79/150\n",
      "154/281 [===============>..............] - ETA: 26s - loss: 0.0163 - accuracy: 0.9943"
     ]
    },
    {
     "ename": "KeyboardInterrupt",
     "evalue": "",
     "output_type": "error",
     "traceback": [
      "\u001b[0;31m---------------------------------------------------------------------------\u001b[0m",
      "\u001b[0;31mKeyboardInterrupt\u001b[0m                         Traceback (most recent call last)",
      "\u001b[0;32m/tmp/ipykernel_117167/1045580809.py\u001b[0m in \u001b[0;36m<module>\u001b[0;34m\u001b[0m\n\u001b[0;32m----> 1\u001b[0;31m \u001b[0mhistory\u001b[0m \u001b[0;34m=\u001b[0m \u001b[0mmodel\u001b[0m\u001b[0;34m.\u001b[0m\u001b[0mfit\u001b[0m\u001b[0;34m(\u001b[0m\u001b[0mtrain_X\u001b[0m\u001b[0;34m,\u001b[0m \u001b[0mtrain_Y\u001b[0m\u001b[0;34m,\u001b[0m \u001b[0mepochs\u001b[0m\u001b[0;34m=\u001b[0m\u001b[0;36m150\u001b[0m\u001b[0;34m,\u001b[0m \u001b[0mcallbacks\u001b[0m\u001b[0;34m=\u001b[0m\u001b[0;34m[\u001b[0m\u001b[0mtb_callback\u001b[0m\u001b[0;34m,\u001b[0m\u001b[0mcheckpoint\u001b[0m\u001b[0;34m,\u001b[0m\u001b[0mearlyStopping\u001b[0m\u001b[0;34m]\u001b[0m\u001b[0;34m,\u001b[0m\u001b[0mvalidation_data\u001b[0m\u001b[0;34m=\u001b[0m\u001b[0;34m(\u001b[0m\u001b[0mval_X\u001b[0m\u001b[0;34m,\u001b[0m\u001b[0mval_Y\u001b[0m\u001b[0;34m)\u001b[0m\u001b[0;34m,\u001b[0m\u001b[0mbatch_size\u001b[0m\u001b[0;34m=\u001b[0m\u001b[0;36m16\u001b[0m\u001b[0;34m)\u001b[0m\u001b[0;34m\u001b[0m\u001b[0;34m\u001b[0m\u001b[0m\n\u001b[0m",
      "\u001b[0;32m~/.local/lib/python3.8/site-packages/keras/utils/traceback_utils.py\u001b[0m in \u001b[0;36merror_handler\u001b[0;34m(*args, **kwargs)\u001b[0m\n\u001b[1;32m     62\u001b[0m     \u001b[0mfiltered_tb\u001b[0m \u001b[0;34m=\u001b[0m \u001b[0;32mNone\u001b[0m\u001b[0;34m\u001b[0m\u001b[0;34m\u001b[0m\u001b[0m\n\u001b[1;32m     63\u001b[0m     \u001b[0;32mtry\u001b[0m\u001b[0;34m:\u001b[0m\u001b[0;34m\u001b[0m\u001b[0;34m\u001b[0m\u001b[0m\n\u001b[0;32m---> 64\u001b[0;31m       \u001b[0;32mreturn\u001b[0m \u001b[0mfn\u001b[0m\u001b[0;34m(\u001b[0m\u001b[0;34m*\u001b[0m\u001b[0margs\u001b[0m\u001b[0;34m,\u001b[0m \u001b[0;34m**\u001b[0m\u001b[0mkwargs\u001b[0m\u001b[0;34m)\u001b[0m\u001b[0;34m\u001b[0m\u001b[0;34m\u001b[0m\u001b[0m\n\u001b[0m\u001b[1;32m     65\u001b[0m     \u001b[0;32mexcept\u001b[0m \u001b[0mException\u001b[0m \u001b[0;32mas\u001b[0m \u001b[0me\u001b[0m\u001b[0;34m:\u001b[0m  \u001b[0;31m# pylint: disable=broad-except\u001b[0m\u001b[0;34m\u001b[0m\u001b[0;34m\u001b[0m\u001b[0m\n\u001b[1;32m     66\u001b[0m       \u001b[0mfiltered_tb\u001b[0m \u001b[0;34m=\u001b[0m \u001b[0m_process_traceback_frames\u001b[0m\u001b[0;34m(\u001b[0m\u001b[0me\u001b[0m\u001b[0;34m.\u001b[0m\u001b[0m__traceback__\u001b[0m\u001b[0;34m)\u001b[0m\u001b[0;34m\u001b[0m\u001b[0;34m\u001b[0m\u001b[0m\n",
      "\u001b[0;32m~/.local/lib/python3.8/site-packages/keras/engine/training.py\u001b[0m in \u001b[0;36mfit\u001b[0;34m(self, x, y, batch_size, epochs, verbose, callbacks, validation_split, validation_data, shuffle, class_weight, sample_weight, initial_epoch, steps_per_epoch, validation_steps, validation_batch_size, validation_freq, max_queue_size, workers, use_multiprocessing)\u001b[0m\n\u001b[1;32m   1214\u001b[0m                 _r=1):\n\u001b[1;32m   1215\u001b[0m               \u001b[0mcallbacks\u001b[0m\u001b[0;34m.\u001b[0m\u001b[0mon_train_batch_begin\u001b[0m\u001b[0;34m(\u001b[0m\u001b[0mstep\u001b[0m\u001b[0;34m)\u001b[0m\u001b[0;34m\u001b[0m\u001b[0;34m\u001b[0m\u001b[0m\n\u001b[0;32m-> 1216\u001b[0;31m               \u001b[0mtmp_logs\u001b[0m \u001b[0;34m=\u001b[0m \u001b[0mself\u001b[0m\u001b[0;34m.\u001b[0m\u001b[0mtrain_function\u001b[0m\u001b[0;34m(\u001b[0m\u001b[0miterator\u001b[0m\u001b[0;34m)\u001b[0m\u001b[0;34m\u001b[0m\u001b[0;34m\u001b[0m\u001b[0m\n\u001b[0m\u001b[1;32m   1217\u001b[0m               \u001b[0;32mif\u001b[0m \u001b[0mdata_handler\u001b[0m\u001b[0;34m.\u001b[0m\u001b[0mshould_sync\u001b[0m\u001b[0;34m:\u001b[0m\u001b[0;34m\u001b[0m\u001b[0;34m\u001b[0m\u001b[0m\n\u001b[1;32m   1218\u001b[0m                 \u001b[0mcontext\u001b[0m\u001b[0;34m.\u001b[0m\u001b[0masync_wait\u001b[0m\u001b[0;34m(\u001b[0m\u001b[0;34m)\u001b[0m\u001b[0;34m\u001b[0m\u001b[0;34m\u001b[0m\u001b[0m\n",
      "\u001b[0;32m~/.local/lib/python3.8/site-packages/tensorflow/python/util/traceback_utils.py\u001b[0m in \u001b[0;36merror_handler\u001b[0;34m(*args, **kwargs)\u001b[0m\n\u001b[1;32m    148\u001b[0m     \u001b[0mfiltered_tb\u001b[0m \u001b[0;34m=\u001b[0m \u001b[0;32mNone\u001b[0m\u001b[0;34m\u001b[0m\u001b[0;34m\u001b[0m\u001b[0m\n\u001b[1;32m    149\u001b[0m     \u001b[0;32mtry\u001b[0m\u001b[0;34m:\u001b[0m\u001b[0;34m\u001b[0m\u001b[0;34m\u001b[0m\u001b[0m\n\u001b[0;32m--> 150\u001b[0;31m       \u001b[0;32mreturn\u001b[0m \u001b[0mfn\u001b[0m\u001b[0;34m(\u001b[0m\u001b[0;34m*\u001b[0m\u001b[0margs\u001b[0m\u001b[0;34m,\u001b[0m \u001b[0;34m**\u001b[0m\u001b[0mkwargs\u001b[0m\u001b[0;34m)\u001b[0m\u001b[0;34m\u001b[0m\u001b[0;34m\u001b[0m\u001b[0m\n\u001b[0m\u001b[1;32m    151\u001b[0m     \u001b[0;32mexcept\u001b[0m \u001b[0mException\u001b[0m \u001b[0;32mas\u001b[0m \u001b[0me\u001b[0m\u001b[0;34m:\u001b[0m\u001b[0;34m\u001b[0m\u001b[0;34m\u001b[0m\u001b[0m\n\u001b[1;32m    152\u001b[0m       \u001b[0mfiltered_tb\u001b[0m \u001b[0;34m=\u001b[0m \u001b[0m_process_traceback_frames\u001b[0m\u001b[0;34m(\u001b[0m\u001b[0me\u001b[0m\u001b[0;34m.\u001b[0m\u001b[0m__traceback__\u001b[0m\u001b[0;34m)\u001b[0m\u001b[0;34m\u001b[0m\u001b[0;34m\u001b[0m\u001b[0m\n",
      "\u001b[0;32m~/.local/lib/python3.8/site-packages/tensorflow/python/eager/def_function.py\u001b[0m in \u001b[0;36m__call__\u001b[0;34m(self, *args, **kwds)\u001b[0m\n\u001b[1;32m    908\u001b[0m \u001b[0;34m\u001b[0m\u001b[0m\n\u001b[1;32m    909\u001b[0m       \u001b[0;32mwith\u001b[0m \u001b[0mOptionalXlaContext\u001b[0m\u001b[0;34m(\u001b[0m\u001b[0mself\u001b[0m\u001b[0;34m.\u001b[0m\u001b[0m_jit_compile\u001b[0m\u001b[0;34m)\u001b[0m\u001b[0;34m:\u001b[0m\u001b[0;34m\u001b[0m\u001b[0;34m\u001b[0m\u001b[0m\n\u001b[0;32m--> 910\u001b[0;31m         \u001b[0mresult\u001b[0m \u001b[0;34m=\u001b[0m \u001b[0mself\u001b[0m\u001b[0;34m.\u001b[0m\u001b[0m_call\u001b[0m\u001b[0;34m(\u001b[0m\u001b[0;34m*\u001b[0m\u001b[0margs\u001b[0m\u001b[0;34m,\u001b[0m \u001b[0;34m**\u001b[0m\u001b[0mkwds\u001b[0m\u001b[0;34m)\u001b[0m\u001b[0;34m\u001b[0m\u001b[0;34m\u001b[0m\u001b[0m\n\u001b[0m\u001b[1;32m    911\u001b[0m \u001b[0;34m\u001b[0m\u001b[0m\n\u001b[1;32m    912\u001b[0m       \u001b[0mnew_tracing_count\u001b[0m \u001b[0;34m=\u001b[0m \u001b[0mself\u001b[0m\u001b[0;34m.\u001b[0m\u001b[0mexperimental_get_tracing_count\u001b[0m\u001b[0;34m(\u001b[0m\u001b[0;34m)\u001b[0m\u001b[0;34m\u001b[0m\u001b[0;34m\u001b[0m\u001b[0m\n",
      "\u001b[0;32m~/.local/lib/python3.8/site-packages/tensorflow/python/eager/def_function.py\u001b[0m in \u001b[0;36m_call\u001b[0;34m(self, *args, **kwds)\u001b[0m\n\u001b[1;32m    940\u001b[0m       \u001b[0;31m# In this case we have created variables on the first call, so we run the\u001b[0m\u001b[0;34m\u001b[0m\u001b[0;34m\u001b[0m\u001b[0;34m\u001b[0m\u001b[0m\n\u001b[1;32m    941\u001b[0m       \u001b[0;31m# defunned version which is guaranteed to never create variables.\u001b[0m\u001b[0;34m\u001b[0m\u001b[0;34m\u001b[0m\u001b[0;34m\u001b[0m\u001b[0m\n\u001b[0;32m--> 942\u001b[0;31m       \u001b[0;32mreturn\u001b[0m \u001b[0mself\u001b[0m\u001b[0;34m.\u001b[0m\u001b[0m_stateless_fn\u001b[0m\u001b[0;34m(\u001b[0m\u001b[0;34m*\u001b[0m\u001b[0margs\u001b[0m\u001b[0;34m,\u001b[0m \u001b[0;34m**\u001b[0m\u001b[0mkwds\u001b[0m\u001b[0;34m)\u001b[0m  \u001b[0;31m# pylint: disable=not-callable\u001b[0m\u001b[0;34m\u001b[0m\u001b[0;34m\u001b[0m\u001b[0m\n\u001b[0m\u001b[1;32m    943\u001b[0m     \u001b[0;32melif\u001b[0m \u001b[0mself\u001b[0m\u001b[0;34m.\u001b[0m\u001b[0m_stateful_fn\u001b[0m \u001b[0;32mis\u001b[0m \u001b[0;32mnot\u001b[0m \u001b[0;32mNone\u001b[0m\u001b[0;34m:\u001b[0m\u001b[0;34m\u001b[0m\u001b[0;34m\u001b[0m\u001b[0m\n\u001b[1;32m    944\u001b[0m       \u001b[0;31m# Release the lock early so that multiple threads can perform the call\u001b[0m\u001b[0;34m\u001b[0m\u001b[0;34m\u001b[0m\u001b[0;34m\u001b[0m\u001b[0m\n",
      "\u001b[0;32m~/.local/lib/python3.8/site-packages/tensorflow/python/eager/function.py\u001b[0m in \u001b[0;36m__call__\u001b[0;34m(self, *args, **kwargs)\u001b[0m\n\u001b[1;32m   3128\u001b[0m       (graph_function,\n\u001b[1;32m   3129\u001b[0m        filtered_flat_args) = self._maybe_define_function(args, kwargs)\n\u001b[0;32m-> 3130\u001b[0;31m     return graph_function._call_flat(\n\u001b[0m\u001b[1;32m   3131\u001b[0m         filtered_flat_args, captured_inputs=graph_function.captured_inputs)  # pylint: disable=protected-access\n\u001b[1;32m   3132\u001b[0m \u001b[0;34m\u001b[0m\u001b[0m\n",
      "\u001b[0;32m~/.local/lib/python3.8/site-packages/tensorflow/python/eager/function.py\u001b[0m in \u001b[0;36m_call_flat\u001b[0;34m(self, args, captured_inputs, cancellation_manager)\u001b[0m\n\u001b[1;32m   1957\u001b[0m         and executing_eagerly):\n\u001b[1;32m   1958\u001b[0m       \u001b[0;31m# No tape is watching; skip to running the function.\u001b[0m\u001b[0;34m\u001b[0m\u001b[0;34m\u001b[0m\u001b[0;34m\u001b[0m\u001b[0m\n\u001b[0;32m-> 1959\u001b[0;31m       return self._build_call_outputs(self._inference_function.call(\n\u001b[0m\u001b[1;32m   1960\u001b[0m           ctx, args, cancellation_manager=cancellation_manager))\n\u001b[1;32m   1961\u001b[0m     forward_backward = self._select_forward_and_backward_functions(\n",
      "\u001b[0;32m~/.local/lib/python3.8/site-packages/tensorflow/python/eager/function.py\u001b[0m in \u001b[0;36mcall\u001b[0;34m(self, ctx, args, cancellation_manager)\u001b[0m\n\u001b[1;32m    596\u001b[0m       \u001b[0;32mwith\u001b[0m \u001b[0m_InterpolateFunctionError\u001b[0m\u001b[0;34m(\u001b[0m\u001b[0mself\u001b[0m\u001b[0;34m)\u001b[0m\u001b[0;34m:\u001b[0m\u001b[0;34m\u001b[0m\u001b[0;34m\u001b[0m\u001b[0m\n\u001b[1;32m    597\u001b[0m         \u001b[0;32mif\u001b[0m \u001b[0mcancellation_manager\u001b[0m \u001b[0;32mis\u001b[0m \u001b[0;32mNone\u001b[0m\u001b[0;34m:\u001b[0m\u001b[0;34m\u001b[0m\u001b[0;34m\u001b[0m\u001b[0m\n\u001b[0;32m--> 598\u001b[0;31m           outputs = execute.execute(\n\u001b[0m\u001b[1;32m    599\u001b[0m               \u001b[0mstr\u001b[0m\u001b[0;34m(\u001b[0m\u001b[0mself\u001b[0m\u001b[0;34m.\u001b[0m\u001b[0msignature\u001b[0m\u001b[0;34m.\u001b[0m\u001b[0mname\u001b[0m\u001b[0;34m)\u001b[0m\u001b[0;34m,\u001b[0m\u001b[0;34m\u001b[0m\u001b[0;34m\u001b[0m\u001b[0m\n\u001b[1;32m    600\u001b[0m               \u001b[0mnum_outputs\u001b[0m\u001b[0;34m=\u001b[0m\u001b[0mself\u001b[0m\u001b[0;34m.\u001b[0m\u001b[0m_num_outputs\u001b[0m\u001b[0;34m,\u001b[0m\u001b[0;34m\u001b[0m\u001b[0;34m\u001b[0m\u001b[0m\n",
      "\u001b[0;32m~/.local/lib/python3.8/site-packages/tensorflow/python/eager/execute.py\u001b[0m in \u001b[0;36mquick_execute\u001b[0;34m(op_name, num_outputs, inputs, attrs, ctx, name)\u001b[0m\n\u001b[1;32m     56\u001b[0m   \u001b[0;32mtry\u001b[0m\u001b[0;34m:\u001b[0m\u001b[0;34m\u001b[0m\u001b[0;34m\u001b[0m\u001b[0m\n\u001b[1;32m     57\u001b[0m     \u001b[0mctx\u001b[0m\u001b[0;34m.\u001b[0m\u001b[0mensure_initialized\u001b[0m\u001b[0;34m(\u001b[0m\u001b[0;34m)\u001b[0m\u001b[0;34m\u001b[0m\u001b[0;34m\u001b[0m\u001b[0m\n\u001b[0;32m---> 58\u001b[0;31m     tensors = pywrap_tfe.TFE_Py_Execute(ctx._handle, device_name, op_name,\n\u001b[0m\u001b[1;32m     59\u001b[0m                                         inputs, attrs, num_outputs)\n\u001b[1;32m     60\u001b[0m   \u001b[0;32mexcept\u001b[0m \u001b[0mcore\u001b[0m\u001b[0;34m.\u001b[0m\u001b[0m_NotOkStatusException\u001b[0m \u001b[0;32mas\u001b[0m \u001b[0me\u001b[0m\u001b[0;34m:\u001b[0m\u001b[0;34m\u001b[0m\u001b[0;34m\u001b[0m\u001b[0m\n",
      "\u001b[0;31mKeyboardInterrupt\u001b[0m: "
     ]
    }
   ],
   "source": [
    "history = model.fit(train_X, train_Y, epochs=150, callbacks=[tb_callback,checkpoint,earlyStopping],validation_data=(val_X,val_Y),batch_size=16)"
   ]
  },
  {
   "cell_type": "code",
   "execution_count": 236,
   "id": "5a50965e",
   "metadata": {},
   "outputs": [],
   "source": [
    "model.save_weights(os.path.join(best_model_file_name))"
   ]
  },
  {
   "cell_type": "code",
   "execution_count": 260,
   "id": "f30a6993",
   "metadata": {},
   "outputs": [],
   "source": [
    "model.load_weights(os.path.join(best_model_file_name))"
   ]
  },
  {
   "cell_type": "code",
   "execution_count": 359,
   "id": "14414be2",
   "metadata": {
    "collapsed": true
   },
   "outputs": [
    {
     "ename": "NameError",
     "evalue": "name 'history' is not defined",
     "output_type": "error",
     "traceback": [
      "\u001b[0;31m---------------------------------------------------------------------------\u001b[0m",
      "\u001b[0;31mNameError\u001b[0m                                 Traceback (most recent call last)",
      "\u001b[0;32m/tmp/ipykernel_6440/2233041584.py\u001b[0m in \u001b[0;36m<module>\u001b[0;34m\u001b[0m\n\u001b[0;32m----> 1\u001b[0;31m \u001b[0mprint\u001b[0m\u001b[0;34m(\u001b[0m\u001b[0mhistory\u001b[0m\u001b[0;34m.\u001b[0m\u001b[0mhistory\u001b[0m\u001b[0;34m.\u001b[0m\u001b[0mkeys\u001b[0m\u001b[0;34m(\u001b[0m\u001b[0;34m)\u001b[0m\u001b[0;34m)\u001b[0m\u001b[0;34m\u001b[0m\u001b[0;34m\u001b[0m\u001b[0m\n\u001b[0m\u001b[1;32m      2\u001b[0m \u001b[0;31m# summarize history for accuracy\u001b[0m\u001b[0;34m\u001b[0m\u001b[0;34m\u001b[0m\u001b[0;34m\u001b[0m\u001b[0m\n\u001b[1;32m      3\u001b[0m \u001b[0;34m\u001b[0m\u001b[0m\n",
      "\u001b[0;31mNameError\u001b[0m: name 'history' is not defined"
     ]
    }
   ],
   "source": [
    "print(history.history.keys())\n",
    "# summarize history for accuracy\n",
    "\n"
   ]
  },
  {
   "cell_type": "code",
   "execution_count": 36,
   "id": "a666ffa9",
   "metadata": {},
   "outputs": [
    {
     "data": {
      "image/png": "[encoded data removed]",
      "text/plain": [
       "<Figure size 432x288 with 1 Axes>"
      ]
     },
     "metadata": {
      "needs_background": "light"
     },
     "output_type": "display_data"
    }
   ],
   "source": [
    "plt.plot(history.history['accuracy'])\n",
    "plt.plot(history.history['val_accuracy'])\n",
    "plt.title('model accuracy')\n",
    "plt.ylabel('accuracy')\n",
    "plt.xlabel('epoch')\n",
    "plt.legend(['train', 'test'], loc='upper left')\n",
    "plt.show()"
   ]
  },
  {
   "cell_type": "code",
   "execution_count": 37,
   "id": "45782a05",
   "metadata": {},
   "outputs": [
    {
     "data": {
      "image/png": "[encoded data removed]",
      "text/plain": [
       "<Figure size 432x288 with 1 Axes>"
      ]
     },
     "metadata": {
      "needs_background": "light"
     },
     "output_type": "display_data"
    }
   ],
   "source": [
    "# summarize history for loss\n",
    "plt.plot(history.history['loss'])\n",
    "plt.plot(history.history['val_loss'])\n",
    "plt.title('model loss')\n",
    "plt.ylabel('loss')\n",
    "plt.xlabel('epoch')\n",
    "plt.legend(['train', 'test'], loc='upper left')\n",
    "plt.show()"
   ]
  },
  {
   "cell_type": "code",
   "execution_count": 360,
   "id": "d2f47c45",
   "metadata": {},
   "outputs": [
    {
     "name": "stdout",
     "output_type": "stream",
     "text": [
      "WARNING:tensorflow:Layer lstm_9 will not use cuDNN kernels since it doesn't meet the criteria. It will use a generic GPU kernel as fallback when running on GPU.\n",
      "WARNING:tensorflow:Layer lstm_10 will not use cuDNN kernels since it doesn't meet the criteria. It will use a generic GPU kernel as fallback when running on GPU.\n",
      "WARNING:tensorflow:Layer lstm_11 will not use cuDNN kernels since it doesn't meet the criteria. It will use a generic GPU kernel as fallback when running on GPU.\n"
     ]
    }
   ],
   "source": [
    "m2 = third_model()\n",
    "m2.load_weights(os.path.join(best_model_file_name))"
   ]
  },
  {
   "cell_type": "code",
   "execution_count": 361,
   "id": "1b979ffc",
   "metadata": {},
   "outputs": [
    {
     "name": "stdout",
     "output_type": "stream",
     "text": [
      "24/24 [==============================] - 1s 7ms/step - loss: 0.0088 - accuracy: 0.9960\n",
      "4/4 [==============================] - 0s 7ms/step - loss: 0.5471 - accuracy: 0.9068\n",
      "4/4 [==============================] - 0s 7ms/step - loss: 0.5554 - accuracy: 0.8600\n",
      "[0.008823860436677933, 0.9959839582443237] [0.5470543503761292, 0.9067796468734741] [0.5553972125053406, 0.8600000143051147]\n"
     ]
    }
   ],
   "source": [
    "print(\n",
    "    m2.evaluate(train_X,train_Y),\n",
    "    m2.evaluate(val_X,val_Y),\n",
    "    m2.evaluate(test_X,test_Y)\n",
    ")"
   ]
  },
  {
   "cell_type": "code",
   "execution_count": 261,
   "id": "5be2c37f",
   "metadata": {},
   "outputs": [
    {
     "name": "stdout",
     "output_type": "stream",
     "text": [
      "141/141 [==============================] - 2s 11ms/step - loss: 0.0064 - accuracy: 0.9987\n",
      "4/4 [==============================] - 0s 11ms/step - loss: 0.5613 - accuracy: 0.9068\n",
      "4/4 [==============================] - 0s 11ms/step - loss: 0.3207 - accuracy: 0.9400\n",
      "[0.006355493329465389, 0.9986613392829895] [0.5613365173339844, 0.9067796468734741] [0.3207491934299469, 0.9399999976158142]\n"
     ]
    }
   ],
   "source": [
    "print(\n",
    "    model.evaluate(train_X,train_Y),\n",
    "    model.evaluate(val_X,val_Y),\n",
    "    model.evaluate(test_X,test_Y)\n",
    ")"
   ]
  },
  {
   "cell_type": "code",
   "execution_count": 267,
   "id": "2cc9f519",
   "metadata": {},
   "outputs": [],
   "source": [
    "best_model_file_name = os.path.join(\"data_aug\",\"arc_3.h5\")\n",
    "\n",
    "tb_callback = TensorBoard(log_dir=os.path.join('Logs'))\n",
    "checkpoint = ModelCheckpoint(os.path.join(best_model_file_name), monitor='loss', verbose=0,\n",
    "    save_best_only=True, mode='auto', save_freq=1)\n",
    "earlyStopping = EarlyStopping(monitor='loss', patience=40)"
   ]
  },
  {
   "cell_type": "code",
   "execution_count": 268,
   "id": "a31d841a",
   "metadata": {},
   "outputs": [
    {
     "name": "stdout",
     "output_type": "stream",
     "text": [
      "WARNING:tensorflow:Layer lstm_23 will not use cuDNN kernels since it doesn't meet the criteria. It will use a generic GPU kernel as fallback when running on GPU.\n",
      "WARNING:tensorflow:Layer lstm_24 will not use cuDNN kernels since it doesn't meet the criteria. It will use a generic GPU kernel as fallback when running on GPU.\n",
      "WARNING:tensorflow:Layer lstm_25 will not use cuDNN kernels since it doesn't meet the criteria. It will use a generic GPU kernel as fallback when running on GPU.\n"
     ]
    }
   ],
   "source": [
    "model = third_model()"
   ]
  },
  {
   "cell_type": "code",
   "execution_count": 269,
   "id": "b476c408",
   "metadata": {},
   "outputs": [],
   "source": [
    "model.load_weights(os.path.join(best_model_file_name))"
   ]
  },
  {
   "cell_type": "code",
   "execution_count": 248,
   "id": "1de55cfb",
   "metadata": {
    "scrolled": true
   },
   "outputs": [
    {
     "name": "stdout",
     "output_type": "stream",
     "text": [
      "Epoch 1/70\n",
      "281/281 [==============================] - 18s 60ms/step - loss: 0.3888 - accuracy: 0.8610 - val_loss: 0.2904 - val_accuracy: 0.9322\n",
      "Epoch 2/70\n",
      "281/281 [==============================] - 12s 44ms/step - loss: 0.2501 - accuracy: 0.9018 - val_loss: 0.5411 - val_accuracy: 0.8390\n",
      "Epoch 3/70\n",
      "281/281 [==============================] - 20s 70ms/step - loss: 0.2239 - accuracy: 0.9076 - val_loss: 0.3064 - val_accuracy: 0.9322\n",
      "Epoch 4/70\n",
      "281/281 [==============================] - 35s 125ms/step - loss: 0.2024 - accuracy: 0.9219 - val_loss: 0.3852 - val_accuracy: 0.8305\n",
      "Epoch 5/70\n",
      "281/281 [==============================] - 33s 118ms/step - loss: 0.1880 - accuracy: 0.9268 - val_loss: 0.3665 - val_accuracy: 0.8898\n",
      "Epoch 6/70\n",
      "281/281 [==============================] - 33s 118ms/step - loss: 0.1549 - accuracy: 0.9357 - val_loss: 0.9221 - val_accuracy: 0.7203\n",
      "Epoch 7/70\n",
      "281/281 [==============================] - 33s 119ms/step - loss: 0.1669 - accuracy: 0.9349 - val_loss: 0.4023 - val_accuracy: 0.9153\n",
      "Epoch 8/70\n",
      "281/281 [==============================] - 33s 119ms/step - loss: 0.1455 - accuracy: 0.9415 - val_loss: 0.4018 - val_accuracy: 0.8814\n",
      "Epoch 9/70\n",
      "281/281 [==============================] - 33s 116ms/step - loss: 0.1285 - accuracy: 0.9489 - val_loss: 0.3101 - val_accuracy: 0.8983\n",
      "Epoch 10/70\n",
      "281/281 [==============================] - 33s 118ms/step - loss: 0.1256 - accuracy: 0.9518 - val_loss: 0.2827 - val_accuracy: 0.9153\n",
      "Epoch 11/70\n",
      "281/281 [==============================] - 33s 117ms/step - loss: 0.1550 - accuracy: 0.9389 - val_loss: 0.2613 - val_accuracy: 0.9237\n",
      "Epoch 12/70\n",
      "281/281 [==============================] - 33s 118ms/step - loss: 0.0931 - accuracy: 0.9625 - val_loss: 0.3959 - val_accuracy: 0.8983\n",
      "Epoch 13/70\n",
      "281/281 [==============================] - 33s 119ms/step - loss: 0.1166 - accuracy: 0.9534 - val_loss: 0.1990 - val_accuracy: 0.9322\n",
      "Epoch 14/70\n",
      "281/281 [==============================] - 34s 121ms/step - loss: 0.0845 - accuracy: 0.9672 - val_loss: 0.3198 - val_accuracy: 0.8983\n",
      "Epoch 15/70\n",
      "281/281 [==============================] - 36s 128ms/step - loss: 0.1075 - accuracy: 0.9596 - val_loss: 0.2399 - val_accuracy: 0.9237\n",
      "Epoch 16/70\n",
      "281/281 [==============================] - 34s 123ms/step - loss: 0.1087 - accuracy: 0.9596 - val_loss: 0.2083 - val_accuracy: 0.9153\n",
      "Epoch 17/70\n",
      "281/281 [==============================] - 35s 124ms/step - loss: 0.0741 - accuracy: 0.9717 - val_loss: 0.2346 - val_accuracy: 0.9237\n",
      "Epoch 18/70\n",
      "281/281 [==============================] - 35s 125ms/step - loss: 0.0647 - accuracy: 0.9755 - val_loss: 0.4323 - val_accuracy: 0.8983\n",
      "Epoch 19/70\n",
      "281/281 [==============================] - 35s 123ms/step - loss: 0.0919 - accuracy: 0.9670 - val_loss: 0.1483 - val_accuracy: 0.9492\n",
      "Epoch 20/70\n",
      "281/281 [==============================] - 35s 124ms/step - loss: 0.0879 - accuracy: 0.9690 - val_loss: 0.1926 - val_accuracy: 0.9237\n",
      "Epoch 21/70\n",
      "281/281 [==============================] - 36s 128ms/step - loss: 0.0580 - accuracy: 0.9779 - val_loss: 0.1902 - val_accuracy: 0.9492\n",
      "Epoch 22/70\n",
      "281/281 [==============================] - 36s 127ms/step - loss: 0.0773 - accuracy: 0.9743 - val_loss: 0.1202 - val_accuracy: 0.9407\n",
      "Epoch 23/70\n",
      "281/281 [==============================] - 35s 125ms/step - loss: 0.0635 - accuracy: 0.9759 - val_loss: 1.2898 - val_accuracy: 0.7712\n",
      "Epoch 24/70\n",
      "281/281 [==============================] - 34s 120ms/step - loss: 0.0779 - accuracy: 0.9714 - val_loss: 0.2536 - val_accuracy: 0.9237\n",
      "Epoch 25/70\n",
      "281/281 [==============================] - 36s 127ms/step - loss: 0.0506 - accuracy: 0.9828 - val_loss: 0.2447 - val_accuracy: 0.9153\n",
      "Epoch 26/70\n",
      "281/281 [==============================] - 35s 123ms/step - loss: 0.1077 - accuracy: 0.9643 - val_loss: 0.4577 - val_accuracy: 0.8898\n",
      "Epoch 27/70\n",
      "281/281 [==============================] - 33s 118ms/step - loss: 0.0558 - accuracy: 0.9810 - val_loss: 0.2232 - val_accuracy: 0.9153\n",
      "Epoch 28/70\n",
      "281/281 [==============================] - 34s 120ms/step - loss: 0.1037 - accuracy: 0.9656 - val_loss: 0.3176 - val_accuracy: 0.9153\n",
      "Epoch 29/70\n",
      "281/281 [==============================] - 35s 125ms/step - loss: 0.0263 - accuracy: 0.9917 - val_loss: 0.2353 - val_accuracy: 0.9407\n",
      "Epoch 30/70\n",
      "281/281 [==============================] - 35s 126ms/step - loss: 0.0712 - accuracy: 0.9759 - val_loss: 0.3003 - val_accuracy: 0.9153\n",
      "Epoch 31/70\n",
      "281/281 [==============================] - 33s 119ms/step - loss: 0.0737 - accuracy: 0.9766 - val_loss: 0.2805 - val_accuracy: 0.9237\n",
      "Epoch 32/70\n",
      "281/281 [==============================] - 36s 127ms/step - loss: 0.0306 - accuracy: 0.9888 - val_loss: 0.3749 - val_accuracy: 0.8983\n",
      "Epoch 33/70\n",
      "281/281 [==============================] - 36s 128ms/step - loss: 0.0701 - accuracy: 0.9763 - val_loss: 0.2807 - val_accuracy: 0.9322\n",
      "Epoch 34/70\n",
      "281/281 [==============================] - 39s 138ms/step - loss: 0.0374 - accuracy: 0.9866 - val_loss: 0.4732 - val_accuracy: 0.9068\n",
      "Epoch 35/70\n",
      "281/281 [==============================] - 33s 119ms/step - loss: 0.1058 - accuracy: 0.9692 - val_loss: 0.2361 - val_accuracy: 0.9068\n",
      "Epoch 36/70\n",
      "281/281 [==============================] - 33s 118ms/step - loss: 0.0583 - accuracy: 0.9781 - val_loss: 0.5708 - val_accuracy: 0.8136\n",
      "Epoch 37/70\n",
      "281/281 [==============================] - 33s 119ms/step - loss: 0.0388 - accuracy: 0.9864 - val_loss: 0.2340 - val_accuracy: 0.9237\n",
      "Epoch 38/70\n",
      "281/281 [==============================] - 34s 121ms/step - loss: 0.0610 - accuracy: 0.9788 - val_loss: 0.0826 - val_accuracy: 0.9576\n",
      "Epoch 39/70\n",
      "281/281 [==============================] - 33s 119ms/step - loss: 0.0309 - accuracy: 0.9893 - val_loss: 0.1535 - val_accuracy: 0.9492\n",
      "Epoch 40/70\n",
      "281/281 [==============================] - 34s 121ms/step - loss: 0.0358 - accuracy: 0.9904 - val_loss: 0.5456 - val_accuracy: 0.8983\n",
      "Epoch 41/70\n",
      "281/281 [==============================] - 34s 120ms/step - loss: 0.0410 - accuracy: 0.9880 - val_loss: 0.2157 - val_accuracy: 0.9237\n",
      "Epoch 42/70\n",
      "281/281 [==============================] - 33s 119ms/step - loss: 0.0822 - accuracy: 0.9748 - val_loss: 0.1299 - val_accuracy: 0.9407\n",
      "Epoch 43/70\n",
      "281/281 [==============================] - 32s 116ms/step - loss: 0.0292 - accuracy: 0.9904 - val_loss: 0.5801 - val_accuracy: 0.8729\n",
      "Epoch 44/70\n",
      "281/281 [==============================] - 35s 126ms/step - loss: 974.4821 - accuracy: 0.2068 - val_loss: 1.8135 - val_accuracy: 0.1695\n",
      "Epoch 45/70\n",
      "281/281 [==============================] - 34s 122ms/step - loss: 2.2360 - accuracy: 0.1624 - val_loss: 1.9038 - val_accuracy: 0.1525\n",
      "Epoch 46/70\n",
      "281/281 [==============================] - 33s 117ms/step - loss: 1.9092 - accuracy: 0.1618 - val_loss: 1.7936 - val_accuracy: 0.1610\n",
      "Epoch 47/70\n",
      "281/281 [==============================] - 33s 118ms/step - loss: 1.8113 - accuracy: 0.1642 - val_loss: 1.7925 - val_accuracy: 0.1610\n",
      "Epoch 48/70\n",
      "281/281 [==============================] - 33s 118ms/step - loss: 1.7922 - accuracy: 0.1613 - val_loss: 1.7920 - val_accuracy: 0.1610\n",
      "Epoch 49/70\n",
      "281/281 [==============================] - 33s 117ms/step - loss: 1.7921 - accuracy: 0.1633 - val_loss: 1.7919 - val_accuracy: 0.1610\n",
      "Epoch 50/70\n",
      "281/281 [==============================] - 34s 122ms/step - loss: 1.7920 - accuracy: 0.1615 - val_loss: 1.7918 - val_accuracy: 0.1695\n",
      "Epoch 51/70\n",
      "281/281 [==============================] - 33s 119ms/step - loss: 1.7920 - accuracy: 0.1598 - val_loss: 1.7918 - val_accuracy: 0.1695\n",
      "Epoch 52/70\n",
      "281/281 [==============================] - 34s 122ms/step - loss: 1.7920 - accuracy: 0.1673 - val_loss: 1.7918 - val_accuracy: 0.1695\n",
      "Epoch 53/70\n",
      "281/281 [==============================] - 35s 124ms/step - loss: 1.7919 - accuracy: 0.1644 - val_loss: 1.7918 - val_accuracy: 0.1695\n",
      "Epoch 54/70\n",
      "281/281 [==============================] - 36s 128ms/step - loss: 1.7919 - accuracy: 0.1687 - val_loss: 1.7917 - val_accuracy: 0.1695\n",
      "Epoch 55/70\n",
      "281/281 [==============================] - 35s 126ms/step - loss: 1.7919 - accuracy: 0.1609 - val_loss: 1.7917 - val_accuracy: 0.1695\n",
      "Epoch 56/70\n",
      "281/281 [==============================] - 33s 117ms/step - loss: 1.7920 - accuracy: 0.1618 - val_loss: 1.7917 - val_accuracy: 0.1695\n",
      "Epoch 57/70\n",
      "281/281 [==============================] - 33s 117ms/step - loss: 1.7920 - accuracy: 0.1696 - val_loss: 1.7918 - val_accuracy: 0.1695\n",
      "Epoch 58/70\n",
      "281/281 [==============================] - 34s 120ms/step - loss: 1.7920 - accuracy: 0.1647 - val_loss: 1.7918 - val_accuracy: 0.1695\n",
      "Epoch 59/70\n",
      "281/281 [==============================] - 33s 117ms/step - loss: 1.7919 - accuracy: 0.1589 - val_loss: 1.7918 - val_accuracy: 0.1695\n",
      "Epoch 60/70\n",
      "281/281 [==============================] - 34s 123ms/step - loss: 1.7920 - accuracy: 0.1687 - val_loss: 1.7918 - val_accuracy: 0.1695\n",
      "Epoch 61/70\n",
      "281/281 [==============================] - 33s 118ms/step - loss: 1.7920 - accuracy: 0.1631 - val_loss: 1.7918 - val_accuracy: 0.1695\n",
      "Epoch 62/70\n",
      "281/281 [==============================] - 33s 119ms/step - loss: 1.7919 - accuracy: 0.1642 - val_loss: 1.7917 - val_accuracy: 0.1695\n",
      "Epoch 63/70\n",
      "281/281 [==============================] - 33s 118ms/step - loss: 1.7920 - accuracy: 0.1627 - val_loss: 1.7918 - val_accuracy: 0.1695\n",
      "Epoch 64/70\n",
      "281/281 [==============================] - 35s 124ms/step - loss: 1.7919 - accuracy: 0.1651 - val_loss: 1.7917 - val_accuracy: 0.1695\n",
      "Epoch 65/70\n",
      "281/281 [==============================] - 36s 128ms/step - loss: 1.7920 - accuracy: 0.1644 - val_loss: 1.7917 - val_accuracy: 0.1695\n",
      "Epoch 66/70\n",
      "281/281 [==============================] - 34s 123ms/step - loss: 1.7920 - accuracy: 0.1660 - val_loss: 1.7917 - val_accuracy: 0.1695\n",
      "Epoch 67/70\n",
      "281/281 [==============================] - 33s 117ms/step - loss: 1.7919 - accuracy: 0.1624 - val_loss: 1.7917 - val_accuracy: 0.1695\n",
      "Epoch 68/70\n",
      "187/281 [==================>...........] - ETA: 11s - loss: 1.7919 - accuracy: 0.1705"
     ]
    },
    {
     "ename": "KeyboardInterrupt",
     "evalue": "",
     "output_type": "error",
     "traceback": [
      "\u001b[0;31m---------------------------------------------------------------------------\u001b[0m",
      "\u001b[0;31mKeyboardInterrupt\u001b[0m                         Traceback (most recent call last)",
      "\u001b[0;32m/tmp/ipykernel_117167/3375744866.py\u001b[0m in \u001b[0;36m<module>\u001b[0;34m\u001b[0m\n\u001b[0;32m----> 1\u001b[0;31m \u001b[0mhistory\u001b[0m \u001b[0;34m=\u001b[0m \u001b[0mmodel\u001b[0m\u001b[0;34m.\u001b[0m\u001b[0mfit\u001b[0m\u001b[0;34m(\u001b[0m\u001b[0mtrain_X\u001b[0m\u001b[0;34m,\u001b[0m \u001b[0mtrain_Y\u001b[0m\u001b[0;34m,\u001b[0m \u001b[0mepochs\u001b[0m\u001b[0;34m=\u001b[0m\u001b[0;36m70\u001b[0m\u001b[0;34m,\u001b[0m \u001b[0mcallbacks\u001b[0m\u001b[0;34m=\u001b[0m\u001b[0;34m[\u001b[0m\u001b[0mtb_callback\u001b[0m\u001b[0;34m,\u001b[0m\u001b[0mcheckpoint\u001b[0m\u001b[0;34m,\u001b[0m\u001b[0mearlyStopping\u001b[0m\u001b[0;34m]\u001b[0m\u001b[0;34m,\u001b[0m\u001b[0mvalidation_data\u001b[0m\u001b[0;34m=\u001b[0m\u001b[0;34m(\u001b[0m\u001b[0mval_X\u001b[0m\u001b[0;34m,\u001b[0m\u001b[0mval_Y\u001b[0m\u001b[0;34m)\u001b[0m\u001b[0;34m,\u001b[0m\u001b[0mbatch_size\u001b[0m\u001b[0;34m=\u001b[0m\u001b[0;36m16\u001b[0m\u001b[0;34m)\u001b[0m\u001b[0;34m\u001b[0m\u001b[0;34m\u001b[0m\u001b[0m\n\u001b[0m",
      "\u001b[0;32m~/.local/lib/python3.8/site-packages/keras/utils/traceback_utils.py\u001b[0m in \u001b[0;36merror_handler\u001b[0;34m(*args, **kwargs)\u001b[0m\n\u001b[1;32m     62\u001b[0m     \u001b[0mfiltered_tb\u001b[0m \u001b[0;34m=\u001b[0m \u001b[0;32mNone\u001b[0m\u001b[0;34m\u001b[0m\u001b[0;34m\u001b[0m\u001b[0m\n\u001b[1;32m     63\u001b[0m     \u001b[0;32mtry\u001b[0m\u001b[0;34m:\u001b[0m\u001b[0;34m\u001b[0m\u001b[0;34m\u001b[0m\u001b[0m\n\u001b[0;32m---> 64\u001b[0;31m       \u001b[0;32mreturn\u001b[0m \u001b[0mfn\u001b[0m\u001b[0;34m(\u001b[0m\u001b[0;34m*\u001b[0m\u001b[0margs\u001b[0m\u001b[0;34m,\u001b[0m \u001b[0;34m**\u001b[0m\u001b[0mkwargs\u001b[0m\u001b[0;34m)\u001b[0m\u001b[0;34m\u001b[0m\u001b[0;34m\u001b[0m\u001b[0m\n\u001b[0m\u001b[1;32m     65\u001b[0m     \u001b[0;32mexcept\u001b[0m \u001b[0mException\u001b[0m \u001b[0;32mas\u001b[0m \u001b[0me\u001b[0m\u001b[0;34m:\u001b[0m  \u001b[0;31m# pylint: disable=broad-except\u001b[0m\u001b[0;34m\u001b[0m\u001b[0;34m\u001b[0m\u001b[0m\n\u001b[1;32m     66\u001b[0m       \u001b[0mfiltered_tb\u001b[0m \u001b[0;34m=\u001b[0m \u001b[0m_process_traceback_frames\u001b[0m\u001b[0;34m(\u001b[0m\u001b[0me\u001b[0m\u001b[0;34m.\u001b[0m\u001b[0m__traceback__\u001b[0m\u001b[0;34m)\u001b[0m\u001b[0;34m\u001b[0m\u001b[0;34m\u001b[0m\u001b[0m\n",
      "\u001b[0;32m~/.local/lib/python3.8/site-packages/keras/engine/training.py\u001b[0m in \u001b[0;36mfit\u001b[0;34m(self, x, y, batch_size, epochs, verbose, callbacks, validation_split, validation_data, shuffle, class_weight, sample_weight, initial_epoch, steps_per_epoch, validation_steps, validation_batch_size, validation_freq, max_queue_size, workers, use_multiprocessing)\u001b[0m\n\u001b[1;32m   1214\u001b[0m                 _r=1):\n\u001b[1;32m   1215\u001b[0m               \u001b[0mcallbacks\u001b[0m\u001b[0;34m.\u001b[0m\u001b[0mon_train_batch_begin\u001b[0m\u001b[0;34m(\u001b[0m\u001b[0mstep\u001b[0m\u001b[0;34m)\u001b[0m\u001b[0;34m\u001b[0m\u001b[0;34m\u001b[0m\u001b[0m\n\u001b[0;32m-> 1216\u001b[0;31m               \u001b[0mtmp_logs\u001b[0m \u001b[0;34m=\u001b[0m \u001b[0mself\u001b[0m\u001b[0;34m.\u001b[0m\u001b[0mtrain_function\u001b[0m\u001b[0;34m(\u001b[0m\u001b[0miterator\u001b[0m\u001b[0;34m)\u001b[0m\u001b[0;34m\u001b[0m\u001b[0;34m\u001b[0m\u001b[0m\n\u001b[0m\u001b[1;32m   1217\u001b[0m               \u001b[0;32mif\u001b[0m \u001b[0mdata_handler\u001b[0m\u001b[0;34m.\u001b[0m\u001b[0mshould_sync\u001b[0m\u001b[0;34m:\u001b[0m\u001b[0;34m\u001b[0m\u001b[0;34m\u001b[0m\u001b[0m\n\u001b[1;32m   1218\u001b[0m                 \u001b[0mcontext\u001b[0m\u001b[0;34m.\u001b[0m\u001b[0masync_wait\u001b[0m\u001b[0;34m(\u001b[0m\u001b[0;34m)\u001b[0m\u001b[0;34m\u001b[0m\u001b[0;34m\u001b[0m\u001b[0m\n",
      "\u001b[0;32m~/.local/lib/python3.8/site-packages/tensorflow/python/util/traceback_utils.py\u001b[0m in \u001b[0;36merror_handler\u001b[0;34m(*args, **kwargs)\u001b[0m\n\u001b[1;32m    148\u001b[0m     \u001b[0mfiltered_tb\u001b[0m \u001b[0;34m=\u001b[0m \u001b[0;32mNone\u001b[0m\u001b[0;34m\u001b[0m\u001b[0;34m\u001b[0m\u001b[0m\n\u001b[1;32m    149\u001b[0m     \u001b[0;32mtry\u001b[0m\u001b[0;34m:\u001b[0m\u001b[0;34m\u001b[0m\u001b[0;34m\u001b[0m\u001b[0m\n\u001b[0;32m--> 150\u001b[0;31m       \u001b[0;32mreturn\u001b[0m \u001b[0mfn\u001b[0m\u001b[0;34m(\u001b[0m\u001b[0;34m*\u001b[0m\u001b[0margs\u001b[0m\u001b[0;34m,\u001b[0m \u001b[0;34m**\u001b[0m\u001b[0mkwargs\u001b[0m\u001b[0;34m)\u001b[0m\u001b[0;34m\u001b[0m\u001b[0;34m\u001b[0m\u001b[0m\n\u001b[0m\u001b[1;32m    151\u001b[0m     \u001b[0;32mexcept\u001b[0m \u001b[0mException\u001b[0m \u001b[0;32mas\u001b[0m \u001b[0me\u001b[0m\u001b[0;34m:\u001b[0m\u001b[0;34m\u001b[0m\u001b[0;34m\u001b[0m\u001b[0m\n\u001b[1;32m    152\u001b[0m       \u001b[0mfiltered_tb\u001b[0m \u001b[0;34m=\u001b[0m \u001b[0m_process_traceback_frames\u001b[0m\u001b[0;34m(\u001b[0m\u001b[0me\u001b[0m\u001b[0;34m.\u001b[0m\u001b[0m__traceback__\u001b[0m\u001b[0;34m)\u001b[0m\u001b[0;34m\u001b[0m\u001b[0;34m\u001b[0m\u001b[0m\n",
      "\u001b[0;32m~/.local/lib/python3.8/site-packages/tensorflow/python/eager/def_function.py\u001b[0m in \u001b[0;36m__call__\u001b[0;34m(self, *args, **kwds)\u001b[0m\n\u001b[1;32m    908\u001b[0m \u001b[0;34m\u001b[0m\u001b[0m\n\u001b[1;32m    909\u001b[0m       \u001b[0;32mwith\u001b[0m \u001b[0mOptionalXlaContext\u001b[0m\u001b[0;34m(\u001b[0m\u001b[0mself\u001b[0m\u001b[0;34m.\u001b[0m\u001b[0m_jit_compile\u001b[0m\u001b[0;34m)\u001b[0m\u001b[0;34m:\u001b[0m\u001b[0;34m\u001b[0m\u001b[0;34m\u001b[0m\u001b[0m\n\u001b[0;32m--> 910\u001b[0;31m         \u001b[0mresult\u001b[0m \u001b[0;34m=\u001b[0m \u001b[0mself\u001b[0m\u001b[0;34m.\u001b[0m\u001b[0m_call\u001b[0m\u001b[0;34m(\u001b[0m\u001b[0;34m*\u001b[0m\u001b[0margs\u001b[0m\u001b[0;34m,\u001b[0m \u001b[0;34m**\u001b[0m\u001b[0mkwds\u001b[0m\u001b[0;34m)\u001b[0m\u001b[0;34m\u001b[0m\u001b[0;34m\u001b[0m\u001b[0m\n\u001b[0m\u001b[1;32m    911\u001b[0m \u001b[0;34m\u001b[0m\u001b[0m\n\u001b[1;32m    912\u001b[0m       \u001b[0mnew_tracing_count\u001b[0m \u001b[0;34m=\u001b[0m \u001b[0mself\u001b[0m\u001b[0;34m.\u001b[0m\u001b[0mexperimental_get_tracing_count\u001b[0m\u001b[0;34m(\u001b[0m\u001b[0;34m)\u001b[0m\u001b[0;34m\u001b[0m\u001b[0;34m\u001b[0m\u001b[0m\n",
      "\u001b[0;32m~/.local/lib/python3.8/site-packages/tensorflow/python/eager/def_function.py\u001b[0m in \u001b[0;36m_call\u001b[0;34m(self, *args, **kwds)\u001b[0m\n\u001b[1;32m    940\u001b[0m       \u001b[0;31m# In this case we have created variables on the first call, so we run the\u001b[0m\u001b[0;34m\u001b[0m\u001b[0;34m\u001b[0m\u001b[0;34m\u001b[0m\u001b[0m\n\u001b[1;32m    941\u001b[0m       \u001b[0;31m# defunned version which is guaranteed to never create variables.\u001b[0m\u001b[0;34m\u001b[0m\u001b[0;34m\u001b[0m\u001b[0;34m\u001b[0m\u001b[0m\n\u001b[0;32m--> 942\u001b[0;31m       \u001b[0;32mreturn\u001b[0m \u001b[0mself\u001b[0m\u001b[0;34m.\u001b[0m\u001b[0m_stateless_fn\u001b[0m\u001b[0;34m(\u001b[0m\u001b[0;34m*\u001b[0m\u001b[0margs\u001b[0m\u001b[0;34m,\u001b[0m \u001b[0;34m**\u001b[0m\u001b[0mkwds\u001b[0m\u001b[0;34m)\u001b[0m  \u001b[0;31m# pylint: disable=not-callable\u001b[0m\u001b[0;34m\u001b[0m\u001b[0;34m\u001b[0m\u001b[0m\n\u001b[0m\u001b[1;32m    943\u001b[0m     \u001b[0;32melif\u001b[0m \u001b[0mself\u001b[0m\u001b[0;34m.\u001b[0m\u001b[0m_stateful_fn\u001b[0m \u001b[0;32mis\u001b[0m \u001b[0;32mnot\u001b[0m \u001b[0;32mNone\u001b[0m\u001b[0;34m:\u001b[0m\u001b[0;34m\u001b[0m\u001b[0;34m\u001b[0m\u001b[0m\n\u001b[1;32m    944\u001b[0m       \u001b[0;31m# Release the lock early so that multiple threads can perform the call\u001b[0m\u001b[0;34m\u001b[0m\u001b[0;34m\u001b[0m\u001b[0;34m\u001b[0m\u001b[0m\n",
      "\u001b[0;32m~/.local/lib/python3.8/site-packages/tensorflow/python/eager/function.py\u001b[0m in \u001b[0;36m__call__\u001b[0;34m(self, *args, **kwargs)\u001b[0m\n\u001b[1;32m   3128\u001b[0m       (graph_function,\n\u001b[1;32m   3129\u001b[0m        filtered_flat_args) = self._maybe_define_function(args, kwargs)\n\u001b[0;32m-> 3130\u001b[0;31m     return graph_function._call_flat(\n\u001b[0m\u001b[1;32m   3131\u001b[0m         filtered_flat_args, captured_inputs=graph_function.captured_inputs)  # pylint: disable=protected-access\n\u001b[1;32m   3132\u001b[0m \u001b[0;34m\u001b[0m\u001b[0m\n",
      "\u001b[0;32m~/.local/lib/python3.8/site-packages/tensorflow/python/eager/function.py\u001b[0m in \u001b[0;36m_call_flat\u001b[0;34m(self, args, captured_inputs, cancellation_manager)\u001b[0m\n\u001b[1;32m   1957\u001b[0m         and executing_eagerly):\n\u001b[1;32m   1958\u001b[0m       \u001b[0;31m# No tape is watching; skip to running the function.\u001b[0m\u001b[0;34m\u001b[0m\u001b[0;34m\u001b[0m\u001b[0;34m\u001b[0m\u001b[0m\n\u001b[0;32m-> 1959\u001b[0;31m       return self._build_call_outputs(self._inference_function.call(\n\u001b[0m\u001b[1;32m   1960\u001b[0m           ctx, args, cancellation_manager=cancellation_manager))\n\u001b[1;32m   1961\u001b[0m     forward_backward = self._select_forward_and_backward_functions(\n",
      "\u001b[0;32m~/.local/lib/python3.8/site-packages/tensorflow/python/eager/function.py\u001b[0m in \u001b[0;36mcall\u001b[0;34m(self, ctx, args, cancellation_manager)\u001b[0m\n\u001b[1;32m    596\u001b[0m       \u001b[0;32mwith\u001b[0m \u001b[0m_InterpolateFunctionError\u001b[0m\u001b[0;34m(\u001b[0m\u001b[0mself\u001b[0m\u001b[0;34m)\u001b[0m\u001b[0;34m:\u001b[0m\u001b[0;34m\u001b[0m\u001b[0;34m\u001b[0m\u001b[0m\n\u001b[1;32m    597\u001b[0m         \u001b[0;32mif\u001b[0m \u001b[0mcancellation_manager\u001b[0m \u001b[0;32mis\u001b[0m \u001b[0;32mNone\u001b[0m\u001b[0;34m:\u001b[0m\u001b[0;34m\u001b[0m\u001b[0;34m\u001b[0m\u001b[0m\n\u001b[0;32m--> 598\u001b[0;31m           outputs = execute.execute(\n\u001b[0m\u001b[1;32m    599\u001b[0m               \u001b[0mstr\u001b[0m\u001b[0;34m(\u001b[0m\u001b[0mself\u001b[0m\u001b[0;34m.\u001b[0m\u001b[0msignature\u001b[0m\u001b[0;34m.\u001b[0m\u001b[0mname\u001b[0m\u001b[0;34m)\u001b[0m\u001b[0;34m,\u001b[0m\u001b[0;34m\u001b[0m\u001b[0;34m\u001b[0m\u001b[0m\n\u001b[1;32m    600\u001b[0m               \u001b[0mnum_outputs\u001b[0m\u001b[0;34m=\u001b[0m\u001b[0mself\u001b[0m\u001b[0;34m.\u001b[0m\u001b[0m_num_outputs\u001b[0m\u001b[0;34m,\u001b[0m\u001b[0;34m\u001b[0m\u001b[0;34m\u001b[0m\u001b[0m\n",
      "\u001b[0;32m~/.local/lib/python3.8/site-packages/tensorflow/python/eager/execute.py\u001b[0m in \u001b[0;36mquick_execute\u001b[0;34m(op_name, num_outputs, inputs, attrs, ctx, name)\u001b[0m\n\u001b[1;32m     56\u001b[0m   \u001b[0;32mtry\u001b[0m\u001b[0;34m:\u001b[0m\u001b[0;34m\u001b[0m\u001b[0;34m\u001b[0m\u001b[0m\n\u001b[1;32m     57\u001b[0m     \u001b[0mctx\u001b[0m\u001b[0;34m.\u001b[0m\u001b[0mensure_initialized\u001b[0m\u001b[0;34m(\u001b[0m\u001b[0;34m)\u001b[0m\u001b[0;34m\u001b[0m\u001b[0;34m\u001b[0m\u001b[0m\n\u001b[0;32m---> 58\u001b[0;31m     tensors = pywrap_tfe.TFE_Py_Execute(ctx._handle, device_name, op_name,\n\u001b[0m\u001b[1;32m     59\u001b[0m                                         inputs, attrs, num_outputs)\n\u001b[1;32m     60\u001b[0m   \u001b[0;32mexcept\u001b[0m \u001b[0mcore\u001b[0m\u001b[0;34m.\u001b[0m\u001b[0m_NotOkStatusException\u001b[0m \u001b[0;32mas\u001b[0m \u001b[0me\u001b[0m\u001b[0;34m:\u001b[0m\u001b[0;34m\u001b[0m\u001b[0;34m\u001b[0m\u001b[0m\n",
      "\u001b[0;31mKeyboardInterrupt\u001b[0m: "
     ]
    }
   ],
   "source": [
    "history = model.fit(train_X, train_Y, epochs=70, callbacks=[tb_callback,checkpoint,earlyStopping],validation_data=(val_X,val_Y),batch_size=16)"
   ]
  },
  {
   "cell_type": "code",
   "execution_count": 270,
   "id": "52a30f8b",
   "metadata": {},
   "outputs": [
    {
     "name": "stdout",
     "output_type": "stream",
     "text": [
      "141/141 [==============================] - 1s 7ms/step - loss: 0.0469 - accuracy: 0.9848\n",
      "4/4 [==============================] - 0s 7ms/step - loss: 0.2321 - accuracy: 0.8983\n",
      "4/4 [==============================] - 0s 8ms/step - loss: 0.4451 - accuracy: 0.9200\n",
      "[0.046857982873916626, 0.9848281741142273] [0.23211169242858887, 0.8983050584793091] [0.4451363682746887, 0.9200000166893005]\n"
     ]
    }
   ],
   "source": [
    "print(\n",
    "    model.evaluate(train_X,train_Y),\n",
    "    model.evaluate(val_X,val_Y),\n",
    "    model.evaluate(test_X,test_Y)\n",
    ")"
   ]
  },
  {
   "cell_type": "markdown",
   "id": "7743e09c",
   "metadata": {},
   "source": [
    "# 5 - test in real time"
   ]
  },
  {
   "cell_type": "code",
   "execution_count": 262,
   "id": "5464f37a",
   "metadata": {},
   "outputs": [],
   "source": [
    "import numpy as np\n",
    "import cv2 \n",
    "import os\n",
    "import mediapipe as mp\n",
    "import tensorflow as tf \n",
    "from tensorflow import keras\n",
    "import matplotlib.pyplot as plt\n",
    "import time\n",
    "import pandas as pd"
   ]
  },
  {
   "cell_type": "code",
   "execution_count": 271,
   "id": "ad45443f",
   "metadata": {},
   "outputs": [],
   "source": [
    "\n",
    "def view_probability(res, actions, image):\n",
    "    #output_frame = input_frame.copy()\n",
    "    \n",
    "    output_frame = image\n",
    "    \n",
    "    if(type(res)==list or type(res)==np.ndarray):\n",
    "        max_prob_index = np.argmax(res)\n",
    "        max_prob = res[max_prob_index]\n",
    "        text = f'{actions[max_prob_index]} - {max_prob:.3f}'\n",
    "    else:\n",
    "        text = \"not signing\"\n",
    "    \n",
    "    \n",
    "    cv2.rectangle(output_frame, (0,0), (640, 40), (0,255,0), -1)\n",
    "    cv2.putText(output_frame, text, (0, 30), cv2.FONT_HERSHEY_SIMPLEX, 1, (255,255,255), 2, cv2.LINE_AA)\n",
    "        \n",
    "    return output_frame\n",
    "\n",
    "\n",
    "\n",
    "def view_sentence(sentence,image):\n",
    "    # output_frame = image.copy()\n",
    "    output_frame = image\n",
    "    \n",
    "    cv2.rectangle(output_frame, (0,430), (640, 480), (255, 0, 0), -1)\n",
    "    cv2.putText(output_frame, ' '.join(sentence), (3,460), \n",
    "                   cv2.FONT_HERSHEY_SIMPLEX, 1, (255, 255, 255), 2, cv2.LINE_AA)\n",
    "    return output_frame\n",
    "\n",
    "\n",
    "def compare_frames(prev_frame,current_frame,threshold):\n",
    "    return True\n",
    "    if(type(prev_frame) == np.ndarray ):\n",
    "        diff = cv2.absdiff(prev_frame, current_frame)\n",
    "        s = diff.sum()\n",
    "        if(s > threshold):\n",
    "            return True\n",
    "        \n",
    "    return False\n",
    "    \n",
    "def evaluate_list_comparisons(s):\n",
    "    return True\n",
    "    if(sum(s)>=2):\n",
    "        return True\n",
    "    return False"
   ]
  },
  {
   "cell_type": "code",
   "execution_count": 272,
   "id": "a888db6b",
   "metadata": {
    "scrolled": false
   },
   "outputs": [],
   "source": [
    "# 1. New detection variables\n",
    "sequence = []\n",
    "sentence = []\n",
    "predictions = []\n",
    "threshold = 0.5\n",
    "\n",
    "res = None\n",
    "\n",
    "cap = cv2.VideoCapture(0)\n",
    "# Set mediapipe model \n",
    "\n",
    "last_comparisons = []\n",
    "holistic = mp_holistic.Holistic(min_detection_confidence=0.5, min_tracking_confidence=0.5)\n",
    "prev_frame = None\n",
    "while cap.isOpened():\n",
    "\n",
    "    ret, frame = cap.read()\n",
    "    if(not ret):break\n",
    "        \n",
    "    frame = cv2.resize(frame,(512,512))\n",
    "        \n",
    "        \n",
    "    comparison_result = compare_frames(prev_frame,frame,4000000)\n",
    "    prev_frame = frame\n",
    "    \n",
    "    last_comparisons.append(int(comparison_result))\n",
    "    last_comparisons = last_comparisons[-2:]\n",
    "    \n",
    "    \n",
    "    \n",
    "\n",
    "    image, results = mediapipe_detection(frame, holistic)\n",
    "    draw_updated_styled(image, results)\n",
    "\n",
    "    # 2. Prediction logic\n",
    "    \n",
    "    \n",
    "    if(evaluate_list_comparisons(last_comparisons)):\n",
    "        keypoints = extract_keypoints(results)\n",
    "        sequence.append(keypoints)\n",
    "        sequence = sequence[-20:]\n",
    "\n",
    "        if len(sequence) == 20:\n",
    "            res = model.predict(np.expand_dims(sequence, axis=0))[0]\n",
    "            predictions.append(np.argmax(res))\n",
    "\n",
    "\n",
    "        #3. Viz logic\n",
    "            if np.unique(predictions[-2:])[0]==np.argmax(res): \n",
    "                if res[np.argmax(res)] > threshold: \n",
    "\n",
    "                    if len(sentence) > 0: \n",
    "                        if actions[np.argmax(res)] != sentence[-1]:\n",
    "                            sentence.append(actions[np.argmax(res)])\n",
    "                    else:\n",
    "                        sentence.append(actions[np.argmax(res)])\n",
    "\n",
    "            if len(sentence) > 5: \n",
    "                sentence = sentence[-5:]\n",
    "    else:\n",
    "        res = None\n",
    "\n",
    "\n",
    "    image = view_probability(res, actions, image)\n",
    "    image = view_sentence(sentence,image)\n",
    "    \n",
    "\n",
    "    image = cv2.resize(image,(840,640))\n",
    "    cv2.imshow('OpenCV Feed', image)\n",
    "\n",
    "    # Break\n",
    "    if cv2.waitKey(10) & 0xFF == ord('q'):\n",
    "        break\n",
    "cap.release()\n",
    "cv2.destroyAllWindows()"
   ]
  },
  {
   "cell_type": "code",
   "execution_count": 51,
   "id": "7429ceef",
   "metadata": {},
   "outputs": [],
   "source": [
    "cap.release()"
   ]
  },
  {
   "cell_type": "code",
   "execution_count": 52,
   "id": "d4683df0",
   "metadata": {},
   "outputs": [],
   "source": [
    "cv2.destroyAllWindows()"
   ]
  },
  {
   "cell_type": "markdown",
   "id": "b1d84de1",
   "metadata": {},
   "source": [
    "# 6-read video and predict it (for slower models)"
   ]
  },
  {
   "cell_type": "code",
   "execution_count": 33,
   "id": "f6595cd2",
   "metadata": {},
   "outputs": [],
   "source": [
    "def read_video_camera(n_frames,duration=3):\n",
    "    import time\n",
    "    \n",
    "    frames = []\n",
    "    \n",
    "    cap = cv2.VideoCapture(0)\n",
    "    start_time = time.time()\n",
    "    while cap.isOpened():\n",
    "        ret, frame = cap.read()\n",
    "        if(not ret):break\n",
    "        \n",
    "        cv2.imshow(\"frame\",frame)\n",
    "        \n",
    "        cv2.waitKey(20)\n",
    "            \n",
    "        frames.append(frame)\n",
    "        if(time.time()-start_time > duration):\n",
    "            break\n",
    "    cap.release()\n",
    "    cv2.destroyAllWindows()\n",
    "    print(len(frames),n_frames)\n",
    "    steps = len(frames)/n_frames\n",
    "    count=0\n",
    "    new_frames=[]\n",
    "    while count < len(frames):\n",
    "        frame = frames[int(count)]\n",
    "        new_frames.append(frame)\n",
    "        count+=steps\n",
    "        \n",
    "    \n",
    "    return np.array(new_frames[:n_frames])\n",
    "    \n",
    "    \n",
    "def view_video(video):\n",
    "    for frame in video:\n",
    "        cv2.imshow(\"frame\",frame)\n",
    "        cv2.waitKey(100)\n",
    "    cv2.destroyAllWindows()\n",
    "    \n",
    "    \n",
    "    \n",
    "\n",
    "        \n"
   ]
  },
  {
   "cell_type": "markdown",
   "id": "c7ccf23d",
   "metadata": {},
   "source": [
    "### read the video from Webcam"
   ]
  },
  {
   "cell_type": "code",
   "execution_count": 47,
   "id": "76ae2750",
   "metadata": {},
   "outputs": [
    {
     "name": "stdout",
     "output_type": "stream",
     "text": [
      "74 20\n"
     ]
    }
   ],
   "source": [
    "video = read_video_camera(n_frames=20,duration=3) # duration is for the human to take his time making the move"
   ]
  },
  {
   "cell_type": "markdown",
   "id": "a24636a9",
   "metadata": {},
   "source": [
    "### view the video"
   ]
  },
  {
   "cell_type": "code",
   "execution_count": 48,
   "id": "7b7ba4cf",
   "metadata": {},
   "outputs": [],
   "source": [
    "view_video(video)"
   ]
  },
  {
   "cell_type": "markdown",
   "id": "5ada188b",
   "metadata": {},
   "source": [
    "### make prediction"
   ]
  },
  {
   "cell_type": "code",
   "execution_count": 49,
   "id": "17729098",
   "metadata": {},
   "outputs": [],
   "source": [
    "key_points = extract_keypoints_video(video)"
   ]
  },
  {
   "cell_type": "code",
   "execution_count": 50,
   "id": "04f084c6",
   "metadata": {},
   "outputs": [
    {
     "name": "stdout",
     "output_type": "stream",
     "text": [
      "tree 1.0\n"
     ]
    }
   ],
   "source": [
    "predection_array = model.predict(np.expand_dims(key_points, axis=0))[0]\n",
    "predection_id = np.argmax(predection_array)\n",
    "predection_label = actions[predection_id]\n",
    "predection_prob = predection_array[predection_id]\n",
    "print(predection_label,predection_prob)\n"
   ]
  },
  {
   "cell_type": "code",
   "execution_count": 131,
   "id": "206cae01",
   "metadata": {},
   "outputs": [
    {
     "data": {
      "text/plain": [
       "array([0.00219467, 0.09042753, 0.15158355, 0.75396156, 0.00183264],\n",
       "      dtype=float32)"
      ]
     },
     "execution_count": 131,
     "metadata": {},
     "output_type": "execute_result"
    }
   ],
   "source": [
    "predection_array"
   ]
  },
  {
   "cell_type": "code",
   "execution_count": 104,
   "id": "f6eb68b9",
   "metadata": {},
   "outputs": [
    {
     "data": {
      "text/plain": [
       "['sister', 'hurry', 'hungry', 'meal', 'tree']"
      ]
     },
     "execution_count": 104,
     "metadata": {},
     "output_type": "execute_result"
    }
   ],
   "source": [
    "actions"
   ]
  },
  {
   "cell_type": "code",
   "execution_count": null,
   "id": "ec856065",
   "metadata": {},
   "outputs": [],
   "source": []
  },
  {
   "cell_type": "markdown",
   "id": "3a4db648",
   "metadata": {},
   "source": [
    "# view confusion matrix between sister & brother"
   ]
  },
  {
   "cell_type": "code",
   "execution_count": null,
   "id": "2aa204e9",
   "metadata": {},
   "outputs": [],
   "source": []
  },
  {
   "cell_type": "code",
   "execution_count": null,
   "id": "9f91bec6",
   "metadata": {},
   "outputs": [],
   "source": []
  },
  {
   "cell_type": "code",
   "execution_count": null,
   "id": "b9f25c86",
   "metadata": {},
   "outputs": [],
   "source": []
  }
 ],
 "metadata": {
  "kernelspec": {
   "display_name": "Python 3 (ipykernel)",
   "language": "python",
   "name": "python3"
  },
  "language_info": {
   "codemirror_mode": {
    "name": "ipython",
    "version": 3
   },
   "file_extension": ".py",
   "mimetype": "text/x-python",
   "name": "python",
   "nbconvert_exporter": "python",
   "pygments_lexer": "ipython3",
   "version": "3.8.10"
  }
 },
 "nbformat": 4,
 "nbformat_minor": 5
}
