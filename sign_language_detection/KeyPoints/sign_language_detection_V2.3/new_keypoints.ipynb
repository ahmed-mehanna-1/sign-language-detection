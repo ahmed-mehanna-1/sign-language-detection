{
 "cells": [
  {
   "cell_type": "markdown",
   "id": "e0c03c2d",
   "metadata": {},
   "source": [
    "# 1 - install dependencies"
   ]
  },
  {
   "cell_type": "code",
   "execution_count": 276,
   "id": "0bffa97f",
   "metadata": {},
   "outputs": [],
   "source": [
    "import numpy as np\n",
    "import cv2 \n",
    "import os\n",
    "import mediapipe as mp\n",
    "import tensorflow as tf \n",
    "from tensorflow import keras\n",
    "import matplotlib.pyplot as plt\n",
    "import time\n",
    "import pandas as pd"
   ]
  },
  {
   "cell_type": "markdown",
   "id": "ef3e681a",
   "metadata": {},
   "source": [
    "# 2 - keypoints extractions and drawing"
   ]
  },
  {
   "cell_type": "markdown",
   "id": "a9c5940c",
   "metadata": {},
   "source": [
    "### \n",
    "\n",
    "- link to mediapipe documentation and info about keypoints numbers\n",
    "- https://google.github.io/mediapipe/solutions/hands.html\n",
    "\n",
    "\n",
    "\n",
    "\n",
    "- link to mediapipe code for drawing (to draw the point myself)\n",
    "- https://github.com/google/mediapipe/blob/master/mediapipe/python/solutions/drawing_utils.py\n",
    "\n"
   ]
  },
  {
   "cell_type": "code",
   "execution_count": 277,
   "id": "87ef350b",
   "metadata": {},
   "outputs": [],
   "source": [
    "# points = results.pose_landmarks.landmark[0]"
   ]
  },
  {
   "cell_type": "code",
   "execution_count": 278,
   "id": "014d8566",
   "metadata": {},
   "outputs": [
    {
     "data": {
      "text/plain": [
       "(160, 207)"
      ]
     },
     "execution_count": 278,
     "metadata": {},
     "output_type": "execute_result"
    }
   ],
   "source": [
    "# mp_drawing._normalized_to_pixel_coordinates(points.x,points.y,512,512)"
   ]
  },
  {
   "cell_type": "code",
   "execution_count": 279,
   "id": "cf4eefbb",
   "metadata": {},
   "outputs": [
    {
     "data": {
      "text/plain": [
       "array([0.31424871, 0.40516621, 0.34958363, 0.33295104, 0.27392039,\n",
       "       0.35212395, 0.57817125, 0.55916786, 0.68416971, 0.97159886,\n",
       "       0.73283637, 1.35949564, 0.13666716, 0.62433493, 0.06154023,\n",
       "       0.99031198, 0.25215438, 0.65857196, 0.        , 0.        ,\n",
       "       0.        , 0.        , 0.        , 0.        , 0.        ,\n",
       "       0.        , 0.        , 0.        , 0.        , 0.        ,\n",
       "       0.        , 0.        , 0.        , 0.        , 0.        ,\n",
       "       0.        , 0.        , 0.        , 0.        , 0.        ,\n",
       "       0.2916199 , 0.62908918, 0.2574822 , 0.48344749, 0.29246381,\n",
       "       0.40439418, 0.34092072, 0.43980053, 0.33933544, 0.40211019,\n",
       "       0.37682196, 0.46833116, 0.3664979 , 0.42915609, 0.40017185,\n",
       "       0.50406665, 0.39019808, 0.46095249, 0.41237393, 0.54100579,\n",
       "       0.4069846 , 0.49963647])"
      ]
     },
     "execution_count": 279,
     "metadata": {},
     "output_type": "execute_result"
    }
   ],
   "source": [
    "# extract_keypoints(results)"
   ]
  },
  {
   "cell_type": "code",
   "execution_count": 280,
   "id": "6245d664",
   "metadata": {},
   "outputs": [],
   "source": [
    "    \n",
    "pose_selected_landmarks = [\n",
    "    [0,2,5,11,13,15,12,14,16],\n",
    "    [0,2,4,5,8,9,12,13,16,17,20],\n",
    "    [0,2,4,5,8,9,12,13,16,17,20],\n",
    "\n",
    "]\n",
    "\n",
    "def draw_updated_styled(image,results):\n",
    "    image_rows, image_cols, _ = image.shape\n",
    "    \n",
    "    original_landmarks = [\n",
    "        results.pose_landmarks,\n",
    "        results.left_hand_landmarks,\n",
    "        results.right_hand_landmarks\n",
    "    ]\n",
    "\n",
    "    \n",
    "    for shape in range(3):\n",
    "        if(original_landmarks[shape]):\n",
    "            lis = original_landmarks[shape].landmark\n",
    "            for idx in pose_selected_landmarks[shape]:\n",
    "                point = lis[idx]\n",
    "                landmark_px = mp_drawing._normalized_to_pixel_coordinates(point.x, point.y,\n",
    "                                                           image_cols, image_rows)\n",
    "\n",
    "                cv2.circle(image, landmark_px, 2, (0,0,255),\n",
    "                         4)\n",
    "\n",
    "                \n",
    "                \n",
    "def extract_keypoints(results):\n",
    "    \n",
    "    original_landmarks = [\n",
    "        results.pose_landmarks,\n",
    "        results.left_hand_landmarks,\n",
    "        results.right_hand_landmarks\n",
    "    ]\n",
    "    \n",
    "    outputs = []\n",
    "    for shape in range(3):\n",
    "        if(original_landmarks[shape]):\n",
    "            lis = original_landmarks[shape].landmark\n",
    "            pose = np.array([ [lis[res].x,lis[res].y] for res in pose_selected_landmarks[shape] ]).flatten()\n",
    "        else:\n",
    "            pose = np.zeros(len(pose_selected_landmarks[shape])*2)\n",
    "        outputs.append(pose)\n",
    "    return np.concatenate([outputs[0],outputs[1],outputs[2]])\n",
    "            \n",
    "    \n",
    " \n",
    "        "
   ]
  },
  {
   "cell_type": "code",
   "execution_count": 281,
   "id": "6c4d3678",
   "metadata": {},
   "outputs": [],
   "source": [
    "mp_holistic = mp.solutions.holistic\n",
    "mp_drawing = mp.solutions.drawing_utils\n",
    "\n",
    "num_hand_marks = 21\n",
    "num_pose_marks = 33\n",
    "\n",
    "\n",
    "# holistic model process image and return the results as keypoints\n",
    "def mediapipe_detection(image,model):\n",
    "    image  = cv2.cvtColor(image,cv2.COLOR_BGR2RGB)\n",
    "    image.flags.writeable = False\n",
    "    results = model.process(image)\n",
    "    image.flags.writeable = True\n",
    "    image  = cv2.cvtColor(image,cv2.COLOR_RGB2BGR)\n",
    "    return image,results\n",
    "    \n",
    "def draw_styled_landmarks(image,results):\n",
    "    # Draw pose connections\n",
    "    mp_drawing.draw_landmarks(image, results.pose_landmarks, mp_holistic.POSE_CONNECTIONS,\n",
    "                             mp_drawing.DrawingSpec(color=(80,22,10), thickness=2, circle_radius=4), \n",
    "                             mp_drawing.DrawingSpec(color=(80,44,121), thickness=2, circle_radius=2)\n",
    "                             ) \n",
    "    # Draw left hand connections\n",
    "    mp_drawing.draw_landmarks(image, results.left_hand_landmarks, mp_holistic.HAND_CONNECTIONS, \n",
    "                             mp_drawing.DrawingSpec(color=(121,22,76), thickness=2, circle_radius=4), \n",
    "                             mp_drawing.DrawingSpec(color=(121,44,250), thickness=2, circle_radius=2)\n",
    "                             ) \n",
    "    # Draw right hand connections  \n",
    "    mp_drawing.draw_landmarks(image, results.right_hand_landmarks, mp_holistic.HAND_CONNECTIONS, \n",
    "                             mp_drawing.DrawingSpec(color=(245,117,66), thickness=2, circle_radius=4), \n",
    "                             mp_drawing.DrawingSpec(color=(245,66,230), thickness=2, circle_radius=2)\n",
    "                             ) \n",
    "    \n",
    "\n",
    "# read the keypoints and extract them and process them\n",
    "def old_extract_keypoints(results):\n",
    "    # extract pose marks\n",
    "    if results.pose_landmarks:\n",
    "        pose = np.array([ [res.x,res.y,res.visibility] for res in results.pose_landmarks.landmark ]).flatten()\n",
    "    else:\n",
    "        pose = np.zeros(num_pose_marks*3)\n",
    "    \n",
    "    # extract left hand\n",
    "    if results.left_hand_landmarks:\n",
    "        left_hand = np.array([ [res.x,res.y] for res in results.left_hand_landmarks.landmark ]).flatten()\n",
    "    else:\n",
    "        left_hand = np.zeros(num_hand_marks*2)\n",
    "        \n",
    "        \n",
    "    # extract right hand\n",
    "    if results.right_hand_landmarks:\n",
    "        right_hand = np.array([ [res.x,res.y] for res in results.right_hand_landmarks.landmark ]).flatten()\n",
    "    else:\n",
    "        right_hand = np.zeros(num_hand_marks*2)\n",
    "    \n",
    "    return np.concatenate([pose,left_hand,right_hand])\n",
    "    "
   ]
  },
  {
   "cell_type": "markdown",
   "id": "f6a53451",
   "metadata": {},
   "source": [
    "# 3 - read and process data"
   ]
  },
  {
   "cell_type": "code",
   "execution_count": 282,
   "id": "7a26a4d4",
   "metadata": {},
   "outputs": [],
   "source": [
    "data_path = \"../../../data/Datasets/\"\n",
    "\n",
    "train_labels = pd.read_csv(os.path.join(data_path,\"train_labels.csv\"),names=['sample','id'])\n",
    "validation_labels = pd.read_csv(os.path.join(data_path,\"validation_labels.csv\"),names=['sample','id'])\n",
    "test_labels = pd.read_csv(os.path.join(data_path,\"test_labels.csv\"),names=['sample','id'])\n",
    "class_id = pd.read_csv(os.path.join(data_path,\"class_id.csv\"))\n",
    "\n",
    "\n",
    "    \n",
    "train_path = os.path.join(data_path,\"train\")\n",
    "val_path = os.path.join(data_path,\"val\")\n",
    "test_path = os.path.join(data_path,\"test\")\n",
    "\n"
   ]
  },
  {
   "cell_type": "code",
   "execution_count": 283,
   "id": "1b0631ba",
   "metadata": {},
   "outputs": [],
   "source": [
    "def check_file(file_path):\n",
    "    try:\n",
    "        f = open(file_path)\n",
    "        f.close()\n",
    "        return True\n",
    "    except IOError:\n",
    "        return False\n",
    "    \n",
    "    \n",
    "\n",
    "def construct_path(file,path=\"train\"):\n",
    "    return os.path.join(os.path.join(data_path,path),file+\"_color.mp4\")\n",
    "    "
   ]
  },
  {
   "cell_type": "markdown",
   "id": "6c96171e",
   "metadata": {},
   "source": [
    "### 3.1 collect data that in classes 0,1,2 and available in the data/train directory"
   ]
  },
  {
   "cell_type": "code",
   "execution_count": 284,
   "id": "33dcd736",
   "metadata": {},
   "outputs": [],
   "source": [
    "n_actions = 6\n",
    "actions = list(class_id['EN'][:n_actions])"
   ]
  },
  {
   "cell_type": "code",
   "execution_count": 285,
   "id": "ed9d9651",
   "metadata": {},
   "outputs": [
    {
     "data": {
      "text/plain": [
       "['sister', 'hurry', 'hungry', 'enjoy_your_meal', 'brother', 'tree']"
      ]
     },
     "execution_count": 285,
     "metadata": {},
     "output_type": "execute_result"
    }
   ],
   "source": [
    "actions"
   ]
  },
  {
   "cell_type": "code",
   "execution_count": 286,
   "id": "e6e3cc2c",
   "metadata": {},
   "outputs": [],
   "source": [
    "n_actions = 6\n",
    "actions = list(class_id['EN'][:n_actions])\n",
    "actions[3] = \"meal\"\n",
    "dic={}\n",
    "for i,action in enumerate(actions):\n",
    "    dic[action]=i"
   ]
  },
  {
   "cell_type": "code",
   "execution_count": 287,
   "id": "81b7e589",
   "metadata": {},
   "outputs": [
    {
     "data": {
      "text/plain": [
       "{'sister': 0, 'hurry': 1, 'hungry': 2, 'meal': 3, 'brother': 4, 'tree': 5}"
      ]
     },
     "execution_count": 287,
     "metadata": {},
     "output_type": "execute_result"
    }
   ],
   "source": [
    "dic"
   ]
  },
  {
   "cell_type": "code",
   "execution_count": 288,
   "id": "0cf7da59",
   "metadata": {},
   "outputs": [],
   "source": [
    "def get_data(value,file_path,label_name):\n",
    "    if file_path==\"train\":\n",
    "        label_dic = train_labels\n",
    "    elif file_path==\"val\":\n",
    "        label_dic = validation_labels\n",
    "    elif file_path==\"test\":\n",
    "        label_dic = test_labels\n",
    "        \n",
    "    \n",
    "    data =  label_dic[label_dic['id']==value]\n",
    "    lis =  [construct_path(i,file_path) for i in  (data['sample'])]\n",
    "    data =  [i for i in lis if check_file(i)]\n",
    "    return data,[label_name for i in data]\n",
    "    \n",
    "\n",
    "    "
   ]
  },
  {
   "cell_type": "code",
   "execution_count": 289,
   "id": "c02e60cd",
   "metadata": {},
   "outputs": [],
   "source": [
    "\n",
    "\n",
    "d = [0,1,2,3,4,5]\n",
    "\n",
    "def get_list(d,cat):\n",
    "    arr_x=[]\n",
    "    arr_y=[]\n",
    "    for index,value in enumerate(d):\n",
    "        \n",
    "        data,labels = get_data(value,cat,index)\n",
    "        arr_x.extend(data)\n",
    "        arr_y.extend(labels)\n",
    "    return arr_x,arr_y\n",
    "\n",
    "train_X,train_Y = get_list(d,\"train\")\n",
    "val_X,val_Y = get_list(d,\"val\")\n",
    "test_X,test_Y = get_list(d,\"test\")\n"
   ]
  },
  {
   "cell_type": "code",
   "execution_count": 290,
   "id": "f6f2914c",
   "metadata": {},
   "outputs": [
    {
     "name": "stdout",
     "output_type": "stream",
     "text": [
      "747 747 118 118 100 100\n"
     ]
    }
   ],
   "source": [
    "print(\n",
    "    len(train_X ),\n",
    "len(train_Y),\n",
    "len(val_X ),\n",
    "len(val_Y),\n",
    "len(test_X ),\n",
    "len(test_Y)\n",
    ")"
   ]
  },
  {
   "cell_type": "code",
   "execution_count": 291,
   "id": "192e3c37",
   "metadata": {},
   "outputs": [
    {
     "data": {
      "text/plain": [
       "'../../../data/Datasets/train/signer42_sample383_color.mp4'"
      ]
     },
     "execution_count": 291,
     "metadata": {},
     "output_type": "execute_result"
    }
   ],
   "source": [
    "train_X[-1]"
   ]
  },
  {
   "cell_type": "markdown",
   "id": "a781311b",
   "metadata": {},
   "source": [
    "### 3.2 process videos into frames and label to cateogries"
   ]
  },
  {
   "cell_type": "code",
   "execution_count": 292,
   "id": "d602a5e6",
   "metadata": {},
   "outputs": [],
   "source": [
    "\n",
    "\n",
    "def capture_frames(video_path):\n",
    "    video = cv2.VideoCapture(video_path)\n",
    "    video_length = int(video.get(cv2.CAP_PROP_FRAME_COUNT)) - 1\n",
    "    # count = 0\n",
    "    # frame_rate = video.get(cv2.CAP_PROP_FRAME_COUNT)\n",
    "\n",
    "    count=0\n",
    "    frames = []\n",
    "    while video.isOpened():\n",
    "      # frame_id = video.get(0)\n",
    "        ret, frame = video.read()\n",
    "        \n",
    "        if not ret:\n",
    "            continue\n",
    "        frames.append(frame)\n",
    "        count += 1\n",
    "        # If there are no more frames left\n",
    "        if (count > (video_length-1)):\n",
    "          # Release the feed\n",
    "          video.release()\n",
    "        # if frame_id % math.floor(1) == 0:\n",
    "        #     file_name = f\"{video_path}_frame_{count}.jpg\"\n",
    "        #     count += 1\n",
    "        #     # print(f\"File name: {file_name}\")\n",
    "        #     frames.append(frame)\n",
    "        #     # cv2.imwrite(file_name, frame)\n",
    "    video.release()\n",
    "    return np.array(frames)\n",
    "\n",
    "\n",
    "def get_frames(video_path,num_frames):\n",
    "    frames = capture_frames(video_path)\n",
    "    video_length = len(frames)\n",
    "    steps = video_length/num_frames\n",
    "    count=0\n",
    "    new_frames=[]\n",
    "    while count<video_length:\n",
    "        frame = frames[int(count)]\n",
    "#         frame = cv2.resize(frame, (256, 256))\n",
    "#         frame =  (frame/255.0).astype(np.float16)\n",
    "        new_frames.append(frame)\n",
    "        count+=steps\n",
    "\n",
    "    s = np.array(new_frames[:num_frames])\n",
    "    return np.array(new_frames[:num_frames])\n"
   ]
  },
  {
   "cell_type": "code",
   "execution_count": 293,
   "id": "781d6db1",
   "metadata": {},
   "outputs": [],
   "source": [
    "def extract_keypoints_video(path,i=-1):\n",
    "    \n",
    "    if(i!=-1):\n",
    "        print(i,end=\"\\r\")\n",
    "    \n",
    "    if(type(path) == str):\n",
    "        frames = get_frames(path,20)\n",
    "    else:\n",
    "        frames = path\n",
    "    output_key_points=[]\n",
    "    with mp_holistic.Holistic(min_detection_confidence=0.5, min_tracking_confidence=0.5) as holistic:\n",
    "        for frame in frames:\n",
    "            image, results = mediapipe_detection(frame, holistic)\n",
    "            output_key_points.append(extract_keypoints(results))\n",
    "    return np.array(output_key_points)\n",
    "\n",
    "\n",
    "    "
   ]
  },
  {
   "cell_type": "code",
   "execution_count": 21,
   "id": "7f543833",
   "metadata": {},
   "outputs": [],
   "source": []
  },
  {
   "cell_type": "code",
   "execution_count": 188,
   "id": "a2fb7ca0",
   "metadata": {},
   "outputs": [],
   "source": [
    "from PIL import Image\n",
    "\n",
    "holistic = mp_holistic.Holistic(min_detection_confidence=0.5, min_tracking_confidence=0.5)"
   ]
  },
  {
   "cell_type": "markdown",
   "id": "e6593a10",
   "metadata": {},
   "source": [
    "# Test new pose"
   ]
  },
  {
   "cell_type": "code",
   "execution_count": 294,
   "id": "6c3bea22",
   "metadata": {},
   "outputs": [
    {
     "data": {
      "text/plain": [
       "x: 0.3142487108707428\n",
       "y: 0.4051662087440491\n",
       "z: -1.0271275043487549\n",
       "visibility: 0.9993081092834473"
      ]
     },
     "execution_count": 294,
     "metadata": {},
     "output_type": "execute_result"
    }
   ],
   "source": [
    "results.pose_landmarks.landmark[0]"
   ]
  },
  {
   "cell_type": "code",
   "execution_count": 319,
   "id": "ef5d2f0d",
   "metadata": {
    "scrolled": false
   },
   "outputs": [
    {
     "data": {
      "image/png": "[encoded data removed]",
      "text/plain": [
       "<PIL.Image.Image image mode=RGB size=512x512 at 0x7F5EE929E370>"
      ]
     },
     "execution_count": 319,
     "metadata": {},
     "output_type": "execute_result"
    }
   ],
   "source": [
    "frames = get_frames(train_X[453],20)\n",
    "frame = frames[12]\n",
    "\n",
    "image, results = mediapipe_detection(frame, holistic)\n",
    "ex = extract_keypoints(results)\n",
    "\n",
    "draw_updated_styled(image, results)\n",
    "\n",
    "\n",
    "image  = cv2.cvtColor(image,cv2.COLOR_BGR2RGB)\n",
    "\n",
    "from PIL import Image\n",
    "\n",
    "Image.fromarray(image)\n"
   ]
  },
  {
   "cell_type": "code",
   "execution_count": 317,
   "id": "9a11ecd5",
   "metadata": {},
   "outputs": [
    {
     "data": {
      "text/plain": [
       "array([0.55493176, 0.39732251, 0.57728583, 0.37718827, 0.52602994,\n",
       "       0.37552944, 0.66297954, 0.53218508, 0.74779475, 0.73157489,\n",
       "       0.66848105, 0.66477638, 0.40165344, 0.53603601, 0.37787253,\n",
       "       0.77806675, 0.49961728, 0.92493677, 0.68280405, 0.64056289,\n",
       "       0.67166424, 0.5823971 , 0.66427767, 0.5472545 , 0.67907453,\n",
       "       0.59535879, 0.65211838, 0.5556699 , 0.67480451, 0.61013591,\n",
       "       0.64869195, 0.56513214, 0.66714549, 0.62611401, 0.64615995,\n",
       "       0.58211583, 0.65547007, 0.6432873 , 0.63739622, 0.61104393,\n",
       "       0.49671263, 0.92247498, 0.5625357 , 0.9399721 , 0.58741522,\n",
       "       0.98535168, 0.55514103, 0.94845247, 0.58353549, 1.02326107,\n",
       "       0.54189467, 0.95884997, 0.57396644, 1.02971208, 0.52519697,\n",
       "       0.96995598, 0.55545658, 1.03043592, 0.50822407, 0.98060453,\n",
       "       0.53873807, 1.03125346])"
      ]
     },
     "execution_count": 317,
     "metadata": {},
     "output_type": "execute_result"
    }
   ],
   "source": [
    "ex"
   ]
  },
  {
   "cell_type": "code",
   "execution_count": 320,
   "id": "d4b7bc7a",
   "metadata": {},
   "outputs": [],
   "source": [
    "cap = cv2.VideoCapture(0);\n",
    "\n",
    "while cap.isOpened():\n",
    "\n",
    "    ret, frame = cap.read()\n",
    "    if(not ret):break\n",
    "        \n",
    "\n",
    "    image, results = mediapipe_detection(frame, holistic)\n",
    "    # output_key_points.append(extract_keypoints(results))\n",
    "\n",
    "\n",
    "    # draw_styled_landmarks(frame, results)\n",
    "    draw_updated_styled(frame, results)\n",
    "    \n",
    "    cv2.imshow(\"frame\",frame)\n",
    "    if cv2.waitKey(25) & 0xFF == ord('q'):\n",
    "        break\n",
    "\n",
    "cap.release()\n",
    "cv2.destroyAllWindows()"
   ]
  },
  {
   "cell_type": "code",
   "execution_count": 170,
   "id": "2235e811",
   "metadata": {},
   "outputs": [],
   "source": [
    "cap.release()\n",
    "cv2.destroyAllWindows()"
   ]
  },
  {
   "cell_type": "markdown",
   "id": "fb4424e1",
   "metadata": {},
   "source": [
    "### 3.3 - extract the keypoints and save them in train"
   ]
  },
  {
   "cell_type": "code",
   "execution_count": 19,
   "id": "c4f6199c",
   "metadata": {},
   "outputs": [],
   "source": [
    "x = extract_keypoints_video(train_X[0])"
   ]
  },
  {
   "cell_type": "code",
   "execution_count": 335,
   "id": "e8ff16d5",
   "metadata": {},
   "outputs": [
    {
     "name": "stdout",
     "output_type": "stream",
     "text": [
      "already exists\n"
     ]
    },
    {
     "data": {
      "text/plain": [
       "[]"
      ]
     },
     "execution_count": 335,
     "metadata": {},
     "output_type": "execute_result"
    }
   ],
   "source": [
    "dir_name = \"reduced_keypoints\"\n",
    "try:\n",
    "    os.mkdir(dir_name)\n",
    "    print(\"created successfully\")\n",
    "except:\n",
    "    print(\"already exists\")\n",
    "    \n",
    "os.listdir(dir_name)"
   ]
  },
  {
   "cell_type": "code",
   "execution_count": 339,
   "id": "16b5ad3d",
   "metadata": {},
   "outputs": [],
   "source": [
    "if \"train_features.npy\" in os.listdir(dir_name):\n",
    "    train_data = np.load(os.path.join(dir_name,\"train_features.npy\"))\n",
    "    val_data = np.load(os.path.join(dir_name,\"val_features.npy\"))\n",
    "    test_data = np.load(os.path.join(dir_name,\"test_features.npy\"))\n",
    "    train_labels = np.load(os.path.join(dir_name,\"train_labels.npy\"))\n",
    "    val_labels = np.load(os.path.join(dir_name,\"val_labels.npy\"))\n",
    "    test_labels = np.load(os.path.join(dir_name,\"test_labels.npy\"))\n",
    "else:\n",
    "    train = np.array([extract_keypoints_video(path,f'Train iteration : {i+1}/{len(train_X)}') for i,path in enumerate(train_X) ])\n",
    "    np.save(os.path.join(dir_name,'train_features.npy'), train) \n",
    "    print(\"Training Finished\")\n",
    "    val = np.array([extract_keypoints_video(path,f'Valdiation iteration : {i+1}/{len(val_X)}') for i,path in enumerate(val_X) ])\n",
    "    np.save(os.path.join(dir_name,'val_features.npy'), val) \n",
    "    print(\"Validation Finished\")\n",
    "    test = np.array([extract_keypoints_video(path,f'Test iteration : {i+1}/{len(test_X)}') for i,path in enumerate(test_X) ])\n",
    "    np.save(os.path.join(dir_name,'test_features.npy'), test)\n",
    "    print(\"Test Finished\")\n",
    "    np.save(os.path.join(dir_name,\"train_labels.npy\"),np.array(train_Y))\n",
    "    np.save(os.path.join(dir_name,\"val_labels.npy\"),np.array(val_Y))\n",
    "    np.save(os.path.join(dir_name,\"test_labels.npy\"),np.array(test_Y))"
   ]
  },
  {
   "cell_type": "code",
   "execution_count": 340,
   "id": "6e1b1216",
   "metadata": {
    "scrolled": true
   },
   "outputs": [
    {
     "name": "stdout",
     "output_type": "stream",
     "text": [
      "(747, 20, 62) (747,) (118, 20, 62) (118,) (100, 20, 62) (100,)\n"
     ]
    }
   ],
   "source": [
    "print(\n",
    "train_data.shape,\n",
    "    train_labels.shape,\n",
    "    val_data.shape,\n",
    "    val_labels.shape,\n",
    "    test_data.shape,\n",
    "    test_labels.shape\n",
    "    \n",
    ")"
   ]
  },
  {
   "cell_type": "markdown",
   "id": "b0fb9834",
   "metadata": {},
   "source": [
    "### 3.4 shuffle the data"
   ]
  },
  {
   "cell_type": "code",
   "execution_count": 341,
   "id": "3230f83e",
   "metadata": {},
   "outputs": [],
   "source": [
    "perm = np.random.permutation(len(train_data))\n",
    "\n",
    "train_X = train_data[perm]\n",
    "train_Y = train_labels[perm]\n",
    "val_X = val_data\n",
    "val_Y = val_labels\n",
    "test_X = test_data\n",
    "test_Y = test_labels\n"
   ]
  },
  {
   "cell_type": "code",
   "execution_count": 342,
   "id": "10087b94",
   "metadata": {},
   "outputs": [
    {
     "name": "stdout",
     "output_type": "stream",
     "text": [
      "(747, 20, 62) (747,) (118, 20, 62) (118,) (100, 20, 62) (100,)\n"
     ]
    }
   ],
   "source": [
    "print(\n",
    "train_X.shape,\n",
    "train_Y.shape,\n",
    "val_X.shape,\n",
    "val_Y.shape,\n",
    "test_X.shape,\n",
    "test_Y.shape,\n",
    ")"
   ]
  },
  {
   "cell_type": "markdown",
   "id": "e742a5d4",
   "metadata": {},
   "source": [
    "# 4 - build and train the model"
   ]
  },
  {
   "cell_type": "code",
   "execution_count": 372,
   "id": "c0c15994",
   "metadata": {},
   "outputs": [],
   "source": [
    "from tensorflow.keras.models import Sequential\n",
    "from tensorflow.keras.layers import LSTM, Dense,Input,Dropout\n",
    "from tensorflow.keras.models import Model\n",
    "from tensorflow.keras.callbacks import TensorBoard,ModelCheckpoint,EarlyStopping\n",
    "\n",
    "\n",
    "tb_callback = TensorBoard(log_dir=os.path.join('Logs'))\n",
    "checkpoint = ModelCheckpoint(os.path.join(dir_name,\"best_model.h5\"), monitor='loss', verbose=0,\n",
    "    save_best_only=True, mode='auto', save_freq=1)\n",
    "earlyStopping = EarlyStopping(monitor='loss', patience=40)"
   ]
  },
  {
   "cell_type": "code",
   "execution_count": 376,
   "id": "b3ae1a44",
   "metadata": {},
   "outputs": [
    {
     "data": {
      "text/plain": [
       "['sister', 'hurry', 'hungry', 'meal', 'brother', 'tree']"
      ]
     },
     "execution_count": 376,
     "metadata": {},
     "output_type": "execute_result"
    }
   ],
   "source": [
    "actions"
   ]
  },
  {
   "cell_type": "code",
   "execution_count": 384,
   "id": "dfdeb079",
   "metadata": {},
   "outputs": [
    {
     "name": "stdout",
     "output_type": "stream",
     "text": [
      "WARNING:tensorflow:Layer lstm_27 will not use cuDNN kernels since it doesn't meet the criteria. It will use a generic GPU kernel as fallback when running on GPU.\n",
      "WARNING:tensorflow:Layer lstm_28 will not use cuDNN kernels since it doesn't meet the criteria. It will use a generic GPU kernel as fallback when running on GPU.\n",
      "WARNING:tensorflow:Layer lstm_29 will not use cuDNN kernels since it doesn't meet the criteria. It will use a generic GPU kernel as fallback when running on GPU.\n",
      "WARNING:tensorflow:Layer lstm_30 will not use cuDNN kernels since it doesn't meet the criteria. It will use a generic GPU kernel as fallback when running on GPU.\n",
      "WARNING:tensorflow:Layer lstm_31 will not use cuDNN kernels since it doesn't meet the criteria. It will use a generic GPU kernel as fallback when running on GPU.\n"
     ]
    }
   ],
   "source": [
    "def first_model():\n",
    "    input_layer = Input(shape=(20,62))\n",
    "    layer = LSTM(64,return_sequences=True,activation=\"relu\")(input_layer)\n",
    "    layer = LSTM(128,return_sequences=True,activation=\"relu\")(layer)\n",
    "    layer = LSTM(256,return_sequences=True,activation=\"relu\")(layer)\n",
    "    layer = LSTM(128,return_sequences=True,activation=\"relu\")(layer)\n",
    "    layer = LSTM(64,return_sequences=False,activation=\"relu\")(layer)\n",
    "    layer = Dense(64,activation=\"relu\")(layer)\n",
    "    layer = Dense(32,activation=\"relu\")(layer)\n",
    "    layer = Dense(len(actions),activation=\"softmax\")(layer)\n",
    "\n",
    "    model = Model(inputs=input_layer,outputs=layer)\n",
    "    model.compile(optimizer='Adam', loss='sparse_categorical_crossentropy', metrics=['accuracy'])\n",
    "    \n",
    "    return model\n",
    "\n",
    "\n",
    "def second_model():\n",
    "    input_layer = Input(shape=(20,62))\n",
    "    layer = LSTM(64,return_sequences=True,activation=\"relu\")(input_layer)\n",
    "    layer = LSTM(128,return_sequences=True,activation=\"relu\")(layer)\n",
    "    layer = Dropout(0.3)(layer)\n",
    "    layer = LSTM(128,return_sequences=True,activation=\"relu\")(layer)\n",
    "    layer = Dropout(0.3)(layer)\n",
    "    layer = LSTM(64,return_sequences=False,activation=\"relu\")(layer)\n",
    "    layer = Dense(64,activation=\"relu\")(layer)\n",
    "    layer = Dense(32,activation=\"relu\")(layer)\n",
    "    layer = Dense(len(actions),activation=\"softmax\")(layer)\n",
    "\n",
    "    model = Model(inputs=input_layer,outputs=layer)\n",
    "    model.compile(optimizer='Adam', loss='sparse_categorical_crossentropy', metrics=['accuracy'])\n",
    "    \n",
    "    return model\n",
    "\n",
    "def third_model():\n",
    "    input_layer = Input(shape=(20,62))\n",
    "    layer = LSTM(64,return_sequences=True,activation=\"relu\")(input_layer)\n",
    "    layer = LSTM(128,return_sequences=True,activation=\"relu\")(layer)\n",
    "    layer = LSTM(96,return_sequences=False,activation=\"relu\")(layer)\n",
    "    layer = Dense(64,activation=\"relu\")(layer)\n",
    "    layer = Dense(32,activation=\"relu\")(layer)\n",
    "    layer = Dense(len(actions),activation=\"softmax\")(layer)\n",
    "\n",
    "#     optimizer = tf.keras.optimizers.Nadam(learning_rate=0.002,\n",
    "#                              beta_1=0.9,\n",
    "#                              beta_2=0.999, \n",
    "#                              epsilon=1e-08,\n",
    "#                              schedule_decay=0.004)\n",
    "    \n",
    "    model = Model(inputs=input_layer,outputs=layer)\n",
    "    model.compile(optimizer=\"Adam\", loss='sparse_categorical_crossentropy', metrics=['accuracy'])\n",
    "    \n",
    "    return model\n",
    "\n",
    "\n",
    "model = first_model()"
   ]
  },
  {
   "cell_type": "code",
   "execution_count": 385,
   "id": "330f87ff",
   "metadata": {},
   "outputs": [
    {
     "name": "stdout",
     "output_type": "stream",
     "text": [
      "Model: \"model_7\"\n",
      "_________________________________________________________________\n",
      " Layer (type)                Output Shape              Param #   \n",
      "=================================================================\n",
      " input_8 (InputLayer)        [(None, 20, 62)]          0         \n",
      "                                                                 \n",
      " lstm_27 (LSTM)              (None, 20, 64)            32512     \n",
      "                                                                 \n",
      " lstm_28 (LSTM)              (None, 20, 128)           98816     \n",
      "                                                                 \n",
      " lstm_29 (LSTM)              (None, 20, 256)           394240    \n",
      "                                                                 \n",
      " lstm_30 (LSTM)              (None, 20, 128)           197120    \n",
      "                                                                 \n",
      " lstm_31 (LSTM)              (None, 64)                49408     \n",
      "                                                                 \n",
      " dense_21 (Dense)            (None, 64)                4160      \n",
      "                                                                 \n",
      " dense_22 (Dense)            (None, 32)                2080      \n",
      "                                                                 \n",
      " dense_23 (Dense)            (None, 6)                 198       \n",
      "                                                                 \n",
      "=================================================================\n",
      "Total params: 778,534\n",
      "Trainable params: 778,534\n",
      "Non-trainable params: 0\n",
      "_________________________________________________________________\n"
     ]
    }
   ],
   "source": [
    "model.summary()"
   ]
  },
  {
   "cell_type": "code",
   "execution_count": 386,
   "id": "8a38fd8e",
   "metadata": {},
   "outputs": [
    {
     "name": "stdout",
     "output_type": "stream",
     "text": [
      "Epoch 1/400\n",
      "47/47 [==============================] - 11s 182ms/step - loss: 1.7698 - accuracy: 0.1714 - val_loss: 1.6158 - val_accuracy: 0.3051\n",
      "Epoch 2/400\n",
      "47/47 [==============================] - 8s 170ms/step - loss: 1.7440 - accuracy: 0.2490 - val_loss: 1.7465 - val_accuracy: 0.3475\n",
      "Epoch 3/400\n",
      "47/47 [==============================] - 8s 169ms/step - loss: 1.6923 - accuracy: 0.2865 - val_loss: 1.5289 - val_accuracy: 0.3644\n",
      "Epoch 4/400\n",
      "47/47 [==============================] - 9s 184ms/step - loss: 1.7309 - accuracy: 0.2530 - val_loss: 1.5747 - val_accuracy: 0.2797\n",
      "Epoch 5/400\n",
      "47/47 [==============================] - 8s 168ms/step - loss: 1.5637 - accuracy: 0.3199 - val_loss: 1.4194 - val_accuracy: 0.3475\n",
      "Epoch 6/400\n",
      "47/47 [==============================] - 8s 173ms/step - loss: 1.4586 - accuracy: 0.3788 - val_loss: 1.3997 - val_accuracy: 0.3644\n",
      "Epoch 7/400\n",
      "47/47 [==============================] - 9s 185ms/step - loss: 1.4672 - accuracy: 0.3347 - val_loss: 1.4182 - val_accuracy: 0.2966\n",
      "Epoch 8/400\n",
      "47/47 [==============================] - 9s 185ms/step - loss: 1.3555 - accuracy: 0.4150 - val_loss: 1.2661 - val_accuracy: 0.4153\n",
      "Epoch 9/400\n",
      "47/47 [==============================] - 8s 172ms/step - loss: 1.3375 - accuracy: 0.4297 - val_loss: 1.1318 - val_accuracy: 0.4831\n",
      "Epoch 10/400\n",
      "47/47 [==============================] - 8s 168ms/step - loss: 1.4677 - accuracy: 0.3253 - val_loss: 1.4659 - val_accuracy: 0.4492\n",
      "Epoch 11/400\n",
      "47/47 [==============================] - 8s 183ms/step - loss: 1.3645 - accuracy: 0.3628 - val_loss: 1.2901 - val_accuracy: 0.5169\n",
      "Epoch 12/400\n",
      "47/47 [==============================] - 9s 186ms/step - loss: 1.2276 - accuracy: 0.4699 - val_loss: 1.0807 - val_accuracy: 0.5847\n",
      "Epoch 13/400\n",
      "47/47 [==============================] - 8s 169ms/step - loss: 1.2469 - accuracy: 0.4605 - val_loss: 1.0303 - val_accuracy: 0.5339\n",
      "Epoch 14/400\n",
      "47/47 [==============================] - 8s 172ms/step - loss: 1.0706 - accuracy: 0.5475 - val_loss: 1.1109 - val_accuracy: 0.4831\n",
      "Epoch 15/400\n",
      "47/47 [==============================] - 9s 183ms/step - loss: 0.9895 - accuracy: 0.5971 - val_loss: 1.7971 - val_accuracy: 0.3475\n",
      "Epoch 16/400\n",
      "47/47 [==============================] - 9s 184ms/step - loss: 1.1533 - accuracy: 0.5234 - val_loss: 1.2191 - val_accuracy: 0.5085\n",
      "Epoch 17/400\n",
      "47/47 [==============================] - 8s 180ms/step - loss: 1.2368 - accuracy: 0.4485 - val_loss: 1.0791 - val_accuracy: 0.5678\n",
      "Epoch 18/400\n",
      "47/47 [==============================] - 8s 182ms/step - loss: 1.1979 - accuracy: 0.4565 - val_loss: 1.0033 - val_accuracy: 0.5593\n",
      "Epoch 19/400\n",
      "47/47 [==============================] - 8s 170ms/step - loss: 1.0261 - accuracy: 0.5596 - val_loss: 1.0834 - val_accuracy: 0.5593\n",
      "Epoch 20/400\n",
      "47/47 [==============================] - 8s 158ms/step - loss: 0.9113 - accuracy: 0.6078 - val_loss: 0.9515 - val_accuracy: 0.6186\n",
      "Epoch 21/400\n",
      "47/47 [==============================] - 7s 158ms/step - loss: 0.9005 - accuracy: 0.6212 - val_loss: 0.9236 - val_accuracy: 0.6356\n",
      "Epoch 22/400\n",
      "47/47 [==============================] - 8s 170ms/step - loss: 0.8062 - accuracy: 0.6560 - val_loss: 1.0677 - val_accuracy: 0.6102\n",
      "Epoch 23/400\n",
      "47/47 [==============================] - 7s 159ms/step - loss: 0.7913 - accuracy: 0.6667 - val_loss: 1.0180 - val_accuracy: 0.6610\n",
      "Epoch 24/400\n",
      "47/47 [==============================] - 7s 157ms/step - loss: 0.7538 - accuracy: 0.6894 - val_loss: 0.8357 - val_accuracy: 0.6864\n",
      "Epoch 25/400\n",
      "47/47 [==============================] - 8s 174ms/step - loss: 0.8064 - accuracy: 0.6506 - val_loss: 0.9069 - val_accuracy: 0.6441\n",
      "Epoch 26/400\n",
      "47/47 [==============================] - 8s 174ms/step - loss: 0.7075 - accuracy: 0.7068 - val_loss: 0.7377 - val_accuracy: 0.6949\n",
      "Epoch 27/400\n",
      "47/47 [==============================] - 7s 159ms/step - loss: 0.7902 - accuracy: 0.6734 - val_loss: 0.8608 - val_accuracy: 0.7203\n",
      "Epoch 28/400\n",
      "47/47 [==============================] - 8s 175ms/step - loss: 0.8800 - accuracy: 0.6238 - val_loss: 1.2143 - val_accuracy: 0.5508\n",
      "Epoch 29/400\n",
      "47/47 [==============================] - 8s 176ms/step - loss: 0.8201 - accuracy: 0.6519 - val_loss: 1.0765 - val_accuracy: 0.6271\n",
      "Epoch 30/400\n",
      "47/47 [==============================] - 7s 157ms/step - loss: 0.7899 - accuracy: 0.6479 - val_loss: 0.8044 - val_accuracy: 0.6695\n",
      "Epoch 31/400\n",
      "47/47 [==============================] - 7s 159ms/step - loss: 1.1183 - accuracy: 0.5167 - val_loss: 1.0351 - val_accuracy: 0.5254\n",
      "Epoch 32/400\n",
      "47/47 [==============================] - 7s 159ms/step - loss: 0.8723 - accuracy: 0.6278 - val_loss: 0.9155 - val_accuracy: 0.6186\n",
      "Epoch 33/400\n",
      "47/47 [==============================] - 7s 159ms/step - loss: 0.9695 - accuracy: 0.5850 - val_loss: 0.9227 - val_accuracy: 0.6864\n",
      "Epoch 34/400\n",
      "47/47 [==============================] - 7s 158ms/step - loss: 0.7984 - accuracy: 0.6399 - val_loss: 0.8867 - val_accuracy: 0.7373\n",
      "Epoch 35/400\n",
      "47/47 [==============================] - 7s 159ms/step - loss: 0.7085 - accuracy: 0.6841 - val_loss: 0.9107 - val_accuracy: 0.6949\n",
      "Epoch 36/400\n",
      "47/47 [==============================] - 8s 159ms/step - loss: 0.7097 - accuracy: 0.6948 - val_loss: 0.9881 - val_accuracy: 0.7119\n",
      "Epoch 37/400\n",
      "47/47 [==============================] - 7s 158ms/step - loss: 0.6701 - accuracy: 0.7122 - val_loss: 0.8885 - val_accuracy: 0.6610\n",
      "Epoch 38/400\n",
      "47/47 [==============================] - 7s 158ms/step - loss: 0.7509 - accuracy: 0.6814 - val_loss: 0.9563 - val_accuracy: 0.6695\n",
      "Epoch 39/400\n",
      "47/47 [==============================] - 8s 159ms/step - loss: 0.6927 - accuracy: 0.6948 - val_loss: 0.9635 - val_accuracy: 0.6356\n",
      "Epoch 40/400\n",
      "47/47 [==============================] - 7s 159ms/step - loss: 0.6624 - accuracy: 0.7202 - val_loss: 1.0309 - val_accuracy: 0.6441\n",
      "Epoch 41/400\n",
      "47/47 [==============================] - 8s 174ms/step - loss: 0.6305 - accuracy: 0.7443 - val_loss: 0.8174 - val_accuracy: 0.6949\n",
      "Epoch 42/400\n",
      "47/47 [==============================] - 7s 159ms/step - loss: 0.6156 - accuracy: 0.7269 - val_loss: 0.9959 - val_accuracy: 0.6271\n",
      "Epoch 43/400\n",
      "47/47 [==============================] - 7s 158ms/step - loss: 0.6385 - accuracy: 0.7216 - val_loss: 0.9410 - val_accuracy: 0.6780\n",
      "Epoch 44/400\n",
      "47/47 [==============================] - 8s 173ms/step - loss: 0.6134 - accuracy: 0.7323 - val_loss: 0.8579 - val_accuracy: 0.7203\n",
      "Epoch 45/400\n",
      "47/47 [==============================] - 8s 164ms/step - loss: 0.6166 - accuracy: 0.7497 - val_loss: 1.4490 - val_accuracy: 0.4492\n",
      "Epoch 46/400\n",
      "47/47 [==============================] - 8s 167ms/step - loss: 0.8819 - accuracy: 0.6238 - val_loss: 1.0381 - val_accuracy: 0.6102\n",
      "Epoch 47/400\n",
      "47/47 [==============================] - 8s 171ms/step - loss: 0.6584 - accuracy: 0.7229 - val_loss: 0.6811 - val_accuracy: 0.7458\n",
      "Epoch 48/400\n",
      "47/47 [==============================] - 8s 168ms/step - loss: 0.5855 - accuracy: 0.7430 - val_loss: 0.7986 - val_accuracy: 0.7288\n",
      "Epoch 49/400\n",
      "47/47 [==============================] - 8s 166ms/step - loss: 0.6058 - accuracy: 0.7497 - val_loss: 0.7251 - val_accuracy: 0.7797\n",
      "Epoch 50/400\n",
      "47/47 [==============================] - 8s 176ms/step - loss: 0.5231 - accuracy: 0.7631 - val_loss: 0.8324 - val_accuracy: 0.7881\n",
      "Epoch 51/400\n",
      "47/47 [==============================] - 8s 173ms/step - loss: 0.8133 - accuracy: 0.6680 - val_loss: 0.8046 - val_accuracy: 0.6949\n",
      "Epoch 52/400\n",
      "47/47 [==============================] - 8s 169ms/step - loss: 0.5926 - accuracy: 0.7470 - val_loss: 0.7081 - val_accuracy: 0.7627\n",
      "Epoch 53/400\n",
      "47/47 [==============================] - 8s 172ms/step - loss: 1.1207 - accuracy: 0.5556 - val_loss: 1.5357 - val_accuracy: 0.3220\n",
      "Epoch 54/400\n",
      "47/47 [==============================] - 8s 167ms/step - loss: 0.9695 - accuracy: 0.5542 - val_loss: 1.2172 - val_accuracy: 0.5593\n",
      "Epoch 55/400\n",
      "47/47 [==============================] - 8s 171ms/step - loss: 0.7639 - accuracy: 0.6560 - val_loss: 1.1464 - val_accuracy: 0.6525\n",
      "Epoch 56/400\n",
      "47/47 [==============================] - 8s 163ms/step - loss: 0.7640 - accuracy: 0.6734 - val_loss: 1.2290 - val_accuracy: 0.5254\n",
      "Epoch 57/400\n",
      "47/47 [==============================] - 8s 172ms/step - loss: 0.7041 - accuracy: 0.6867 - val_loss: 0.8410 - val_accuracy: 0.7034\n"
     ]
    },
    {
     "name": "stdout",
     "output_type": "stream",
     "text": [
      "Epoch 58/400\n",
      "47/47 [==============================] - 8s 164ms/step - loss: 0.6249 - accuracy: 0.7189 - val_loss: 0.7826 - val_accuracy: 0.7119\n",
      "Epoch 59/400\n",
      "47/47 [==============================] - 8s 170ms/step - loss: 0.5907 - accuracy: 0.7323 - val_loss: 0.9551 - val_accuracy: 0.6949\n",
      "Epoch 60/400\n",
      "47/47 [==============================] - 8s 169ms/step - loss: 0.6327 - accuracy: 0.7229 - val_loss: 0.8266 - val_accuracy: 0.7288\n",
      "Epoch 61/400\n",
      "47/47 [==============================] - 8s 173ms/step - loss: 0.4930 - accuracy: 0.7912 - val_loss: 0.9253 - val_accuracy: 0.7203\n",
      "Epoch 62/400\n",
      "47/47 [==============================] - 8s 168ms/step - loss: 0.4819 - accuracy: 0.7871 - val_loss: 0.8399 - val_accuracy: 0.7119\n",
      "Epoch 63/400\n",
      "47/47 [==============================] - 8s 168ms/step - loss: 0.5572 - accuracy: 0.7403 - val_loss: 0.8587 - val_accuracy: 0.7288\n",
      "Epoch 64/400\n",
      "47/47 [==============================] - 8s 175ms/step - loss: 0.5945 - accuracy: 0.7523 - val_loss: 0.7959 - val_accuracy: 0.6864\n",
      "Epoch 65/400\n",
      "47/47 [==============================] - 8s 173ms/step - loss: 0.4886 - accuracy: 0.7858 - val_loss: 1.0056 - val_accuracy: 0.6610\n",
      "Epoch 66/400\n",
      "47/47 [==============================] - 8s 167ms/step - loss: 0.6605 - accuracy: 0.7363 - val_loss: 0.7365 - val_accuracy: 0.7542\n",
      "Epoch 67/400\n",
      "47/47 [==============================] - 9s 186ms/step - loss: 0.4520 - accuracy: 0.8086 - val_loss: 0.8053 - val_accuracy: 0.7712\n",
      "Epoch 68/400\n",
      "47/47 [==============================] - 9s 186ms/step - loss: 0.5035 - accuracy: 0.7697 - val_loss: 0.8622 - val_accuracy: 0.7881\n",
      "Epoch 69/400\n",
      "47/47 [==============================] - 8s 170ms/step - loss: 0.4288 - accuracy: 0.8220 - val_loss: 0.8748 - val_accuracy: 0.7458\n",
      "Epoch 70/400\n",
      "47/47 [==============================] - 8s 165ms/step - loss: 0.3954 - accuracy: 0.8193 - val_loss: 1.3329 - val_accuracy: 0.7373\n",
      "Epoch 71/400\n",
      "47/47 [==============================] - 8s 171ms/step - loss: 0.4775 - accuracy: 0.7858 - val_loss: 0.7589 - val_accuracy: 0.7203\n",
      "Epoch 72/400\n",
      "47/47 [==============================] - 8s 168ms/step - loss: 0.3676 - accuracy: 0.8474 - val_loss: 1.4213 - val_accuracy: 0.6695\n",
      "Epoch 73/400\n",
      "47/47 [==============================] - 8s 173ms/step - loss: 0.5041 - accuracy: 0.7979 - val_loss: 0.7365 - val_accuracy: 0.7627\n",
      "Epoch 74/400\n",
      "47/47 [==============================] - 8s 171ms/step - loss: 0.4987 - accuracy: 0.7724 - val_loss: 0.7839 - val_accuracy: 0.7458\n",
      "Epoch 75/400\n",
      "47/47 [==============================] - 7s 159ms/step - loss: 0.4699 - accuracy: 0.8032 - val_loss: 0.9464 - val_accuracy: 0.7542\n",
      "Epoch 76/400\n",
      "47/47 [==============================] - 7s 158ms/step - loss: 0.4256 - accuracy: 0.8166 - val_loss: 0.8102 - val_accuracy: 0.7797\n",
      "Epoch 77/400\n",
      "47/47 [==============================] - 8s 175ms/step - loss: 0.4006 - accuracy: 0.8461 - val_loss: 0.8300 - val_accuracy: 0.7542\n",
      "Epoch 78/400\n",
      "47/47 [==============================] - 8s 174ms/step - loss: 0.4315 - accuracy: 0.8099 - val_loss: 0.7477 - val_accuracy: 0.7458\n",
      "Epoch 79/400\n",
      "47/47 [==============================] - 7s 160ms/step - loss: 0.3890 - accuracy: 0.8501 - val_loss: 0.8112 - val_accuracy: 0.7627\n",
      "Epoch 80/400\n",
      "47/47 [==============================] - 7s 158ms/step - loss: 0.4868 - accuracy: 0.7952 - val_loss: 0.7921 - val_accuracy: 0.7458\n",
      "Epoch 81/400\n",
      "47/47 [==============================] - 8s 173ms/step - loss: 0.3697 - accuracy: 0.8501 - val_loss: 0.7669 - val_accuracy: 0.7712\n",
      "Epoch 82/400\n",
      "47/47 [==============================] - 7s 160ms/step - loss: 0.3674 - accuracy: 0.8474 - val_loss: 1.0237 - val_accuracy: 0.7458\n",
      "Epoch 83/400\n",
      "47/47 [==============================] - 7s 158ms/step - loss: 0.4585 - accuracy: 0.8179 - val_loss: 0.7803 - val_accuracy: 0.7458\n",
      "Epoch 84/400\n",
      "47/47 [==============================] - 8s 174ms/step - loss: 0.4701 - accuracy: 0.8112 - val_loss: 0.7543 - val_accuracy: 0.7712\n",
      "Epoch 85/400\n",
      "47/47 [==============================] - 8s 175ms/step - loss: 0.3620 - accuracy: 0.8568 - val_loss: 0.9485 - val_accuracy: 0.7712\n",
      "Epoch 86/400\n",
      "47/47 [==============================] - 7s 160ms/step - loss: 0.4481 - accuracy: 0.8153 - val_loss: 0.7828 - val_accuracy: 0.7458\n",
      "Epoch 87/400\n",
      "47/47 [==============================] - 7s 159ms/step - loss: 0.3451 - accuracy: 0.8635 - val_loss: 0.8579 - val_accuracy: 0.7458\n",
      "Epoch 88/400\n",
      "47/47 [==============================] - 8s 160ms/step - loss: 0.3856 - accuracy: 0.8474 - val_loss: 0.7838 - val_accuracy: 0.7797\n",
      "Epoch 89/400\n",
      "47/47 [==============================] - 7s 158ms/step - loss: 0.3800 - accuracy: 0.8394 - val_loss: 0.6955 - val_accuracy: 0.7966\n",
      "Epoch 90/400\n",
      "47/47 [==============================] - 8s 175ms/step - loss: 0.3578 - accuracy: 0.8527 - val_loss: 0.8997 - val_accuracy: 0.7881\n",
      "Epoch 91/400\n",
      "47/47 [==============================] - 7s 159ms/step - loss: 0.5075 - accuracy: 0.8086 - val_loss: 1.5463 - val_accuracy: 0.5339\n",
      "Epoch 92/400\n",
      "47/47 [==============================] - 7s 158ms/step - loss: 0.8701 - accuracy: 0.6452 - val_loss: 0.7417 - val_accuracy: 0.6695\n",
      "Epoch 93/400\n",
      "47/47 [==============================] - 8s 173ms/step - loss: 0.5784 - accuracy: 0.7590 - val_loss: 0.6791 - val_accuracy: 0.7288\n",
      "Epoch 94/400\n",
      "47/47 [==============================] - 7s 159ms/step - loss: 0.4884 - accuracy: 0.7805 - val_loss: 0.7200 - val_accuracy: 0.7627\n",
      "Epoch 95/400\n",
      "47/47 [==============================] - 8s 175ms/step - loss: 0.4017 - accuracy: 0.8166 - val_loss: 0.7215 - val_accuracy: 0.7288\n",
      "Epoch 96/400\n",
      "47/47 [==============================] - 7s 159ms/step - loss: 0.4361 - accuracy: 0.8340 - val_loss: 1.4330 - val_accuracy: 0.5085\n",
      "Epoch 97/400\n",
      "47/47 [==============================] - 7s 159ms/step - loss: 0.5524 - accuracy: 0.7738 - val_loss: 0.7445 - val_accuracy: 0.7288\n",
      "Epoch 98/400\n",
      "47/47 [==============================] - 8s 179ms/step - loss: 0.4352 - accuracy: 0.8072 - val_loss: 0.6352 - val_accuracy: 0.7966\n",
      "Epoch 99/400\n",
      "47/47 [==============================] - 8s 175ms/step - loss: 0.3235 - accuracy: 0.8621 - val_loss: 0.6484 - val_accuracy: 0.7881\n",
      "Epoch 100/400\n",
      "47/47 [==============================] - 7s 158ms/step - loss: 0.3591 - accuracy: 0.8568 - val_loss: 0.8486 - val_accuracy: 0.7119\n",
      "Epoch 101/400\n",
      "47/47 [==============================] - 7s 159ms/step - loss: 0.4164 - accuracy: 0.8313 - val_loss: 0.6802 - val_accuracy: 0.7966\n",
      "Epoch 102/400\n",
      "47/47 [==============================] - 8s 159ms/step - loss: 0.3098 - accuracy: 0.8715 - val_loss: 0.7724 - val_accuracy: 0.8475\n",
      "Epoch 103/400\n",
      "47/47 [==============================] - 7s 159ms/step - loss: 0.3048 - accuracy: 0.8701 - val_loss: 0.8127 - val_accuracy: 0.7797\n",
      "Epoch 104/400\n",
      "47/47 [==============================] - 7s 158ms/step - loss: 0.3049 - accuracy: 0.8755 - val_loss: 0.6963 - val_accuracy: 0.8051\n",
      "Epoch 105/400\n",
      "47/47 [==============================] - 8s 176ms/step - loss: 0.2881 - accuracy: 0.8795 - val_loss: 0.7515 - val_accuracy: 0.8051\n",
      "Epoch 106/400\n",
      "47/47 [==============================] - 8s 176ms/step - loss: 0.2754 - accuracy: 0.8983 - val_loss: 0.7240 - val_accuracy: 0.8136\n",
      "Epoch 107/400\n",
      "47/47 [==============================] - 7s 159ms/step - loss: 0.3066 - accuracy: 0.8701 - val_loss: 0.6534 - val_accuracy: 0.8220\n",
      "Epoch 108/400\n",
      "47/47 [==============================] - 7s 158ms/step - loss: 0.2820 - accuracy: 0.8795 - val_loss: 0.6689 - val_accuracy: 0.7966\n",
      "Epoch 109/400\n",
      "47/47 [==============================] - 8s 172ms/step - loss: 0.2609 - accuracy: 0.8969 - val_loss: 0.8079 - val_accuracy: 0.8220\n",
      "Epoch 110/400\n",
      "47/47 [==============================] - 8s 162ms/step - loss: 0.2804 - accuracy: 0.8782 - val_loss: 0.6841 - val_accuracy: 0.8220\n",
      "Epoch 111/400\n",
      "47/47 [==============================] - 7s 159ms/step - loss: 0.3280 - accuracy: 0.8822 - val_loss: 0.6411 - val_accuracy: 0.8220\n",
      "Epoch 112/400\n",
      "47/47 [==============================] - 7s 158ms/step - loss: 0.2222 - accuracy: 0.9143 - val_loss: 0.7324 - val_accuracy: 0.7966\n",
      "Epoch 113/400\n",
      "47/47 [==============================] - 8s 159ms/step - loss: 0.2923 - accuracy: 0.8728 - val_loss: 0.5999 - val_accuracy: 0.8220\n",
      "Epoch 114/400\n",
      "47/47 [==============================] - 7s 159ms/step - loss: 0.2822 - accuracy: 0.8835 - val_loss: 0.5696 - val_accuracy: 0.8136\n"
     ]
    },
    {
     "name": "stdout",
     "output_type": "stream",
     "text": [
      "Epoch 115/400\n",
      "47/47 [==============================] - 8s 171ms/step - loss: 0.3062 - accuracy: 0.8541 - val_loss: 0.8302 - val_accuracy: 0.7881\n",
      "Epoch 116/400\n",
      "47/47 [==============================] - 7s 160ms/step - loss: 0.2942 - accuracy: 0.8688 - val_loss: 0.7086 - val_accuracy: 0.7966\n",
      "Epoch 117/400\n",
      "47/47 [==============================] - 7s 159ms/step - loss: 0.2939 - accuracy: 0.8862 - val_loss: 1.7250 - val_accuracy: 0.6949\n",
      "Epoch 118/400\n",
      "47/47 [==============================] - 8s 179ms/step - loss: 0.3214 - accuracy: 0.8902 - val_loss: 0.7825 - val_accuracy: 0.7966\n",
      "Epoch 119/400\n",
      "47/47 [==============================] - 8s 175ms/step - loss: 0.3076 - accuracy: 0.8675 - val_loss: 0.6193 - val_accuracy: 0.7881\n",
      "Epoch 120/400\n",
      "47/47 [==============================] - 8s 173ms/step - loss: 0.3204 - accuracy: 0.8795 - val_loss: 0.6100 - val_accuracy: 0.8136\n",
      "Epoch 121/400\n",
      "47/47 [==============================] - 8s 170ms/step - loss: 0.2243 - accuracy: 0.9090 - val_loss: 0.7050 - val_accuracy: 0.8220\n",
      "Epoch 122/400\n",
      "47/47 [==============================] - 9s 182ms/step - loss: 0.2315 - accuracy: 0.8983 - val_loss: 0.8537 - val_accuracy: 0.7627\n",
      "Epoch 123/400\n",
      "47/47 [==============================] - 8s 168ms/step - loss: 3.8517 - accuracy: 0.4431 - val_loss: 1.3059 - val_accuracy: 0.3729\n",
      "Epoch 124/400\n",
      "47/47 [==============================] - 8s 166ms/step - loss: 0.9795 - accuracy: 0.5636 - val_loss: 0.9259 - val_accuracy: 0.6525\n",
      "Epoch 125/400\n",
      "47/47 [==============================] - 8s 175ms/step - loss: 0.7161 - accuracy: 0.6921 - val_loss: 0.8819 - val_accuracy: 0.6949\n",
      "Epoch 126/400\n",
      "47/47 [==============================] - 8s 165ms/step - loss: 0.5267 - accuracy: 0.7979 - val_loss: 0.7484 - val_accuracy: 0.7288\n",
      "Epoch 127/400\n",
      "47/47 [==============================] - 8s 167ms/step - loss: 0.6502 - accuracy: 0.7269 - val_loss: 0.8341 - val_accuracy: 0.7119\n",
      "Epoch 128/400\n",
      "47/47 [==============================] - 8s 172ms/step - loss: 0.4503 - accuracy: 0.8166 - val_loss: 0.7944 - val_accuracy: 0.7797\n",
      "Epoch 129/400\n",
      "47/47 [==============================] - 8s 174ms/step - loss: 0.3709 - accuracy: 0.8608 - val_loss: 0.7027 - val_accuracy: 0.7458\n",
      "Epoch 130/400\n",
      "47/47 [==============================] - 8s 161ms/step - loss: 1.2423 - accuracy: 0.6627 - val_loss: 0.6159 - val_accuracy: 0.7458\n",
      "Epoch 131/400\n",
      "47/47 [==============================] - 8s 176ms/step - loss: 0.5874 - accuracy: 0.7523 - val_loss: 0.4932 - val_accuracy: 0.8559\n",
      "Epoch 132/400\n",
      "47/47 [==============================] - 7s 160ms/step - loss: 0.4846 - accuracy: 0.7831 - val_loss: 0.7036 - val_accuracy: 0.7288\n",
      "Epoch 133/400\n",
      "47/47 [==============================] - 8s 176ms/step - loss: 0.3886 - accuracy: 0.8353 - val_loss: 0.5841 - val_accuracy: 0.8305\n",
      "Epoch 134/400\n",
      "47/47 [==============================] - 8s 161ms/step - loss: 0.3540 - accuracy: 0.8474 - val_loss: 0.7268 - val_accuracy: 0.8051\n",
      "Epoch 135/400\n",
      "47/47 [==============================] - 7s 160ms/step - loss: 0.3931 - accuracy: 0.8353 - val_loss: 0.6418 - val_accuracy: 0.7881\n",
      "Epoch 136/400\n",
      "47/47 [==============================] - 8s 160ms/step - loss: 0.3434 - accuracy: 0.8541 - val_loss: 0.6449 - val_accuracy: 0.8305\n",
      "Epoch 137/400\n",
      "47/47 [==============================] - 7s 160ms/step - loss: 0.2709 - accuracy: 0.8768 - val_loss: 0.5879 - val_accuracy: 0.8305\n",
      "Epoch 138/400\n",
      "47/47 [==============================] - 8s 178ms/step - loss: 0.4682 - accuracy: 0.8046 - val_loss: 0.6979 - val_accuracy: 0.7203\n",
      "Epoch 139/400\n",
      "47/47 [==============================] - 8s 176ms/step - loss: 0.2890 - accuracy: 0.8728 - val_loss: 0.6696 - val_accuracy: 0.8220\n",
      "Epoch 140/400\n",
      "47/47 [==============================] - 8s 182ms/step - loss: 0.2695 - accuracy: 0.8849 - val_loss: 0.7031 - val_accuracy: 0.8136\n",
      "Epoch 141/400\n",
      "47/47 [==============================] - 7s 159ms/step - loss: 0.2534 - accuracy: 0.8983 - val_loss: 0.8984 - val_accuracy: 0.8220\n",
      "Epoch 142/400\n",
      "47/47 [==============================] - 7s 159ms/step - loss: 0.2204 - accuracy: 0.9009 - val_loss: 0.6467 - val_accuracy: 0.8136\n",
      "Epoch 143/400\n",
      "47/47 [==============================] - 8s 159ms/step - loss: 0.2493 - accuracy: 0.8996 - val_loss: 0.6729 - val_accuracy: 0.8220\n",
      "Epoch 144/400\n",
      "47/47 [==============================] - 7s 158ms/step - loss: 0.2504 - accuracy: 0.8996 - val_loss: 0.7123 - val_accuracy: 0.8220\n",
      "Epoch 145/400\n",
      "47/47 [==============================] - 7s 160ms/step - loss: 0.2132 - accuracy: 0.9090 - val_loss: 0.8811 - val_accuracy: 0.7881\n",
      "Epoch 146/400\n",
      "47/47 [==============================] - 8s 160ms/step - loss: 0.2518 - accuracy: 0.8782 - val_loss: 0.6616 - val_accuracy: 0.8305\n",
      "Epoch 147/400\n",
      "47/47 [==============================] - 8s 174ms/step - loss: 0.2260 - accuracy: 0.8942 - val_loss: 0.7762 - val_accuracy: 0.8305\n",
      "Epoch 148/400\n",
      "47/47 [==============================] - 8s 170ms/step - loss: 0.1801 - accuracy: 0.9183 - val_loss: 1.0028 - val_accuracy: 0.7881\n",
      "Epoch 149/400\n",
      "47/47 [==============================] - 8s 169ms/step - loss: 0.1896 - accuracy: 0.9197 - val_loss: 0.7820 - val_accuracy: 0.8390\n",
      "Epoch 150/400\n",
      "47/47 [==============================] - 8s 173ms/step - loss: 0.1682 - accuracy: 0.9304 - val_loss: 1.0471 - val_accuracy: 0.8051\n",
      "Epoch 151/400\n",
      "47/47 [==============================] - 8s 172ms/step - loss: 0.1516 - accuracy: 0.9438 - val_loss: 1.3471 - val_accuracy: 0.7203\n",
      "Epoch 152/400\n",
      "47/47 [==============================] - 8s 175ms/step - loss: 0.2819 - accuracy: 0.8768 - val_loss: 0.7659 - val_accuracy: 0.7881\n",
      "Epoch 153/400\n",
      "47/47 [==============================] - 8s 168ms/step - loss: 0.1490 - accuracy: 0.9398 - val_loss: 0.8367 - val_accuracy: 0.8475\n",
      "Epoch 154/400\n",
      "47/47 [==============================] - 8s 166ms/step - loss: 0.1610 - accuracy: 0.9357 - val_loss: 0.9392 - val_accuracy: 0.8220\n",
      "Epoch 155/400\n",
      "47/47 [==============================] - 8s 173ms/step - loss: 0.1866 - accuracy: 0.9157 - val_loss: 0.9716 - val_accuracy: 0.7712\n",
      "Epoch 156/400\n",
      "47/47 [==============================] - 9s 186ms/step - loss: 0.2081 - accuracy: 0.9090 - val_loss: 0.8282 - val_accuracy: 0.7797\n",
      "Epoch 157/400\n",
      "47/47 [==============================] - 9s 186ms/step - loss: 0.1617 - accuracy: 0.9277 - val_loss: 1.0046 - val_accuracy: 0.8305\n",
      "Epoch 158/400\n",
      "47/47 [==============================] - 9s 186ms/step - loss: 0.2616 - accuracy: 0.9023 - val_loss: 0.7005 - val_accuracy: 0.8220\n",
      "Epoch 159/400\n",
      "47/47 [==============================] - 8s 171ms/step - loss: 0.2762 - accuracy: 0.8795 - val_loss: 0.7495 - val_accuracy: 0.8220\n",
      "Epoch 160/400\n",
      "47/47 [==============================] - 8s 159ms/step - loss: 0.1844 - accuracy: 0.9170 - val_loss: 0.6470 - val_accuracy: 0.8305\n",
      "Epoch 161/400\n",
      "47/47 [==============================] - 7s 160ms/step - loss: 0.1875 - accuracy: 0.9197 - val_loss: 0.7808 - val_accuracy: 0.8136\n",
      "Epoch 162/400\n",
      "47/47 [==============================] - 8s 160ms/step - loss: 0.2623 - accuracy: 0.9076 - val_loss: 0.6679 - val_accuracy: 0.8559\n",
      "Epoch 163/400\n",
      "47/47 [==============================] - 7s 161ms/step - loss: 0.3069 - accuracy: 0.9023 - val_loss: 0.6853 - val_accuracy: 0.8051\n",
      "Epoch 164/400\n",
      "47/47 [==============================] - 7s 159ms/step - loss: 0.1879 - accuracy: 0.9264 - val_loss: 0.6277 - val_accuracy: 0.8390\n",
      "Epoch 165/400\n",
      "47/47 [==============================] - 8s 178ms/step - loss: 0.2050 - accuracy: 0.9116 - val_loss: 0.6887 - val_accuracy: 0.8644\n",
      "Epoch 166/400\n",
      "47/47 [==============================] - 8s 177ms/step - loss: 0.1212 - accuracy: 0.9612 - val_loss: 0.9725 - val_accuracy: 0.8305\n",
      "Epoch 167/400\n",
      "47/47 [==============================] - 7s 161ms/step - loss: 0.1481 - accuracy: 0.9451 - val_loss: 1.0925 - val_accuracy: 0.7881\n",
      "Epoch 168/400\n",
      "47/47 [==============================] - 8s 176ms/step - loss: 0.1930 - accuracy: 0.9250 - val_loss: 0.6699 - val_accuracy: 0.8390\n",
      "Epoch 169/400\n",
      "47/47 [==============================] - 7s 160ms/step - loss: 0.1242 - accuracy: 0.9505 - val_loss: 0.6859 - val_accuracy: 0.8729\n",
      "Epoch 170/400\n",
      "47/47 [==============================] - 7s 161ms/step - loss: 0.1199 - accuracy: 0.9625 - val_loss: 0.8719 - val_accuracy: 0.8390\n",
      "Epoch 171/400\n"
     ]
    },
    {
     "name": "stdout",
     "output_type": "stream",
     "text": [
      "47/47 [==============================] - 8s 182ms/step - loss: 0.1254 - accuracy: 0.9518 - val_loss: 0.8989 - val_accuracy: 0.8220\n",
      "Epoch 172/400\n",
      "47/47 [==============================] - 8s 171ms/step - loss: 0.1152 - accuracy: 0.9572 - val_loss: 0.9158 - val_accuracy: 0.8475\n",
      "Epoch 173/400\n",
      "47/47 [==============================] - 8s 160ms/step - loss: 0.2418 - accuracy: 0.9157 - val_loss: 2.0975 - val_accuracy: 0.6186\n",
      "Epoch 174/400\n",
      "47/47 [==============================] - 7s 159ms/step - loss: 0.3089 - accuracy: 0.8902 - val_loss: 0.7675 - val_accuracy: 0.8475\n",
      "Epoch 175/400\n",
      "47/47 [==============================] - 7s 159ms/step - loss: 0.1526 - accuracy: 0.9384 - val_loss: 0.8786 - val_accuracy: 0.7966\n",
      "Epoch 176/400\n",
      "47/47 [==============================] - 8s 168ms/step - loss: 0.1156 - accuracy: 0.9572 - val_loss: 0.9314 - val_accuracy: 0.8475\n",
      "Epoch 177/400\n",
      "47/47 [==============================] - 7s 161ms/step - loss: 0.1131 - accuracy: 0.9518 - val_loss: 0.9555 - val_accuracy: 0.8390\n",
      "Epoch 178/400\n",
      "47/47 [==============================] - 8s 175ms/step - loss: 0.1303 - accuracy: 0.9505 - val_loss: 0.9947 - val_accuracy: 0.8220\n",
      "Epoch 179/400\n",
      "47/47 [==============================] - 7s 159ms/step - loss: 0.2565 - accuracy: 0.8983 - val_loss: 1.0253 - val_accuracy: 0.7797\n",
      "Epoch 180/400\n",
      "47/47 [==============================] - 7s 159ms/step - loss: 0.1074 - accuracy: 0.9639 - val_loss: 0.7503 - val_accuracy: 0.8814\n",
      "Epoch 181/400\n",
      "47/47 [==============================] - 8s 181ms/step - loss: 0.1122 - accuracy: 0.9598 - val_loss: 1.4206 - val_accuracy: 0.7712\n",
      "Epoch 182/400\n",
      "47/47 [==============================] - 8s 171ms/step - loss: 0.1494 - accuracy: 0.9304 - val_loss: 0.9143 - val_accuracy: 0.8559\n",
      "Epoch 183/400\n",
      "47/47 [==============================] - 8s 171ms/step - loss: 0.1509 - accuracy: 0.9398 - val_loss: 0.8303 - val_accuracy: 0.8305\n",
      "Epoch 184/400\n",
      "47/47 [==============================] - 8s 166ms/step - loss: 0.2530 - accuracy: 0.8916 - val_loss: 0.6384 - val_accuracy: 0.8644\n",
      "Epoch 185/400\n",
      "47/47 [==============================] - 8s 173ms/step - loss: 0.1261 - accuracy: 0.9612 - val_loss: 0.7588 - val_accuracy: 0.8390\n",
      "Epoch 186/400\n",
      "47/47 [==============================] - 8s 174ms/step - loss: 0.1052 - accuracy: 0.9545 - val_loss: 0.8176 - val_accuracy: 0.8305\n",
      "Epoch 187/400\n",
      "47/47 [==============================] - 8s 170ms/step - loss: 0.2163 - accuracy: 0.9103 - val_loss: 0.7684 - val_accuracy: 0.8305\n",
      "Epoch 188/400\n",
      "47/47 [==============================] - 8s 177ms/step - loss: 0.1852 - accuracy: 0.9197 - val_loss: 0.8196 - val_accuracy: 0.8305\n",
      "Epoch 189/400\n",
      "47/47 [==============================] - 8s 173ms/step - loss: 0.1167 - accuracy: 0.9625 - val_loss: 0.9862 - val_accuracy: 0.8390\n",
      "Epoch 190/400\n",
      "47/47 [==============================] - 8s 170ms/step - loss: 0.1430 - accuracy: 0.9518 - val_loss: 1.0389 - val_accuracy: 0.7966\n",
      "Epoch 191/400\n",
      "47/47 [==============================] - 8s 170ms/step - loss: 0.0748 - accuracy: 0.9705 - val_loss: 0.9225 - val_accuracy: 0.8475\n",
      "Epoch 192/400\n",
      "47/47 [==============================] - 8s 174ms/step - loss: 0.0991 - accuracy: 0.9625 - val_loss: 1.0912 - val_accuracy: 0.8390\n",
      "Epoch 193/400\n",
      "47/47 [==============================] - 8s 167ms/step - loss: 0.1060 - accuracy: 0.9491 - val_loss: 0.9172 - val_accuracy: 0.8390\n",
      "Epoch 194/400\n",
      "47/47 [==============================] - 8s 170ms/step - loss: 0.0879 - accuracy: 0.9692 - val_loss: 0.9611 - val_accuracy: 0.8305\n",
      "Epoch 195/400\n",
      "47/47 [==============================] - 8s 174ms/step - loss: 0.0731 - accuracy: 0.9746 - val_loss: 0.9819 - val_accuracy: 0.8305\n",
      "Epoch 196/400\n",
      "47/47 [==============================] - 8s 177ms/step - loss: 0.1484 - accuracy: 0.9371 - val_loss: 0.9648 - val_accuracy: 0.8051\n",
      "Epoch 197/400\n",
      "47/47 [==============================] - 8s 169ms/step - loss: 0.1550 - accuracy: 0.9451 - val_loss: 0.7122 - val_accuracy: 0.8644\n",
      "Epoch 198/400\n",
      "47/47 [==============================] - 8s 175ms/step - loss: 0.1019 - accuracy: 0.9612 - val_loss: 0.6954 - val_accuracy: 0.8559\n",
      "Epoch 199/400\n",
      "47/47 [==============================] - 8s 170ms/step - loss: 0.1645 - accuracy: 0.9384 - val_loss: 0.8333 - val_accuracy: 0.7966\n",
      "Epoch 200/400\n",
      "47/47 [==============================] - 8s 173ms/step - loss: 0.2293 - accuracy: 0.9076 - val_loss: 0.6539 - val_accuracy: 0.8644\n",
      "Epoch 201/400\n",
      "47/47 [==============================] - 8s 169ms/step - loss: 0.1336 - accuracy: 0.9505 - val_loss: 0.7671 - val_accuracy: 0.8390\n",
      "Epoch 202/400\n",
      "47/47 [==============================] - 8s 174ms/step - loss: 0.1011 - accuracy: 0.9612 - val_loss: 0.8742 - val_accuracy: 0.8390\n",
      "Epoch 203/400\n",
      "47/47 [==============================] - 8s 177ms/step - loss: 0.1089 - accuracy: 0.9612 - val_loss: 0.7656 - val_accuracy: 0.8644\n",
      "Epoch 204/400\n",
      "47/47 [==============================] - 8s 165ms/step - loss: 0.1877 - accuracy: 0.9237 - val_loss: 0.9916 - val_accuracy: 0.7797\n",
      "Epoch 205/400\n",
      "47/47 [==============================] - 8s 174ms/step - loss: 0.1108 - accuracy: 0.9558 - val_loss: 0.7453 - val_accuracy: 0.8898\n",
      "Epoch 206/400\n",
      "47/47 [==============================] - 7s 159ms/step - loss: 0.0699 - accuracy: 0.9692 - val_loss: 0.9664 - val_accuracy: 0.8559\n",
      "Epoch 207/400\n",
      "47/47 [==============================] - 7s 159ms/step - loss: 0.1247 - accuracy: 0.9438 - val_loss: 1.1323 - val_accuracy: 0.8220\n",
      "Epoch 208/400\n",
      "47/47 [==============================] - 8s 159ms/step - loss: 0.1396 - accuracy: 0.9344 - val_loss: 0.8767 - val_accuracy: 0.8390\n",
      "Epoch 209/400\n",
      "47/47 [==============================] - 7s 158ms/step - loss: 0.1527 - accuracy: 0.9451 - val_loss: 1.1220 - val_accuracy: 0.8136\n",
      "Epoch 210/400\n",
      "47/47 [==============================] - 7s 158ms/step - loss: 0.2332 - accuracy: 0.9130 - val_loss: 0.7501 - val_accuracy: 0.8814\n",
      "Epoch 211/400\n",
      "47/47 [==============================] - 8s 176ms/step - loss: 0.1550 - accuracy: 0.9398 - val_loss: 0.7569 - val_accuracy: 0.8136\n",
      "Epoch 212/400\n",
      "47/47 [==============================] - 8s 176ms/step - loss: 0.0801 - accuracy: 0.9746 - val_loss: 1.2610 - val_accuracy: 0.7797\n",
      "Epoch 213/400\n",
      "47/47 [==============================] - 7s 160ms/step - loss: 0.1789 - accuracy: 0.9264 - val_loss: 0.6055 - val_accuracy: 0.8644\n",
      "Epoch 214/400\n",
      "47/47 [==============================] - 7s 158ms/step - loss: 0.1660 - accuracy: 0.9290 - val_loss: 0.9763 - val_accuracy: 0.7373\n",
      "Epoch 215/400\n",
      "47/47 [==============================] - 8s 176ms/step - loss: 0.2156 - accuracy: 0.9143 - val_loss: 0.5287 - val_accuracy: 0.8898\n",
      "Epoch 216/400\n",
      "47/47 [==============================] - 7s 159ms/step - loss: 0.0886 - accuracy: 0.9665 - val_loss: 2.5127 - val_accuracy: 0.8220\n",
      "Epoch 217/400\n",
      "47/47 [==============================] - 8s 176ms/step - loss: 0.1147 - accuracy: 0.9572 - val_loss: 0.7429 - val_accuracy: 0.8559\n",
      "Epoch 218/400\n",
      "47/47 [==============================] - 7s 161ms/step - loss: 0.0781 - accuracy: 0.9719 - val_loss: 0.7556 - val_accuracy: 0.8559\n",
      "Epoch 219/400\n",
      "47/47 [==============================] - 8s 173ms/step - loss: 0.1029 - accuracy: 0.9558 - val_loss: 0.8341 - val_accuracy: 0.8559\n",
      "Epoch 220/400\n",
      "47/47 [==============================] - 7s 158ms/step - loss: 0.0970 - accuracy: 0.9572 - val_loss: 0.6958 - val_accuracy: 0.8559\n",
      "Epoch 221/400\n",
      "47/47 [==============================] - 7s 160ms/step - loss: 0.1257 - accuracy: 0.9491 - val_loss: 0.8046 - val_accuracy: 0.8390\n",
      "Epoch 222/400\n",
      "47/47 [==============================] - 7s 160ms/step - loss: 0.1460 - accuracy: 0.9411 - val_loss: 0.6845 - val_accuracy: 0.8644\n",
      "Epoch 223/400\n",
      "47/47 [==============================] - 8s 160ms/step - loss: 0.0949 - accuracy: 0.9639 - val_loss: 1.1425 - val_accuracy: 0.7966\n",
      "Epoch 224/400\n",
      "47/47 [==============================] - 7s 159ms/step - loss: 0.2694 - accuracy: 0.9076 - val_loss: 0.6266 - val_accuracy: 0.7966\n",
      "Epoch 225/400\n",
      "47/47 [==============================] - 7s 158ms/step - loss: 0.2075 - accuracy: 0.9009 - val_loss: 0.7927 - val_accuracy: 0.8305\n",
      "Epoch 226/400\n",
      "47/47 [==============================] - 7s 160ms/step - loss: 0.0986 - accuracy: 0.9572 - val_loss: 0.7873 - val_accuracy: 0.8220\n",
      "Epoch 227/400\n"
     ]
    },
    {
     "name": "stdout",
     "output_type": "stream",
     "text": [
      "47/47 [==============================] - 8s 170ms/step - loss: 0.0824 - accuracy: 0.9679 - val_loss: 1.0609 - val_accuracy: 0.8390\n",
      "Epoch 228/400\n",
      "47/47 [==============================] - 8s 171ms/step - loss: 0.2581 - accuracy: 0.9116 - val_loss: 0.7539 - val_accuracy: 0.8220\n",
      "Epoch 229/400\n",
      "47/47 [==============================] - 8s 166ms/step - loss: 0.3186 - accuracy: 0.8688 - val_loss: 0.7668 - val_accuracy: 0.7712\n",
      "Epoch 230/400\n",
      "47/47 [==============================] - 8s 180ms/step - loss: 0.2112 - accuracy: 0.9317 - val_loss: 0.7575 - val_accuracy: 0.8051\n",
      "Epoch 231/400\n",
      "47/47 [==============================] - 8s 172ms/step - loss: 0.1370 - accuracy: 0.9531 - val_loss: 0.7573 - val_accuracy: 0.8051\n",
      "Epoch 232/400\n",
      "47/47 [==============================] - 8s 168ms/step - loss: 0.1073 - accuracy: 0.9639 - val_loss: 1.4914 - val_accuracy: 0.7034\n",
      "Epoch 233/400\n",
      "47/47 [==============================] - 8s 168ms/step - loss: 0.1848 - accuracy: 0.9264 - val_loss: 0.7209 - val_accuracy: 0.8390\n",
      "Epoch 234/400\n",
      "47/47 [==============================] - 8s 176ms/step - loss: 0.1722 - accuracy: 0.9331 - val_loss: 0.6914 - val_accuracy: 0.8475\n",
      "Epoch 235/400\n",
      "47/47 [==============================] - 8s 174ms/step - loss: 0.1342 - accuracy: 0.9451 - val_loss: 0.7162 - val_accuracy: 0.8136\n",
      "Epoch 236/400\n",
      "47/47 [==============================] - 8s 168ms/step - loss: 0.1252 - accuracy: 0.9558 - val_loss: 0.6408 - val_accuracy: 0.8559\n",
      "Epoch 237/400\n",
      "47/47 [==============================] - 8s 167ms/step - loss: 0.0682 - accuracy: 0.9732 - val_loss: 0.9459 - val_accuracy: 0.8390\n",
      "Epoch 238/400\n",
      "47/47 [==============================] - 8s 175ms/step - loss: 0.0781 - accuracy: 0.9719 - val_loss: 0.7945 - val_accuracy: 0.8475\n",
      "Epoch 239/400\n",
      "47/47 [==============================] - 8s 178ms/step - loss: 0.0809 - accuracy: 0.9612 - val_loss: 0.8318 - val_accuracy: 0.8390\n",
      "Epoch 240/400\n",
      "47/47 [==============================] - 7s 158ms/step - loss: 0.0764 - accuracy: 0.9719 - val_loss: 0.8607 - val_accuracy: 0.8220\n",
      "Epoch 241/400\n",
      "47/47 [==============================] - 7s 159ms/step - loss: 0.3270 - accuracy: 0.8916 - val_loss: 0.7485 - val_accuracy: 0.8051\n",
      "Epoch 242/400\n",
      "47/47 [==============================] - 8s 175ms/step - loss: 0.1289 - accuracy: 0.9598 - val_loss: 0.6302 - val_accuracy: 0.8305\n",
      "Epoch 243/400\n",
      "47/47 [==============================] - 7s 159ms/step - loss: 0.0770 - accuracy: 0.9813 - val_loss: 0.7750 - val_accuracy: 0.8305\n",
      "Epoch 244/400\n",
      "47/47 [==============================] - 7s 160ms/step - loss: 0.0828 - accuracy: 0.9665 - val_loss: 0.7692 - val_accuracy: 0.8475\n",
      "Epoch 245/400\n",
      "47/47 [==============================] - 8s 165ms/step - loss: 0.2412 - accuracy: 0.9183 - val_loss: 0.7527 - val_accuracy: 0.8136\n",
      "Epoch 246/400\n",
      "47/47 [==============================] - 8s 175ms/step - loss: 0.0847 - accuracy: 0.9679 - val_loss: 0.5940 - val_accuracy: 0.8983\n",
      "Epoch 247/400\n",
      "47/47 [==============================] - 7s 160ms/step - loss: 0.0490 - accuracy: 0.9839 - val_loss: 0.8592 - val_accuracy: 0.8559\n",
      "Epoch 248/400\n",
      "47/47 [==============================] - 7s 158ms/step - loss: 0.0856 - accuracy: 0.9639 - val_loss: 1.0027 - val_accuracy: 0.7966\n",
      "Epoch 249/400\n",
      "47/47 [==============================] - 8s 168ms/step - loss: 0.1809 - accuracy: 0.9290 - val_loss: 1.1479 - val_accuracy: 0.7542\n",
      "Epoch 250/400\n",
      "47/47 [==============================] - 7s 159ms/step - loss: 0.1338 - accuracy: 0.9465 - val_loss: 0.7196 - val_accuracy: 0.8136\n",
      "Epoch 251/400\n",
      "47/47 [==============================] - 7s 158ms/step - loss: 0.1159 - accuracy: 0.9572 - val_loss: 0.7332 - val_accuracy: 0.8390\n",
      "Epoch 252/400\n",
      "47/47 [==============================] - 8s 172ms/step - loss: 0.0524 - accuracy: 0.9799 - val_loss: 2.1925 - val_accuracy: 0.6610\n",
      "Epoch 253/400\n",
      "47/47 [==============================] - 7s 159ms/step - loss: 0.3277 - accuracy: 0.8983 - val_loss: 0.6607 - val_accuracy: 0.8390\n",
      "Epoch 254/400\n",
      "47/47 [==============================] - 8s 174ms/step - loss: 0.1038 - accuracy: 0.9679 - val_loss: 0.7677 - val_accuracy: 0.8051\n",
      "Epoch 255/400\n",
      "47/47 [==============================] - 8s 169ms/step - loss: 0.1817 - accuracy: 0.9357 - val_loss: 1.0734 - val_accuracy: 0.7627\n",
      "Epoch 256/400\n",
      "47/47 [==============================] - 8s 170ms/step - loss: 0.1175 - accuracy: 0.9572 - val_loss: 0.5820 - val_accuracy: 0.8644\n",
      "Epoch 257/400\n",
      "47/47 [==============================] - 8s 172ms/step - loss: 0.2072 - accuracy: 0.9331 - val_loss: 0.6101 - val_accuracy: 0.8136\n",
      "Epoch 258/400\n",
      "47/47 [==============================] - 8s 169ms/step - loss: 0.1554 - accuracy: 0.9411 - val_loss: 0.5337 - val_accuracy: 0.8475\n",
      "Epoch 259/400\n",
      "47/47 [==============================] - 8s 173ms/step - loss: 0.0603 - accuracy: 0.9732 - val_loss: 0.7919 - val_accuracy: 0.8559\n",
      "Epoch 260/400\n",
      "47/47 [==============================] - 8s 171ms/step - loss: 0.0500 - accuracy: 0.9853 - val_loss: 1.0920 - val_accuracy: 0.8220\n",
      "Epoch 261/400\n",
      "47/47 [==============================] - 8s 170ms/step - loss: 0.1380 - accuracy: 0.9478 - val_loss: 0.7464 - val_accuracy: 0.7966\n",
      "Epoch 262/400\n",
      "47/47 [==============================] - 8s 180ms/step - loss: 0.0867 - accuracy: 0.9692 - val_loss: 0.8406 - val_accuracy: 0.7966\n",
      "Epoch 263/400\n",
      "47/47 [==============================] - 8s 171ms/step - loss: 0.0694 - accuracy: 0.9746 - val_loss: 0.7499 - val_accuracy: 0.8729\n",
      "Epoch 264/400\n",
      "47/47 [==============================] - 8s 169ms/step - loss: 0.0515 - accuracy: 0.9799 - val_loss: 0.8736 - val_accuracy: 0.8305\n",
      "Epoch 265/400\n",
      "47/47 [==============================] - 8s 165ms/step - loss: 0.0588 - accuracy: 0.9759 - val_loss: 0.9752 - val_accuracy: 0.8390\n",
      "Epoch 266/400\n",
      "47/47 [==============================] - 8s 173ms/step - loss: 0.0864 - accuracy: 0.9679 - val_loss: 0.9387 - val_accuracy: 0.7881\n",
      "Epoch 267/400\n",
      "47/47 [==============================] - 8s 178ms/step - loss: 0.1213 - accuracy: 0.9531 - val_loss: 0.6845 - val_accuracy: 0.8305\n",
      "Epoch 268/400\n",
      "47/47 [==============================] - 7s 159ms/step - loss: 0.0832 - accuracy: 0.9719 - val_loss: 1.1313 - val_accuracy: 0.8220\n",
      "Epoch 269/400\n",
      "47/47 [==============================] - 7s 160ms/step - loss: 0.0708 - accuracy: 0.9759 - val_loss: 1.4748 - val_accuracy: 0.7966\n",
      "Epoch 270/400\n",
      "47/47 [==============================] - 8s 160ms/step - loss: 0.2615 - accuracy: 0.9197 - val_loss: 0.9423 - val_accuracy: 0.8136\n",
      "Epoch 271/400\n",
      "47/47 [==============================] - 7s 158ms/step - loss: 0.1119 - accuracy: 0.9625 - val_loss: 0.8832 - val_accuracy: 0.8390\n",
      "Epoch 272/400\n",
      "47/47 [==============================] - 7s 159ms/step - loss: 0.0467 - accuracy: 0.9826 - val_loss: 0.9085 - val_accuracy: 0.8136\n",
      "Epoch 273/400\n",
      "47/47 [==============================] - 8s 168ms/step - loss: 0.1268 - accuracy: 0.9572 - val_loss: 0.7342 - val_accuracy: 0.8390\n",
      "Epoch 274/400\n",
      "47/47 [==============================] - 7s 159ms/step - loss: 0.0611 - accuracy: 0.9772 - val_loss: 0.9906 - val_accuracy: 0.8475\n",
      "Epoch 275/400\n",
      "47/47 [==============================] - 7s 159ms/step - loss: 0.0512 - accuracy: 0.9826 - val_loss: 1.2931 - val_accuracy: 0.7966\n",
      "Epoch 276/400\n",
      "47/47 [==============================] - 7s 159ms/step - loss: 0.1474 - accuracy: 0.9518 - val_loss: 0.8849 - val_accuracy: 0.7627\n",
      "Epoch 277/400\n",
      "47/47 [==============================] - 8s 159ms/step - loss: 0.2302 - accuracy: 0.9224 - val_loss: 0.6282 - val_accuracy: 0.8220\n",
      "Epoch 278/400\n",
      "47/47 [==============================] - 7s 159ms/step - loss: 0.0841 - accuracy: 0.9719 - val_loss: 0.6828 - val_accuracy: 0.8475\n",
      "Epoch 279/400\n",
      "47/47 [==============================] - 7s 158ms/step - loss: 0.0501 - accuracy: 0.9813 - val_loss: 0.7518 - val_accuracy: 0.8220\n",
      "Epoch 280/400\n",
      "47/47 [==============================] - 7s 159ms/step - loss: 0.2858 - accuracy: 0.9009 - val_loss: 0.8154 - val_accuracy: 0.7458\n",
      "Epoch 281/400\n",
      "47/47 [==============================] - 8s 159ms/step - loss: 0.7339 - accuracy: 0.8072 - val_loss: 1.1731 - val_accuracy: 0.5424\n",
      "Epoch 282/400\n",
      "47/47 [==============================] - 7s 160ms/step - loss: 1.3826 - accuracy: 0.5890 - val_loss: 1.0320 - val_accuracy: 0.5932\n",
      "Epoch 283/400\n"
     ]
    },
    {
     "name": "stdout",
     "output_type": "stream",
     "text": [
      "47/47 [==============================] - 8s 175ms/step - loss: 0.6850 - accuracy: 0.7349 - val_loss: 1.2771 - val_accuracy: 0.5508\n",
      "Epoch 284/400\n",
      "47/47 [==============================] - 8s 177ms/step - loss: 0.4870 - accuracy: 0.8019 - val_loss: 0.7316 - val_accuracy: 0.7288\n",
      "Epoch 285/400\n",
      "47/47 [==============================] - 7s 159ms/step - loss: 0.3934 - accuracy: 0.8340 - val_loss: 0.7140 - val_accuracy: 0.7966\n",
      "Epoch 286/400\n",
      "47/47 [==============================] - 7s 159ms/step - loss: 0.2952 - accuracy: 0.8889 - val_loss: 0.7246 - val_accuracy: 0.8136\n",
      "Epoch 287/400\n",
      "47/47 [==============================] - 8s 176ms/step - loss: 0.3105 - accuracy: 0.8956 - val_loss: 0.8178 - val_accuracy: 0.7542\n",
      "Epoch 288/400\n",
      "47/47 [==============================] - 8s 178ms/step - loss: 0.3472 - accuracy: 0.8501 - val_loss: 0.9454 - val_accuracy: 0.7119\n",
      "Epoch 289/400\n",
      "47/47 [==============================] - 8s 177ms/step - loss: 0.2001 - accuracy: 0.9210 - val_loss: 0.5738 - val_accuracy: 0.8390\n",
      "Epoch 290/400\n",
      "47/47 [==============================] - 7s 159ms/step - loss: 0.2518 - accuracy: 0.8956 - val_loss: 0.5452 - val_accuracy: 0.8644\n",
      "Epoch 291/400\n",
      "47/47 [==============================] - 7s 160ms/step - loss: 0.1944 - accuracy: 0.9264 - val_loss: 0.7433 - val_accuracy: 0.8390\n",
      "Epoch 292/400\n",
      "47/47 [==============================] - 8s 168ms/step - loss: 0.1975 - accuracy: 0.9237 - val_loss: 0.6003 - val_accuracy: 0.8559\n",
      "Epoch 293/400\n",
      "47/47 [==============================] - 8s 166ms/step - loss: 0.1868 - accuracy: 0.9277 - val_loss: 0.8144 - val_accuracy: 0.8220\n",
      "Epoch 294/400\n",
      "47/47 [==============================] - 8s 178ms/step - loss: 0.1722 - accuracy: 0.9424 - val_loss: 0.6971 - val_accuracy: 0.8390\n",
      "Epoch 295/400\n",
      "47/47 [==============================] - 8s 172ms/step - loss: 0.2011 - accuracy: 0.9170 - val_loss: 0.7534 - val_accuracy: 0.8220\n",
      "Epoch 296/400\n",
      "47/47 [==============================] - 7s 159ms/step - loss: 0.2053 - accuracy: 0.9331 - val_loss: 0.4674 - val_accuracy: 0.8814\n",
      "Epoch 297/400\n",
      "47/47 [==============================] - 7s 159ms/step - loss: 0.1606 - accuracy: 0.9398 - val_loss: 0.6281 - val_accuracy: 0.8475\n",
      "Epoch 298/400\n",
      "47/47 [==============================] - 8s 170ms/step - loss: 0.1123 - accuracy: 0.9572 - val_loss: 0.6207 - val_accuracy: 0.8559\n",
      "Epoch 299/400\n",
      "47/47 [==============================] - 7s 158ms/step - loss: 0.2085 - accuracy: 0.9264 - val_loss: 0.5148 - val_accuracy: 0.9068\n",
      "Epoch 300/400\n",
      "47/47 [==============================] - 7s 159ms/step - loss: 0.0971 - accuracy: 0.9652 - val_loss: 0.6207 - val_accuracy: 0.8729\n",
      "Epoch 301/400\n",
      "47/47 [==============================] - 8s 173ms/step - loss: 0.1265 - accuracy: 0.9491 - val_loss: 0.5534 - val_accuracy: 0.8898\n",
      "Epoch 302/400\n",
      "47/47 [==============================] - 7s 158ms/step - loss: 0.0987 - accuracy: 0.9545 - val_loss: 0.9916 - val_accuracy: 0.7797\n",
      "Epoch 303/400\n",
      "47/47 [==============================] - 7s 158ms/step - loss: 0.1520 - accuracy: 0.9384 - val_loss: 0.6621 - val_accuracy: 0.8644\n",
      "Epoch 304/400\n",
      "47/47 [==============================] - 8s 161ms/step - loss: 0.0860 - accuracy: 0.9625 - val_loss: 0.7046 - val_accuracy: 0.8814\n",
      "Epoch 305/400\n",
      "47/47 [==============================] - 7s 159ms/step - loss: 0.1396 - accuracy: 0.9518 - val_loss: 1.1483 - val_accuracy: 0.7797\n",
      "Epoch 306/400\n",
      "47/47 [==============================] - 8s 171ms/step - loss: 0.2397 - accuracy: 0.9050 - val_loss: 1.1784 - val_accuracy: 0.8390\n",
      "Epoch 307/400\n",
      "47/47 [==============================] - 7s 158ms/step - loss: 0.2017 - accuracy: 0.9317 - val_loss: 0.6504 - val_accuracy: 0.8814\n",
      "Epoch 308/400\n",
      "47/47 [==============================] - 7s 158ms/step - loss: 0.0908 - accuracy: 0.9639 - val_loss: 0.5944 - val_accuracy: 0.8559\n",
      "Epoch 309/400\n",
      "47/47 [==============================] - 8s 175ms/step - loss: 0.0562 - accuracy: 0.9826 - val_loss: 0.6364 - val_accuracy: 0.8814\n",
      "Epoch 310/400\n",
      "47/47 [==============================] - 8s 176ms/step - loss: 0.0568 - accuracy: 0.9732 - val_loss: 1.0285 - val_accuracy: 0.8136\n",
      "Epoch 311/400\n",
      "47/47 [==============================] - 7s 158ms/step - loss: 0.0893 - accuracy: 0.9652 - val_loss: 0.7354 - val_accuracy: 0.8475\n",
      "Epoch 312/400\n",
      "47/47 [==============================] - 7s 159ms/step - loss: 0.0530 - accuracy: 0.9839 - val_loss: 0.7876 - val_accuracy: 0.8390\n"
     ]
    }
   ],
   "source": [
    "history = model.fit(train_X, train_Y, epochs=400, callbacks=[tb_callback,checkpoint,earlyStopping],validation_data=(val_X,val_Y),batch_size=16)"
   ]
  },
  {
   "cell_type": "code",
   "execution_count": 393,
   "id": "da828d57",
   "metadata": {},
   "outputs": [],
   "source": [
    "model.save_weights(os.path.join(dir_name,\"best_model.h5\"))"
   ]
  },
  {
   "cell_type": "code",
   "execution_count": 394,
   "id": "f30a6993",
   "metadata": {},
   "outputs": [],
   "source": [
    "model.load_weights(os.path.join(dir_name,\"best_model.h5\"))"
   ]
  },
  {
   "cell_type": "code",
   "execution_count": 387,
   "id": "14414be2",
   "metadata": {},
   "outputs": [
    {
     "name": "stdout",
     "output_type": "stream",
     "text": [
      "dict_keys(['loss', 'accuracy', 'val_loss', 'val_accuracy'])\n"
     ]
    }
   ],
   "source": [
    "print(history.history.keys())\n",
    "# summarize history for accuracy\n",
    "\n"
   ]
  },
  {
   "cell_type": "code",
   "execution_count": 388,
   "id": "a666ffa9",
   "metadata": {},
   "outputs": [
    {
     "data": {
      "image/png": "[encoded data removed]",
      "text/plain": [
       "<Figure size 432x288 with 1 Axes>"
      ]
     },
     "metadata": {
      "needs_background": "light"
     },
     "output_type": "display_data"
    }
   ],
   "source": [
    "plt.plot(history.history['accuracy'])\n",
    "plt.plot(history.history['val_accuracy'])\n",
    "plt.title('model accuracy')\n",
    "plt.ylabel('accuracy')\n",
    "plt.xlabel('epoch')\n",
    "plt.legend(['train', 'test'], loc='upper left')\n",
    "plt.show()"
   ]
  },
  {
   "cell_type": "code",
   "execution_count": 389,
   "id": "45782a05",
   "metadata": {},
   "outputs": [
    {
     "data": {
      "image/png": "[encoded data removed]",
      "text/plain": [
       "<Figure size 432x288 with 1 Axes>"
      ]
     },
     "metadata": {
      "needs_background": "light"
     },
     "output_type": "display_data"
    }
   ],
   "source": [
    "# summarize history for loss\n",
    "plt.plot(history.history['loss'])\n",
    "plt.plot(history.history['val_loss'])\n",
    "plt.title('model loss')\n",
    "plt.ylabel('loss')\n",
    "plt.xlabel('epoch')\n",
    "plt.legend(['train', 'test'], loc='upper left')\n",
    "plt.show()"
   ]
  },
  {
   "cell_type": "code",
   "execution_count": 395,
   "id": "61797b9f",
   "metadata": {},
   "outputs": [
    {
     "name": "stdout",
     "output_type": "stream",
     "text": [
      "WARNING:tensorflow:Layer lstm_37 will not use cuDNN kernels since it doesn't meet the criteria. It will use a generic GPU kernel as fallback when running on GPU.\n",
      "WARNING:tensorflow:Layer lstm_38 will not use cuDNN kernels since it doesn't meet the criteria. It will use a generic GPU kernel as fallback when running on GPU.\n",
      "WARNING:tensorflow:Layer lstm_39 will not use cuDNN kernels since it doesn't meet the criteria. It will use a generic GPU kernel as fallback when running on GPU.\n",
      "WARNING:tensorflow:Layer lstm_40 will not use cuDNN kernels since it doesn't meet the criteria. It will use a generic GPU kernel as fallback when running on GPU.\n",
      "WARNING:tensorflow:Layer lstm_41 will not use cuDNN kernels since it doesn't meet the criteria. It will use a generic GPU kernel as fallback when running on GPU.\n"
     ]
    }
   ],
   "source": [
    "m2 = first_model()\n",
    "m2.load_weights(os.path.join(dir_name,\"best_model.h5\"))"
   ]
  },
  {
   "cell_type": "code",
   "execution_count": 396,
   "id": "33d178f8",
   "metadata": {},
   "outputs": [
    {
     "name": "stdout",
     "output_type": "stream",
     "text": [
      "24/24 [==============================] - 1s 11ms/step - loss: 0.0581 - accuracy: 0.9839\n",
      "4/4 [==============================] - 0s 11ms/step - loss: 0.7876 - accuracy: 0.8390\n",
      "4/4 [==============================] - 0s 12ms/step - loss: 0.4588 - accuracy: 0.8900\n",
      "[0.058053769171237946, 0.9839357137680054] [0.7875653505325317, 0.8389830589294434] [0.458814799785614, 0.8899999856948853]\n"
     ]
    }
   ],
   "source": [
    "print(\n",
    "    m2.evaluate(train_X,train_Y),\n",
    "    m2.evaluate(val_X,val_Y),\n",
    "    m2.evaluate(test_X,test_Y)\n",
    ")"
   ]
  },
  {
   "cell_type": "code",
   "execution_count": 397,
   "id": "42095886",
   "metadata": {},
   "outputs": [
    {
     "name": "stdout",
     "output_type": "stream",
     "text": [
      "24/24 [==============================] - 0s 13ms/step - loss: 0.0581 - accuracy: 0.9839\n",
      "4/4 [==============================] - 0s 11ms/step - loss: 0.7876 - accuracy: 0.8390\n",
      "4/4 [==============================] - 0s 11ms/step - loss: 0.4588 - accuracy: 0.8900\n",
      "[0.058053769171237946, 0.9839357137680054] [0.7875653505325317, 0.8389830589294434] [0.458814799785614, 0.8899999856948853]\n"
     ]
    }
   ],
   "source": [
    "print(\n",
    "    model.evaluate(train_X,train_Y),\n",
    "    model.evaluate(val_X,val_Y),\n",
    "    model.evaluate(test_X,test_Y)\n",
    ")"
   ]
  },
  {
   "cell_type": "markdown",
   "id": "7743e09c",
   "metadata": {},
   "source": [
    "# 5 - test in real time"
   ]
  },
  {
   "cell_type": "code",
   "execution_count": 398,
   "id": "5464f37a",
   "metadata": {},
   "outputs": [],
   "source": [
    "import numpy as np\n",
    "import cv2 \n",
    "import os\n",
    "import mediapipe as mp\n",
    "import tensorflow as tf \n",
    "from tensorflow import keras\n",
    "import matplotlib.pyplot as plt\n",
    "import time\n",
    "import pandas as pd"
   ]
  },
  {
   "cell_type": "code",
   "execution_count": 399,
   "id": "ad45443f",
   "metadata": {},
   "outputs": [],
   "source": [
    "\n",
    "def view_probability(res, actions, image):\n",
    "    #output_frame = input_frame.copy()\n",
    "    \n",
    "    output_frame = image\n",
    "    \n",
    "    if(type(res)==list or type(res)==np.ndarray):\n",
    "        max_prob_index = np.argmax(res)\n",
    "        max_prob = res[max_prob_index]\n",
    "        text = f'{actions[max_prob_index]} - {max_prob:.3f}'\n",
    "    else:\n",
    "        text = \"not signing\"\n",
    "    \n",
    "    \n",
    "    cv2.rectangle(output_frame, (0,0), (640, 40), (0,255,0), -1)\n",
    "    cv2.putText(output_frame, text, (0, 30), cv2.FONT_HERSHEY_SIMPLEX, 1, (255,255,255), 2, cv2.LINE_AA)\n",
    "        \n",
    "    return output_frame\n",
    "\n",
    "\n",
    "\n",
    "def view_sentence(sentence,image):\n",
    "    # output_frame = image.copy()\n",
    "    output_frame = image\n",
    "    \n",
    "    cv2.rectangle(output_frame, (0,430), (640, 480), (255, 0, 0), -1)\n",
    "    cv2.putText(output_frame, ' '.join(sentence), (3,460), \n",
    "                   cv2.FONT_HERSHEY_SIMPLEX, 1, (255, 255, 255), 2, cv2.LINE_AA)\n",
    "    return output_frame\n",
    "\n",
    "\n",
    "def compare_frames(prev_frame,current_frame,threshold):\n",
    "    return True\n",
    "    if(type(prev_frame) == np.ndarray ):\n",
    "        diff = cv2.absdiff(prev_frame, current_frame)\n",
    "        s = diff.sum()\n",
    "        if(s > threshold):\n",
    "            return True\n",
    "        \n",
    "    return False\n",
    "    \n",
    "def evaluate_list_comparisons(s):\n",
    "    return True\n",
    "    if(sum(s)>=2):\n",
    "        return True\n",
    "    return False"
   ]
  },
  {
   "cell_type": "code",
   "execution_count": 400,
   "id": "a888db6b",
   "metadata": {
    "scrolled": false
   },
   "outputs": [],
   "source": [
    "# 1. New detection variables\n",
    "sequence = []\n",
    "sentence = []\n",
    "predictions = []\n",
    "threshold = 0.5\n",
    "\n",
    "res = None\n",
    "\n",
    "cap = cv2.VideoCapture(0)\n",
    "# Set mediapipe model \n",
    "\n",
    "last_comparisons = []\n",
    "holistic = mp_holistic.Holistic(min_detection_confidence=0.5, min_tracking_confidence=0.5)\n",
    "prev_frame = None\n",
    "while cap.isOpened():\n",
    "\n",
    "    ret, frame = cap.read()\n",
    "    if(not ret):break\n",
    "        \n",
    "        \n",
    "        \n",
    "    comparison_result = compare_frames(prev_frame,frame,4000000)\n",
    "    prev_frame = frame\n",
    "    \n",
    "    last_comparisons.append(int(comparison_result))\n",
    "    last_comparisons = last_comparisons[-2:]\n",
    "    \n",
    "    \n",
    "    \n",
    "\n",
    "    image, results = mediapipe_detection(frame, holistic)\n",
    "    draw_updated_styled(image, results)\n",
    "\n",
    "    # 2. Prediction logic\n",
    "    \n",
    "    \n",
    "    if(evaluate_list_comparisons(last_comparisons)):\n",
    "        keypoints = extract_keypoints(results)\n",
    "        sequence.append(keypoints)\n",
    "        sequence = sequence[-20:]\n",
    "\n",
    "        if len(sequence) == 20:\n",
    "            res = model.predict(np.expand_dims(sequence, axis=0))[0]\n",
    "            predictions.append(np.argmax(res))\n",
    "\n",
    "\n",
    "        #3. Viz logic\n",
    "            if np.unique(predictions[-2:])[0]==np.argmax(res): \n",
    "                if res[np.argmax(res)] > threshold: \n",
    "\n",
    "                    if len(sentence) > 0: \n",
    "                        if actions[np.argmax(res)] != sentence[-1]:\n",
    "                            sentence.append(actions[np.argmax(res)])\n",
    "                    else:\n",
    "                        sentence.append(actions[np.argmax(res)])\n",
    "\n",
    "            if len(sentence) > 5: \n",
    "                sentence = sentence[-5:]\n",
    "    else:\n",
    "        res = None\n",
    "\n",
    "\n",
    "    image = view_probability(res, actions, image)\n",
    "    image = view_sentence(sentence,image)\n",
    "    \n",
    "\n",
    "\n",
    "    cv2.imshow('OpenCV Feed', image)\n",
    "\n",
    "    # Break\n",
    "    if cv2.waitKey(10) & 0xFF == ord('q'):\n",
    "        break\n",
    "cap.release()\n",
    "cv2.destroyAllWindows()"
   ]
  },
  {
   "cell_type": "code",
   "execution_count": 51,
   "id": "7429ceef",
   "metadata": {},
   "outputs": [],
   "source": [
    "cap.release()"
   ]
  },
  {
   "cell_type": "code",
   "execution_count": 52,
   "id": "d4683df0",
   "metadata": {},
   "outputs": [],
   "source": [
    "cv2.destroyAllWindows()"
   ]
  },
  {
   "cell_type": "markdown",
   "id": "b1d84de1",
   "metadata": {},
   "source": [
    "# 6-read video and predict it (for slower models)"
   ]
  },
  {
   "cell_type": "code",
   "execution_count": 33,
   "id": "f6595cd2",
   "metadata": {},
   "outputs": [],
   "source": [
    "def read_video_camera(n_frames,duration=3):\n",
    "    import time\n",
    "    \n",
    "    frames = []\n",
    "    \n",
    "    cap = cv2.VideoCapture(0)\n",
    "    start_time = time.time()\n",
    "    while cap.isOpened():\n",
    "        ret, frame = cap.read()\n",
    "        if(not ret):break\n",
    "        \n",
    "        cv2.imshow(\"frame\",frame)\n",
    "        \n",
    "        cv2.waitKey(20)\n",
    "            \n",
    "        frames.append(frame)\n",
    "        if(time.time()-start_time > duration):\n",
    "            break\n",
    "    cap.release()\n",
    "    cv2.destroyAllWindows()\n",
    "    print(len(frames),n_frames)\n",
    "    steps = len(frames)/n_frames\n",
    "    count=0\n",
    "    new_frames=[]\n",
    "    while count < len(frames):\n",
    "        frame = frames[int(count)]\n",
    "        new_frames.append(frame)\n",
    "        count+=steps\n",
    "        \n",
    "    \n",
    "    return np.array(new_frames[:n_frames])\n",
    "    \n",
    "    \n",
    "def view_video(video):\n",
    "    for frame in video:\n",
    "        cv2.imshow(\"frame\",frame)\n",
    "        cv2.waitKey(100)\n",
    "    cv2.destroyAllWindows()\n",
    "    \n",
    "    \n",
    "    \n",
    "\n",
    "        \n"
   ]
  },
  {
   "cell_type": "markdown",
   "id": "c7ccf23d",
   "metadata": {},
   "source": [
    "### read the video from Webcam"
   ]
  },
  {
   "cell_type": "code",
   "execution_count": 47,
   "id": "76ae2750",
   "metadata": {},
   "outputs": [
    {
     "name": "stdout",
     "output_type": "stream",
     "text": [
      "74 20\n"
     ]
    }
   ],
   "source": [
    "video = read_video_camera(n_frames=20,duration=3) # duration is for the human to take his time making the move"
   ]
  },
  {
   "cell_type": "markdown",
   "id": "a24636a9",
   "metadata": {},
   "source": [
    "### view the video"
   ]
  },
  {
   "cell_type": "code",
   "execution_count": 48,
   "id": "7b7ba4cf",
   "metadata": {},
   "outputs": [],
   "source": [
    "view_video(video)"
   ]
  },
  {
   "cell_type": "markdown",
   "id": "5ada188b",
   "metadata": {},
   "source": [
    "### make prediction"
   ]
  },
  {
   "cell_type": "code",
   "execution_count": 49,
   "id": "17729098",
   "metadata": {},
   "outputs": [],
   "source": [
    "key_points = extract_keypoints_video(video)"
   ]
  },
  {
   "cell_type": "code",
   "execution_count": 50,
   "id": "04f084c6",
   "metadata": {},
   "outputs": [
    {
     "name": "stdout",
     "output_type": "stream",
     "text": [
      "tree 1.0\n"
     ]
    }
   ],
   "source": [
    "predection_array = model.predict(np.expand_dims(key_points, axis=0))[0]\n",
    "predection_id = np.argmax(predection_array)\n",
    "predection_label = actions[predection_id]\n",
    "predection_prob = predection_array[predection_id]\n",
    "print(predection_label,predection_prob)\n"
   ]
  },
  {
   "cell_type": "code",
   "execution_count": 131,
   "id": "206cae01",
   "metadata": {},
   "outputs": [
    {
     "data": {
      "text/plain": [
       "array([0.00219467, 0.09042753, 0.15158355, 0.75396156, 0.00183264],\n",
       "      dtype=float32)"
      ]
     },
     "execution_count": 131,
     "metadata": {},
     "output_type": "execute_result"
    }
   ],
   "source": [
    "predection_array"
   ]
  },
  {
   "cell_type": "code",
   "execution_count": 104,
   "id": "f6eb68b9",
   "metadata": {},
   "outputs": [
    {
     "data": {
      "text/plain": [
       "['sister', 'hurry', 'hungry', 'meal', 'tree']"
      ]
     },
     "execution_count": 104,
     "metadata": {},
     "output_type": "execute_result"
    }
   ],
   "source": [
    "actions"
   ]
  },
  {
   "cell_type": "code",
   "execution_count": null,
   "id": "ec856065",
   "metadata": {},
   "outputs": [],
   "source": []
  }
 ],
 "metadata": {
  "kernelspec": {
   "display_name": "Python 3 (ipykernel)",
   "language": "python",
   "name": "python3"
  },
  "language_info": {
   "codemirror_mode": {
    "name": "ipython",
    "version": 3
   },
   "file_extension": ".py",
   "mimetype": "text/x-python",
   "name": "python",
   "nbconvert_exporter": "python",
   "pygments_lexer": "ipython3",
   "version": "3.8.10"
  }
 },
 "nbformat": 4,
 "nbformat_minor": 5
}
