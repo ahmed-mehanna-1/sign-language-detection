{
 "cells": [
  {
   "cell_type": "markdown",
   "id": "e0c03c2d",
   "metadata": {},
   "source": [
    "# 1 - install dependencies"
   ]
  },
  {
   "cell_type": "code",
   "execution_count": 1,
   "id": "0bffa97f",
   "metadata": {},
   "outputs": [],
   "source": [
    "import numpy as np\n",
    "import cv2 \n",
    "import os\n",
    "import mediapipe as mp\n",
    "import tensorflow as tf \n",
    "from tensorflow import keras\n",
    "import matplotlib.pyplot as plt\n",
    "import time\n",
    "import pandas as pd"
   ]
  },
  {
   "cell_type": "markdown",
   "id": "ef3e681a",
   "metadata": {},
   "source": [
    "# 2 - keypoints extractions and drawing"
   ]
  },
  {
   "cell_type": "code",
   "execution_count": 2,
   "id": "6c4d3678",
   "metadata": {},
   "outputs": [],
   "source": [
    "mp_holistic = mp.solutions.holistic\n",
    "mp_drawing = mp.solutions.drawing_utils\n",
    "\n",
    "num_hand_marks = 21\n",
    "num_pose_marks = 33\n",
    "\n",
    "\n",
    "# holistic model process image and return the results as keypoints\n",
    "def mediapipe_detection(image,model):\n",
    "    image  = cv2.cvtColor(image,cv2.COLOR_BGR2RGB)\n",
    "    image.flags.writeable = False\n",
    "    results = model.process(image)\n",
    "    image.flags.writeable = True\n",
    "    image  = cv2.cvtColor(image,cv2.COLOR_RGB2BGR)\n",
    "    return image,results\n",
    "    \n",
    "def draw_styled_landmarks(image,results):\n",
    "    # Draw pose connections\n",
    "    mp_drawing.draw_landmarks(image, results.pose_landmarks, mp_holistic.POSE_CONNECTIONS,\n",
    "                             mp_drawing.DrawingSpec(color=(80,22,10), thickness=2, circle_radius=4), \n",
    "                             mp_drawing.DrawingSpec(color=(80,44,121), thickness=2, circle_radius=2)\n",
    "                             ) \n",
    "    # Draw left hand connections\n",
    "    mp_drawing.draw_landmarks(image, results.left_hand_landmarks, mp_holistic.HAND_CONNECTIONS, \n",
    "                             mp_drawing.DrawingSpec(color=(121,22,76), thickness=2, circle_radius=4), \n",
    "                             mp_drawing.DrawingSpec(color=(121,44,250), thickness=2, circle_radius=2)\n",
    "                             ) \n",
    "    # Draw right hand connections  \n",
    "    mp_drawing.draw_landmarks(image, results.right_hand_landmarks, mp_holistic.HAND_CONNECTIONS, \n",
    "                             mp_drawing.DrawingSpec(color=(245,117,66), thickness=2, circle_radius=4), \n",
    "                             mp_drawing.DrawingSpec(color=(245,66,230), thickness=2, circle_radius=2)\n",
    "                             ) \n",
    "    \n",
    "\n",
    "# read the keypoints and extract them and process them\n",
    "def extract_keypoints(results):\n",
    "    # extract pose marks\n",
    "    if results.pose_landmarks:\n",
    "        pose = np.array([ [res.x,res.y,res.visibility] for res in results.pose_landmarks.landmark ]).flatten()\n",
    "    else:\n",
    "        pose = np.zeros(num_pose_marks*3)\n",
    "    \n",
    "    # extract left hand\n",
    "    if results.left_hand_landmarks:\n",
    "        left_hand = np.array([ [res.x,res.y] for res in results.left_hand_landmarks.landmark ]).flatten()\n",
    "    else:\n",
    "        left_hand = np.zeros(num_hand_marks*2)\n",
    "        \n",
    "        \n",
    "    # extract right hand\n",
    "    if results.right_hand_landmarks:\n",
    "        right_hand = np.array([ [res.x,res.y] for res in results.right_hand_landmarks.landmark ]).flatten()\n",
    "    else:\n",
    "        right_hand = np.zeros(num_hand_marks*2)\n",
    "    \n",
    "    return np.concatenate([pose,left_hand,right_hand])\n",
    "    "
   ]
  },
  {
   "cell_type": "markdown",
   "id": "f6a53451",
   "metadata": {},
   "source": [
    "# 3 - read and process data"
   ]
  },
  {
   "cell_type": "code",
   "execution_count": 3,
   "id": "7a26a4d4",
   "metadata": {},
   "outputs": [],
   "source": [
    "data_path = \"../../../data/Datasets/\"\n",
    "\n",
    "train_labels = pd.read_csv(os.path.join(data_path,\"train_labels.csv\"),names=['sample','id'])\n",
    "validation_labels = pd.read_csv(os.path.join(data_path,\"validation_labels.csv\"),names=['sample','id'])\n",
    "test_labels = pd.read_csv(os.path.join(data_path,\"test_labels.csv\"),names=['sample','id'])\n",
    "class_id = pd.read_csv(os.path.join(data_path,\"class_id.csv\"))\n",
    "\n",
    "\n",
    "    \n",
    "train_path = os.path.join(data_path,\"train\")\n",
    "val_path = os.path.join(data_path,\"val\")\n",
    "test_path = os.path.join(data_path,\"test\")\n",
    "\n"
   ]
  },
  {
   "cell_type": "code",
   "execution_count": 4,
   "id": "1b0631ba",
   "metadata": {},
   "outputs": [],
   "source": [
    "def check_file(file_path):\n",
    "    try:\n",
    "        f = open(file_path)\n",
    "        f.close()\n",
    "        return True\n",
    "    except IOError:\n",
    "        return False\n",
    "    \n",
    "    \n",
    "\n",
    "def construct_path(file,path=\"train\"):\n",
    "    return os.path.join(os.path.join(data_path,path),file+\"_color.mp4\")\n",
    "    "
   ]
  },
  {
   "cell_type": "markdown",
   "id": "6c96171e",
   "metadata": {},
   "source": [
    "### 3.1 collect data that in classes 0,1,2 and available in the data/train directory"
   ]
  },
  {
   "cell_type": "code",
   "execution_count": 9,
   "id": "33dcd736",
   "metadata": {},
   "outputs": [],
   "source": [
    "n_actions = 6\n",
    "actions = list(class_id['EN'][:n_actions])"
   ]
  },
  {
   "cell_type": "code",
   "execution_count": 10,
   "id": "ed9d9651",
   "metadata": {},
   "outputs": [
    {
     "data": {
      "text/plain": [
       "['sister', 'hurry', 'hungry', 'enjoy_your_meal', 'brother', 'tree']"
      ]
     },
     "execution_count": 10,
     "metadata": {},
     "output_type": "execute_result"
    }
   ],
   "source": [
    "actions"
   ]
  },
  {
   "cell_type": "code",
   "execution_count": 11,
   "id": "e6e3cc2c",
   "metadata": {},
   "outputs": [],
   "source": [
    "n_actions = 6\n",
    "actions = list(class_id['EN'][:n_actions])\n",
    "actions[3] = \"meal\"\n",
    "dic={}\n",
    "for i,action in enumerate(actions):\n",
    "    dic[action]=i"
   ]
  },
  {
   "cell_type": "code",
   "execution_count": 12,
   "id": "81b7e589",
   "metadata": {},
   "outputs": [
    {
     "data": {
      "text/plain": [
       "{'sister': 0, 'hurry': 1, 'hungry': 2, 'meal': 3, 'brother': 4, 'tree': 5}"
      ]
     },
     "execution_count": 12,
     "metadata": {},
     "output_type": "execute_result"
    }
   ],
   "source": [
    "dic"
   ]
  },
  {
   "cell_type": "code",
   "execution_count": 13,
   "id": "0cf7da59",
   "metadata": {},
   "outputs": [],
   "source": [
    "def get_data(value,file_path,label_name):\n",
    "    if file_path==\"train\":\n",
    "        label_dic = train_labels\n",
    "    elif file_path==\"val\":\n",
    "        label_dic = validation_labels\n",
    "    elif file_path==\"test\":\n",
    "        label_dic = test_labels\n",
    "        \n",
    "    \n",
    "    data =  label_dic[label_dic['id']==value]\n",
    "    lis =  [construct_path(i,file_path) for i in  (data['sample'])]\n",
    "    data =  [i for i in lis if check_file(i)]\n",
    "    return data,[label_name for i in data]\n",
    "    \n",
    "\n",
    "    "
   ]
  },
  {
   "cell_type": "code",
   "execution_count": 14,
   "id": "c02e60cd",
   "metadata": {},
   "outputs": [],
   "source": [
    "\n",
    "\n",
    "d = [0,1,2,3,4,5]\n",
    "\n",
    "def get_list(d,cat):\n",
    "    arr_x=[]\n",
    "    arr_y=[]\n",
    "    for index,value in enumerate(d):\n",
    "        \n",
    "        data,labels = get_data(value,cat,index)\n",
    "        arr_x.extend(data)\n",
    "        arr_y.extend(labels)\n",
    "    return arr_x,arr_y\n",
    "\n",
    "train_X,train_Y = get_list(d,\"train\")\n",
    "val_X,val_Y = get_list(d,\"val\")\n",
    "test_X,test_Y = get_list(d,\"test\")\n"
   ]
  },
  {
   "cell_type": "code",
   "execution_count": 15,
   "id": "f6f2914c",
   "metadata": {},
   "outputs": [
    {
     "name": "stdout",
     "output_type": "stream",
     "text": [
      "747 747 118 118 100 100\n"
     ]
    }
   ],
   "source": [
    "print(\n",
    "    len(train_X ),\n",
    "len(train_Y),\n",
    "len(val_X ),\n",
    "len(val_Y),\n",
    "len(test_X ),\n",
    "len(test_Y)\n",
    ")"
   ]
  },
  {
   "cell_type": "code",
   "execution_count": 16,
   "id": "192e3c37",
   "metadata": {},
   "outputs": [
    {
     "data": {
      "text/plain": [
       "'../../../data/Datasets/train/signer42_sample383_color.mp4'"
      ]
     },
     "execution_count": 16,
     "metadata": {},
     "output_type": "execute_result"
    }
   ],
   "source": [
    "train_X[-1]"
   ]
  },
  {
   "cell_type": "markdown",
   "id": "a781311b",
   "metadata": {},
   "source": [
    "### 3.2 process videos into frames and label to cateogries"
   ]
  },
  {
   "cell_type": "code",
   "execution_count": 17,
   "id": "d602a5e6",
   "metadata": {},
   "outputs": [],
   "source": [
    "\n",
    "\n",
    "def capture_frames(video_path):\n",
    "    video = cv2.VideoCapture(video_path)\n",
    "    video_length = int(video.get(cv2.CAP_PROP_FRAME_COUNT)) - 1\n",
    "    # count = 0\n",
    "    # frame_rate = video.get(cv2.CAP_PROP_FRAME_COUNT)\n",
    "\n",
    "    count=0\n",
    "    frames = []\n",
    "    while video.isOpened():\n",
    "      # frame_id = video.get(0)\n",
    "        ret, frame = video.read()\n",
    "        \n",
    "        if not ret:\n",
    "            continue\n",
    "        frames.append(frame)\n",
    "        count += 1\n",
    "        # If there are no more frames left\n",
    "        if (count > (video_length-1)):\n",
    "          # Release the feed\n",
    "          video.release()\n",
    "        # if frame_id % math.floor(1) == 0:\n",
    "        #     file_name = f\"{video_path}_frame_{count}.jpg\"\n",
    "        #     count += 1\n",
    "        #     # print(f\"File name: {file_name}\")\n",
    "        #     frames.append(frame)\n",
    "        #     # cv2.imwrite(file_name, frame)\n",
    "    video.release()\n",
    "    return np.array(frames)\n",
    "\n",
    "\n",
    "def get_frames(video_path,num_frames):\n",
    "    frames = capture_frames(video_path)\n",
    "    video_length = len(frames)\n",
    "    steps = video_length/num_frames\n",
    "    count=0\n",
    "    new_frames=[]\n",
    "    while count<video_length:\n",
    "        frame = frames[int(count)]\n",
    "#         frame = cv2.resize(frame, (256, 256))\n",
    "#         frame =  (frame/255.0).astype(np.float16)\n",
    "        new_frames.append(frame)\n",
    "        count+=steps\n",
    "\n",
    "    s = np.array(new_frames[:num_frames])\n",
    "    return np.array(new_frames[:num_frames])\n"
   ]
  },
  {
   "cell_type": "code",
   "execution_count": 18,
   "id": "781d6db1",
   "metadata": {},
   "outputs": [],
   "source": [
    "def extract_keypoints_video(path,i=-1):\n",
    "    \n",
    "    if(i!=-1):\n",
    "        print(i,end=\"\\r\")\n",
    "    \n",
    "    if(type(path) == str):\n",
    "        frames = get_frames(path,20)\n",
    "    else:\n",
    "        frames = path\n",
    "    output_key_points=[]\n",
    "    with mp_holistic.Holistic(min_detection_confidence=0.5, min_tracking_confidence=0.5) as holistic:\n",
    "        for frame in frames:\n",
    "            image, results = mediapipe_detection(frame, holistic)\n",
    "            output_key_points.append(extract_keypoints(results))\n",
    "    return np.array(output_key_points)\n",
    "\n",
    "\n",
    "    "
   ]
  },
  {
   "cell_type": "markdown",
   "id": "fb4424e1",
   "metadata": {},
   "source": [
    "### 3.3 - extract the keypoints and save them in train"
   ]
  },
  {
   "cell_type": "code",
   "execution_count": 19,
   "id": "c4f6199c",
   "metadata": {},
   "outputs": [
    {
     "name": "stderr",
     "output_type": "stream",
     "text": [
      "INFO: Created TensorFlow Lite XNNPACK delegate for CPU.\n"
     ]
    }
   ],
   "source": [
    "x = extract_keypoints_video(train_X[0])"
   ]
  },
  {
   "cell_type": "code",
   "execution_count": 20,
   "id": "16b5ad3d",
   "metadata": {},
   "outputs": [],
   "source": [
    "if f\"train_features__without_z.npy\" in os.listdir():\n",
    "    train_data = np.load(\"train_features__without_z.npy\")\n",
    "    val_data = np.load(\"val_features__without_z.npy\")\n",
    "    test_data = np.load(\"test_features__without_z.npy\")\n",
    "    train_labels = np.load(\"train_labels__without_z.npy\")\n",
    "    val_labels = np.load(\"val_labels__without_z.npy\")\n",
    "    test_labels = np.load(\"test_labels__without_z.npy\")\n",
    "else:\n",
    "    train = np.array([extract_keypoints_video(path,f'Train iteration : {i+1}/{len(train_X)}') for i,path in enumerate(train_X) ])\n",
    "    np.save('train_features__without_z.npy', train) \n",
    "    print(\"Training Finished\")\n",
    "    val = np.array([extract_keypoints_video(path,f'Valdiation iteration : {i+1}/{len(val_X)}') for i,path in enumerate(val_X) ])\n",
    "    np.save('val_features__without_z.npy', val) \n",
    "    print(\"Validation Finished\")\n",
    "    test = np.array([extract_keypoints_video(path,f'Test iteration : {i+1}/{len(test_X)}') for i,path in enumerate(test_X) ])\n",
    "    np.save('test_features__without_z.npy', test)\n",
    "    print(\"Test Finished\")\n",
    "    np.save(\"train_labels__without_z.npy\",np.array(train_Y))\n",
    "    np.save(\"val_labels__without_z.npy\",np.array(val_Y))\n",
    "    np.save(\"test_labels__without_z.npy\",np.array(test_Y))"
   ]
  },
  {
   "cell_type": "code",
   "execution_count": 21,
   "id": "6e1b1216",
   "metadata": {
    "scrolled": true
   },
   "outputs": [
    {
     "name": "stdout",
     "output_type": "stream",
     "text": [
      "(747, 20, 183) (747,) (118, 20, 183) (118,) (100, 20, 183) (100,)\n"
     ]
    }
   ],
   "source": [
    "print(\n",
    "train_data.shape,\n",
    "    train_labels.shape,\n",
    "    val_data.shape,\n",
    "    val_labels.shape,\n",
    "    test_data.shape,\n",
    "    test_labels.shape\n",
    "    \n",
    ")"
   ]
  },
  {
   "cell_type": "markdown",
   "id": "b0fb9834",
   "metadata": {},
   "source": [
    "### 3.4 shuffle the data"
   ]
  },
  {
   "cell_type": "code",
   "execution_count": 22,
   "id": "3230f83e",
   "metadata": {},
   "outputs": [],
   "source": [
    "perm = np.random.permutation(len(train_data))\n",
    "\n",
    "train_X = train_data[perm]\n",
    "train_Y = train_labels[perm]\n",
    "val_X = val_data\n",
    "val_Y = val_labels\n",
    "test_X = test_data\n",
    "test_Y = test_labels\n"
   ]
  },
  {
   "cell_type": "code",
   "execution_count": 23,
   "id": "10087b94",
   "metadata": {},
   "outputs": [
    {
     "name": "stdout",
     "output_type": "stream",
     "text": [
      "(747, 20, 183) (747,) (118, 20, 183) (118,) (100, 20, 183) (100,)\n"
     ]
    }
   ],
   "source": [
    "print(\n",
    "train_X.shape,\n",
    "train_Y.shape,\n",
    "val_X.shape,\n",
    "val_Y.shape,\n",
    "test_X.shape,\n",
    "test_Y.shape,\n",
    ")"
   ]
  },
  {
   "cell_type": "markdown",
   "id": "e742a5d4",
   "metadata": {},
   "source": [
    "# 4 - build and train the model"
   ]
  },
  {
   "cell_type": "code",
   "execution_count": 24,
   "id": "c0c15994",
   "metadata": {},
   "outputs": [],
   "source": [
    "from tensorflow.keras.models import Sequential\n",
    "from tensorflow.keras.layers import LSTM, Dense,Input,Dropout\n",
    "from tensorflow.keras.models import Model\n",
    "from tensorflow.keras.callbacks import TensorBoard,ModelCheckpoint,EarlyStopping\n",
    "\n",
    "\n",
    "tb_callback = TensorBoard(log_dir=os.path.join('Logs'))\n",
    "checkpoint = ModelCheckpoint(\"best_model_without_z.h5\", monitor='loss', verbose=0,\n",
    "    save_best_only=True, mode='auto', save_freq=1)\n",
    "earlyStopping = EarlyStopping(monitor='loss', patience=20)"
   ]
  },
  {
   "cell_type": "code",
   "execution_count": 25,
   "id": "dfdeb079",
   "metadata": {},
   "outputs": [
    {
     "name": "stdout",
     "output_type": "stream",
     "text": [
      "WARNING:tensorflow:Layer lstm will not use cuDNN kernels since it doesn't meet the criteria. It will use a generic GPU kernel as fallback when running on GPU.\n",
      "WARNING:tensorflow:Layer lstm_1 will not use cuDNN kernels since it doesn't meet the criteria. It will use a generic GPU kernel as fallback when running on GPU.\n",
      "WARNING:tensorflow:Layer lstm_2 will not use cuDNN kernels since it doesn't meet the criteria. It will use a generic GPU kernel as fallback when running on GPU.\n"
     ]
    },
    {
     "name": "stderr",
     "output_type": "stream",
     "text": [
      "2021-12-31 18:47:10.323453: I tensorflow/stream_executor/cuda/cuda_gpu_executor.cc:939] successful NUMA node read from SysFS had negative value (-1), but there must be at least one NUMA node, so returning NUMA node zero\n",
      "2021-12-31 18:47:10.327113: I tensorflow/stream_executor/cuda/cuda_gpu_executor.cc:939] successful NUMA node read from SysFS had negative value (-1), but there must be at least one NUMA node, so returning NUMA node zero\n",
      "2021-12-31 18:47:10.327410: I tensorflow/stream_executor/cuda/cuda_gpu_executor.cc:939] successful NUMA node read from SysFS had negative value (-1), but there must be at least one NUMA node, so returning NUMA node zero\n",
      "2021-12-31 18:47:10.327814: I tensorflow/core/platform/cpu_feature_guard.cc:151] This TensorFlow binary is optimized with oneAPI Deep Neural Network Library (oneDNN) to use the following CPU instructions in performance-critical operations:  AVX2 FMA\n",
      "To enable them in other operations, rebuild TensorFlow with the appropriate compiler flags.\n",
      "2021-12-31 18:47:10.328082: I tensorflow/stream_executor/cuda/cuda_gpu_executor.cc:939] successful NUMA node read from SysFS had negative value (-1), but there must be at least one NUMA node, so returning NUMA node zero\n",
      "2021-12-31 18:47:10.328327: I tensorflow/stream_executor/cuda/cuda_gpu_executor.cc:939] successful NUMA node read from SysFS had negative value (-1), but there must be at least one NUMA node, so returning NUMA node zero\n",
      "2021-12-31 18:47:10.328550: I tensorflow/stream_executor/cuda/cuda_gpu_executor.cc:939] successful NUMA node read from SysFS had negative value (-1), but there must be at least one NUMA node, so returning NUMA node zero\n",
      "2021-12-31 18:47:10.657261: I tensorflow/stream_executor/cuda/cuda_gpu_executor.cc:939] successful NUMA node read from SysFS had negative value (-1), but there must be at least one NUMA node, so returning NUMA node zero\n",
      "2021-12-31 18:47:10.657499: I tensorflow/stream_executor/cuda/cuda_gpu_executor.cc:939] successful NUMA node read from SysFS had negative value (-1), but there must be at least one NUMA node, so returning NUMA node zero\n",
      "2021-12-31 18:47:10.657690: I tensorflow/stream_executor/cuda/cuda_gpu_executor.cc:939] successful NUMA node read from SysFS had negative value (-1), but there must be at least one NUMA node, so returning NUMA node zero\n",
      "2021-12-31 18:47:10.657874: I tensorflow/core/common_runtime/gpu/gpu_device.cc:1525] Created device /job:localhost/replica:0/task:0/device:GPU:0 with 2270 MB memory:  -> device: 0, name: NVIDIA GeForce GTX 1650 Ti, pci bus id: 0000:01:00.0, compute capability: 7.5\n"
     ]
    }
   ],
   "source": [
    "def first_model():\n",
    "    input_layer = Input(shape=(20,183))\n",
    "    layer = LSTM(64,return_sequences=True,activation=\"relu\")(input_layer)\n",
    "    layer = LSTM(128,return_sequences=True,activation=\"relu\")(layer)\n",
    "    layer = LSTM(256,return_sequences=True,activation=\"relu\")(layer)\n",
    "    layer = LSTM(128,return_sequences=True,activation=\"relu\")(layer)\n",
    "    layer = LSTM(64,return_sequences=False,activation=\"relu\")(layer)\n",
    "    layer = Dense(64,activation=\"relu\")(layer)\n",
    "    layer = Dense(32,activation=\"relu\")(layer)\n",
    "    layer = Dense(len(actions),activation=\"softmax\")(layer)\n",
    "\n",
    "    model = Model(inputs=input_layer,outputs=layer)\n",
    "    model.compile(optimizer='Adam', loss='categorical_crossentropy', metrics=['categorical_accuracy'])\n",
    "    \n",
    "    return model\n",
    "\n",
    "\n",
    "def second_model():\n",
    "    input_layer = Input(shape=(20,183))\n",
    "    layer = LSTM(64,return_sequences=True,activation=\"relu\")(input_layer)\n",
    "    layer = LSTM(128,return_sequences=True,activation=\"relu\")(layer)\n",
    "    layer = Dropout(0.3)(layer)\n",
    "    layer = LSTM(128,return_sequences=True,activation=\"relu\")(layer)\n",
    "    layer = Dropout(0.3)(layer)\n",
    "    layer = LSTM(64,return_sequences=False,activation=\"relu\")(layer)\n",
    "    layer = Dense(64,activation=\"relu\")(layer)\n",
    "    layer = Dense(32,activation=\"relu\")(layer)\n",
    "    layer = Dense(len(actions),activation=\"softmax\")(layer)\n",
    "\n",
    "    model = Model(inputs=input_layer,outputs=layer)\n",
    "    model.compile(optimizer='Adam', loss='categorical_crossentropy', metrics=['categorical_accuracy'])\n",
    "    \n",
    "    return model\n",
    "\n",
    "def third_model():\n",
    "    input_layer = Input(shape=(20,183))\n",
    "    layer = LSTM(64,return_sequences=True,activation=\"relu\")(input_layer)\n",
    "    layer = LSTM(128,return_sequences=True,activation=\"relu\")(layer)\n",
    "    layer = LSTM(96,return_sequences=False,activation=\"relu\")(layer)\n",
    "    layer = Dense(64,activation=\"relu\")(layer)\n",
    "    layer = Dense(32,activation=\"relu\")(layer)\n",
    "    layer = Dense(len(actions),activation=\"softmax\")(layer)\n",
    "\n",
    "#     optimizer = tf.keras.optimizers.Nadam(learning_rate=0.002,\n",
    "#                              beta_1=0.9,\n",
    "#                              beta_2=0.999, \n",
    "#                              epsilon=1e-08,\n",
    "#                              schedule_decay=0.004)\n",
    "    \n",
    "    model = Model(inputs=input_layer,outputs=layer)\n",
    "    model.compile(optimizer=\"Adam\", loss='sparse_categorical_crossentropy', metrics=['accuracy'])\n",
    "    \n",
    "    return model\n",
    "\n",
    "\n",
    "model = third_model()"
   ]
  },
  {
   "cell_type": "code",
   "execution_count": 26,
   "id": "b631cd6f",
   "metadata": {},
   "outputs": [],
   "source": [
    "# model.load_weights('best_model.h5')"
   ]
  },
  {
   "cell_type": "code",
   "execution_count": 27,
   "id": "330f87ff",
   "metadata": {},
   "outputs": [
    {
     "name": "stdout",
     "output_type": "stream",
     "text": [
      "Model: \"model\"\n",
      "_________________________________________________________________\n",
      " Layer (type)                Output Shape              Param #   \n",
      "=================================================================\n",
      " input_1 (InputLayer)        [(None, 20, 183)]         0         \n",
      "                                                                 \n",
      " lstm (LSTM)                 (None, 20, 64)            63488     \n",
      "                                                                 \n",
      " lstm_1 (LSTM)               (None, 20, 128)           98816     \n",
      "                                                                 \n",
      " lstm_2 (LSTM)               (None, 96)                86400     \n",
      "                                                                 \n",
      " dense (Dense)               (None, 64)                6208      \n",
      "                                                                 \n",
      " dense_1 (Dense)             (None, 32)                2080      \n",
      "                                                                 \n",
      " dense_2 (Dense)             (None, 6)                 198       \n",
      "                                                                 \n",
      "=================================================================\n",
      "Total params: 257,190\n",
      "Trainable params: 257,190\n",
      "Non-trainable params: 0\n",
      "_________________________________________________________________\n"
     ]
    }
   ],
   "source": [
    "model.summary()"
   ]
  },
  {
   "cell_type": "code",
   "execution_count": 42,
   "id": "8a38fd8e",
   "metadata": {},
   "outputs": [
    {
     "name": "stdout",
     "output_type": "stream",
     "text": [
      "Epoch 1/400\n",
      "24/24 [==============================] - 3s 135ms/step - loss: 0.2070 - accuracy: 0.8983 - val_loss: 0.7453 - val_accuracy: 0.8220\n",
      "Epoch 2/400\n",
      "24/24 [==============================] - 3s 132ms/step - loss: 0.3924 - accuracy: 0.8380 - val_loss: 0.4442 - val_accuracy: 0.8220\n",
      "Epoch 3/400\n",
      "24/24 [==============================] - 3s 131ms/step - loss: 0.3124 - accuracy: 0.8675 - val_loss: 0.4421 - val_accuracy: 0.8220\n",
      "Epoch 4/400\n",
      "24/24 [==============================] - 3s 140ms/step - loss: 0.2437 - accuracy: 0.8876 - val_loss: 0.6815 - val_accuracy: 0.8390\n",
      "Epoch 5/400\n",
      "24/24 [==============================] - 4s 153ms/step - loss: 0.2300 - accuracy: 0.8849 - val_loss: 1.3566 - val_accuracy: 0.6525\n",
      "Epoch 6/400\n",
      "24/24 [==============================] - 3s 137ms/step - loss: 0.4094 - accuracy: 0.8447 - val_loss: 0.5647 - val_accuracy: 0.7712\n",
      "Epoch 7/400\n",
      "24/24 [==============================] - 4s 131ms/step - loss: 0.2499 - accuracy: 0.8862 - val_loss: 0.4986 - val_accuracy: 0.8305\n",
      "Epoch 8/400\n",
      "24/24 [==============================] - 3s 131ms/step - loss: 0.2211 - accuracy: 0.8983 - val_loss: 0.5464 - val_accuracy: 0.8220\n",
      "Epoch 9/400\n",
      "24/24 [==============================] - 3s 132ms/step - loss: 0.1969 - accuracy: 0.9116 - val_loss: 0.5716 - val_accuracy: 0.8559\n",
      "Epoch 10/400\n",
      "24/24 [==============================] - 3s 139ms/step - loss: 0.3461 - accuracy: 0.8407 - val_loss: 0.7222 - val_accuracy: 0.7797\n",
      "Epoch 11/400\n",
      "24/24 [==============================] - 4s 153ms/step - loss: 0.3472 - accuracy: 0.8434 - val_loss: 0.4566 - val_accuracy: 0.8220\n",
      "Epoch 12/400\n",
      "24/24 [==============================] - 3s 138ms/step - loss: 0.2736 - accuracy: 0.8661 - val_loss: 0.4215 - val_accuracy: 0.8390\n",
      "Epoch 13/400\n",
      "24/24 [==============================] - 3s 146ms/step - loss: 0.2314 - accuracy: 0.8916 - val_loss: 0.5395 - val_accuracy: 0.8475\n",
      "Epoch 14/400\n",
      "24/24 [==============================] - 3s 143ms/step - loss: 0.2803 - accuracy: 0.8675 - val_loss: 0.5299 - val_accuracy: 0.8220\n",
      "Epoch 15/400\n",
      "24/24 [==============================] - 3s 148ms/step - loss: 0.2239 - accuracy: 0.9103 - val_loss: 0.5194 - val_accuracy: 0.8475\n",
      "Epoch 16/400\n",
      "24/24 [==============================] - 3s 147ms/step - loss: 0.1820 - accuracy: 0.9103 - val_loss: 0.6806 - val_accuracy: 0.8390\n",
      "Epoch 17/400\n",
      "24/24 [==============================] - 4s 138ms/step - loss: 0.1954 - accuracy: 0.9076 - val_loss: 0.5539 - val_accuracy: 0.8305\n",
      "Epoch 18/400\n",
      "24/24 [==============================] - 3s 141ms/step - loss: 0.3435 - accuracy: 0.8755 - val_loss: 0.4391 - val_accuracy: 0.8475\n",
      "Epoch 19/400\n",
      "24/24 [==============================] - 3s 146ms/step - loss: 0.2973 - accuracy: 0.8514 - val_loss: 0.4573 - val_accuracy: 0.8475\n",
      "Epoch 20/400\n",
      "24/24 [==============================] - 3s 133ms/step - loss: 0.3134 - accuracy: 0.8367 - val_loss: 0.5657 - val_accuracy: 0.8305\n",
      "Epoch 21/400\n",
      "24/24 [==============================] - 4s 144ms/step - loss: 0.2459 - accuracy: 0.8849 - val_loss: 0.4435 - val_accuracy: 0.8644\n",
      "Epoch 22/400\n",
      "24/24 [==============================] - 3s 138ms/step - loss: 0.2722 - accuracy: 0.8728 - val_loss: 0.5660 - val_accuracy: 0.8305\n",
      "Epoch 23/400\n",
      "24/24 [==============================] - 3s 144ms/step - loss: 0.2461 - accuracy: 0.8768 - val_loss: 0.6300 - val_accuracy: 0.8390\n",
      "Epoch 24/400\n",
      "24/24 [==============================] - 4s 149ms/step - loss: 0.2195 - accuracy: 0.9009 - val_loss: 0.6702 - val_accuracy: 0.8136\n",
      "Epoch 25/400\n",
      "24/24 [==============================] - 3s 128ms/step - loss: 0.1843 - accuracy: 0.9210 - val_loss: 0.5078 - val_accuracy: 0.8729\n",
      "Epoch 26/400\n",
      "24/24 [==============================] - 4s 142ms/step - loss: 0.2272 - accuracy: 0.9116 - val_loss: 0.5092 - val_accuracy: 0.8051\n",
      "Epoch 27/400\n",
      "24/24 [==============================] - 3s 148ms/step - loss: 0.3223 - accuracy: 0.8661 - val_loss: 0.4779 - val_accuracy: 0.7797\n",
      "Epoch 28/400\n",
      "24/24 [==============================] - 3s 145ms/step - loss: 0.2418 - accuracy: 0.8916 - val_loss: 0.4290 - val_accuracy: 0.7966\n",
      "Epoch 29/400\n",
      "24/24 [==============================] - 3s 146ms/step - loss: 0.3894 - accuracy: 0.8394 - val_loss: 0.5340 - val_accuracy: 0.8220\n",
      "Epoch 30/400\n",
      "24/24 [==============================] - 3s 148ms/step - loss: 0.3863 - accuracy: 0.8340 - val_loss: 0.5664 - val_accuracy: 0.8644\n",
      "Epoch 31/400\n",
      "24/24 [==============================] - 3s 133ms/step - loss: 0.2624 - accuracy: 0.8862 - val_loss: 0.4744 - val_accuracy: 0.8136\n",
      "Epoch 32/400\n",
      "24/24 [==============================] - 3s 127ms/step - loss: 0.2218 - accuracy: 0.8862 - val_loss: 0.5165 - val_accuracy: 0.7797\n",
      "Epoch 33/400\n",
      "24/24 [==============================] - 4s 148ms/step - loss: 0.2850 - accuracy: 0.8728 - val_loss: 0.3996 - val_accuracy: 0.8136\n",
      "Epoch 34/400\n",
      "24/24 [==============================] - 3s 138ms/step - loss: 0.2306 - accuracy: 0.8902 - val_loss: 0.4702 - val_accuracy: 0.8475\n",
      "Epoch 35/400\n",
      "24/24 [==============================] - 4s 132ms/step - loss: 0.2180 - accuracy: 0.9050 - val_loss: 0.7679 - val_accuracy: 0.7881\n",
      "Epoch 36/400\n",
      "24/24 [==============================] - 3s 132ms/step - loss: 0.2303 - accuracy: 0.8929 - val_loss: 0.6421 - val_accuracy: 0.8220\n"
     ]
    }
   ],
   "source": [
    "history = model.fit(train_X, train_Y, epochs=400, callbacks=[tb_callback,checkpoint,earlyStopping],validation_data=(val_X,val_Y))"
   ]
  },
  {
   "cell_type": "code",
   "execution_count": 28,
   "id": "f30a6993",
   "metadata": {},
   "outputs": [],
   "source": [
    "model.load_weights('best_model_without_z.h5')"
   ]
  },
  {
   "cell_type": "code",
   "execution_count": 35,
   "id": "14414be2",
   "metadata": {},
   "outputs": [
    {
     "name": "stdout",
     "output_type": "stream",
     "text": [
      "dict_keys(['loss', 'accuracy', 'val_loss', 'val_accuracy'])\n"
     ]
    }
   ],
   "source": [
    "print(history.history.keys())\n",
    "# summarize history for accuracy\n",
    "\n"
   ]
  },
  {
   "cell_type": "code",
   "execution_count": 36,
   "id": "a666ffa9",
   "metadata": {},
   "outputs": [
    {
     "data": {
      "image/png": "[encoded data removed]",
      "text/plain": [
       "<Figure size 432x288 with 1 Axes>"
      ]
     },
     "metadata": {
      "needs_background": "light"
     },
     "output_type": "display_data"
    }
   ],
   "source": [
    "plt.plot(history.history['accuracy'])\n",
    "plt.plot(history.history['val_accuracy'])\n",
    "plt.title('model accuracy')\n",
    "plt.ylabel('accuracy')\n",
    "plt.xlabel('epoch')\n",
    "plt.legend(['train', 'test'], loc='upper left')\n",
    "plt.show()"
   ]
  },
  {
   "cell_type": "code",
   "execution_count": 37,
   "id": "45782a05",
   "metadata": {},
   "outputs": [
    {
     "data": {
      "image/png": "[encoded data removed]",
      "text/plain": [
       "<Figure size 432x288 with 1 Axes>"
      ]
     },
     "metadata": {
      "needs_background": "light"
     },
     "output_type": "display_data"
    }
   ],
   "source": [
    "# summarize history for loss\n",
    "plt.plot(history.history['loss'])\n",
    "plt.plot(history.history['val_loss'])\n",
    "plt.title('model loss')\n",
    "plt.ylabel('loss')\n",
    "plt.xlabel('epoch')\n",
    "plt.legend(['train', 'test'], loc='upper left')\n",
    "plt.show()"
   ]
  },
  {
   "cell_type": "code",
   "execution_count": 61,
   "id": "6e2d73b8",
   "metadata": {},
   "outputs": [],
   "source": [
    "model.load_weights('best_model_without_z.h5')"
   ]
  },
  {
   "cell_type": "code",
   "execution_count": 56,
   "id": "022738c4",
   "metadata": {},
   "outputs": [
    {
     "name": "stdout",
     "output_type": "stream",
     "text": [
      "24/24 [==============================] - 1s 7ms/step - loss: 0.1740 - accuracy: 0.9183\n"
     ]
    },
    {
     "data": {
      "text/plain": [
       "[0.17395444214344025, 0.9183400273323059]"
      ]
     },
     "execution_count": 56,
     "metadata": {},
     "output_type": "execute_result"
    }
   ],
   "source": [
    "m2.evaluate(train_X,train_Y)"
   ]
  },
  {
   "cell_type": "code",
   "execution_count": 44,
   "id": "4a3da93a",
   "metadata": {},
   "outputs": [
    {
     "name": "stdout",
     "output_type": "stream",
     "text": [
      "24/24 [==============================] - 0s 7ms/step - loss: 0.1989 - accuracy: 0.9103\n"
     ]
    },
    {
     "data": {
      "text/plain": [
       "[0.19889721274375916, 0.9103078842163086]"
      ]
     },
     "execution_count": 44,
     "metadata": {},
     "output_type": "execute_result"
    }
   ],
   "source": [
    "model.evaluate(train_X,train_Y)"
   ]
  },
  {
   "cell_type": "code",
   "execution_count": 60,
   "id": "a491a369",
   "metadata": {},
   "outputs": [
    {
     "name": "stdout",
     "output_type": "stream",
     "text": [
      "4/4 [==============================] - 0s 8ms/step - loss: 0.6421 - accuracy: 0.8220\n"
     ]
    },
    {
     "data": {
      "text/plain": [
       "[0.6421167850494385, 0.8220338821411133]"
      ]
     },
     "execution_count": 60,
     "metadata": {},
     "output_type": "execute_result"
    }
   ],
   "source": [
    "model.evaluate(val_X,val_Y)"
   ]
  },
  {
   "cell_type": "code",
   "execution_count": 59,
   "id": "e391197a",
   "metadata": {},
   "outputs": [
    {
     "name": "stdout",
     "output_type": "stream",
     "text": [
      "4/4 [==============================] - 0s 8ms/step - loss: 0.3852 - accuracy: 0.8400\n"
     ]
    },
    {
     "data": {
      "text/plain": [
       "[0.3851664364337921, 0.8399999737739563]"
      ]
     },
     "execution_count": 59,
     "metadata": {},
     "output_type": "execute_result"
    }
   ],
   "source": [
    "model.evaluate(test_X,test_Y)"
   ]
  },
  {
   "cell_type": "markdown",
   "id": "7743e09c",
   "metadata": {},
   "source": [
    "# 5 - test in real time"
   ]
  },
  {
   "cell_type": "code",
   "execution_count": 29,
   "id": "5464f37a",
   "metadata": {},
   "outputs": [],
   "source": [
    "import numpy as np\n",
    "import cv2 \n",
    "import os\n",
    "import mediapipe as mp\n",
    "import tensorflow as tf \n",
    "from tensorflow import keras\n",
    "import matplotlib.pyplot as plt\n",
    "import time\n",
    "import pandas as pd"
   ]
  },
  {
   "cell_type": "code",
   "execution_count": 30,
   "id": "ad45443f",
   "metadata": {},
   "outputs": [],
   "source": [
    "\n",
    "def view_probability(res, actions, image):\n",
    "    #output_frame = input_frame.copy()\n",
    "    \n",
    "    output_frame = image\n",
    "    \n",
    "    if(type(res)==list or type(res)==np.ndarray):\n",
    "        max_prob_index = np.argmax(res)\n",
    "        max_prob = res[max_prob_index]\n",
    "        text = f'{actions[max_prob_index]} - {max_prob:.3f}'\n",
    "    else:\n",
    "        text = \"not signing\"\n",
    "    \n",
    "    \n",
    "    cv2.rectangle(output_frame, (0,0), (640, 40), (0,255,0), -1)\n",
    "    cv2.putText(output_frame, text, (0, 30), cv2.FONT_HERSHEY_SIMPLEX, 1, (255,255,255), 2, cv2.LINE_AA)\n",
    "        \n",
    "    return output_frame\n",
    "\n",
    "\n",
    "\n",
    "def view_sentence(sentence,image):\n",
    "    # output_frame = image.copy()\n",
    "    output_frame = image\n",
    "    \n",
    "    cv2.rectangle(output_frame, (0,430), (640, 480), (255, 0, 0), -1)\n",
    "    cv2.putText(output_frame, ' '.join(sentence), (3,460), \n",
    "                   cv2.FONT_HERSHEY_SIMPLEX, 1, (255, 255, 255), 2, cv2.LINE_AA)\n",
    "    return output_frame\n",
    "\n",
    "\n",
    "def compare_frames(prev_frame,current_frame,threshold):\n",
    "    return True\n",
    "    if(type(prev_frame) == np.ndarray ):\n",
    "        diff = cv2.absdiff(prev_frame, current_frame)\n",
    "        s = diff.sum()\n",
    "        if(s > threshold):\n",
    "            return True\n",
    "        \n",
    "    return False\n",
    "    \n",
    "def evaluate_list_comparisons(s):\n",
    "    return True\n",
    "    if(sum(s)>=2):\n",
    "        return True\n",
    "    return False"
   ]
  },
  {
   "cell_type": "code",
   "execution_count": null,
   "id": "a888db6b",
   "metadata": {
    "scrolled": false
   },
   "outputs": [],
   "source": [
    "# 1. New detection variables\n",
    "sequence = []\n",
    "sentence = []\n",
    "predictions = []\n",
    "threshold = 0.5\n",
    "\n",
    "res = None\n",
    "\n",
    "cap = cv2.VideoCapture(0)\n",
    "# Set mediapipe model \n",
    "\n",
    "last_comparisons = []\n",
    "holistic = mp_holistic.Holistic(min_detection_confidence=0.5, min_tracking_confidence=0.5)\n",
    "prev_frame = None\n",
    "while cap.isOpened():\n",
    "\n",
    "    ret, frame = cap.read()\n",
    "    if(not ret):break\n",
    "        \n",
    "        \n",
    "        \n",
    "    comparison_result = compare_frames(prev_frame,frame,4000000)\n",
    "    prev_frame = frame\n",
    "    \n",
    "    last_comparisons.append(int(comparison_result))\n",
    "    last_comparisons = last_comparisons[-2:]\n",
    "    \n",
    "    \n",
    "    \n",
    "\n",
    "    image, results = mediapipe_detection(frame, holistic)\n",
    "    draw_styled_landmarks(image, results)\n",
    "\n",
    "    # 2. Prediction logic\n",
    "    \n",
    "    \n",
    "    if(evaluate_list_comparisons(last_comparisons)):\n",
    "        keypoints = extract_keypoints(results)\n",
    "        sequence.append(keypoints)\n",
    "        sequence = sequence[-20:]\n",
    "\n",
    "        if len(sequence) == 20:\n",
    "            res = model.predict(np.expand_dims(sequence, axis=0))[0]\n",
    "            predictions.append(np.argmax(res))\n",
    "\n",
    "\n",
    "        #3. Viz logic\n",
    "            if np.unique(predictions[-2:])[0]==np.argmax(res): \n",
    "                if res[np.argmax(res)] > threshold: \n",
    "\n",
    "                    if len(sentence) > 0: \n",
    "                        if actions[np.argmax(res)] != sentence[-1]:\n",
    "                            sentence.append(actions[np.argmax(res)])\n",
    "                    else:\n",
    "                        sentence.append(actions[np.argmax(res)])\n",
    "\n",
    "            if len(sentence) > 5: \n",
    "                sentence = sentence[-5:]\n",
    "    else:\n",
    "        res = None\n",
    "\n",
    "\n",
    "    image = view_probability(res, actions, image)\n",
    "    image = view_sentence(sentence,image)\n",
    "    \n",
    "\n",
    "\n",
    "    cv2.imshow('OpenCV Feed', image)\n",
    "\n",
    "    # Break\n",
    "    if cv2.waitKey(25) & 0xFF == ord('q'):\n",
    "        break\n",
    "cap.release()\n",
    "cv2.destroyAllWindows()"
   ]
  },
  {
   "cell_type": "code",
   "execution_count": 51,
   "id": "7429ceef",
   "metadata": {},
   "outputs": [],
   "source": [
    "cap.release()"
   ]
  },
  {
   "cell_type": "code",
   "execution_count": 52,
   "id": "d4683df0",
   "metadata": {},
   "outputs": [],
   "source": [
    "cv2.destroyAllWindows()"
   ]
  },
  {
   "cell_type": "markdown",
   "id": "b1d84de1",
   "metadata": {},
   "source": [
    "# 6-read video and predict it (for slower models)"
   ]
  },
  {
   "cell_type": "code",
   "execution_count": 33,
   "id": "f6595cd2",
   "metadata": {},
   "outputs": [],
   "source": [
    "def read_video_camera(n_frames,duration=3):\n",
    "    import time\n",
    "    \n",
    "    frames = []\n",
    "    \n",
    "    cap = cv2.VideoCapture(0)\n",
    "    start_time = time.time()\n",
    "    while cap.isOpened():\n",
    "        ret, frame = cap.read()\n",
    "        if(not ret):break\n",
    "        \n",
    "        cv2.imshow(\"frame\",frame)\n",
    "        \n",
    "        cv2.waitKey(20)\n",
    "            \n",
    "        frames.append(frame)\n",
    "        if(time.time()-start_time > duration):\n",
    "            break\n",
    "    cap.release()\n",
    "    cv2.destroyAllWindows()\n",
    "    print(len(frames),n_frames)\n",
    "    steps = len(frames)/n_frames\n",
    "    count=0\n",
    "    new_frames=[]\n",
    "    while count < len(frames):\n",
    "        frame = frames[int(count)]\n",
    "        new_frames.append(frame)\n",
    "        count+=steps\n",
    "        \n",
    "    \n",
    "    return np.array(new_frames[:n_frames])\n",
    "    \n",
    "    \n",
    "def view_video(video):\n",
    "    for frame in video:\n",
    "        cv2.imshow(\"frame\",frame)\n",
    "        cv2.waitKey(100)\n",
    "    cv2.destroyAllWindows()\n",
    "    \n",
    "    \n",
    "    \n",
    "\n",
    "        \n"
   ]
  },
  {
   "cell_type": "markdown",
   "id": "c7ccf23d",
   "metadata": {},
   "source": [
    "### read the video from Webcam"
   ]
  },
  {
   "cell_type": "code",
   "execution_count": 47,
   "id": "76ae2750",
   "metadata": {},
   "outputs": [
    {
     "name": "stdout",
     "output_type": "stream",
     "text": [
      "74 20\n"
     ]
    }
   ],
   "source": [
    "video = read_video_camera(n_frames=20,duration=3) # duration is for the human to take his time making the move"
   ]
  },
  {
   "cell_type": "markdown",
   "id": "a24636a9",
   "metadata": {},
   "source": [
    "### view the video"
   ]
  },
  {
   "cell_type": "code",
   "execution_count": 48,
   "id": "7b7ba4cf",
   "metadata": {},
   "outputs": [],
   "source": [
    "view_video(video)"
   ]
  },
  {
   "cell_type": "markdown",
   "id": "5ada188b",
   "metadata": {},
   "source": [
    "### make prediction"
   ]
  },
  {
   "cell_type": "code",
   "execution_count": 49,
   "id": "17729098",
   "metadata": {},
   "outputs": [],
   "source": [
    "key_points = extract_keypoints_video(video)"
   ]
  },
  {
   "cell_type": "code",
   "execution_count": 50,
   "id": "04f084c6",
   "metadata": {},
   "outputs": [
    {
     "name": "stdout",
     "output_type": "stream",
     "text": [
      "tree 1.0\n"
     ]
    }
   ],
   "source": [
    "predection_array = model.predict(np.expand_dims(key_points, axis=0))[0]\n",
    "predection_id = np.argmax(predection_array)\n",
    "predection_label = actions[predection_id]\n",
    "predection_prob = predection_array[predection_id]\n",
    "print(predection_label,predection_prob)\n"
   ]
  },
  {
   "cell_type": "code",
   "execution_count": 131,
   "id": "206cae01",
   "metadata": {},
   "outputs": [
    {
     "data": {
      "text/plain": [
       "array([0.00219467, 0.09042753, 0.15158355, 0.75396156, 0.00183264],\n",
       "      dtype=float32)"
      ]
     },
     "execution_count": 131,
     "metadata": {},
     "output_type": "execute_result"
    }
   ],
   "source": [
    "predection_array"
   ]
  },
  {
   "cell_type": "code",
   "execution_count": 104,
   "id": "f6eb68b9",
   "metadata": {},
   "outputs": [
    {
     "data": {
      "text/plain": [
       "['sister', 'hurry', 'hungry', 'meal', 'tree']"
      ]
     },
     "execution_count": 104,
     "metadata": {},
     "output_type": "execute_result"
    }
   ],
   "source": [
    "actions"
   ]
  },
  {
   "cell_type": "code",
   "execution_count": null,
   "id": "ec856065",
   "metadata": {},
   "outputs": [],
   "source": []
  }
 ],
 "metadata": {
  "kernelspec": {
   "display_name": "Python 3 (ipykernel)",
   "language": "python",
   "name": "python3"
  },
  "language_info": {
   "codemirror_mode": {
    "name": "ipython",
    "version": 3
   },
   "file_extension": ".py",
   "mimetype": "text/x-python",
   "name": "python",
   "nbconvert_exporter": "python",
   "pygments_lexer": "ipython3",
   "version": "3.8.10"
  }
 },
 "nbformat": 4,
 "nbformat_minor": 5
}
