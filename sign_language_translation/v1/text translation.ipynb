{
 "cells": [
  {
   "cell_type": "markdown",
   "id": "d7d82d56",
   "metadata": {},
   "source": [
    "# 1 - text processing"
   ]
  },
  {
   "cell_type": "code",
   "execution_count": 106,
   "id": "24e2272b",
   "metadata": {},
   "outputs": [],
   "source": [
    "import re\n",
    "\n",
    "\n",
    "# Clean/Normalize Arabic Text\n",
    "def clean_str(text):\n",
    "    search = [\"أ\",\"إ\",\"آ\",\"_\",\"-\",\"/\",\".\",\"،\",\" و \",'\"',\"ـ\",\"'\",\"ى\",\"\\\\\",'\\n', '\\t','&quot;','?','؟','!','  ']\n",
    "    replace = [\"ا\",\"ا\",\"ا\",\" \",\" \",\"\",\"\",\"\",\" و\",\"\",\"\",\"\",\"ي\",\"\",' ', ' ',' ',' ? ',' ؟ ',' ! ',' ']\n",
    "    \n",
    "    #remove tashkeel\n",
    "    p_tashkeel = re.compile(r'[\\u0617-\\u061A\\u064B-\\u0652]')\n",
    "    text = re.sub(p_tashkeel,\"\", text)\n",
    "    \n",
    "    #remove longation\n",
    "    p_longation = re.compile(r'(.)\\1+')\n",
    "    subst = r\"\\1\\1\"\n",
    "    text = re.sub(p_longation, subst, text)\n",
    "    \n",
    "    text = text.replace('وو', 'و')\n",
    "    text = text.replace('يي', 'ي')\n",
    "    text = text.replace('اا', 'ا')\n",
    "    \n",
    "    for a,b in zip(search,replace):\n",
    "        text = text.replace(a,b)\n",
    "    \n",
    "    #trim    \n",
    "    text = text.strip()\n",
    "    return [word.strip() for word in text.split(\" \")]\n",
    "\n",
    "    return text"
   ]
  },
  {
   "cell_type": "code",
   "execution_count": 107,
   "id": "92a8be8c",
   "metadata": {},
   "outputs": [
    {
     "name": "stdout",
     "output_type": "stream",
     "text": [
      "('أ', 'ا')\n",
      "('إ', 'ا')\n",
      "('آ', 'ا')\n",
      "('ة', 'ه')\n",
      "('_', ' ')\n",
      "('-', ' ')\n",
      "('/', '')\n",
      "('.', '')\n",
      "('،', '')\n",
      "(' و ', ' و')\n",
      "('\"', '')\n",
      "('ـ', '')\n",
      "(\"'\", '')\n",
      "('ى', 'ي')\n",
      "('\\\\', '')\n",
      "('\\n', ' ')\n",
      "('\\t', ' ')\n",
      "('&quot;', ' ')\n",
      "('?', ' ? ')\n",
      "('؟', ' ؟ ')\n",
      "('!', ' ! ')\n",
      "('  ', ' ')\n"
     ]
    }
   ],
   "source": [
    "search = [\"أ\",\"إ\",\"آ\",\"ة\",\"_\",\"-\",\"/\",\".\",\"،\",\" و \",'\"',\"ـ\",\"'\",\"ى\",\"\\\\\",'\\n', '\\t','&quot;','?','؟','!','  ']\n",
    "replace = [\"ا\",\"ا\",\"ا\",\"ه\",\" \",\" \",\"\",\"\",\"\",\" و\",\"\",\"\",\"\",\"ي\",\"\",' ', ' ',' ',' ? ',' ؟ ',' ! ',' ']\n",
    "\n",
    "for pair in zip(search,replace):\n",
    "    print(pair)\n",
    "    "
   ]
  },
  {
   "cell_type": "code",
   "execution_count": 108,
   "id": "0fd64acd",
   "metadata": {},
   "outputs": [
    {
     "data": {
      "text/plain": [
       "['صباح', 'الخير', 'دة', 'مجرد', 'اختبار']"
      ]
     },
     "execution_count": 108,
     "metadata": {},
     "output_type": "execute_result"
    }
   ],
   "source": [
    "words = clean_str(\"صبااااح الخير دة مجرد أختبار عشان بس اشوف شغال ولا لا \")\n",
    "words[0:5]"
   ]
  },
  {
   "cell_type": "markdown",
   "id": "885550ff",
   "metadata": {},
   "source": [
    "# lemmatization"
   ]
  },
  {
   "cell_type": "code",
   "execution_count": 109,
   "id": "3c505e2a",
   "metadata": {},
   "outputs": [],
   "source": [
    "#https://farasa.qcri.org/lemmatization/\n",
    "\n",
    "import json\n",
    "import requests\n",
    "\n",
    "URL = 'https://farasa.qcri.org/webapi/lemmatization/'\n",
    "API_KEY = \"mgmfGsWLmIFJznbMaC\"\n",
    "LEMMATIZATION_FILE = \"lemmatization.json\"\n",
    "\n",
    "with open(LEMMATIZATION_FILE, 'r') as json_file:\n",
    "    lemmatization_table = json.load(json_file)\n",
    "\n",
    "\n",
    "def fetch(arr):    \n",
    "    text = \" \".join(arr)\n",
    "    payload = {'text': text, 'api_key': API_KEY}\n",
    "    data = requests.post(URL, data=payload)\n",
    "    result = json.loads(data.text)\n",
    "    return result['text']\n",
    "\n",
    "def lemmatization(arr):\n",
    "    words = []\n",
    "    for word in arr:\n",
    "        if(word not in lemmatization_table):\n",
    "            words.append(word)\n",
    "    if(len(words)>0):\n",
    "        lemmatizated_words = fetch(words)\n",
    "        for original,lemmaitaized in zip(words,lemmatizated_words):\n",
    "            lemmatization_table[original] = lemmaitaized\n",
    "    \n",
    "    \n",
    "        with open(LEMMATIZATION_FILE, 'w') as write:\n",
    "            json.dump(lemmatization_table,write)\n",
    "    \n",
    "    final_results = []\n",
    "    for word in arr:\n",
    "        final_results.append(lemmatization_table[word])\n",
    "    \n",
    "    return final_results"
   ]
  },
  {
   "cell_type": "code",
   "execution_count": 150,
   "id": "9c0217e0",
   "metadata": {},
   "outputs": [],
   "source": [
    "text = clean_str(\"السيارة تسير على الطريق بسرعة كبيرة\")\n",
    "results = lemmatization(text)"
   ]
  },
  {
   "cell_type": "code",
   "execution_count": 151,
   "id": "71d7d6ff",
   "metadata": {},
   "outputs": [
    {
     "data": {
      "text/plain": [
       "['السيارة', 'تسير', 'علي', 'الطريق', 'بسرعة', 'كبيرة']"
      ]
     },
     "execution_count": 151,
     "metadata": {},
     "output_type": "execute_result"
    }
   ],
   "source": [
    "text"
   ]
  },
  {
   "cell_type": "code",
   "execution_count": 152,
   "id": "f36de2b4",
   "metadata": {},
   "outputs": [
    {
     "data": {
      "text/plain": [
       "['سيارة', 'سار', 'علي', 'طريق', 'سرعة', 'كبير']"
      ]
     },
     "execution_count": 152,
     "metadata": {},
     "output_type": "execute_result"
    }
   ],
   "source": [
    "results"
   ]
  },
  {
   "cell_type": "markdown",
   "id": "9bcb3f42",
   "metadata": {},
   "source": [
    "# other cleaning"
   ]
  },
  {
   "cell_type": "code",
   "execution_count": 169,
   "id": "fd9ed35b",
   "metadata": {},
   "outputs": [],
   "source": [
    "def valid_word(word):\n",
    "    return word not in ['فى',\"الى\",\"عن\",\"علي\"]\n",
    "\n",
    "\n",
    "def clean_2(arr):\n",
    "    final = []\n",
    "    for word in arr:\n",
    "        if valid_word(word):\n",
    "            final.append(word)\n",
    "    return final"
   ]
  },
  {
   "cell_type": "code",
   "execution_count": 170,
   "id": "2417c908",
   "metadata": {},
   "outputs": [
    {
     "data": {
      "text/plain": [
       "['سيارة', 'سار', 'طريق', 'سرعة', 'كبير']"
      ]
     },
     "execution_count": 170,
     "metadata": {},
     "output_type": "execute_result"
    }
   ],
   "source": [
    "results = clean_2(results)\n",
    "results"
   ]
  },
  {
   "cell_type": "markdown",
   "id": "f14b38a0",
   "metadata": {},
   "source": [
    "# synonyms"
   ]
  },
  {
   "cell_type": "code",
   "execution_count": 176,
   "id": "fb09d533",
   "metadata": {},
   "outputs": [
    {
     "name": "stdout",
     "output_type": "stream",
     "text": [
      "('اخت', 'اخت')\n",
      "('اخ', 'اخ')\n",
      "('يذهب', 'يذهب')\n",
      "('يشجع', 'يشجع')\n",
      "('سيارة', 'سيارة')\n",
      "('سرعة', 'سرعة')\n",
      "('كبير', 'كبير')\n"
     ]
    }
   ],
   "source": [
    "SYNONYMS_FILE = \"synonyms.json\"\n",
    "WORD_FILE = \"word.txt\"\n",
    "\n",
    "word_list = []\n",
    "\n",
    "with open(SYNONYMS_FILE, 'r') as json_file:\n",
    "    synonyms_table = json.load(json_file)\n",
    "\n",
    "with open(WORD_FILE, 'r') as json_file:\n",
    "    word_list = json_file.read().split(\"\\n\")\n",
    "    \n",
    "\n",
    "def save_synonyms():\n",
    "    with open(SYNONYMS_FILE, 'w') as write:\n",
    "        json.dump(synonyms_table,write)\n",
    "    \n",
    "def add_new(keys=[],values=[],key=None,value=None):\n",
    "    if(key==None):\n",
    "        for k,v in zip(keys,values):\n",
    "            synonyms_table[k] = v\n",
    "    else:\n",
    "        synonyms_table[key] = value\n",
    "    \n",
    "    save_synonyms();\n",
    "    \n",
    "def get_words():\n",
    "    for word in word_list:\n",
    "        synonyms_table[word] = word\n",
    "    save_synonyms()\n",
    "    \n",
    "    \n",
    "get_words()\n",
    "for pair in synonyms_table.items():\n",
    "    print(pair)"
   ]
  },
  {
   "cell_type": "code",
   "execution_count": 177,
   "id": "a35f457a",
   "metadata": {},
   "outputs": [],
   "source": [
    "add_new(key=\"تحرك\",value=\"ذهب\")\n",
    "add_new(key=\"تحرك\",value=\"ذهب\")\n",
    "add_new(key=\"مشى\",value=\"ذهب\")\n",
    "add_new(key=\"سار\",value=\"ذهب\") \n"
   ]
  },
  {
   "cell_type": "code",
   "execution_count": 178,
   "id": "8a156f09",
   "metadata": {},
   "outputs": [
    {
     "name": "stdout",
     "output_type": "stream",
     "text": [
      "('اخت', 'اخت')\n",
      "('اخ', 'اخ')\n",
      "('يذهب', 'يذهب')\n",
      "('يشجع', 'يشجع')\n",
      "('سيارة', 'سيارة')\n",
      "('سرعة', 'سرعة')\n",
      "('كبير', 'كبير')\n",
      "('تحرك', 'ذهب')\n",
      "('مشى', 'ذهب')\n",
      "('سار', 'ذهب')\n"
     ]
    }
   ],
   "source": [
    "for pair in synonyms_table.items():\n",
    "    print(pair)"
   ]
  },
  {
   "cell_type": "code",
   "execution_count": 179,
   "id": "7f5b3577",
   "metadata": {},
   "outputs": [],
   "source": [
    "def translate(arr):\n",
    "    final = []\n",
    "    for word in arr:\n",
    "        if word in synonyms_table:\n",
    "            final.append(synonyms_table[word])\n",
    "        else:\n",
    "            for letter in word:\n",
    "                final.append(letter)\n",
    "    return final"
   ]
  },
  {
   "cell_type": "code",
   "execution_count": 180,
   "id": "c7109e66",
   "metadata": {},
   "outputs": [
    {
     "data": {
      "text/plain": [
       "['سيارة', 'ذهب', 'ط', 'ر', 'ي', 'ق', 'سرعة', 'كبير']"
      ]
     },
     "execution_count": 180,
     "metadata": {},
     "output_type": "execute_result"
    }
   ],
   "source": [
    "# ex ; we don't have سار but we  have ذهب \n",
    "# we don't have طريق so it spelled it \n",
    "translate(results)"
   ]
  },
  {
   "cell_type": "markdown",
   "id": "a77168d9",
   "metadata": {},
   "source": [
    "# steaming (might be used in the future)"
   ]
  },
  {
   "cell_type": "code",
   "execution_count": 1,
   "id": "71b6c609",
   "metadata": {},
   "outputs": [],
   "source": [
    "import nltk"
   ]
  },
  {
   "cell_type": "code",
   "execution_count": 2,
   "id": "ac8bea58",
   "metadata": {},
   "outputs": [],
   "source": [
    "# https://www.nltk.org/api/nltk.stem.isri.html\n",
    "obj = nltk.stem.isri.ISRIStemmer()\n"
   ]
  },
  {
   "cell_type": "code",
   "execution_count": 15,
   "id": "be295aec",
   "metadata": {},
   "outputs": [
    {
     "name": "stdout",
     "output_type": "stream",
     "text": [
      "تحر\n",
      "حرك\n",
      "حرك\n",
      "تحر\n",
      "تحر\n"
     ]
    }
   ],
   "source": [
    "for i in [\"المتحرك\",\"الحركة\",\"حركة\",\"يتحرك\",\"متحرك\"]:\n",
    "    print(obj.stem(i))"
   ]
  },
  {
   "cell_type": "code",
   "execution_count": 17,
   "id": "274dfea8",
   "metadata": {},
   "outputs": [
    {
     "name": "stdout",
     "output_type": "stream",
     "text": [
      "نشق\n",
      "حبة\n",
      "رحم\n",
      "ذهب\n",
      "سما\n"
     ]
    }
   ],
   "source": [
    "for i in [\"الاستنشاق\",\"المحبة\",\"الرحمة\",\"يذهب\",\"السما\"]:\n",
    "    print(obj.stem(i))"
   ]
  }
 ],
 "metadata": {
  "kernelspec": {
   "display_name": "Python 3 (ipykernel)",
   "language": "python",
   "name": "python3"
  },
  "language_info": {
   "codemirror_mode": {
    "name": "ipython",
    "version": 3
   },
   "file_extension": ".py",
   "mimetype": "text/x-python",
   "name": "python",
   "nbconvert_exporter": "python",
   "pygments_lexer": "ipython3",
   "version": "3.8.10"
  }
 },
 "nbformat": 4,
 "nbformat_minor": 5
}
