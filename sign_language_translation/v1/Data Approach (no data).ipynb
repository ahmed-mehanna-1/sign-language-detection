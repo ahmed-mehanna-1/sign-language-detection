{
 "cells": [
  {
   "cell_type": "markdown",
   "id": "3769c1bb",
   "metadata": {},
   "source": [
    "# TODO\n",
    "- download gloss data in english\n",
    "- translate 20 examples of them\n",
    "- get list of some arabic words (to be checked later for synonyms)\n",
    "\n",
    "# problems\n",
    "- if one word had multiple meaning then we will fail to detect the right meaning\n",
    "\n"
   ]
  },
  {
   "cell_type": "markdown",
   "id": "c9175200",
   "metadata": {},
   "source": [
    "# 1 - English Data"
   ]
  },
  {
   "cell_type": "code",
   "execution_count": 12,
   "id": "68fd51df",
   "metadata": {},
   "outputs": [],
   "source": [
    "import os"
   ]
  },
  {
   "cell_type": "code",
   "execution_count": 13,
   "id": "6f38ea8f",
   "metadata": {},
   "outputs": [],
   "source": [
    "data_file = os.path.join(\"..\",\"..\",\"data\",\"gloss\",\"corpus_0001.clean_1\")\n",
    "english = os.path.join(data_file,\"corpus_0001.clean.en.txt\")\n",
    "gloss = os.path.join(data_file,\"corpus_0001.clean.as1.txt\")"
   ]
  },
  {
   "cell_type": "code",
   "execution_count": 14,
   "id": "303a1387",
   "metadata": {},
   "outputs": [
    {
     "name": "stdout",
     "output_type": "stream",
     "text": [
      "A LITTLE FURTHER   TO MAKE THEE A ROOME : THOU ART A MONIMENT   WITHOUT A TOMBE   AND ART ALIVE STILL   WHILE THY BOOKE DOTH LIVE   AND WE HAVE WITS TO READ   AND PRAISE TO GIVE \n",
      "\n"
     ]
    }
   ],
   "source": [
    "with open(english,\"r\") as f:\n",
    "    print(f.readline())\n",
    "    "
   ]
  },
  {
   "cell_type": "code",
   "execution_count": null,
   "id": "d8997630",
   "metadata": {},
   "outputs": [],
   "source": []
  },
  {
   "cell_type": "markdown",
   "id": "10c93996",
   "metadata": {},
   "source": [
    "there was service called google tshkeel but it was stopped because it failed after a while"
   ]
  },
  {
   "cell_type": "code",
   "execution_count": null,
   "id": "4a63b888",
   "metadata": {},
   "outputs": [],
   "source": []
  }
 ],
 "metadata": {
  "kernelspec": {
   "display_name": "Python 3 (ipykernel)",
   "language": "python",
   "name": "python3"
  },
  "language_info": {
   "codemirror_mode": {
    "name": "ipython",
    "version": 3
   },
   "file_extension": ".py",
   "mimetype": "text/x-python",
   "name": "python",
   "nbconvert_exporter": "python",
   "pygments_lexer": "ipython3",
   "version": "3.8.10"
  }
 },
 "nbformat": 4,
 "nbformat_minor": 5
}
