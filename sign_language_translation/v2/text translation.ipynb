{
 "cells": [
  {
   "cell_type": "markdown",
   "id": "d91db147",
   "metadata": {},
   "source": [
    "# Morphological analysis\n",
    "\n",
    "- create list of 50 signs and their synonyms from the course\n",
    "- find a way to group two words into one sign\n",
    "- read about Morphological analysis to make the pairs to solve the problem of verbs & nouns\n",
    "- find way to apply rules like removing  على\n",
    "- find difference between كتب which is book and wrote \n",
    "\n",
    "\n"
   ]
  },
  {
   "cell_type": "markdown",
   "id": "4ab525c4",
   "metadata": {},
   "source": [
    "# very important\n",
    "\n",
    "- كلمة بيتك وبيتى او اى كلمة فيها ملكية ف وقتها حولها للكلمة الاصلية  اللى هيا هنا هتكون بيت وبعدين اعمل اشارة ملكية او اشارة للمخاطب اللى هيا بتكون انك بتشاور على نفسك او بتشاور امامك وايدك مقفولة\n",
    "- المذكر والمؤنث فى كلمات عديدة يتم باستعمال اشارة الكلمة نفسها تليها اشارة لتحديد المذكر او المؤنث\n",
    "- some words don't follow the previous rule so i have to seperate between the words that follow these rules and the words that don't\n",
    "- اشارة اخت عبارة عن اشارة اخ + اشارة امرأة ونفس الامر لكمات عديدة\n",
    "- فكرة الملكية بنتطبق برضو على الجمع انة اشارة الكلمة وبعدين جمع او لا \n",
    "- مش بحب بتتحول ل بحب لا  ودة بينطبق على كلمات كثير ف حاول تشوف حل لانك تعكس الترتيب دة \n",
    "- بعض الاوقات كلمة الجمع مش بتتحط عشان مش مهمة اوى ف حتى لو الكلمة جمع انت بتعمل اشارة المفرد من غير ما تحط حاجة تبين ان قصدك الجمع ودة بيتفهم من السياق\n",
    "- بعض الاوقات الازمنة مهمة واوقات تانى لا ف مثلا شرب و بشرب وهشرب ممكن يترجموا لنفس الاشارة فى الاخر او ممكن يترجموا ل شرب ماضى او شرب الان او شرب مستقبل واللى بيكون اشارة بتعبر عن الحاجة ووراها اشارة بتعبر عن الزمن\n",
    "- فى لغة الاشارة بتعرف الفاعل من الفعل ان الفاعل بيكون عبارة عن اشارة شخص + اشارة الفعل نفسة"
   ]
  },
  {
   "cell_type": "markdown",
   "id": "049bf27a",
   "metadata": {},
   "source": [
    "# confusing words so far\n",
    "-  غيرة it could me jealousy or some on else\n",
    "- قلب heart or middle ex : فى قلب الاحداث او قلب انسان\n",
    "- علم flag or science\n",
    "- كتب wrote or books\n",
    "- مركز focus or position"
   ]
  },
  {
   "cell_type": "markdown",
   "id": "4434a208",
   "metadata": {},
   "source": [
    "# try to translate these examples\n",
    "- السلام عليكم ورحمة الله وبركاتة\n",
    "- انت اسمك اية \n",
    "- ما هو اسمك\n",
    "- كيف حالك\n",
    "- انت عامل اية \n",
    "- ازيك\n",
    "- ما شاء الله\n",
    "- الحمد لله\n",
    "- انت اصم \n",
    "- انا شوفتك \n",
    "- انت بتعلمنى كثير ربنا يحفظك\n",
    "- ما هى وظيفتك\n",
    "- انت بتشتغل اية \n",
    "- عندك كام سنة \n",
    "- انت متزوج ؟ \n",
    "- انا بعمل كل حاجة لنفسى\n",
    "- مش بحب اساعد حد\n",
    "- انت شجاع لكن متكبر\n",
    "- انت ازاى ضعيف ومكتبر\n",
    "- قل الصدق دائما ولا تكذب\n",
    "- انا كنت مشوش بسبب الامتحان\n",
    "- انا بكرة المدرسة بس لازم اروح\n",
    "- انا بكرهك\n",
    "- انا بحبك\n",
    "- انا رحت المكتبة امبارح وقرات كتاب جميل -- الجملة دة ممكن تعمل مشكلة بسبب ان كلمة جميل ليها اشارة محتلفة سواء المقصود بيها جميل لشخص او لكتاب عشان لو لشخص هيبقى اشارة وش جميل ولو ل لجماد ف اشارة تانية ف منطقيا متنفعش\n",
    "- الساعة كام ؟\n",
    "- لماذا نحن هنا\n",
    "- الحكومة تساعد الشعب \n",
    "- حاول مسئول حكومى التخلى عن منصبة فى الاحلام\n",
    "- انا طالب فى المرحلة فى الابتدائة\n",
    "- انت طالب اعدادى\n",
    "- انا بكرة الطلاب\n",
    "- انا بكرة المعلمون\n",
    "- لماذا نحن هنا تانى\n",
    "- احمد اخد البراية بتاعتى من غير ما يقول عشان هو حيوان وخنزير\n",
    "- انا سقطت فى امتحان العربى بس نجحت فى امتحان العلوم \n",
    "- انا نجحت فى الثانوية وهدخل الجامعة\n",
    "- انا بكرة كلية هندسة\n",
    "- انا بكرة الجامعة\n",
    "- تبا لهندسة\n",
    "- احنا لية هنا ؟\n",
    "- انا بحب اتعلم بس مش بحب المدرسة\n",
    "- الخيل والليل والبيداء تعرفنى والسيف والرمح والقرطاس والقلم --- لا انا بهزر وهمسح دة قريب اصلا \n",
    "- انا زعلان وانت سعيد تبا لك انا غيران \n",
    "- انا فرحان عشان الجامعة اتفجرت\n",
    "- ما هى طريقة عمل البيتزا\n",
    "- ازاى تعمل بيتزا \n",
    "- ازااااااى\n",
    "- انت لية مش بترد\n",
    "- انت جبان ؟ \n",
    "- انا بحب الرياضيات \n",
    "- انا نجحت لما جبت 70% الحمد لله\n",
    "- يا فاشل ال 50% دة مش هتدخلك حتى البيت\n",
    "- قال الخنزير : الامتحان سهل جدا \n",
    "- "
   ]
  },
  {
   "cell_type": "markdown",
   "id": "73a82d1f",
   "metadata": {},
   "source": [
    "# convert symbols to actual arabic"
   ]
  },
  {
   "cell_type": "code",
   "execution_count": 24,
   "id": "5a646bf2",
   "metadata": {},
   "outputs": [],
   "source": [
    "import re\n",
    "import os\n",
    "import json\n",
    "from collections import defaultdict"
   ]
  },
  {
   "cell_type": "code",
   "execution_count": 59,
   "id": "3031c0f1",
   "metadata": {},
   "outputs": [
    {
     "name": "stdout",
     "output_type": "stream",
     "text": [
      " \"sign_010_1\":{'word': ['محافظة'], 'description': '', 'video_num': 16, 'sign_time': '12:15'},\n",
      " \"sign_010_2\":{'word': ['مكان'], 'description': '', 'video_num': 16, 'sign_time': '7:22'},\n",
      " \"sign_010_3\":{'word': ['عين شمس'], 'description': '', 'video_num': 16, 'sign_time': '1:27'},\n",
      " \"sign_010_4\":{'word': ['المرج'], 'description': '', 'video_num': 16, 'sign_time': '1:54'},\n",
      " \"sign_010_5\":{'word': ['المرج الجديدة'], 'description': '', 'video_num': 16, 'sign_time': '2:08'},\n",
      " \"sign_010_6\":{'word': ['القاهرة'], 'description': '', 'video_num': 16, 'sign_time': '2:18'},\n",
      " \"sign_010_7\":{'word': ['حلمية الزيتون'], 'description': '', 'video_num': 16, 'sign_time': '2:23'},\n",
      " \"sign_010_8\":{'word': ['المطرية'], 'description': '', 'video_num': 16, 'sign_time': '2:35'},\n",
      " \"sign_010_9\":{'word': ['المعادي'], 'description': '', 'video_num': 16, 'sign_time': '2:53'},\n",
      " \"sign_010_10\":{'word': ['المهندسين'], 'description': '', 'video_num': 16, 'sign_time': '3:14'},\n",
      " \"sign_010_11\":{'word': ['الهرم'], 'description': '', 'video_num': 16, 'sign_time': '3:40'},\n",
      " \"sign_010_12\":{'word': ['فيصل'], 'description': '', 'video_num': 16, 'sign_time': '3:50'},\n",
      " \"sign_010_13\":{'word': ['الوراق'], 'description': '', 'video_num': 16, 'sign_time': '4:02'},\n",
      " \"sign_010_14\":{'word': ['إمبابة'], 'description': '', 'video_num': 16, 'sign_time': '4:23'},\n",
      " \"sign_010_15\":{'word': ['حلوان'], 'description': '', 'video_num': 16, 'sign_time': '4:37'},\n",
      " \"sign_010_16\":{'word': ['رمسيس'], 'description': '', 'video_num': 16, 'sign_time': '5:01'},\n",
      " \"sign_010_17\":{'word': ['شبرا'], 'description': '', 'video_num': 16, 'sign_time': '5:31'},\n",
      " \"sign_010_18\":{'word': ['مدينة نصر'], 'description': '', 'video_num': 16, 'sign_time': '5:42'},\n",
      " \"sign_010_19\":{'word': ['مصر الجديدة'], 'description': '', 'video_num': 16, 'sign_time': '6:05'},\n",
      " \"sign_010_20\":{'word': ['العتبة'], 'description': '', 'video_num': 16, 'sign_time': '6:42'},\n",
      " \"sign_010_21\":{'word': ['الزمالك'], 'description': '', 'video_num': 16, 'sign_time': '7:03'},\n",
      " \"sign_010_22\":{'word': ['السيدة زينب'], 'description': '', 'video_num': 16, 'sign_time': '8:03'},\n",
      " \"sign_010_23\":{'word': ['العاشر من رمضان'], 'description': '', 'video_num': 16, 'sign_time': '8:38'},\n",
      " \"sign_010_24\":{'word': ['العباسية'], 'description': '', 'video_num': 16, 'sign_time': '8:48'},\n",
      " \"sign_010_25\":{'word': ['القلعة'], 'description': '', 'video_num': 16, 'sign_time': '9:22'},\n",
      " \"sign_010_26\":{'word': ['الحسين'], 'description': '', 'video_num': 16, 'sign_time': '9:45'},\n",
      " \"sign_010_27\":{'word': ['الدقي'], 'description': '', 'video_num': 16, 'sign_time': '10:31'},\n",
      " \"sign_010_28\":{'word': ['الجيزة'], 'description': '', 'video_num': 16, 'sign_time': '10:51'},\n",
      " \"sign_010_29\":{'word': ['الشرقية', 'الزقازيق'], 'description': '', 'video_num': 16, 'sign_time': '11:25'},\n",
      " \"sign_010_30\":{'word': ['مرسي مطروح'], 'description': '', 'video_num': 16, 'sign_time': '11:46'},\n",
      " \"sign_010_31\":{'word': ['كفر الشيخ'], 'description': '', 'video_num': 16, 'sign_time': '11:57'},\n",
      " \"sign_010_32\":{'word': ['المحلة'], 'description': '', 'video_num': 16, 'sign_time': '12:35'},\n",
      " \"sign_010_33\":{'word': ['السويس'], 'description': '', 'video_num': 16, 'sign_time': '12:57'},\n",
      " \"sign_010_34\":{'word': ['بور سعيد'], 'description': '', 'video_num': 16, 'sign_time': '13:12'},\n",
      " \"sign_010_35\":{'word': ['الفيوم'], 'description': '', 'video_num': 16, 'sign_time': '13:31'},\n",
      " \"sign_010_36\":{'word': ['دمياط'], 'description': '', 'video_num': 16, 'sign_time': '13:47'},\n",
      " \"sign_010_37\":{'word': ['الإسكندرية'], 'description': '', 'video_num': 16, 'sign_time': '14:22'},\n",
      " \"sign_010_38\":{'word': ['الإسماعيلية'], 'description': '', 'video_num': 16, 'sign_time': '16:41'},\n",
      " \"sign_010_39\":{'word': ['طنطا'], 'description': '', 'video_num': 16, 'sign_time': '17:19'},\n",
      " \"sign_010_40\":{'word': ['دمنهور'], 'description': '', 'video_num': 16, 'sign_time': '18:29'},\n",
      " \"sign_010_41\":{'word': ['بني سويف'], 'description': '', 'video_num': 16, 'sign_time': '17:43'},\n",
      " \"sign_010_42\":{'word': ['المنيا'], 'description': '', 'video_num': 16, 'sign_time': '17:53'},\n",
      " \"sign_010_43\":{'word': ['أسيوط'], 'description': '', 'video_num': 16, 'sign_time': '18:30'},\n",
      " \"sign_010_44\":{'word': ['سوهاج'], 'description': '', 'video_num': 16, 'sign_time': '19:59'},\n",
      " \"sign_010_45\":{'word': ['قنا'], 'description': '', 'video_num': 16, 'sign_time': '19:26'},\n",
      " \"sign_010_46\":{'word': ['الأقصر'], 'description': '', 'video_num': 16, 'sign_time': '19:48'},\n",
      " \"sign_010_47\":{'word': ['أسوان'], 'description': '', 'video_num': 16, 'sign_time': '20:00'},\n",
      " \"sign_010_48\":{'word': ['البحر الأحمر'], 'description': '', 'video_num': 16, 'sign_time': '20:20'},\n",
      " \"sign_010_49\":{'word': ['سيناء', 'سينا'], 'description': '', 'video_num': 16, 'sign_time': '20:29'},\n",
      " \"sign_010_50\":{'word': ['الغردقة'], 'description': '', 'video_num': 16, 'sign_time': '20:41'},\n",
      " \"sign_010_51\":{'word': ['شرم الشيخ'], 'description': '', 'video_num': 16, 'sign_time': '21:03'},\n",
      " \"sign_010_52\":{'word': ['العريش'], 'description': '', 'video_num': 16, 'sign_time': '21:17'},\n",
      " \"sign_010_53\":{'word': ['الوادي الجديد'], 'description': '', 'video_num': 16, 'sign_time': '21:39'},\n"
     ]
    }
   ],
   "source": [
    "# i only used this to reorganize the numbers (ids) of the json file\n",
    "num,name = \"010_محافظات\".split(\"_\")\n",
    "\n",
    "sign_language_data = os.path.join(\"signLanguageData\",f\"{num}_{name}.json\")\n",
    "\n",
    "counter=1\n",
    "with open(sign_language_data, 'r') as json_file:\n",
    "    json_data = json.load(json_file)\n",
    "    for key in json_data:\n",
    "        print(f' \"sign_{num}_{counter}\":{json_data[key]}',\",\",sep=\"\")\n",
    "        counter+=1\n",
    "    "
   ]
  },
  {
   "cell_type": "markdown",
   "id": "d7d82d56",
   "metadata": {},
   "source": [
    "# text processing"
   ]
  },
  {
   "cell_type": "code",
   "execution_count": 19,
   "id": "24e2272b",
   "metadata": {},
   "outputs": [],
   "source": [
    "import re\n",
    "import os\n",
    "from collections import defaultdict\n",
    "\n",
    "\n",
    "# Clean/Normalize Arabic Text\n",
    "def clean_str(text):\n",
    "    search = [\"أ\",\"إ\",\"آ\",\"_\",\"-\",\"/\",\".\",\"،\",\" و \",'\"',\"ـ\",\"'\",\"ى\",\"\\\\\",'\\n', '\\t','&quot;','?','؟','!','  ']\n",
    "    replace = [\"ا\",\"ا\",\"ا\",\" \",\" \",\"\",\"\",\"\",\" و\",\"\",\"\",\"\",\"ي\",\"\",' ', ' ',' ',' ? ',' ؟ ',' ! ',' ']\n",
    "    \n",
    "    #remove tashkeel\n",
    "    p_tashkeel = re.compile(r'[\\u0617-\\u061A\\u064B-\\u0652]')\n",
    "    text = re.sub(p_tashkeel,\"\", text)\n",
    "    \n",
    "    #remove longation\n",
    "    p_longation = re.compile(r'(.)\\1+')\n",
    "    subst = r\"\\1\\1\"\n",
    "    text = re.sub(p_longation, subst, text)\n",
    "    \n",
    "    text = text.replace('وو', 'و')\n",
    "    text = text.replace('يي', 'ي')\n",
    "    text = text.replace('اا', 'ا')\n",
    "    \n",
    "    for a,b in zip(search,replace):\n",
    "        text = text.replace(a,b)\n",
    "    \n",
    "    #trim    \n",
    "    text = text.strip()\n",
    "    return [word.strip() for word in text.split(\" \")]\n",
    "\n",
    "    return text"
   ]
  },
  {
   "cell_type": "markdown",
   "id": "885550ff",
   "metadata": {},
   "source": [
    "# lemmatization"
   ]
  },
  {
   "cell_type": "code",
   "execution_count": 2,
   "id": "3c505e2a",
   "metadata": {},
   "outputs": [],
   "source": [
    "#https://farasa.qcri.org/lemmatization/\n",
    "\n",
    "import json\n",
    "import requests\n",
    "\n",
    "URL = 'https://farasa.qcri.org/webapi/lemmatization/'\n",
    "API_KEY = \"mgmfGsWLmIFJznbMaC\"\n",
    "LEMMATIZATION_FILE = \"lemmatization.json\"\n",
    "\n",
    "with open(LEMMATIZATION_FILE, 'r') as json_file:\n",
    "    lemmatization_table = json.load(json_file)\n",
    "\n",
    "\n",
    "def fetch(arr):    \n",
    "    text = \" \".join(arr)\n",
    "    payload = {'text': text, 'api_key': API_KEY}\n",
    "    data = requests.post(URL, data=payload)\n",
    "    result = json.loads(data.text)\n",
    "    return result['text']\n",
    "\n",
    "def lemmatization(arr):\n",
    "    words = []\n",
    "    for word in arr:\n",
    "        if(word not in lemmatization_table):\n",
    "            words.append(word)\n",
    "    if(len(words)>0):\n",
    "        lemmatizated_words = fetch(words)\n",
    "        for original,lemmaitaized in zip(words,lemmatizated_words):\n",
    "            lemmatization_table[original] = lemmaitaized\n",
    "    \n",
    "    \n",
    "        with open(LEMMATIZATION_FILE, 'w') as write:\n",
    "            json.dump(lemmatization_table,write)\n",
    "    \n",
    "    final_results = []\n",
    "    for word in arr:\n",
    "        final_results.append(lemmatization_table[word])\n",
    "    \n",
    "    return final_results"
   ]
  },
  {
   "cell_type": "markdown",
   "id": "f14b38a0",
   "metadata": {},
   "source": [
    "# synonyms"
   ]
  },
  {
   "cell_type": "code",
   "execution_count": 37,
   "id": "fb09d533",
   "metadata": {},
   "outputs": [
    {
     "name": "stdout",
     "output_type": "stream",
     "text": [
      "sign_0 تعارف\n",
      "sign_1 السلام\n",
      "sign_2 عليكم\n",
      "sign_3 رحمه\n",
      "sign_4 الله\n",
      "sign_5 بركاته\n"
     ]
    }
   ],
   "source": [
    "import os\n",
    "import json\n",
    "\n",
    "sign_language_words = os.path.join(\"signLanguageWords\",\"تعارف.txt\")\n",
    "sign_language_data = os.path.join(\"signLanguageData\",\"تعارف.json\")\n",
    "\n",
    "json_data = {}\n",
    "existing_words = {}\n",
    "counter = 0;\n",
    "\n",
    "with open(sign_language_data, 'r') as json_file:\n",
    "    json_data = json.load(json_file)\n",
    "    counter = len(json_data)\n",
    "    for key,value in json_data.items():\n",
    "        existing_words[value['word']] = 1;\n",
    "\n",
    "\n",
    "    \n",
    "with open(sign_language_words,\"r\") as f:\n",
    "    lis = f.read().split(\"\\n\")\n",
    "    \n",
    "    for word in lis:\n",
    "        if(word not in existing_words):\n",
    "            json_data[f'sign_{counter}'] = {\"word\":word}\n",
    "            counter+=1\n",
    "    with open(sign_language_data, 'w') as json_file:\n",
    "        json.dump(json_data,json_file)\n",
    "\n",
    "\n",
    "\n",
    "\n",
    "for key,value in json_data.items():\n",
    "    print(key,value['word'])"
   ]
  },
  {
   "cell_type": "code",
   "execution_count": 16,
   "id": "7f5b3577",
   "metadata": {},
   "outputs": [],
   "source": [
    "def translate(arr):\n",
    "    final = []\n",
    "    for word in arr:\n",
    "        if word in synonyms_table:\n",
    "            final.append(synonyms_table[word])\n",
    "        else:\n",
    "            for letter in word:\n",
    "                final.append(letter)\n",
    "    return final"
   ]
  },
  {
   "cell_type": "code",
   "execution_count": 18,
   "id": "c7109e66",
   "metadata": {},
   "outputs": [
    {
     "data": {
      "text/plain": [
       "['س',\n",
       " 'ل',\n",
       " 'ا',\n",
       " 'م',\n",
       " 'ع',\n",
       " 'ل',\n",
       " 'ى',\n",
       " 'ر',\n",
       " 'ح',\n",
       " 'م',\n",
       " 'ا',\n",
       " 'ل',\n",
       " 'ل',\n",
       " 'ه',\n",
       " 'ب',\n",
       " 'ر',\n",
       " 'ك',\n",
       " 'ة']"
      ]
     },
     "execution_count": 18,
     "metadata": {},
     "output_type": "execute_result"
    }
   ],
   "source": [
    "# ex ; we don't have سار but we  have ذهب \n",
    "# we don't have طريق so it spelled it \n",
    "text = clean_str(\"السلام عليكم ورحمه الله وبركاته\")\n",
    "results = lemmatization(text)\n",
    "translate(results)"
   ]
  },
  {
   "cell_type": "markdown",
   "id": "a77168d9",
   "metadata": {},
   "source": [
    "# steaming (might be used in the future)"
   ]
  },
  {
   "cell_type": "code",
   "execution_count": 20,
   "id": "71b6c609",
   "metadata": {},
   "outputs": [],
   "source": [
    "import nltk"
   ]
  },
  {
   "cell_type": "code",
   "execution_count": 21,
   "id": "ac8bea58",
   "metadata": {},
   "outputs": [],
   "source": [
    "# https://www.nltk.org/api/nltk.stem.isri.html\n",
    "obj = nltk.stem.isri.ISRIStemmer()\n"
   ]
  },
  {
   "cell_type": "code",
   "execution_count": 29,
   "id": "be295aec",
   "metadata": {},
   "outputs": [
    {
     "name": "stdout",
     "output_type": "stream",
     "text": [
      "خير\n"
     ]
    }
   ],
   "source": [
    "for i in [\"الخير\"]:\n",
    "    print(obj.stem(i))"
   ]
  },
  {
   "cell_type": "code",
   "execution_count": 17,
   "id": "274dfea8",
   "metadata": {},
   "outputs": [
    {
     "name": "stdout",
     "output_type": "stream",
     "text": [
      "نشق\n",
      "حبة\n",
      "رحم\n",
      "ذهب\n",
      "سما\n"
     ]
    }
   ],
   "source": [
    "for i in [\"الاستنشاق\",\"المحبة\",\"الرحمة\",\"يذهب\",\"السما\"]:\n",
    "    print(obj.stem(i))"
   ]
  }
 ],
 "metadata": {
  "kernelspec": {
   "display_name": "Python 3 (ipykernel)",
   "language": "python",
   "name": "python3"
  },
  "language_info": {
   "codemirror_mode": {
    "name": "ipython",
    "version": 3
   },
   "file_extension": ".py",
   "mimetype": "text/x-python",
   "name": "python",
   "nbconvert_exporter": "python",
   "pygments_lexer": "ipython3",
   "version": "3.8.10"
  }
 },
 "nbformat": 4,
 "nbformat_minor": 5
}
