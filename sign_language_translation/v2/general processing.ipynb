{
 "cells": [
  {
   "cell_type": "code",
   "execution_count": null,
   "id": "b93f4018",
   "metadata": {},
   "outputs": [],
   "source": [
    "import re\n",
    "import os\n",
    "import json\n",
    "from collections import defaultdict"
   ]
  },
  {
   "cell_type": "code",
   "execution_count": null,
   "id": "1522f40f",
   "metadata": {},
   "outputs": [],
   "source": [
    "# i only used this to reorganize the numbers (ids) of the json file\n",
    "num,name = \"010_محافظات\".split(\"_\")\n",
    "\n",
    "sign_language_data = os.path.join(\"signLanguageData\",f\"{num}_{name}.json\")\n",
    "\n",
    "counter=1\n",
    "with open(sign_language_data, 'r') as json_file:\n",
    "    json_data = json.load(json_file)\n",
    "    for key in json_data:\n",
    "        print(f' \"sign_{num}_{counter}\":{json_data[key]}',\",\",sep=\"\")\n",
    "        counter+=1\n",
    "    "
   ]
  },
  {
   "cell_type": "markdown",
   "id": "33f566a4",
   "metadata": {},
   "source": []
  },
  {
   "cell_type": "code",
   "execution_count": null,
   "id": "979dd97e",
   "metadata": {},
   "outputs": [],
   "source": [
    "# lemmitization if needed\n",
    "\n",
    "import json\n",
    "import requests\n",
    "\n",
    "URL = 'https://farasa.qcri.org/webapi/lemmatization/'\n",
    "API_KEY = \"mgmfGsWLmIFJznbMaC\"\n",
    "LEMMATIZATION_FILE = \"lemmatization.json\"\n",
    "\n",
    "with open(LEMMATIZATION_FILE, 'r') as json_file:\n",
    "    lemmatization_table = json.load(json_file)\n",
    "\n",
    "\n",
    "def fetch(arr):    \n",
    "    text = \" \".join(arr)\n",
    "    payload = {'text': text, 'api_key': API_KEY}\n",
    "    data = requests.post(URL, data=payload)\n",
    "    result = json.loads(data.text)\n",
    "    return result['text']\n",
    "\n",
    "def lemmatization(arr):\n",
    "    words = []\n",
    "    for word in arr:\n",
    "        if(word not in lemmatization_table):\n",
    "            words.append(word)\n",
    "    if(len(words)>0):\n",
    "        lemmatizated_words = fetch(words)\n",
    "        for original,lemmaitaized in zip(words,lemmatizated_words):\n",
    "            lemmatization_table[original] = lemmaitaized\n",
    "    \n",
    "    \n",
    "        with open(LEMMATIZATION_FILE, 'w') as write:\n",
    "            json.dump(lemmatization_table,write)\n",
    "    \n",
    "    final_results = []\n",
    "    for word in arr:\n",
    "        final_results.append(lemmatization_table[word])\n",
    "    \n",
    "    return final_results\n"
   ]
  }
 ],
 "metadata": {
  "kernelspec": {
   "display_name": "Python 3 (ipykernel)",
   "language": "python",
   "name": "python3"
  },
  "language_info": {
   "codemirror_mode": {
    "name": "ipython",
    "version": 3
   },
   "file_extension": ".py",
   "mimetype": "text/x-python",
   "name": "python",
   "nbconvert_exporter": "python",
   "pygments_lexer": "ipython3",
   "version": "3.8.10"
  }
 },
 "nbformat": 4,
 "nbformat_minor": 5
}
