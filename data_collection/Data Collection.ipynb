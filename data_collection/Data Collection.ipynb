{
 "cells": [
  {
   "cell_type": "markdown",
   "id": "382a6c0b",
   "metadata": {},
   "source": [
    "# 1 - Collcting pure Data as Videos"
   ]
  },
  {
   "cell_type": "code",
   "execution_count": 1,
   "id": "d308e3b3",
   "metadata": {},
   "outputs": [],
   "source": [
    "import numpy as np\n",
    "import os\n",
    "import mediapipe as mp\n",
    "import cv2 \n",
    "import time"
   ]
  },
  {
   "cell_type": "code",
   "execution_count": 10,
   "id": "08c6ec63",
   "metadata": {},
   "outputs": [],
   "source": [
    "# Path for exported data, numpy arrays\n",
    "DATA_PATH = os.path.join('data') \n",
    "\n",
    "# Actions that we try to detect\n",
    "actions = np.array(['hello', 'thanks', 'iloveyou'])\n",
    "\n",
    "# Thirty videos worth of data\n",
    "n_videos = 30\n",
    "\n",
    "# Videos are going to be 30 frames in length\n",
    "video_length = 2 \n",
    "\n",
    "frames_per_seconds=30\n",
    "\n",
    "video_frames = video_length*frames_per_seconds\n",
    "\n",
    "frame_time = 1000//frames_per_seconds\n"
   ]
  },
  {
   "cell_type": "code",
   "execution_count": 11,
   "id": "29ebfb23",
   "metadata": {},
   "outputs": [],
   "source": [
    "def write_text(image,text,position,size='s'):\n",
    "    if size=='l':\n",
    "        cv2.putText(image, text, position, \n",
    "                           cv2.FONT_HERSHEY_SIMPLEX, 1, (0,255, 0), 4, cv2.LINE_AA)\n",
    "    elif size=='s':\n",
    "        cv2.putText(image, text, position, \n",
    "                           cv2.FONT_HERSHEY_SIMPLEX, 0.5, (0, 0, 255), 1, cv2.LINE_AA)"
   ]
  },
  {
   "cell_type": "code",
   "execution_count": 13,
   "id": "674e0eee",
   "metadata": {},
   "outputs": [],
   "source": [
    "cap = cv2.VideoCapture(0)\n",
    "continue_training=True\n",
    "for action in actions:\n",
    "    if not continue_training:\n",
    "        break\n",
    "    for video in range(n_videos):\n",
    "        if not continue_training:\n",
    "            break\n",
    "        start_time=time.time()\n",
    "        #fourcc = VideoWriter_fourcc(*'MP4V')\n",
    "        out = cv2.VideoWriter('output.mp4',0x7634706d, frames_per_seconds, (640,480))\n",
    "        arr=[]\n",
    "        for frame_num in range(-1,video_frames):\n",
    "        \n",
    "            # Read feed\n",
    "            ret, frame = cap.read()\n",
    "\n",
    "            # NEW Apply wait logic\n",
    "            if frame_num == -1: \n",
    "                write_text(frame,\"STARTING COLLECTING\",(120,200),'l')\n",
    "                write_text(frame,'Collecting frames for {} Video Number {}'.format(action, video),(15,12))\n",
    "                write_text(frame,'time {}'.format(time.time()-start_time),(15,40))\n",
    "                cv2.imshow('OpenCV Feed', frame)\n",
    "                if cv2.waitKey(0) & 0xFF == ord('s'):\n",
    "                    continue\n",
    "            else: \n",
    "                out.write(frame)\n",
    "                write_text(frame,'Collecting frames for {} Video Number {}'.format(action, video),(15,12))\n",
    "                write_text(frame,'time {}'.format(time.time()-start_time),(15,40))\n",
    "                write_text(frame,'frame {}'.format(frame_num),(15,64))\n",
    "                cv2.imshow('OpenCV Feed', frame)\n",
    "                \n",
    "\n",
    "\n",
    "            # Break gracefully\n",
    "            if cv2.waitKey(frame_time) & 0xFF == ord('q'):\n",
    "                continue_training=False\n",
    "                break\n",
    "        \n",
    "        out.release()\n",
    "        continue_training=False\n",
    "        break\n",
    "        \n",
    "        \n",
    "        \n",
    "                \n",
    "\n",
    "cap.release()\n",
    "cv2.destroyAllWindows()"
   ]
  },
  {
   "cell_type": "code",
   "execution_count": 6,
   "id": "03e12425",
   "metadata": {},
   "outputs": [],
   "source": [
    "cap.release()\n",
    "cv2.destroyAllWindows()"
   ]
  },
  {
   "cell_type": "code",
   "execution_count": 15,
   "id": "9666360c",
   "metadata": {},
   "outputs": [],
   "source": [
    "c = time.time()"
   ]
  },
  {
   "cell_type": "code",
   "execution_count": 17,
   "id": "30e0686a",
   "metadata": {},
   "outputs": [
    {
     "data": {
      "text/plain": [
       "2.505208969116211"
      ]
     },
     "execution_count": 17,
     "metadata": {},
     "output_type": "execute_result"
    }
   ],
   "source": [
    "time.time() - c"
   ]
  },
  {
   "cell_type": "code",
   "execution_count": 14,
   "id": "e55ad94d",
   "metadata": {},
   "outputs": [
    {
     "data": {
      "text/plain": [
       "0.0"
      ]
     },
     "execution_count": 14,
     "metadata": {},
     "output_type": "execute_result"
    }
   ],
   "source": [
    "time.time() - time.time()"
   ]
  },
  {
   "cell_type": "markdown",
   "id": "b42008aa",
   "metadata": {},
   "source": [
    "# 2 - verifying data and moving them"
   ]
  },
  {
   "cell_type": "code",
   "execution_count": null,
   "id": "cccabf90",
   "metadata": {},
   "outputs": [],
   "source": []
  },
  {
   "cell_type": "code",
   "execution_count": null,
   "id": "8b38bc5f",
   "metadata": {},
   "outputs": [],
   "source": []
  },
  {
   "cell_type": "code",
   "execution_count": null,
   "id": "9fc8b872",
   "metadata": {},
   "outputs": [],
   "source": []
  },
  {
   "cell_type": "code",
   "execution_count": null,
   "id": "77f5f176",
   "metadata": {},
   "outputs": [],
   "source": []
  },
  {
   "cell_type": "code",
   "execution_count": null,
   "id": "ca439bb8",
   "metadata": {},
   "outputs": [],
   "source": []
  },
  {
   "cell_type": "code",
   "execution_count": null,
   "id": "4edc5655",
   "metadata": {},
   "outputs": [],
   "source": []
  },
  {
   "cell_type": "code",
   "execution_count": null,
   "id": "f3fc1a9a",
   "metadata": {},
   "outputs": [],
   "source": []
  },
  {
   "cell_type": "code",
   "execution_count": null,
   "id": "415adfcb",
   "metadata": {},
   "outputs": [],
   "source": []
  },
  {
   "cell_type": "code",
   "execution_count": null,
   "id": "6f2d82b0",
   "metadata": {},
   "outputs": [],
   "source": []
  },
  {
   "cell_type": "code",
   "execution_count": null,
   "id": "6e3a909b",
   "metadata": {},
   "outputs": [],
   "source": []
  },
  {
   "cell_type": "code",
   "execution_count": null,
   "id": "91678af3",
   "metadata": {},
   "outputs": [],
   "source": []
  },
  {
   "cell_type": "code",
   "execution_count": null,
   "id": "d0e4d9e3",
   "metadata": {},
   "outputs": [],
   "source": []
  },
  {
   "cell_type": "code",
   "execution_count": null,
   "id": "019275df",
   "metadata": {},
   "outputs": [],
   "source": []
  },
  {
   "cell_type": "markdown",
   "id": "dfa89db2",
   "metadata": {},
   "source": []
  },
  {
   "cell_type": "code",
   "execution_count": null,
   "id": "ddc3d85b",
   "metadata": {},
   "outputs": [],
   "source": []
  },
  {
   "cell_type": "code",
   "execution_count": null,
   "id": "d9f7d076",
   "metadata": {},
   "outputs": [],
   "source": []
  },
  {
   "cell_type": "code",
   "execution_count": null,
   "id": "a460bd76",
   "metadata": {},
   "outputs": [],
   "source": []
  }
 ],
 "metadata": {
  "kernelspec": {
   "display_name": "Python 3 (ipykernel)",
   "language": "python",
   "name": "python3"
  },
  "language_info": {
   "codemirror_mode": {
    "name": "ipython",
    "version": 3
   },
   "file_extension": ".py",
   "mimetype": "text/x-python",
   "name": "python",
   "nbconvert_exporter": "python",
   "pygments_lexer": "ipython3",
   "version": "3.8.10"
  }
 },
 "nbformat": 4,
 "nbformat_minor": 5
}
