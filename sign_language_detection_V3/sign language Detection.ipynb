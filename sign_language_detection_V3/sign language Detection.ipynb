{
 "cells": [
  {
   "cell_type": "markdown",
   "id": "e0c03c2d",
   "metadata": {},
   "source": [
    "# 1 - install dependencies"
   ]
  },
  {
   "cell_type": "markdown",
   "id": "ef3e681a",
   "metadata": {},
   "source": [
    "# 2 - keypoints using mp holisric"
   ]
  },
  {
   "cell_type": "markdown",
   "id": "71974893",
   "metadata": {},
   "source": [
    "# 3 - extract the key  points"
   ]
  },
  {
   "cell_type": "markdown",
   "id": "f6a53451",
   "metadata": {},
   "source": [
    "# 4 - setup folders for collections"
   ]
  },
  {
   "cell_type": "markdown",
   "id": "fb69c914",
   "metadata": {},
   "source": [
    "# 5 - collect keypoints values"
   ]
  },
  {
   "cell_type": "markdown",
   "id": "0a34c3e1",
   "metadata": {},
   "source": [
    "# 6 - data processing"
   ]
  },
  {
   "cell_type": "markdown",
   "id": "e742a5d4",
   "metadata": {},
   "source": [
    "# 7 - build the model"
   ]
  },
  {
   "cell_type": "markdown",
   "id": "b7dcccb9",
   "metadata": {},
   "source": [
    "# 8 - Make predictions"
   ]
  },
  {
   "cell_type": "markdown",
   "id": "1b395673",
   "metadata": {},
   "source": [
    "# 9 - save weights"
   ]
  },
  {
   "cell_type": "markdown",
   "id": "a880b8cb",
   "metadata": {},
   "source": [
    "# 10 - confusion matrix evaluations"
   ]
  },
  {
   "cell_type": "markdown",
   "id": "7743e09c",
   "metadata": {},
   "source": [
    "# 11 - test in real time"
   ]
  }
 ],
 "metadata": {
  "kernelspec": {
   "display_name": "Python 3 (ipykernel)",
   "language": "python",
   "name": "python3"
  },
  "language_info": {
   "codemirror_mode": {
    "name": "ipython",
    "version": 3
   },
   "file_extension": ".py",
   "mimetype": "text/x-python",
   "name": "python",
   "nbconvert_exporter": "python",
   "pygments_lexer": "ipython3",
   "version": "3.8.10"
  }
 },
 "nbformat": 4,
 "nbformat_minor": 5
}
